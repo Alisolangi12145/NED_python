{
 "cells": [
  {
   "cell_type": "markdown",
   "id": "039af4b7",
   "metadata": {},
   "source": [
    "# Variables\n",
    "* In Python, a variable is a named location that we can store data. Variables are used to store data that can be used by a program.\n",
    "\n",
    "* A variable can have a short name (like x and y) or a more descriptive name (age, carname, total_volume). Rules for Python variables: \n",
    "\n",
    "* A variable name must start with a letter or the underscore character\n",
    "* A variable name cannot start with a number\n",
    "* A variable name can only contain alpha-numeric characters and underscores (A-z, 0-9, and _ )\n",
    "* Variable names are case-sensitive (age, Age and AGE are three different variables)\n",
    "* A variable name cannot be any of the Python keywords.\n"
   ]
  },
  {
   "cell_type": "markdown",
   "id": "e9de74ab",
   "metadata": {},
   "source": [
    "# Example\n",
    "\n",
    "* Legal variable names, Only you can create variable like below.\n",
    "\n",
    "\n",
    "* myname = 26\n",
    "* my_name = 30.354\n",
    "* _my_name = \"Ali\"\n",
    "* myName = \"Ali\"\n",
    "* MYNAME = \"Ali\"\n",
    "* myname2 = \"Ali\""
   ]
  },
  {
   "cell_type": "markdown",
   "id": "89af23f4",
   "metadata": {},
   "source": [
    "# Example \n",
    "\n",
    "* Illegal variable names ,We can not create variable like below\n",
    "\n",
    "* 2myname = 6\n",
    "* my-name = 789.23\n",
    "* my Name = \"Ali\"\n"
   ]
  },
  {
   "cell_type": "markdown",
   "id": "4d8648a2",
   "metadata": {},
   "source": [
    "# Camel Case\n",
    "\n",
    "* Each word, except the first, starts with a capital letter:\n",
    "\n",
    "* myNameAli = \"Ali\"\n"
   ]
  },
  {
   "cell_type": "markdown",
   "id": "d1b17a3e",
   "metadata": {},
   "source": [
    "# Pascal Case\n",
    "\n",
    "* Each word starts with a capital letter:\n",
    "    \n",
    "    \n",
    "* MyNameAli = \"Ali\""
   ]
  },
  {
   "cell_type": "markdown",
   "id": "d8a009eb",
   "metadata": {},
   "source": [
    "# Snake Case\n",
    "\n",
    "* Each word is separated by an underscore character:\n",
    "* my_name_is = \"Ali\""
   ]
  },
  {
   "cell_type": "code",
   "execution_count": 1,
   "id": "c1ca16e3",
   "metadata": {},
   "outputs": [
    {
     "name": "stdout",
     "output_type": "stream",
     "text": [
      "30.3\n"
     ]
    }
   ],
   "source": [
    "a=10    #int data type\n",
    "b=20.30  # floating data type\n",
    "print(a+b)"
   ]
  },
  {
   "cell_type": "code",
   "execution_count": 2,
   "id": "ab4db70b",
   "metadata": {},
   "outputs": [
    {
     "name": "stdout",
     "output_type": "stream",
     "text": [
      "Ali\n"
     ]
    }
   ],
   "source": [
    "a = \"Ali\"   #str data type\n",
    "print(a)"
   ]
  },
  {
   "cell_type": "code",
   "execution_count": 3,
   "id": "482c407d",
   "metadata": {},
   "outputs": [
    {
     "name": "stdout",
     "output_type": "stream",
     "text": [
      "Orange\n",
      "Banana\n",
      "Cherry\n"
     ]
    }
   ],
   "source": [
    "# Many Values to Multiple Variables\n",
    "\n",
    "x, y, z = \"Orange\", \"Banana\", \"Cherry\"\n",
    "print(x)\n",
    "print(y)\n",
    "print(z)"
   ]
  },
  {
   "cell_type": "code",
   "execution_count": 4,
   "id": "cb9eeabe",
   "metadata": {},
   "outputs": [
    {
     "name": "stdout",
     "output_type": "stream",
     "text": [
      "Mango\n",
      "Mango\n",
      "Mango\n"
     ]
    }
   ],
   "source": [
    "# Many Values to Multiple Variables\n",
    "\n",
    "x = y = z = \"Mango\"\n",
    "print(x)\n",
    "print(y)\n",
    "print(z)"
   ]
  },
  {
   "cell_type": "code",
   "execution_count": null,
   "id": "9e11f418",
   "metadata": {},
   "outputs": [],
   "source": [
    "x, y, z = \"Orange\", \"Banana\", \"Cherry\"\n",
    "print(x,y,z)\n"
   ]
  },
  {
   "cell_type": "markdown",
   "id": "adabaf1b",
   "metadata": {},
   "source": [
    "# Output Variables\n",
    "\n",
    "* The Python print() function is often used to output variables"
   ]
  },
  {
   "cell_type": "code",
   "execution_count": 5,
   "id": "1841e7c1",
   "metadata": {},
   "outputs": [
    {
     "name": "stdout",
     "output_type": "stream",
     "text": [
      "Python is awesome\n"
     ]
    }
   ],
   "source": [
    "a = \"Python is awesome\"\n",
    "print(a)"
   ]
  },
  {
   "cell_type": "code",
   "execution_count": 6,
   "id": "40a1254d",
   "metadata": {},
   "outputs": [
    {
     "name": "stdout",
     "output_type": "stream",
     "text": [
      "Python is awesome\n"
     ]
    }
   ],
   "source": [
    "# in the print() function, you output multiple variables, separated by a comma:\n",
    "\n",
    "x = \"Python\"\n",
    "y = \"is\"\n",
    "z = \"awesome\"\n",
    "print(x, y, z)"
   ]
  },
  {
   "cell_type": "code",
   "execution_count": 7,
   "id": "b1b25179",
   "metadata": {},
   "outputs": [
    {
     "name": "stdout",
     "output_type": "stream",
     "text": [
      "Python is awesome\n"
     ]
    }
   ],
   "source": [
    "# You can also use the + operator to output multiple variables:\n",
    "\n",
    "x = \"Python \"\n",
    "y = \"is \"\n",
    "z = \"awesome\"\n",
    "print(x + y + z)"
   ]
  },
  {
   "cell_type": "markdown",
   "id": "8174627d",
   "metadata": {},
   "source": [
    "# Data Types in python\n",
    "\n",
    "# Data types in Python define the type of data that can be stored in a variable. There are 7 main data types in Python:\n",
    "\n",
    "* Integer: An integer is a whole number, positive or negative. Examples of integers are 1, 2, -1, 0\n",
    "* Float: A float is a number with a decimal point. Examples of floats are 1.2, -3.4, 0.0.\n",
    "* String: A string is a sequence of characters. Examples of strings are \"Hello, world!\", \"This is a string\", \"\".\n",
    "* Boolean: A Boolean is a value that can be either True or False. Examples of Booleans are True, False.\n",
    "* List: A list is an ordered sequence of objects. Examples of lists are [1, 2, 3], [\"Hello\", \"world\"], [].\n",
    "* Dictionary: A dictionary is an unordered mapping from keys to values. Examples of dictionaries are {\"name\": \"Bard\", \"age\":     30}, {\"key1\": \"value1\", \"key2\": \"value2\"}.\n",
    "* Set: A set is an unordered collection of unique objects. Examples of sets are {1, 2, 3}, {\"Hello\", \"world\"}, set()"
   ]
  },
  {
   "cell_type": "markdown",
   "id": "42e906ef",
   "metadata": {},
   "source": [
    "# Integer Datatyoe (int)"
   ]
  },
  {
   "cell_type": "markdown",
   "id": "325c0f27",
   "metadata": {},
   "source": [
    "# There are three numeric types in Python:\n",
    "\n",
    "* int\n",
    "* float\n",
    "* complex\n",
    "\n",
    "* Variables of numeric types are created when you assign a value to them:"
   ]
  },
  {
   "cell_type": "code",
   "execution_count": 8,
   "id": "4e662480",
   "metadata": {},
   "outputs": [
    {
     "name": "stdout",
     "output_type": "stream",
     "text": [
      "23\n",
      "3546773\n",
      "3\n"
     ]
    }
   ],
   "source": [
    "a =23\n",
    "b =3546773\n",
    "c =3\n",
    "\n",
    "print(a)\n",
    "print(b)\n",
    "print(c)"
   ]
  },
  {
   "cell_type": "markdown",
   "id": "bbac32cb",
   "metadata": {},
   "source": [
    "# Checking datatype by using Typy() function that which data is store in the variable"
   ]
  },
  {
   "cell_type": "code",
   "execution_count": 9,
   "id": "07eb1e4d",
   "metadata": {},
   "outputs": [
    {
     "name": "stdout",
     "output_type": "stream",
     "text": [
      "<class 'int'>\n",
      "<class 'int'>\n",
      "<class 'int'>\n"
     ]
    }
   ],
   "source": [
    "# Integer data type\n",
    "\n",
    "a= 1\n",
    "b = 35656222554887711\n",
    "c = -3255522\n",
    "\n",
    "print(type(a))\n",
    "print(type(b))\n",
    "print(type(c)) "
   ]
  },
  {
   "cell_type": "code",
   "execution_count": 10,
   "id": "03be27ce",
   "metadata": {},
   "outputs": [
    {
     "name": "stdout",
     "output_type": "stream",
     "text": [
      "1.1 <class 'float'>\n",
      "1.0 <class 'float'>\n",
      "-35.59 <class 'float'>\n"
     ]
    }
   ],
   "source": [
    "# Float\n",
    "\n",
    "a = 1.10\n",
    "b = 1.0\n",
    "c = -35.59\n",
    "\n",
    "print(a,type(a))\n",
    "print(b,type(b))\n",
    "print(c,type(c)) "
   ]
  },
  {
   "cell_type": "markdown",
   "id": "115ace7d",
   "metadata": {},
   "source": [
    "# Float can also be scientific numbers with an \"e\" to indicate the power of 10."
   ]
  },
  {
   "cell_type": "code",
   "execution_count": 11,
   "id": "d86363ce",
   "metadata": {},
   "outputs": [
    {
     "name": "stdout",
     "output_type": "stream",
     "text": [
      "35000.0 <class 'float'>\n",
      "120000.0 <class 'float'>\n",
      "-8.77e+101 <class 'float'>\n"
     ]
    }
   ],
   "source": [
    "a = 35e3\n",
    "b = 12E4\n",
    "c = -87.7e100\n",
    "\n",
    "print(a,type(a))\n",
    "print(b,type(b))\n",
    "print(c,type(c)) "
   ]
  },
  {
   "cell_type": "markdown",
   "id": "56bd3371",
   "metadata": {},
   "source": [
    "# Complex\n",
    "\n",
    "* Complex numbers are written with a \"j\" as the imaginary part:"
   ]
  },
  {
   "cell_type": "code",
   "execution_count": 12,
   "id": "69fd9156",
   "metadata": {},
   "outputs": [
    {
     "name": "stdout",
     "output_type": "stream",
     "text": [
      "(3+5j) <class 'complex'>\n",
      "5j <class 'complex'>\n",
      "(-0-5j) <class 'complex'>\n"
     ]
    }
   ],
   "source": [
    "a = 3+5j\n",
    "b = 5j\n",
    "c = -5j\n",
    "\n",
    "print(a,type(a))\n",
    "print(b,type(b))\n",
    "print(c,type(c)) "
   ]
  },
  {
   "cell_type": "markdown",
   "id": "4841971e",
   "metadata": {},
   "source": [
    "# Type Conversion\n",
    "\n",
    "* You can convert from one type to another with the int(), float(), and complex() methods:"
   ]
  },
  {
   "cell_type": "code",
   "execution_count": 13,
   "id": "606b443f",
   "metadata": {},
   "outputs": [
    {
     "name": "stdout",
     "output_type": "stream",
     "text": [
      "1\n",
      "2.8\n",
      "1j\n",
      "<class 'float'>\n",
      "<class 'int'>\n",
      "<class 'complex'>\n"
     ]
    }
   ],
   "source": [
    "a = 1    # int\n",
    "b = 2.8  # float\n",
    "c = 1j   # complex\n",
    "\n",
    "#convert from int to float:\n",
    "x = float(a)\n",
    "\n",
    "#convert from float to int:\n",
    "y = int(b)\n",
    "\n",
    "#convert from int to complex:\n",
    "z = complex(c)\n",
    "\n",
    "print(a)\n",
    "print(b)\n",
    "print(c)\n",
    "\n",
    "print(type(x))\n",
    "print(type(y))\n",
    "print(type(z)) "
   ]
  },
  {
   "cell_type": "code",
   "execution_count": 14,
   "id": "c1ed9622",
   "metadata": {},
   "outputs": [
    {
     "name": "stdout",
     "output_type": "stream",
     "text": [
      "20 1740285045648\n",
      "<class 'int'>\n"
     ]
    }
   ],
   "source": [
    "a= 20.0894    #float\n",
    "b =int(a)\n",
    "\n",
    "print((b),id(b))\n",
    "print(type(b))"
   ]
  },
  {
   "cell_type": "code",
   "execution_count": 15,
   "id": "36f26aa1",
   "metadata": {},
   "outputs": [
    {
     "name": "stdout",
     "output_type": "stream",
     "text": [
      "1.0\n"
     ]
    }
   ],
   "source": [
    "x= 1    #int\n",
    "y = float(1)\n",
    "print(y)"
   ]
  },
  {
   "cell_type": "markdown",
   "id": "e4d84b92",
   "metadata": {},
   "source": [
    "# Strings\n",
    "\n",
    "* Strings in python are surrounded by either single quotation marks, or double quotation marks.\n",
    "\n",
    "* 'hello' is the same as \"hello\"."
   ]
  },
  {
   "cell_type": "code",
   "execution_count": 16,
   "id": "b8951814",
   "metadata": {},
   "outputs": [
    {
     "name": "stdout",
     "output_type": "stream",
     "text": [
      "Hello\n",
      "Hello\n"
     ]
    }
   ],
   "source": [
    "print(\"Hello\")\n",
    "print('Hello')"
   ]
  },
  {
   "cell_type": "code",
   "execution_count": 17,
   "id": "8b52049e",
   "metadata": {},
   "outputs": [
    {
     "name": "stdout",
     "output_type": "stream",
     "text": [
      "Hello Ali\n",
      "Hello Hassan\n"
     ]
    }
   ],
   "source": [
    "a=\"Hello Ali\"\n",
    "b=\"Hello Hassan\"\n",
    "\n",
    "print(a)\n",
    "print(b)"
   ]
  },
  {
   "cell_type": "code",
   "execution_count": 18,
   "id": "db6e6aac",
   "metadata": {},
   "outputs": [
    {
     "name": "stdout",
     "output_type": "stream",
     "text": [
      "Lorem ipsum dolor sit amet,\n",
      "consectetur adipiscing elit,\n",
      "sed do eiusmod tempor incididunt\n",
      "ut labore et dolore magna aliqua.\n"
     ]
    }
   ],
   "source": [
    "#You can use three double quotes\n",
    "\n",
    "a = \"\"\"Lorem ipsum dolor sit amet,\n",
    "consectetur adipiscing elit,\n",
    "sed do eiusmod tempor incididunt\n",
    "ut labore et dolore magna aliqua.\"\"\"\n",
    "print(a) "
   ]
  },
  {
   "cell_type": "code",
   "execution_count": 19,
   "id": "4273e944",
   "metadata": {},
   "outputs": [
    {
     "name": "stdout",
     "output_type": "stream",
     "text": [
      "Lorem ipsum dolor sit amet,\n",
      "consectetur adipiscing elit,\n",
      "sed do eiusmod tempor incididunt\n",
      "ut labore et dolore magna aliqua.\n"
     ]
    }
   ],
   "source": [
    "# Or three single quotes:\n",
    "\n",
    "a = '''Lorem ipsum dolor sit amet,\n",
    "consectetur adipiscing elit,\n",
    "sed do eiusmod tempor incididunt\n",
    "ut labore et dolore magna aliqua.'''\n",
    "print(a)"
   ]
  },
  {
   "cell_type": "markdown",
   "id": "c80ce3e6",
   "metadata": {},
   "source": [
    "# Boolean Data Type\n",
    "\n",
    "* In programming you often need to know if an expression is True or False."
   ]
  },
  {
   "cell_type": "code",
   "execution_count": 20,
   "id": "8961eefa",
   "metadata": {},
   "outputs": [
    {
     "name": "stdout",
     "output_type": "stream",
     "text": [
      "True\n",
      "False\n",
      "False\n"
     ]
    }
   ],
   "source": [
    "print(10 > 9)\n",
    "print(10 == 9)\n",
    "print(10 < 9) "
   ]
  },
  {
   "cell_type": "code",
   "execution_count": 21,
   "id": "462e995f",
   "metadata": {},
   "outputs": [
    {
     "name": "stdout",
     "output_type": "stream",
     "text": [
      "b is not greater than a\n"
     ]
    }
   ],
   "source": [
    "# Print a message based on whether the condition is True or False:\n",
    "    \n",
    "a = 200\n",
    "b = 33\n",
    "\n",
    "if b > a:\n",
    "    print(\"b is greater than a\")\n",
    "else:\n",
    "    print(\"b is not greater than a\") "
   ]
  },
  {
   "cell_type": "code",
   "execution_count": 22,
   "id": "e2a35fc4",
   "metadata": {},
   "outputs": [
    {
     "name": "stdout",
     "output_type": "stream",
     "text": [
      "True\n",
      "True\n",
      "False\n"
     ]
    }
   ],
   "source": [
    "print(bool(\"Hello\"))\n",
    "print(bool(15))\n",
    "print(bool())\n"
   ]
  },
  {
   "cell_type": "markdown",
   "id": "30785173",
   "metadata": {},
   "source": [
    "# List  Lists\n",
    "* Lists are used to store multiple items in a single variable.\n"
   ]
  },
  {
   "cell_type": "code",
   "execution_count": 23,
   "id": "973fbb6c",
   "metadata": {},
   "outputs": [
    {
     "name": "stdout",
     "output_type": "stream",
     "text": [
      "['apple', 'banana', 'cherry', 'apple', 'cherry']\n"
     ]
    }
   ],
   "source": [
    "list1 = [\"apple\", \"banana\", \"cherry\", \"apple\", \"cherry\"]\n",
    "print(list1)"
   ]
  },
  {
   "cell_type": "markdown",
   "id": "a83507fc",
   "metadata": {},
   "source": [
    "# Tuples Data Type"
   ]
  },
  {
   "cell_type": "code",
   "execution_count": 24,
   "id": "abc569ba",
   "metadata": {},
   "outputs": [
    {
     "name": "stdout",
     "output_type": "stream",
     "text": [
      "('apple', 'banana', 'cherry')\n"
     ]
    }
   ],
   "source": [
    "Tuple1 = (\"apple\", \"banana\", \"cherry\")\n",
    "print(Tuple1)"
   ]
  },
  {
   "cell_type": "markdown",
   "id": "166ed7e5",
   "metadata": {},
   "source": [
    "# Sets Data type"
   ]
  },
  {
   "cell_type": "code",
   "execution_count": 25,
   "id": "0e2d31a8",
   "metadata": {},
   "outputs": [
    {
     "name": "stdout",
     "output_type": "stream",
     "text": [
      "{'apple', 'cherry', 'banana'}\n"
     ]
    }
   ],
   "source": [
    "set1 = {\"apple\", \"banana\", \"cherry\"}\n",
    "print(set1)\n"
   ]
  },
  {
   "cell_type": "markdown",
   "id": "8ddc0813",
   "metadata": {},
   "source": [
    "# Dictionaries data type\n",
    "* Dictionaries are used to store data values in key:value pairs."
   ]
  },
  {
   "cell_type": "code",
   "execution_count": 26,
   "id": "6382c0f2",
   "metadata": {},
   "outputs": [
    {
     "name": "stdout",
     "output_type": "stream",
     "text": [
      "{'United States': 'Washington D.C.', 'Italy': 'Rome', 'England': 'London'}\n"
     ]
    }
   ],
   "source": [
    "#Create and print a dictionary:\n",
    "\n",
    "country_capitals = {\n",
    "  \"United States\": \"Washington D.C.\", \n",
    "  \"Italy\": \"Rome\", \n",
    "  \"England\": \"London\"\n",
    "}\n",
    "\n",
    "# printing the dictionary\n",
    "print(country_capitals)"
   ]
  },
  {
   "cell_type": "markdown",
   "id": "ce72a8c7",
   "metadata": {},
   "source": [
    "# Python Operators\n",
    "* Operators are used to perform operations on variables and values."
   ]
  },
  {
   "cell_type": "markdown",
   "id": "ac01fb50",
   "metadata": {},
   "source": [
    "# Python divides the operators in the following groups:\n",
    "\n",
    "* Arithmetic operators\n",
    "* Assignment operators\n",
    "* Comparison operators\n",
    "* Logical operators\n",
    "* Identity operators\n",
    "* Membership operators\n",
    "* Bitwise operators\n"
   ]
  },
  {
   "cell_type": "markdown",
   "id": "fe168dc0",
   "metadata": {},
   "source": [
    "# Arithmetic Operator"
   ]
  },
  {
   "cell_type": "code",
   "execution_count": 27,
   "id": "ba9685e7",
   "metadata": {
    "scrolled": true
   },
   "outputs": [
    {
     "name": "stdout",
     "output_type": "stream",
     "text": [
      "Sum:  9\n",
      "Subtraction:  5\n",
      "Multiplication:  14\n",
      "Division:  3.5\n",
      "Floor Division:  3\n",
      "Modulo:  1\n",
      "Power:  49\n"
     ]
    }
   ],
   "source": [
    "a = 7\n",
    "b = 2\n",
    "\n",
    "# addition\n",
    "print ('Sum: ', a + b)  \n",
    "\n",
    "# subtraction\n",
    "print ('Subtraction: ', a - b)   \n",
    "\n",
    "# multiplication\n",
    "print ('Multiplication: ', a * b)  \n",
    "\n",
    "# division\n",
    "print ('Division: ', a / b) \n",
    "\n",
    "# floor division\n",
    "print ('Floor Division: ', a // b)\n",
    "\n",
    "# modulo\n",
    "print ('Modulo: ', a % b)  \n",
    "\n",
    "# a to the power b\n",
    "print ('Power: ', a ** b)  "
   ]
  },
  {
   "cell_type": "markdown",
   "id": "686f5df0",
   "metadata": {},
   "source": [
    "# Assignment Operators\n",
    "1. Assign(=)\n",
    "2. Add and Assign(+=)\n",
    "3. Subtract and Assign(-=)\n",
    "4. Multiply and Assign(*=)\n",
    "5. Divide and Assign(/=)\n",
    "6. Modules and Assign(%=)\n",
    "7. Divide( floor) and Assign(//=)\n",
    "8. Exponent and Assign(**=)\n",
    "9. Bitwise and Assign(&=)\n",
    "10. Bitwise or Assign(|=)\n",
    "11. Bitwise XOR Assign(^=)\n",
    "12. Bitwise Right shit and Assign(>>=)\n",
    "12. Bitwise Right shit and Assign(<<=)"
   ]
  },
  {
   "cell_type": "code",
   "execution_count": 28,
   "id": "43806177",
   "metadata": {},
   "outputs": [
    {
     "name": "stdout",
     "output_type": "stream",
     "text": [
      "Line 1 - Value of c is  31\n",
      "Line 2 - Value of c is  52\n",
      "Line 3 - Value of c is  1092\n",
      "Line 4 - Value of c is  52.0\n",
      "Line 5 - Value of c is  2\n",
      "Line 6 - Value of c is  2097152\n",
      "Line 7 - Value of c is  99864\n"
     ]
    }
   ],
   "source": [
    "a = 21\n",
    "b = 10\n",
    "c = 0\n",
    "\n",
    "c = a + b\n",
    "print(\"Line 1 - Value of c is \", c)\n",
    "\n",
    "c += a\n",
    "print(\"Line 2 - Value of c is \", c)\n",
    "\n",
    "c *= a\n",
    "print (\"Line 3 - Value of c is \", c )\n",
    "\n",
    "c /= a \n",
    "print( \"Line 4 - Value of c is \", c)\n",
    "\n",
    "c=2\n",
    "c %= a\n",
    "print( \"Line 5 - Value of c is \", c)\n",
    "\n",
    "c **= a\n",
    "print( \"Line 6 - Value of c is \", c)\n",
    "\n",
    "c //= a\n",
    "print(\"Line 7 - Value of c is \", c)\n",
    "\n"
   ]
  },
  {
   "cell_type": "markdown",
   "id": "c8359b62",
   "metadata": {},
   "source": [
    "# Comparison Operators"
   ]
  },
  {
   "cell_type": "code",
   "execution_count": 29,
   "id": "00648451",
   "metadata": {},
   "outputs": [
    {
     "name": "stdout",
     "output_type": "stream",
     "text": [
      "True\n",
      "True\n",
      "False\n",
      "False\n",
      "False\n",
      "True\n"
     ]
    }
   ],
   "source": [
    "a = 10\n",
    "b = 20\n",
    "\n",
    "print(a < b)  # True\n",
    "print(a <= b)  # True\n",
    "print(a > b)  # False\n",
    "print(a >= b)  # False\n",
    "print(a == b)  # False\n",
    "print(a != b)  # True"
   ]
  },
  {
   "cell_type": "markdown",
   "id": "95af490d",
   "metadata": {},
   "source": [
    "# Logical Operators"
   ]
  },
  {
   "cell_type": "code",
   "execution_count": 30,
   "id": "4d0b8dbb",
   "metadata": {},
   "outputs": [
    {
     "name": "stdout",
     "output_type": "stream",
     "text": [
      "True\n"
     ]
    }
   ],
   "source": [
    "x = 5\n",
    "\n",
    "#In And both Conditions should be True\n",
    "\n",
    "\n",
    "print(x > 3 and x < 10)"
   ]
  },
  {
   "cell_type": "code",
   "execution_count": 31,
   "id": "49eb2d88",
   "metadata": {},
   "outputs": [
    {
     "name": "stdout",
     "output_type": "stream",
     "text": [
      "True\n"
     ]
    }
   ],
   "source": [
    "# In OR at least 1 Condition Should be Truth\n",
    "\n",
    "x = 5\n",
    "\n",
    "print(x > 3 or x < 4)"
   ]
  },
  {
   "cell_type": "code",
   "execution_count": 32,
   "id": "eb8de0dc",
   "metadata": {},
   "outputs": [
    {
     "name": "stdout",
     "output_type": "stream",
     "text": [
      "False\n"
     ]
    }
   ],
   "source": [
    "# returns False because not is used to reverse the result\n",
    "\n",
    "x = 5\n",
    "\n",
    "print(not(x > 3 and x < 10))"
   ]
  },
  {
   "cell_type": "markdown",
   "id": "ace3eef9",
   "metadata": {},
   "source": [
    "# Identity Operators"
   ]
  },
  {
   "cell_type": "code",
   "execution_count": 33,
   "id": "963b7d93",
   "metadata": {},
   "outputs": [
    {
     "name": "stdout",
     "output_type": "stream",
     "text": [
      "True\n",
      "False\n",
      "True\n"
     ]
    }
   ],
   "source": [
    "x = [\"apple\", \"banana\"]\n",
    "y = [\"apple\", \"banana\"]\n",
    "z = x\n",
    "\n",
    "print(x is z)\n",
    "\n",
    "# returns True because z is the same object as x\n",
    "\n",
    "print(x is y)\n",
    "\n",
    "# returns False because x is not the same object as y, even if they have the same content\n",
    "\n",
    "print(x == y)\n",
    "\n"
   ]
  },
  {
   "cell_type": "markdown",
   "id": "36ceae95",
   "metadata": {},
   "source": [
    "# Membership Operators"
   ]
  },
  {
   "cell_type": "code",
   "execution_count": 34,
   "id": "508047ee",
   "metadata": {},
   "outputs": [
    {
     "name": "stdout",
     "output_type": "stream",
     "text": [
      "True\n",
      "False\n"
     ]
    }
   ],
   "source": [
    "# returns True because a sequence with the value \"banana\" is in the list\n",
    "\n",
    "x = [\"apple\", \"banana\"]\n",
    "\n",
    "print(\"banana\" in x)\n",
    "\n",
    "\n",
    "\n",
    "\n",
    "x = [\"apple\", \"banana\"]\n",
    "\n",
    "print(\"Orange\" in x)"
   ]
  },
  {
   "cell_type": "code",
   "execution_count": 35,
   "id": "381d197f",
   "metadata": {},
   "outputs": [
    {
     "name": "stdout",
     "output_type": "stream",
     "text": [
      "True\n",
      "False\n"
     ]
    }
   ],
   "source": [
    "# returns True because a sequence with the value \"pineapple\" is not in the list\n",
    "\n",
    "x = [\"apple\", \"banana\"]\n",
    "\n",
    "print(\"pineapple\" not in x)\n",
    "\n",
    "\n",
    "\n",
    "\n",
    "x = [\"apple\", \"banana\"]\n",
    "\n",
    "print(\"apple\" not in x)"
   ]
  },
  {
   "cell_type": "markdown",
   "id": "e7e8fe80",
   "metadata": {},
   "source": [
    "# Bitwise Operators\n",
    "\n",
    "* Bitwise operators are used to compare (binary) numbers:"
   ]
  },
  {
   "cell_type": "code",
   "execution_count": 36,
   "id": "245809ce",
   "metadata": {},
   "outputs": [
    {
     "name": "stdout",
     "output_type": "stream",
     "text": [
      "Line 7 - Value of c is  30\n"
     ]
    }
   ],
   "source": [
    "# Bitwise XOR Assign(^=)\n",
    "a=10\n",
    "b=20\n",
    "\n",
    "\n",
    "a^=b\n",
    "print(\"Line 7 - Value of c is \", a)\n"
   ]
  },
  {
   "cell_type": "code",
   "execution_count": 37,
   "id": "d8c34044",
   "metadata": {},
   "outputs": [
    {
     "name": "stdout",
     "output_type": "stream",
     "text": [
      "2\n"
     ]
    }
   ],
   "source": [
    "#Bitwise Right shit and Assign(>>=)\n",
    "\n",
    "a =55\n",
    "b= 10\n",
    "\n",
    "a &=b\n",
    "print(a)"
   ]
  },
  {
   "cell_type": "code",
   "execution_count": 38,
   "id": "fbe4dcae",
   "metadata": {},
   "outputs": [
    {
     "name": "stdout",
     "output_type": "stream",
     "text": [
      "63\n"
     ]
    }
   ],
   "source": [
    "# Bitwise Right shit and Assign(<<=) \n",
    "\n",
    "a =55\n",
    "b= 10\n",
    "\n",
    "a |=b\n",
    "print(a)"
   ]
  },
  {
   "cell_type": "code",
   "execution_count": 39,
   "id": "f2f1b838",
   "metadata": {},
   "outputs": [
    {
     "name": "stdout",
     "output_type": "stream",
     "text": [
      "12\n"
     ]
    }
   ],
   "source": [
    "# Zero fill left shift Shift left by pushing zeros in from the right and let the leftmost bits fall off\n",
    "\n",
    "print(3 << 2)\n"
   ]
  },
  {
   "cell_type": "code",
   "execution_count": 40,
   "id": "99f96710",
   "metadata": {},
   "outputs": [
    {
     "name": "stdout",
     "output_type": "stream",
     "text": [
      "0\n"
     ]
    }
   ],
   "source": [
    "# Signed right shift \tShift right by pushing copies of the leftmost bit in from the left, and let the rightmost bits fall off\n",
    "\n",
    "print(3 >>2)"
   ]
  },
  {
   "cell_type": "code",
   "execution_count": null,
   "id": "84012e51",
   "metadata": {},
   "outputs": [],
   "source": []
  }
 ],
 "metadata": {
  "kernelspec": {
   "display_name": "Python 3 (ipykernel)",
   "language": "python",
   "name": "python3"
  },
  "language_info": {
   "codemirror_mode": {
    "name": "ipython",
    "version": 3
   },
   "file_extension": ".py",
   "mimetype": "text/x-python",
   "name": "python",
   "nbconvert_exporter": "python",
   "pygments_lexer": "ipython3",
   "version": "3.9.13"
  }
 },
 "nbformat": 4,
 "nbformat_minor": 5
}
