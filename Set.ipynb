{
 "cells": [
  {
   "cell_type": "markdown",
   "id": "827c1609",
   "metadata": {},
   "source": [
    "# SET\n",
    "* A set is a collection which is unordered, unchangeable*, and unindexed.\n",
    "* Sets are written with curly brackets.{}\n",
    "* A set in Python is a collection of unique elements"
   ]
  },
  {
   "cell_type": "code",
   "execution_count": null,
   "id": "66dcf6bc",
   "metadata": {},
   "outputs": [],
   "source": [
    "set1 = {1, 2, 3, 4, 5}\n"
   ]
  },
  {
   "cell_type": "code",
   "execution_count": 4,
   "id": "51cf10b9",
   "metadata": {},
   "outputs": [
    {
     "name": "stdout",
     "output_type": "stream",
     "text": [
      "{8, 2, 4, 6}\n"
     ]
    }
   ],
   "source": [
    "# not duplicate allow\n",
    "numbers = {2, 4, 6, 6, 2, 8}\n",
    "print(numbers)   # {8, 2, 4, 6}"
   ]
  },
  {
   "cell_type": "code",
   "execution_count": 6,
   "id": "731c695c",
   "metadata": {},
   "outputs": [
    {
     "name": "stdout",
     "output_type": "stream",
     "text": [
      "[2, 4, 6, 6, 2, 8]\n",
      "{8, 2, 4, 6}\n"
     ]
    }
   ],
   "source": [
    "numbers = [2, 4, 6, 6, 2, 8]\n",
    "print(numbers)\n",
    "\n",
    "# type casting\n",
    "\n",
    "set1 =set(numbers)\n",
    "print(set1)"
   ]
  },
  {
   "cell_type": "code",
   "execution_count": 7,
   "id": "fb21087e",
   "metadata": {},
   "outputs": [
    {
     "name": "stdout",
     "output_type": "stream",
     "text": [
      "{'banana', 'cherry', 'apple'}\n"
     ]
    }
   ],
   "source": [
    "# not duplicate allow\n",
    "\n",
    "set1 = {\"apple\", \"banana\", \"cherry\", \"apple\"}\n",
    "\n",
    "print(set1)"
   ]
  },
  {
   "cell_type": "code",
   "execution_count": 8,
   "id": "080e0a8f",
   "metadata": {},
   "outputs": [
    {
     "name": "stdout",
     "output_type": "stream",
     "text": [
      "{True, 2, 'cherry', 'apple', 'banana'}\n"
     ]
    }
   ],
   "source": [
    "set1 = {\"apple\", \"banana\", \"cherry\", \"apple\", True, 1,2}\n",
    "\n",
    "print(set1)"
   ]
  },
  {
   "cell_type": "code",
   "execution_count": 9,
   "id": "2a623555",
   "metadata": {},
   "outputs": [
    {
     "name": "stdout",
     "output_type": "stream",
     "text": [
      "{True, 2, 'cherry', 'apple', 'banana'} 5\n"
     ]
    }
   ],
   "source": [
    "set1 = {\"apple\", \"banana\", \"cherry\", \"apple\", True, 1,2}\n",
    "\n",
    "print(set1,len(set1))"
   ]
  },
  {
   "cell_type": "markdown",
   "id": "c8b41125",
   "metadata": {},
   "source": [
    "# The set() Constructor"
   ]
  },
  {
   "cell_type": "code",
   "execution_count": 10,
   "id": "5f78638e",
   "metadata": {},
   "outputs": [
    {
     "name": "stdout",
     "output_type": "stream",
     "text": [
      "{'banana', 'cherry', 'apple'}\n"
     ]
    }
   ],
   "source": [
    "thisset = set((\"apple\", \"banana\", \"cherry\"))\n",
    "print(thisset)"
   ]
  },
  {
   "cell_type": "code",
   "execution_count": 13,
   "id": "8b040e9e",
   "metadata": {
    "scrolled": true
   },
   "outputs": [
    {
     "name": "stdout",
     "output_type": "stream",
     "text": [
      "True\n",
      "2\n",
      "cherry\n",
      "apple\n",
      "banana\n"
     ]
    }
   ],
   "source": [
    "set1 = {\"apple\", \"banana\", \"cherry\", \"apple\", True, 1,2}\n",
    "\n",
    "for i in set1:\n",
    "    print(i)"
   ]
  },
  {
   "cell_type": "code",
   "execution_count": 14,
   "id": "9d71c390",
   "metadata": {},
   "outputs": [
    {
     "name": "stdout",
     "output_type": "stream",
     "text": [
      "True\n"
     ]
    }
   ],
   "source": [
    "set1 = {\"apple\", \"banana\", \"cherry\", \"apple\", True, 1,2}\n",
    "\n",
    "print(\"cherry\" in set1)"
   ]
  },
  {
   "cell_type": "markdown",
   "id": "2fc1ec3c",
   "metadata": {},
   "source": [
    "# update set"
   ]
  },
  {
   "cell_type": "code",
   "execution_count": 23,
   "id": "7af8e3a2",
   "metadata": {},
   "outputs": [
    {
     "name": "stdout",
     "output_type": "stream",
     "text": [
      "{True, 2, 'cherry', 'apple', 'banana', 'Mango'}\n"
     ]
    }
   ],
   "source": [
    "set1 = {\"apple\", \"banana\", \"cherry\", \"apple\", True, 1,2}\n",
    "\n",
    "set1.update([\"Mango\"])\n",
    "\n",
    "print(set1)"
   ]
  },
  {
   "cell_type": "code",
   "execution_count": null,
   "id": "7f9c4e14",
   "metadata": {},
   "outputs": [],
   "source": [
    "set1 = {1, 2, 3, 4, 5}\n",
    "\n",
    "set1.update([6, 7, 8])"
   ]
  },
  {
   "cell_type": "code",
   "execution_count": 24,
   "id": "927c4e1c",
   "metadata": {},
   "outputs": [
    {
     "name": "stdout",
     "output_type": "stream",
     "text": [
      "{1, 2, 3, 4, 5, 6, 7, 8}\n"
     ]
    }
   ],
   "source": [
    "set1 = {1, 2, 3, 4, 5}\n",
    "\n",
    "set1.update([6, 7, 8])\n",
    "\n",
    "print(set1)"
   ]
  },
  {
   "cell_type": "code",
   "execution_count": 26,
   "id": "d6475be7",
   "metadata": {},
   "outputs": [
    {
     "name": "stdout",
     "output_type": "stream",
     "text": [
      "{1, 2, 3, 4, 5, 6, 7, 8}\n"
     ]
    }
   ],
   "source": [
    "set1 = {1, 2, 3, 4, 5}\n",
    "\n",
    "set2 = {6, 7, 8}\n",
    "\n",
    "set1.update(set2)\n",
    "print(set1)"
   ]
  },
  {
   "cell_type": "markdown",
   "id": "8bf3d999",
   "metadata": {},
   "source": [
    "# Add Items"
   ]
  },
  {
   "cell_type": "code",
   "execution_count": 27,
   "id": "3a355887",
   "metadata": {},
   "outputs": [
    {
     "name": "stdout",
     "output_type": "stream",
     "text": [
      "{True, 2, 'cherry', 'apple', 'mango', 'banana'}\n"
     ]
    }
   ],
   "source": [
    "set1 = {\"apple\", \"banana\", \"cherry\", \"apple\", True, 1,2}\n",
    "\n",
    "set1.add(\"mango\")\n",
    "print(set1)"
   ]
  },
  {
   "cell_type": "code",
   "execution_count": 28,
   "id": "e5b5138e",
   "metadata": {},
   "outputs": [
    {
     "name": "stdout",
     "output_type": "stream",
     "text": [
      "{1, 2, 3, 4, 5, 6}\n"
     ]
    }
   ],
   "source": [
    "set1 = {1, 2, 3, 4, 5}\n",
    "\n",
    "set1.add(6)\n",
    "\n",
    "print(set1)  # prints {1, 2, 3, 4, 5, 6}"
   ]
  },
  {
   "cell_type": "code",
   "execution_count": 30,
   "id": "d521e28b",
   "metadata": {},
   "outputs": [
    {
     "name": "stdout",
     "output_type": "stream",
     "text": [
      "{1, 2, 3, 4, 5, 6}\n"
     ]
    }
   ],
   "source": [
    "set1 = {1, 2, 3, 4, 5}\n",
    "\n",
    "set1.update([6])\n",
    "\n",
    "print(set1)  # prints {1, 2, 3, 4, 5, 6}"
   ]
  },
  {
   "cell_type": "code",
   "execution_count": 31,
   "id": "f473085f",
   "metadata": {},
   "outputs": [
    {
     "name": "stdout",
     "output_type": "stream",
     "text": [
      "{1, 2, 3, 4, 5, 6}\n"
     ]
    }
   ],
   "source": [
    "set1 = {1, 2, 3, 4, 5}\n",
    "\n",
    "# Add the number 6 to the set\n",
    "set1.add(6)\n",
    "\n",
    "print(set1)  # prints {1, 2, 3, 4, 5, 6}"
   ]
  },
  {
   "cell_type": "code",
   "execution_count": 36,
   "id": "044d11d7",
   "metadata": {},
   "outputs": [
    {
     "name": "stdout",
     "output_type": "stream",
     "text": [
      "{'i', 'u', 'o', 'a', 'e', 'love'}\n"
     ]
    }
   ],
   "source": [
    "vowel_letters = {'a', 'e', 'i', 'o', 'u'}\n",
    "vowel_letters.add('love')\n",
    "print(vowel_letters)"
   ]
  },
  {
   "cell_type": "code",
   "execution_count": 3,
   "id": "bd458bbd",
   "metadata": {},
   "outputs": [
    {
     "name": "stdout",
     "output_type": "stream",
     "text": [
      "Student ID: {112, 114, 115, 116, 118}\n",
      "Vowel Letters: {'i', 'u', 'o', 'a', 'e'}\n",
      "Set of mixed data types: {'Bye', 101, 'Hello', -2}\n",
      "2308251170208\n",
      "<class 'set'>\n"
     ]
    }
   ],
   "source": [
    "# create a set of integer type\n",
    "student_id = {112, 114, 116, 118, 115}\n",
    "print('Student ID:', student_id)\n",
    "\n",
    "# create a set of string type\n",
    "vowel_letters = {'a', 'e', 'i', 'o', 'u'}\n",
    "print('Vowel Letters:', vowel_letters)\n",
    "\n",
    "# create a set of mixed data types\n",
    "mixed_set = {'Hello', 101, -2, 'Bye'}\n",
    "print('Set of mixed data types:', mixed_set)\n",
    "\n",
    "\n",
    "print(id(mixed_set))\n",
    "print(type(mixed_set))"
   ]
  },
  {
   "cell_type": "code",
   "execution_count": 33,
   "id": "f29fbd76",
   "metadata": {},
   "outputs": [
    {
     "name": "stdout",
     "output_type": "stream",
     "text": [
      "{'u', 'a', 112, 'i', 114, 115, 116, 118, 'o', 'e'}\n"
     ]
    }
   ],
   "source": [
    "student_id = {112, 114, 116, 118, 115}\n",
    "vowel_letters = {'a', 'e', 'i', 'o', 'u'}\n",
    "\n",
    "student_id.update(vowel_letters )\n",
    "\n",
    "print(student_id )"
   ]
  },
  {
   "cell_type": "code",
   "execution_count": 35,
   "id": "1091beb4",
   "metadata": {},
   "outputs": [
    {
     "name": "stdout",
     "output_type": "stream",
     "text": [
      "{'apple', 'cherry', 'orange', 'banana', 'kiwi'} <class 'set'>\n"
     ]
    }
   ],
   "source": [
    "thisset = {\"apple\", \"banana\", \"cherry\"}\n",
    "mylist = [\"kiwi\", \"orange\"]\n",
    "\n",
    "thisset.update(mylist)\n",
    "\n",
    "print(thisset, type(thisset))"
   ]
  },
  {
   "cell_type": "markdown",
   "id": "79dc43ad",
   "metadata": {},
   "source": [
    "# Remove Item\n",
    "# To remove an item in a set, use the remove(), or the discard() method."
   ]
  },
  {
   "cell_type": "code",
   "execution_count": 38,
   "id": "02ccda2b",
   "metadata": {},
   "outputs": [
    {
     "name": "stdout",
     "output_type": "stream",
     "text": [
      "{'i', 'u', 'o', 'a', 'e', 'love'}\n",
      "{'i', 'u', 'o', 'a', 'e'}\n"
     ]
    }
   ],
   "source": [
    "vowel_letters = {'a', 'e', 'i', 'o', 'u','love'}\n",
    "print(vowel_letters)\n",
    "\n",
    "\n",
    "vowel_letters.remove('love')\n",
    "print(vowel_letters)"
   ]
  },
  {
   "cell_type": "code",
   "execution_count": 39,
   "id": "258e3bf5",
   "metadata": {},
   "outputs": [
    {
     "name": "stdout",
     "output_type": "stream",
     "text": [
      "{'i', 'u', 'o', 'a', 'e', 'love'}\n",
      "{'i', 'u', 'o', 'a', 'e'}\n"
     ]
    }
   ],
   "source": [
    "vowel_letters = {'a', 'e', 'i', 'o', 'u','love'}\n",
    "print(vowel_letters)\n",
    "\n",
    "\n",
    "vowel_letters.discard('love')\n",
    "print(vowel_letters)"
   ]
  },
  {
   "cell_type": "code",
   "execution_count": 45,
   "id": "6f3da4cb",
   "metadata": {},
   "outputs": [
    {
     "name": "stdout",
     "output_type": "stream",
     "text": [
      "{'i', 'u', 'o', 'a', 'e', 'love'}\n",
      "{'u', 'o', 'a', 'e', 'love'}\n"
     ]
    }
   ],
   "source": [
    "vowel_letters = {'a', 'e', 'i', 'o', 'u','love'}\n",
    "print(vowel_letters)\n",
    "\n",
    "\n",
    "vowel_letters.pop()\n",
    "print(vowel_letters)"
   ]
  },
  {
   "cell_type": "code",
   "execution_count": 47,
   "id": "82f14edb",
   "metadata": {},
   "outputs": [
    {
     "name": "stdout",
     "output_type": "stream",
     "text": [
      "{'i', 'u', 'o', 'a', 'e', 'love'}\n",
      "set()\n"
     ]
    }
   ],
   "source": [
    "vowel_letters = {'a', 'e', 'i', 'o', 'u','love'}\n",
    "print(vowel_letters)\n",
    "\n",
    "\n",
    "vowel_letters.clear()\n",
    "print(vowel_letters)"
   ]
  },
  {
   "cell_type": "code",
   "execution_count": 48,
   "id": "3bc27432",
   "metadata": {},
   "outputs": [
    {
     "name": "stdout",
     "output_type": "stream",
     "text": [
      "{'i', 'u', 'o', 'a', 'e', 'love'}\n"
     ]
    },
    {
     "ename": "NameError",
     "evalue": "name 'vowel_letters' is not defined",
     "output_type": "error",
     "traceback": [
      "\u001b[1;31m---------------------------------------------------------------------------\u001b[0m",
      "\u001b[1;31mNameError\u001b[0m                                 Traceback (most recent call last)",
      "Cell \u001b[1;32mIn[48], line 6\u001b[0m\n\u001b[0;32m      2\u001b[0m \u001b[38;5;28mprint\u001b[39m(vowel_letters)\n\u001b[0;32m      5\u001b[0m \u001b[38;5;28;01mdel\u001b[39;00m vowel_letters\n\u001b[1;32m----> 6\u001b[0m \u001b[38;5;28mprint\u001b[39m(vowel_letters)\n",
      "\u001b[1;31mNameError\u001b[0m: name 'vowel_letters' is not defined"
     ]
    }
   ],
   "source": [
    "# Deleted \n",
    "\n",
    "vowel_letters = {'a', 'e', 'i', 'o', 'u','love'}\n",
    "print(vowel_letters)\n",
    "\n",
    "\n",
    "del vowel_letters\n",
    "print(vowel_letters)"
   ]
  },
  {
   "cell_type": "code",
   "execution_count": 50,
   "id": "57c4476a",
   "metadata": {},
   "outputs": [
    {
     "name": "stdout",
     "output_type": "stream",
     "text": [
      "i\n",
      "u\n",
      "o\n",
      "a\n",
      "e\n",
      "love\n"
     ]
    }
   ],
   "source": [
    "vowel_letters = {'a', 'e', 'i', 'o', 'u','love'}\n",
    "\n",
    "\n",
    "for i in vowel_letters:\n",
    "    print(i)"
   ]
  },
  {
   "cell_type": "markdown",
   "id": "7a46e012",
   "metadata": {},
   "source": [
    "# Join Sets"
   ]
  },
  {
   "cell_type": "code",
   "execution_count": 51,
   "id": "3f6c9b74",
   "metadata": {},
   "outputs": [
    {
     "name": "stdout",
     "output_type": "stream",
     "text": [
      "{1, 2, 3, 'a', 'b', 'c'}\n"
     ]
    }
   ],
   "source": [
    "set1 = {\"a\", \"b\" , \"c\"}\n",
    "set2 = {1, 2, 3}\n",
    "\n",
    "\n",
    "set3 =set1.union(set2)\n",
    "print(set3)"
   ]
  },
  {
   "cell_type": "code",
   "execution_count": 55,
   "id": "61f4349a",
   "metadata": {},
   "outputs": [
    {
     "name": "stdout",
     "output_type": "stream",
     "text": [
      "{1, 2, 3, 'a', 'b', 'c'}\n"
     ]
    }
   ],
   "source": [
    "set1 = {\"a\", \"b\" , \"c\"}\n",
    "set2 = {1, 2, 3}\n",
    "\n",
    "\n",
    "set1.update(set2)\n",
    "print(set1)"
   ]
  },
  {
   "cell_type": "markdown",
   "id": "c54af30d",
   "metadata": {},
   "source": [
    "# Keep ONLY the Duplicates\n",
    "# The intersection_update() method will keep only the items that are present in both sets."
   ]
  },
  {
   "cell_type": "code",
   "execution_count": 56,
   "id": "62e074b6",
   "metadata": {},
   "outputs": [
    {
     "name": "stdout",
     "output_type": "stream",
     "text": [
      "{'apple'}\n"
     ]
    }
   ],
   "source": [
    "x = {\"apple\", \"banana\", \"cherry\"}\n",
    "y = {\"google\", \"microsoft\", \"apple\"}\n",
    "\n",
    "x.intersection_update(y)\n",
    "\n",
    "print(x)"
   ]
  },
  {
   "cell_type": "code",
   "execution_count": 57,
   "id": "a07b13ef",
   "metadata": {},
   "outputs": [
    {
     "name": "stdout",
     "output_type": "stream",
     "text": [
      "{'apple'}\n"
     ]
    }
   ],
   "source": [
    "x = {\"apple\", \"banana\", \"cherry\"}\n",
    "y = {\"google\", \"microsoft\", \"apple\"}\n",
    "\n",
    "z = x.intersection(y)\n",
    "\n",
    "print(z)"
   ]
  },
  {
   "cell_type": "markdown",
   "id": "63d34e11",
   "metadata": {},
   "source": [
    "# Keep All, But NOT the Duplicates\n",
    "* The symmetric_difference_update() method will keep only the elements that are NOT present in both sets"
   ]
  },
  {
   "cell_type": "code",
   "execution_count": 58,
   "id": "be0fccbe",
   "metadata": {},
   "outputs": [
    {
     "name": "stdout",
     "output_type": "stream",
     "text": [
      "{'banana', 'cherry', 'microsoft', 'google'}\n"
     ]
    }
   ],
   "source": [
    "x = {\"apple\", \"banana\", \"cherry\"}\n",
    "y = {\"google\", \"microsoft\", \"apple\"}\n",
    "\n",
    "x.symmetric_difference_update(y)\n",
    "\n",
    "print(x)"
   ]
  },
  {
   "cell_type": "markdown",
   "id": "4322058c",
   "metadata": {},
   "source": [
    "# The symmetric_difference() method will return a new set, that contains only the elements that are NOT present in both sets."
   ]
  },
  {
   "cell_type": "code",
   "execution_count": 60,
   "id": "e30f190e",
   "metadata": {},
   "outputs": [
    {
     "name": "stdout",
     "output_type": "stream",
     "text": [
      "{'microsoft', 'cherry', 'google', 'banana'}\n"
     ]
    }
   ],
   "source": [
    "x = {\"apple\", \"banana\", \"cherry\",\"Graps\"}\n",
    "y = {\"google\", \"microsoft\", \"apple\",\"Graps\"}\n",
    "\n",
    "z = x.symmetric_difference(y)\n",
    "\n",
    "print(z)"
   ]
  },
  {
   "cell_type": "markdown",
   "id": "b3c68b2b",
   "metadata": {},
   "source": [
    "# True and 1 is considered the same value:"
   ]
  },
  {
   "cell_type": "code",
   "execution_count": 62,
   "id": "e9e3a82f",
   "metadata": {},
   "outputs": [
    {
     "name": "stdout",
     "output_type": "stream",
     "text": [
      "{2, 'cherry', 'google', 'banana'}\n"
     ]
    }
   ],
   "source": [
    "x = {\"apple\", \"banana\", \"cherry\", True}\n",
    "y = {\"google\", 1, \"apple\", 2}\n",
    "\n",
    "z = x.symmetric_difference(y)\n",
    "\n",
    "print(z)"
   ]
  },
  {
   "cell_type": "code",
   "execution_count": 64,
   "id": "aca536cd",
   "metadata": {},
   "outputs": [
    {
     "name": "stdout",
     "output_type": "stream",
     "text": [
      "{True, 'banana', 'cherry', 'apple'}\n"
     ]
    }
   ],
   "source": [
    "# Copy\n",
    "\n",
    "x = {\"apple\", \"banana\", \"cherry\", True}\n",
    "y =x.copy()\n",
    "print(y)"
   ]
  },
  {
   "cell_type": "code",
   "execution_count": null,
   "id": "0716177e",
   "metadata": {},
   "outputs": [],
   "source": []
  }
 ],
 "metadata": {
  "kernelspec": {
   "display_name": "Python 3 (ipykernel)",
   "language": "python",
   "name": "python3"
  },
  "language_info": {
   "codemirror_mode": {
    "name": "ipython",
    "version": 3
   },
   "file_extension": ".py",
   "mimetype": "text/x-python",
   "name": "python",
   "nbconvert_exporter": "python",
   "pygments_lexer": "ipython3",
   "version": "3.11.3"
  }
 },
 "nbformat": 4,
 "nbformat_minor": 5
}
