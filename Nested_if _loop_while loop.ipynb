{
 "cells": [
  {
   "cell_type": "markdown",
   "id": "5334daef",
   "metadata": {},
   "source": [
    "Use Case:\n",
    "* user input\n",
    "* password\n",
    "\n",
    "Logic\n",
    "\n",
    "* user_input equal admin\n",
    "* password equal \"Admin123\"\n",
    "     * Valid user\n",
    "\n",
    "Message Display\n"
   ]
  },
  {
   "cell_type": "code",
   "execution_count": null,
   "id": "6c82a1b4",
   "metadata": {},
   "outputs": [],
   "source": [
    "user =input(\"Enter user name: \\t\")\n",
    "user.lower()\n",
    "\n",
    "if user==\"admin\":# step1 only check user name if user name is correct then it will go to ask pass\n",
    "    print(\"Valid User\")\n",
    "    \n",
    "    password= input(\"Enter password: \\t\")\n",
    "    password.lower()\n",
    "    if password==\"admin123\": #step2 child\n",
    "        print(\"Valid user name and Password!\")\n",
    "    else:\n",
    "        print(\"re enter valid password!\")\n",
    "        \n",
    "        \n",
    "        \n",
    "        \n",
    "else:\n",
    "        print(\"Please enter valid password\")"
   ]
  },
  {
   "cell_type": "code",
   "execution_count": null,
   "id": "5729ecb2",
   "metadata": {},
   "outputs": [],
   "source": [
    "user =input(\"Enter user name: \\t\")\n",
    "user.lower()\n",
    "\n",
    "if user==\"admin\":# step1 only check user name if user name is correct then it will go to ask pass\n",
    "    print(\"Valid User\")\n",
    "    \n",
    "    password= input(\"Enter password: \\t\")\n",
    "    password.lower()\n",
    "    if password==\"admin123\": #step2 child\n",
    "        print(\"Valid user name and Password!\")\n",
    "        otp=int(input(\"Enter OTP: \\t\"))  # taking input in int\n",
    "        if otp==\"123\": # matching with string that's why code will not run\n",
    "            print(\"Welcome\")\n",
    "    else:\n",
    "        print(\"re enter valid password!\")\n",
    "        \n",
    "        \n",
    "        \n",
    "        \n",
    "else:\n",
    "        print(\"Please enter valid password\")"
   ]
  },
  {
   "cell_type": "code",
   "execution_count": null,
   "id": "30ac93c2",
   "metadata": {},
   "outputs": [],
   "source": [
    "# 3 layers\n",
    "\n",
    "user =input(\"Enter user name: \\t\")\n",
    "user.lower()\n",
    "\n",
    "if user==\"admin\":# step1 only check user name if user name is correct then it will go to ask pass\n",
    "    print(\"Valid User\")\n",
    "    \n",
    "    password= input(\"Enter password: \\t\")\n",
    "    password.lower()\n",
    "    if password==\"admin123\": #step2 child\n",
    "        print(\"Valid user name and Password!\")\n",
    "        otp=int(input(\"Enter OTP: \\t\"))  # taking input in int\n",
    "        if otp==123: \n",
    "            print(\"Welcome\")\n",
    "        else:\n",
    "            print(\"Not valid otp: \\t\")\n",
    "    else:\n",
    "        print(\"re enter valid password!\")\n",
    "        \n",
    "        \n",
    "        \n",
    "        \n",
    "else:\n",
    "        print(\"Please enter valid password\")"
   ]
  },
  {
   "cell_type": "code",
   "execution_count": null,
   "id": "86bee5f0",
   "metadata": {},
   "outputs": [],
   "source": [
    "user =\"admin\"\n",
    "password =\"admin123\"\n",
    "otp=\"123\"\n",
    "\n",
    "\n",
    "if user ==\"admin\" and password ==\"admin123\" and otp==\"123\": # One layer\n",
    "    print(\"Valid User: \\t\")\n",
    "else:\n",
    "    print(\"Not valid user: \\t\")\n",
    "    "
   ]
  },
  {
   "cell_type": "code",
   "execution_count": null,
   "id": "e17eb2c8",
   "metadata": {},
   "outputs": [],
   "source": [
    "# By chatgpt  3 layers \n",
    "\n",
    "# Simulated data for demonstration\n",
    "stored_username = \"user123\"\n",
    "stored_password = \"pass456\"\n",
    "stored_otp = \"7890\"\n",
    "\n",
    "# Input from user\n",
    "username = input(\"Enter your username: \")\n",
    "password = input(\"Enter your password: \")\n",
    "otp = input(\"Enter the OTP: \")\n",
    "\n",
    "# First layer: Check username\n",
    "if username == stored_username:\n",
    "    # Second layer: Check password if username is correct\n",
    "    if password == stored_password:\n",
    "        # Third layer: Check OTP if password is correct\n",
    "        if otp == stored_otp:\n",
    "            print(\"Authentication successful. Access granted.\")\n",
    "        else:\n",
    "            print(\"Invalid OTP. Authentication failed.\")\n",
    "    else:\n",
    "        print(\"Invalid password. Authentication failed.\")\n",
    "else:\n",
    "    print(\"Invalid username. Authentication failed.\")\n"
   ]
  },
  {
   "cell_type": "markdown",
   "id": "88060320",
   "metadata": {},
   "source": [
    "# Loop\n",
    "* while \n",
    "* for\n",
    "* Controls =\n",
    "     *break\n",
    "     *continue\n",
    "     *pass {optional}\n",
    "* Three things are important=\n",
    "  *Counter\n",
    "  *Logic\n",
    "  *increament / Decreament\n",
    "  "
   ]
  },
  {
   "cell_type": "markdown",
   "id": "f4d1f8df",
   "metadata": {},
   "source": [
    "# While Loop"
   ]
  },
  {
   "cell_type": "code",
   "execution_count": null,
   "id": "c2b3650d",
   "metadata": {},
   "outputs": [],
   "source": [
    "i =1\n",
    "\n",
    "\n",
    "print(i)"
   ]
  },
  {
   "cell_type": "code",
   "execution_count": null,
   "id": "d13081b3",
   "metadata": {},
   "outputs": [],
   "source": [
    "i =1\n",
    "\n",
    "i +=1\n",
    "print(i)"
   ]
  },
  {
   "cell_type": "code",
   "execution_count": null,
   "id": "37afd2c4",
   "metadata": {},
   "outputs": [],
   "source": [
    "counter =0    #counter\n",
    "\n",
    "while counter<10: # logic\n",
    "    print(counter)\n",
    "    counter +=1   #increament or decreament\n",
    "else:\n",
    "    print(\"Hello\")"
   ]
  },
  {
   "cell_type": "code",
   "execution_count": null,
   "id": "da60f67d",
   "metadata": {},
   "outputs": [],
   "source": [
    "counter =50    #counter\n",
    "\n",
    "while counter>0: # logic\n",
    "    print(counter)\n",
    "    counter -= 1   #increament or decreament"
   ]
  },
  {
   "cell_type": "code",
   "execution_count": null,
   "id": "981e0d41",
   "metadata": {},
   "outputs": [],
   "source": [
    "counter = 1\n",
    "while counter <1000000:\n",
    "    print(counter)\n",
    "    if counter==5:\n",
    "        break\n",
    "    counter +=1"
   ]
  },
  {
   "cell_type": "code",
   "execution_count": null,
   "id": "03f0be34",
   "metadata": {},
   "outputs": [],
   "source": [
    "counter = 1\n",
    "while counter <20:\n",
    "    counter +=1\n",
    "    if counter ==5:\n",
    "        continue\n",
    "    print(counter)\n",
    "   "
   ]
  },
  {
   "cell_type": "code",
   "execution_count": null,
   "id": "acd0eed0",
   "metadata": {},
   "outputs": [],
   "source": [
    "\n",
    "counter= 0\n",
    "while counter< 10:\n",
    "    counter += 1\n",
    "    if counter == 3:\n",
    "        continue\n",
    "    print(counter)"
   ]
  },
  {
   "cell_type": "code",
   "execution_count": null,
   "id": "ad5d9a2c",
   "metadata": {},
   "outputs": [],
   "source": [
    "# no 3 and 5 will be skip\n",
    "\n",
    "counter = 0\n",
    "while counter <20:\n",
    "    counter +=1\n",
    "    if counter in (3,5):\n",
    "        continue\n",
    "    print(counter)"
   ]
  },
  {
   "cell_type": "code",
   "execution_count": null,
   "id": "e141716f",
   "metadata": {},
   "outputs": [],
   "source": [
    "counter= 0\n",
    "while counter< 10:\n",
    "    counter += 1\n",
    "    if counter == 3:\n",
    "        continue\n",
    "    print(counter)"
   ]
  },
  {
   "cell_type": "code",
   "execution_count": null,
   "id": "601a1626",
   "metadata": {},
   "outputs": [],
   "source": [
    "name =['a','b','c','d','e']\n",
    "\n",
    "i =0\n",
    "\n",
    "while i <len(name):\n",
    "    print(i,name)\n",
    "    i +=1\n",
    "    "
   ]
  },
  {
   "cell_type": "code",
   "execution_count": null,
   "id": "af63d3b9",
   "metadata": {},
   "outputs": [],
   "source": [
    "name =['a','b','c','d','e']\n",
    "\n",
    "i =0\n",
    "\n",
    "while i <len(name):\n",
    "    print(name[i])\n",
    "    i +=1\n",
    "    "
   ]
  },
  {
   "cell_type": "code",
   "execution_count": null,
   "id": "9ad18bb4",
   "metadata": {},
   "outputs": [],
   "source": [
    "# count 1   2   3   4   5\n",
    "# index 0   1   2   3   4\n",
    "name =['a','b','c','d','e']\n",
    "\n",
    "i =len(name)-1\n",
    "\n",
    "while i >=0:\n",
    "    print(name[i])\n",
    "    i -=1\n",
    "    "
   ]
  },
  {
   "cell_type": "code",
   "execution_count": null,
   "id": "78c19567",
   "metadata": {},
   "outputs": [],
   "source": [
    "year =2023\n",
    "\n",
    "while year >=1980:\n",
    "    print(year)\n",
    "    year -=1"
   ]
  },
  {
   "cell_type": "markdown",
   "id": "a3098dcc",
   "metadata": {},
   "source": [
    "# For Loop"
   ]
  },
  {
   "cell_type": "code",
   "execution_count": null,
   "id": "e82a3c35",
   "metadata": {},
   "outputs": [],
   "source": [
    "for(counter,logic,inc/dec)"
   ]
  },
  {
   "cell_type": "code",
   "execution_count": null,
   "id": "fd46ab70",
   "metadata": {},
   "outputs": [],
   "source": [
    "name =['a','b','c','d','e']\n",
    "\n",
    "for i in name:\n",
    "    print(i)"
   ]
  },
  {
   "cell_type": "code",
   "execution_count": null,
   "id": "e489f8ca",
   "metadata": {},
   "outputs": [],
   "source": [
    "for i in range(1,11):\n",
    "    print(i)"
   ]
  },
  {
   "cell_type": "code",
   "execution_count": null,
   "id": "cd49a687",
   "metadata": {},
   "outputs": [],
   "source": [
    "name =['a','b','c','d','e']\n",
    "\n",
    "for i in name:\n",
    "    print(f\"Hello Mr/Miss, {i} ,Welcome to Data science course:\")"
   ]
  },
  {
   "cell_type": "code",
   "execution_count": null,
   "id": "a2508391",
   "metadata": {},
   "outputs": [],
   "source": [
    "a=[1,2,3]\n",
    "b=['a','b','c']\n",
    "\n",
    "c=list(zip(a,b))\n",
    "print(c)"
   ]
  },
  {
   "cell_type": "code",
   "execution_count": null,
   "id": "5608cad9",
   "metadata": {},
   "outputs": [],
   "source": [
    "names=['Ali','Hamza','Kashif']\n",
    "ages=[27,22,25]\n",
    "courses=['Ai','ML','DS']\n",
    "\n",
    "data=list(zip(names,ages,courses))\n",
    "print(data)"
   ]
  },
  {
   "cell_type": "code",
   "execution_count": null,
   "id": "1071b5be",
   "metadata": {},
   "outputs": [],
   "source": [
    "#unzip\n",
    "\n",
    "a,b,c =[1,2,3]\n",
    "print(a,b,c)"
   ]
  },
  {
   "cell_type": "code",
   "execution_count": null,
   "id": "3f8e2664",
   "metadata": {},
   "outputs": [],
   "source": [
    "names=['Ali','Hamza','Kashif']\n",
    "ages=[27,22,25]\n",
    "courses=['Ai','ML','DS']\n",
    "\n",
    "\n",
    "for name,age,course in zip(names,ages,courses):\n",
    "    print(f\"Hello dear,{name},Welcome in,{course},Course, you are,{age},years old\")"
   ]
  },
  {
   "cell_type": "code",
   "execution_count": null,
   "id": "0e221c4a",
   "metadata": {},
   "outputs": [],
   "source": [
    "users =['a','b','c']\n",
    "passwords =['1','2','3']\n",
    "\n",
    "ui =input(\"Username: \\t\")\n",
    "pi=input(\"password: \\t\")\n",
    "\n",
    "\n",
    "\n",
    "for u,p in zip(users,passwords):\n",
    "    if ui==u and pi==p:\n",
    "        print(f\"Welcome dear {u} !\")\n",
    "        break\n",
    "        \n",
    "else:\n",
    "    print(\"Not valid username password! \\t\")\n",
    "\n"
   ]
  },
  {
   "cell_type": "code",
   "execution_count": null,
   "id": "cf3c441a",
   "metadata": {},
   "outputs": [],
   "source": [
    "users =['a','b','c']\n",
    "passwords =['1','2','3']\n",
    "\n",
    "ui =input(\"Username: \\t\")\n",
    "pi=input(\"password: \\t\")\n",
    "\n",
    "\n",
    "\n",
    "for u,p in zip(users,passwords):\n",
    "    if ui==u and pi==p:\n",
    "        print(f\"Welcome dear {u} !\")\n",
    "        break\n",
    "        \n",
    "else:\n",
    "    print(\"Not valid username password! \\t\")\n",
    "\n"
   ]
  },
  {
   "cell_type": "code",
   "execution_count": null,
   "id": "37f4c34f",
   "metadata": {},
   "outputs": [],
   "source": [
    "# enumerate makes number of idex and add in the list\n",
    "\n",
    "names=['Ali','Hamza','Kashif']\n",
    "data =list(enumerate(names))\n",
    "data "
   ]
  },
  {
   "cell_type": "code",
   "execution_count": null,
   "id": "82ebb449",
   "metadata": {},
   "outputs": [],
   "source": [
    "names=['Ali','Hamza','Kashif']\n",
    "\n",
    "for idx,value in enumerate(names):\n",
    "    print(idx,value)\n"
   ]
  },
  {
   "cell_type": "code",
   "execution_count": 4,
   "id": "b0f6e24c",
   "metadata": {},
   "outputs": [
    {
     "name": "stdout",
     "output_type": "stream",
     "text": [
      " Hello a :\n",
      " Hello c :\n",
      " Hello d :\n",
      " Hello e :\n",
      " Hello f :\n",
      " Hello g :\n",
      " Hello h :\n",
      " Hello i :\n",
      " Hello j :\n",
      " Hello l :\n",
      " Hello m :\n",
      " Hello n :\n",
      " Hello o :\n",
      " Hello p :\n",
      " Hello q :\n",
      " Hello r :\n",
      " Hello s :\n",
      " Hello t :\n",
      " Hello u :\n",
      " Hello v :\n",
      " Hello x :\n",
      " Hello y :\n",
      "<class 'list'>\n"
     ]
    }
   ],
   "source": [
    "names=list(\"abcdefghijklmnopqrstuvwxyz\")\n",
    "blocked_customer =['b','z','k','w']\n",
    "\n",
    "for name in names:\n",
    "    if name not in blocked_customer:\n",
    "        print(f\" Hello {name} :\")\n",
    "print(type(blocked_customer))"
   ]
  },
  {
   "cell_type": "code",
   "execution_count": 12,
   "id": "30499b9f",
   "metadata": {},
   "outputs": [
    {
     "name": "stdout",
     "output_type": "stream",
     "text": [
      " Hello a :\n",
      " Bye b :\n",
      " Hello c :\n",
      " Hello d :\n",
      " Hello e :\n",
      " Hello f :\n",
      " Hello g :\n",
      " Hello h :\n",
      " Hello i :\n",
      " Hello j :\n",
      " Bye k :\n",
      " Hello l :\n",
      " Hello m :\n",
      " Hello n :\n",
      " Hello o :\n",
      " Hello p :\n",
      " Hello q :\n",
      " Hello r :\n",
      " Hello s :\n",
      " Hello t :\n",
      " Hello u :\n",
      " Hello v :\n",
      " Bye w :\n",
      " Hello x :\n",
      " Hello y :\n",
      " Bye z :\n"
     ]
    }
   ],
   "source": [
    "names=\"abcdefghijklmnopqrstuvwxyz\"\n",
    "blocked_customer =['b','z','k','w']\n",
    "\n",
    "for name in names:\n",
    "    if name not in blocked_customer:\n",
    "        print(f\" Hello {name} :\")\n",
    "    else:\n",
    "        print(f\" Bye {name} :\") \n"
   ]
  },
  {
   "cell_type": "code",
   "execution_count": 13,
   "id": "1b21090f",
   "metadata": {
    "scrolled": true
   },
   "outputs": [
    {
     "name": "stdout",
     "output_type": "stream",
     "text": [
      " Hello a :\n",
      " Bye b :\n",
      " Hello c :\n",
      " Hello d :\n",
      " Hello e :\n",
      " Hello f :\n",
      " Hello g :\n",
      " Hello h :\n",
      " Hello i :\n",
      " Hello j :\n",
      " Bye k :\n",
      " Hello l :\n",
      " Hello m :\n",
      " Hello n :\n",
      " Hello o :\n",
      " Hello p :\n",
      " Hello q :\n",
      " Hello r :\n",
      " Hello s :\n",
      " Hello t :\n",
      " Hello u :\n",
      " Hello v :\n",
      " Bye w :\n",
      " Hello x :\n",
      " Hello y :\n",
      " Bye z :\n"
     ]
    }
   ],
   "source": [
    "# SIMPLIFY \n",
    "names=\"abcdefghijklmnopqrstuvwxyz\"\n",
    "blocked_customer =['b','z','k','w']\n",
    "\n",
    "for name in names:\n",
    "    if name in blocked_customer:\n",
    "        print(f\" Bye {name} :\") \n",
    "       \n",
    "    else:\n",
    "        print(f\" Hello {name} :\")"
   ]
  },
  {
   "cell_type": "code",
   "execution_count": 16,
   "id": "0deaa0ad",
   "metadata": {},
   "outputs": [
    {
     "name": "stdout",
     "output_type": "stream",
     "text": [
      " Welcome sir ali :\n",
      " Welcome sir saad :\n",
      " Get lost haider :\n",
      " Welcome sir shakeel :\n",
      " Welcome sir saif :\n"
     ]
    }
   ],
   "source": [
    "# SIMPLIFY IN REAL SCENERIO\n",
    "# this is my shop, where below in a list I have defined names of blocked people, no entry for them\n",
    "people_coming =[\"ali\", \"saad\", \"haider\", \"shakeel\", \"saif\"]\n",
    "blocked_customer =[\"haider\", \"sarfaraz\"]\n",
    "\n",
    "for person in people_coming:\n",
    "    if person in blocked_customer:\n",
    "        print(f\" Get lost {person} :\") \n",
    "       \n",
    "    else:\n",
    "        print(f\" Welcome sir {person} :\")"
   ]
  },
  {
   "cell_type": "markdown",
   "id": "c13fa88c",
   "metadata": {},
   "source": [
    "# create a data entry system using loop"
   ]
  },
  {
   "cell_type": "code",
   "execution_count": null,
   "id": "16a74bf5",
   "metadata": {},
   "outputs": [
    {
     "name": "stdout",
     "output_type": "stream",
     "text": [
      "Name:a\n",
      "password:2\n",
      "[['a', '2']]\n",
      "Name:3\n",
      "password:s\n",
      "[['a', '2'], ['3', 's']]\n",
      "Name:w\n",
      "password:2\n",
      "[['a', '2'], ['3', 's'], ['w', '2']]\n",
      "Name:exit\n"
     ]
    }
   ],
   "source": [
    "data =[]\n",
    "\n",
    "while True:\n",
    "    n=input(\"Name:\")\n",
    "    p=input(\"password:\")\n",
    "    if n==\"exit\"or n==\"x\":\n",
    "        break\n",
    "    data.append([n,p])\n",
    "    print(data)\n",
    "    "
   ]
  },
  {
   "cell_type": "code",
   "execution_count": 2,
   "id": "ceebd85b",
   "metadata": {},
   "outputs": [
    {
     "name": "stdout",
     "output_type": "stream",
     "text": [
      "Name: a\n",
      "Password: 1\n",
      "Name: b\n",
      "Password: 2\n",
      "Name: c\n",
      "Password: 3\n",
      "Name: exit\n",
      "Data added: [['a', '1'], ['b', '2'], ['c', '3']]\n"
     ]
    }
   ],
   "source": [
    "data = []\n",
    "\n",
    "while True:\n",
    "    n = input(\"Name: \")\n",
    "    if n == \"exit\" or n == \"x\":\n",
    "        break\n",
    "        \n",
    "        \n",
    "    p = input(\"Password: \")\n",
    "    data.append([n, p])\n",
    "    \n",
    "print(\"Data added:\", data)\n",
    "\n",
    "# Display all data\n",
    "# for entry in data:\n",
    "#     print(\"Name:\", entry[0], \"Password:\", entry[1])\n"
   ]
  },
  {
   "cell_type": "code",
   "execution_count": 1,
   "id": "c9f84a38",
   "metadata": {},
   "outputs": [
    {
     "name": "stdout",
     "output_type": "stream",
     "text": [
      "Name: a\n",
      "Password: 1\n",
      "Name: b\n",
      "Password: 2\n",
      "Name: c\n",
      "Password: 3\n",
      "Name: exit\n",
      "Data added: [['a', '1'], ['b', '2'], ['c', '3']]\n"
     ]
    }
   ],
   "source": [
    "data = []\n",
    "\n",
    "while True:\n",
    "    n = input(\"Name: \")\n",
    "    \n",
    "    if n == \"exit\" or n == \"x\":\n",
    "        break\n",
    "    \n",
    "    p = input(\"Password: \")\n",
    "    data.append([n, p])\n",
    "\n",
    "print(\"Data added:\", data)\n"
   ]
  },
  {
   "cell_type": "code",
   "execution_count": null,
   "id": "bc10b82e",
   "metadata": {},
   "outputs": [],
   "source": []
  },
  {
   "cell_type": "code",
   "execution_count": null,
   "id": "9ba5e2a3",
   "metadata": {},
   "outputs": [],
   "source": []
  }
 ],
 "metadata": {
  "kernelspec": {
   "display_name": "Python 3 (ipykernel)",
   "language": "python",
   "name": "python3"
  },
  "language_info": {
   "codemirror_mode": {
    "name": "ipython",
    "version": 3
   },
   "file_extension": ".py",
   "mimetype": "text/x-python",
   "name": "python",
   "nbconvert_exporter": "python",
   "pygments_lexer": "ipython3",
   "version": "3.11.4"
  }
 },
 "nbformat": 4,
 "nbformat_minor": 5
}
