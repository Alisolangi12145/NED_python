{
 "cells": [
  {
   "cell_type": "markdown",
   "id": "e6b6a318",
   "metadata": {},
   "source": [
    "# Tuples\n",
    "    \n",
    "    *Tuples are created by placing the elements inside parentheses (), separated by commas\n",
    "    *Ordered\n",
    "    *Unchangeable\n",
    "    *Allow Duplicates"
   ]
  },
  {
   "cell_type": "code",
   "execution_count": 16,
   "id": "9187b4a7",
   "metadata": {},
   "outputs": [
    {
     "name": "stdout",
     "output_type": "stream",
     "text": [
      "()\n",
      "(1, 2, 3)\n",
      "(1, 'Hello', 3.4)\n",
      "('mouse', (8, 4, 6), (1, 2, 3))\n",
      "<class 'tuple'>\n"
     ]
    }
   ],
   "source": [
    "# Different types of tuples\n",
    "\n",
    "# Empty tuple\n",
    "my_tuple = ()\n",
    "print(my_tuple)\n",
    "\n",
    "# Tuple having integers\n",
    "my_tuple = (1, 2, 3)\n",
    "print(my_tuple)\n",
    "\n",
    "# tuple with mixed datatypes\n",
    "my_tuple = (1, \"Hello\", 3.4)\n",
    "print(my_tuple)\n",
    "\n",
    "# nested tuple\n",
    "my_tuple1 = (\"mouse\", (8, 4, 6), (1, 2, 3))\n",
    "print(my_tuple1)\n",
    "\n",
    "print(type(my_tuple1))"
   ]
  },
  {
   "cell_type": "code",
   "execution_count": 3,
   "id": "305306eb",
   "metadata": {
    "scrolled": true
   },
   "outputs": [
    {
     "name": "stdout",
     "output_type": "stream",
     "text": [
      "(1, 2, 3)\n",
      "('apple', 'banana', 'cherry')\n",
      "('hello', 123, True)\n",
      "((1, 2, 3), ('apple', 'banana', 'cherry'))\n"
     ]
    }
   ],
   "source": [
    "tuple1 = (1, 2, 3)\n",
    "tuple2 = (\"apple\", \"banana\", \"cherry\")\n",
    "tuple3 = (\"hello\", 123, True)\n",
    "tuple4 = ((1, 2, 3), (\"apple\", \"banana\", \"cherry\"))\n",
    "\n",
    "print(tuple1)\n",
    "print(tuple2)\n",
    "print(tuple3)\n",
    "print(tuple4)"
   ]
  },
  {
   "cell_type": "code",
   "execution_count": 8,
   "id": "427d0474",
   "metadata": {
    "scrolled": true
   },
   "outputs": [
    {
     "name": "stdout",
     "output_type": "stream",
     "text": [
      "3\n",
      "3\n",
      "3\n",
      "2\n"
     ]
    }
   ],
   "source": [
    "print(len(tuple1))\n",
    "print(len(tuple2))\n",
    "print(len(tuple3))\n",
    "print(len(tuple4))"
   ]
  },
  {
   "cell_type": "code",
   "execution_count": 9,
   "id": "f2107998",
   "metadata": {},
   "outputs": [
    {
     "name": "stdout",
     "output_type": "stream",
     "text": [
      "<class 'tuple'>\n",
      "<class 'str'>\n"
     ]
    }
   ],
   "source": [
    "# this is tuple due to ,\n",
    "\n",
    "thistuple = (\"apple\",)\n",
    "print(type(thistuple))\n",
    "\n",
    "#NOT a tuple this is string\n",
    "thistuple = (\"apple\")\n",
    "print(type(thistuple))"
   ]
  },
  {
   "cell_type": "code",
   "execution_count": 5,
   "id": "a609afcc",
   "metadata": {},
   "outputs": [
    {
     "name": "stdout",
     "output_type": "stream",
     "text": [
      "hello\n",
      "banana\n"
     ]
    }
   ],
   "source": [
    "print(tuple3[0])\n",
    "\n",
    "\n",
    "a=tuple2[1]\n",
    "print(a)"
   ]
  },
  {
   "cell_type": "code",
   "execution_count": 10,
   "id": "a14918f7",
   "metadata": {},
   "outputs": [
    {
     "data": {
      "text/plain": [
       "('abc', 34, True, 40, 'male')"
      ]
     },
     "execution_count": 10,
     "metadata": {},
     "output_type": "execute_result"
    }
   ],
   "source": [
    "tuple1 = (\"abc\", 34, True, 40, \"male\")\n",
    "tuple1"
   ]
  },
  {
   "cell_type": "markdown",
   "id": "bb31eed4",
   "metadata": {},
   "source": [
    "# The tuple() Constructor"
   ]
  },
  {
   "cell_type": "code",
   "execution_count": 12,
   "id": "767dbe36",
   "metadata": {},
   "outputs": [
    {
     "name": "stdout",
     "output_type": "stream",
     "text": [
      "('apple', 'banana', 'cherry') <class 'tuple'>\n"
     ]
    }
   ],
   "source": [
    "a =tuple((\"apple\", \"banana\", \"cherry\"))\n",
    "print(a,type(a))"
   ]
  },
  {
   "cell_type": "markdown",
   "id": "6a5cd897",
   "metadata": {},
   "source": [
    "# Accessing Tuple"
   ]
  },
  {
   "cell_type": "code",
   "execution_count": 19,
   "id": "6cb484a0",
   "metadata": {},
   "outputs": [
    {
     "name": "stdout",
     "output_type": "stream",
     "text": [
      "apple\n"
     ]
    }
   ],
   "source": [
    "a1 = (\"apple\", \"banana\", \"cherry\")\n",
    "print(a1[0])\n"
   ]
  },
  {
   "cell_type": "code",
   "execution_count": 21,
   "id": "87383757",
   "metadata": {},
   "outputs": [
    {
     "name": "stdout",
     "output_type": "stream",
     "text": [
      "cherry\n"
     ]
    }
   ],
   "source": [
    "a1 = (\"apple\", \"banana\", \"cherry\")\n",
    "print(a1[-1])"
   ]
  },
  {
   "cell_type": "code",
   "execution_count": 25,
   "id": "b685c57f",
   "metadata": {},
   "outputs": [
    {
     "name": "stdout",
     "output_type": "stream",
     "text": [
      "('apple', 'banana')\n"
     ]
    }
   ],
   "source": [
    "a1 = (\"apple\", \"banana\", \"cherry\")\n",
    "print(a1[:-1])"
   ]
  },
  {
   "cell_type": "code",
   "execution_count": 26,
   "id": "94104d76",
   "metadata": {},
   "outputs": [
    {
     "name": "stdout",
     "output_type": "stream",
     "text": [
      "('cherry', 'banana', 'apple')\n"
     ]
    }
   ],
   "source": [
    "a1 = (\"apple\", \"banana\", \"cherry\")\n",
    "print(a1[::-1])"
   ]
  },
  {
   "cell_type": "code",
   "execution_count": 27,
   "id": "9bbbbc4f",
   "metadata": {},
   "outputs": [
    {
     "name": "stdout",
     "output_type": "stream",
     "text": [
      "('cherry', 'orange', 'kiwi')\n"
     ]
    }
   ],
   "source": [
    "b = (\"apple\", \"banana\", \"cherry\", \"orange\", \"kiwi\", \"melon\", \"mango\")\n",
    "print(b[2:5])"
   ]
  },
  {
   "cell_type": "code",
   "execution_count": 30,
   "id": "de705599",
   "metadata": {
    "scrolled": false
   },
   "outputs": [
    {
     "name": "stdout",
     "output_type": "stream",
     "text": [
      "('apple', 'banana', 'cherry', 'apple', 'cherry')\n",
      "('apple', 'banana', 'cherry', 'orange')\n"
     ]
    }
   ],
   "source": [
    "thistuple = (\"apple\", \"banana\", \"cherry\", \"apple\", \"cherry\")\n",
    "print(thistuple)\n",
    "\n",
    "\n",
    "print(b[:4])"
   ]
  },
  {
   "cell_type": "code",
   "execution_count": 32,
   "id": "de0fb201",
   "metadata": {},
   "outputs": [
    {
     "name": "stdout",
     "output_type": "stream",
     "text": [
      "('cherry', 'apple', 'cherry')\n"
     ]
    }
   ],
   "source": [
    "b= (\"apple\", \"banana\", \"cherry\", \"apple\", \"cherry\")\n",
    "\n",
    "\n",
    "\n",
    "print(b[2:])"
   ]
  },
  {
   "cell_type": "code",
   "execution_count": 33,
   "id": "8c72b41b",
   "metadata": {},
   "outputs": [
    {
     "name": "stdout",
     "output_type": "stream",
     "text": [
      "('orange', 'kiwi')\n"
     ]
    }
   ],
   "source": [
    "b = (\"apple\", \"banana\", \"cherry\", \"orange\", \"kiwi\", \"melon\", \"mango\")\n",
    "print(b[-4:-2])"
   ]
  },
  {
   "cell_type": "code",
   "execution_count": 34,
   "id": "98953682",
   "metadata": {},
   "outputs": [
    {
     "name": "stdout",
     "output_type": "stream",
     "text": [
      "melon\n"
     ]
    }
   ],
   "source": [
    "b = (\"apple\", \"banana\", \"cherry\", \"orange\", \"kiwi\", \"melon\", \"mango\")\n",
    "print(b[-2])"
   ]
  },
  {
   "cell_type": "code",
   "execution_count": 35,
   "id": "6da65f83",
   "metadata": {},
   "outputs": [
    {
     "name": "stdout",
     "output_type": "stream",
     "text": [
      "('apple', 'banana', 'cherry', 'orange', 'kiwi')\n"
     ]
    }
   ],
   "source": [
    "b = (\"apple\", \"banana\", \"cherry\", \"orange\", \"kiwi\", \"melon\", \"mango\")\n",
    "print(b[:-2])"
   ]
  },
  {
   "cell_type": "code",
   "execution_count": 36,
   "id": "afed5e0d",
   "metadata": {},
   "outputs": [
    {
     "name": "stdout",
     "output_type": "stream",
     "text": [
      "('mango', 'kiwi', 'cherry', 'apple')\n"
     ]
    }
   ],
   "source": [
    "b = (\"apple\", \"banana\", \"cherry\", \"orange\", \"kiwi\", \"melon\", \"mango\")\n",
    "print(b[::-2])"
   ]
  },
  {
   "cell_type": "code",
   "execution_count": 37,
   "id": "0e6bc3cb",
   "metadata": {},
   "outputs": [
    {
     "name": "stdout",
     "output_type": "stream",
     "text": [
      "('mango', 'melon', 'kiwi', 'orange', 'cherry', 'banana', 'apple')\n"
     ]
    }
   ],
   "source": [
    "b = (\"apple\", \"banana\", \"cherry\", \"orange\", \"kiwi\", \"melon\", \"mango\")\n",
    "print(b[::-1])"
   ]
  },
  {
   "cell_type": "code",
   "execution_count": null,
   "id": "6323ce8b",
   "metadata": {},
   "outputs": [],
   "source": [
    "tuple1 = (1, 2, 3, 4, 5)\n",
    "\n",
    "if 3 in tuple1:\n",
    "    print(\"3 is in the tuple\")\n",
    "else:\n",
    "    print(\"3 is not in the tuple\")"
   ]
  },
  {
   "cell_type": "markdown",
   "id": "6053fb1d",
   "metadata": {},
   "source": [
    "# Change Tuple Values\n",
    "* Once a tuple is created, you cannot change its values. Tuples are unchangeable, or immutable as it also is called"
   ]
  },
  {
   "cell_type": "code",
   "execution_count": 43,
   "id": "1f8eeca8",
   "metadata": {},
   "outputs": [
    {
     "name": "stdout",
     "output_type": "stream",
     "text": [
      "['apple', 'banana', 'cherry'] <class 'list'>\n",
      "('graps', 'apple', 'banana', 'cherry', 'mango') <class 'tuple'>\n"
     ]
    }
   ],
   "source": [
    "x = (\"apple\", \"banana\", \"cherry\")\n",
    "\n",
    "# type casting\n",
    "\n",
    "y=list(x)\n",
    "print(y,type(y))\n",
    "\n",
    "\n",
    "y.append('mango')\n",
    "y\n",
    "\n",
    "\n",
    "y.insert(0,'graps')\n",
    "y\n",
    "\n",
    "\n",
    "\n",
    "x=tuple(y)\n",
    "print(x,type(x))"
   ]
  },
  {
   "cell_type": "code",
   "execution_count": 46,
   "id": "accf00be",
   "metadata": {},
   "outputs": [
    {
     "name": "stdout",
     "output_type": "stream",
     "text": [
      "('apple', 'banana', 'cherry', 'orange') <class 'tuple'>\n"
     ]
    }
   ],
   "source": [
    "thistuple = (\"apple\", \"banana\", \"cherry\")\n",
    "\n",
    "y = list(thistuple)\n",
    "y.append(\"orange\")\n",
    "thistuple = tuple(y)\n",
    "\n",
    "\n",
    "print(thistuple,type(thistuple))"
   ]
  },
  {
   "cell_type": "code",
   "execution_count": 47,
   "id": "e8350838",
   "metadata": {},
   "outputs": [
    {
     "name": "stdout",
     "output_type": "stream",
     "text": [
      "('apple', 'banana', 'cherry', 'orange')\n"
     ]
    }
   ],
   "source": [
    "#Create a new tuple with the value \"orange\", and add that tuple:\n",
    "\n",
    "thistuple = (\"apple\", \"banana\", \"cherry\")\n",
    "y = (\"orange\",)\n",
    "thistuple += y\n",
    "\n",
    "print(thistuple)"
   ]
  },
  {
   "cell_type": "code",
   "execution_count": 50,
   "id": "c164098b",
   "metadata": {},
   "outputs": [
    {
     "name": "stdout",
     "output_type": "stream",
     "text": [
      "apple\n",
      "banana\n",
      "cherry\n"
     ]
    }
   ],
   "source": [
    "thistuple = (\"apple\", \"banana\", \"cherry\")\n",
    "for i in range(len(thistuple)):\n",
    "    print(thistuple[i])\n",
    "    "
   ]
  },
  {
   "cell_type": "code",
   "execution_count": 51,
   "id": "0b1f22e5",
   "metadata": {},
   "outputs": [
    {
     "name": "stdout",
     "output_type": "stream",
     "text": [
      "apple\n",
      "banana\n",
      "cherry\n"
     ]
    }
   ],
   "source": [
    "thistuple = (\"apple\", \"banana\", \"cherry\")\n",
    "i = 0\n",
    "while i < len(thistuple):\n",
    "    print(thistuple[i])\n",
    "    i = i + 1"
   ]
  },
  {
   "cell_type": "code",
   "execution_count": 52,
   "id": "4b62d95a",
   "metadata": {},
   "outputs": [
    {
     "name": "stdout",
     "output_type": "stream",
     "text": [
      "('a', 'b', 'c', 1, 2, 3)\n"
     ]
    }
   ],
   "source": [
    "tuple1 = (\"a\", \"b\" , \"c\")\n",
    "tuple2 = (1, 2, 3)\n",
    "\n",
    "tuple3 = tuple1 + tuple2\n",
    "print(tuple3)"
   ]
  },
  {
   "cell_type": "code",
   "execution_count": 53,
   "id": "388ebc90",
   "metadata": {},
   "outputs": [
    {
     "name": "stdout",
     "output_type": "stream",
     "text": [
      "('apple', 'banana', 'cherry', 'apple', 'banana', 'cherry')\n"
     ]
    }
   ],
   "source": [
    "fruits = (\"apple\", \"banana\", \"cherry\")\n",
    "mytuple = fruits * 2\n",
    "\n",
    "print(mytuple)"
   ]
  },
  {
   "cell_type": "code",
   "execution_count": 55,
   "id": "3ac7115b",
   "metadata": {},
   "outputs": [
    {
     "name": "stdout",
     "output_type": "stream",
     "text": [
      "1\n"
     ]
    }
   ],
   "source": [
    "fruits = (\"apple\", \"banana\", \"cherry\")\n",
    "mytuple = fruits.count('apple')\n",
    "print(mytuple)"
   ]
  },
  {
   "cell_type": "code",
   "execution_count": 58,
   "id": "b41935ca",
   "metadata": {},
   "outputs": [
    {
     "name": "stdout",
     "output_type": "stream",
     "text": [
      "0\n"
     ]
    }
   ],
   "source": [
    "fruits = (\"apple\", \"banana\", \"cherry\")\n",
    "mytuple = fruits.index('apple')\n",
    "print(mytuple)"
   ]
  },
  {
   "cell_type": "code",
   "execution_count": null,
   "id": "e1850cb3",
   "metadata": {},
   "outputs": [],
   "source": []
  }
 ],
 "metadata": {
  "kernelspec": {
   "display_name": "Python 3 (ipykernel)",
   "language": "python",
   "name": "python3"
  },
  "language_info": {
   "codemirror_mode": {
    "name": "ipython",
    "version": 3
   },
   "file_extension": ".py",
   "mimetype": "text/x-python",
   "name": "python",
   "nbconvert_exporter": "python",
   "pygments_lexer": "ipython3",
   "version": "3.11.3"
  }
 },
 "nbformat": 4,
 "nbformat_minor": 5
}
