{
 "cells": [
  {
   "cell_type": "code",
   "execution_count": 4,
   "id": "4e9e6e69",
   "metadata": {},
   "outputs": [
    {
     "name": "stdout",
     "output_type": "stream",
     "text": [
      "False\n",
      "1\n",
      "4\n"
     ]
    }
   ],
   "source": [
    "a=1\n",
    "b=2\n",
    "c=3\n",
    "d=4\n",
    "print(True and False )\n",
    "print(a and a and a)\n",
    "print(a and b and c and d)"
   ]
  },
  {
   "cell_type": "code",
   "execution_count": 2,
   "id": "e3f47e8c",
   "metadata": {},
   "outputs": [
    {
     "name": "stdout",
     "output_type": "stream",
     "text": [
      "False\n"
     ]
    }
   ],
   "source": [
    "print(True and False )"
   ]
  },
  {
   "cell_type": "code",
   "execution_count": 11,
   "id": "a68aa05f",
   "metadata": {},
   "outputs": [
    {
     "name": "stdout",
     "output_type": "stream",
     "text": [
      "  Operator            Name Example    Try it\n",
      "0        +        Addition   x + y  Try it »\n",
      "1        -     Subtraction   x - y  Try it »\n",
      "2        *  Multiplication   x * y  Try it »\n",
      "3        /        Division   x / y  Try it »\n",
      "4        %         Modulus   x % y  Try it »\n",
      "5       **  Exponentiation  x ** y  Try it »\n",
      "6       //  Floor division  x // y  Try it »\n"
     ]
    }
   ],
   "source": [
    "import pandas as pd\n",
    "url = \"https://www.w3schools.com/python/python_operators.asp\"\n",
    "df_list= pd.read_html(url)\n",
    "\n",
    "df= df_list [0]\n",
    "\n",
    "print(df) \n"
   ]
  },
  {
   "cell_type": "code",
   "execution_count": 12,
   "id": "6b8fdfd8",
   "metadata": {},
   "outputs": [
    {
     "name": "stdout",
     "output_type": "stream",
     "text": [
      "   Operator  Example     Same As    Try it\n",
      "0         =    x = 5       x = 5  Try it »\n",
      "1        +=   x += 3   x = x + 3  Try it »\n",
      "2        -=   x -= 3   x = x - 3  Try it »\n",
      "3        *=   x *= 3   x = x * 3  Try it »\n",
      "4        /=   x /= 3   x = x / 3  Try it »\n",
      "5        %=   x %= 3   x = x % 3  Try it »\n",
      "6       //=  x //= 3  x = x // 3  Try it »\n",
      "7       **=  x **= 3  x = x ** 3  Try it »\n",
      "8        &=   x &= 3   x = x & 3  Try it »\n",
      "9        |=   x |= 3   x = x | 3  Try it »\n",
      "10       ^=   x ^= 3   x = x ^ 3  Try it »\n",
      "11      >>=  x >>= 3  x = x >> 3  Try it »\n",
      "12      <<=  x <<= 3  x = x << 3  Try it »\n"
     ]
    }
   ],
   "source": [
    "url = \"https://www.w3schools.com/python/python_operators.asp\"\n",
    "df_list= pd.read_html(url)\n",
    "\n",
    "df= df_list [1]\n",
    "\n",
    "print(df) "
   ]
  },
  {
   "cell_type": "code",
   "execution_count": 13,
   "id": "202bba4d",
   "metadata": {},
   "outputs": [
    {
     "name": "stdout",
     "output_type": "stream",
     "text": [
      "  Operator                      Name Example    Try it\n",
      "0       ==                     Equal  x == y  Try it »\n",
      "1       !=                 Not equal  x != y  Try it »\n",
      "2        >              Greater than   x > y  Try it »\n",
      "3        <                 Less than   x < y  Try it »\n",
      "4       >=  Greater than or equal to  x >= y  Try it »\n",
      "5       <=     Less than or equal to  x <= y  Try it »\n"
     ]
    }
   ],
   "source": [
    "url = \"https://www.w3schools.com/python/python_operators.asp\"\n",
    "df_list= pd.read_html(url)\n",
    "\n",
    "df= df_list [2]\n",
    "\n",
    "print(df) "
   ]
  },
  {
   "cell_type": "code",
   "execution_count": 14,
   "id": "f94035bf",
   "metadata": {},
   "outputs": [
    {
     "name": "stdout",
     "output_type": "stream",
     "text": [
      "  Operator                                        Description  \\\n",
      "0      and           Returns True if both statements are true   \n",
      "1       or      Returns True if one of the statements is true   \n",
      "2      not  Reverse the result, returns False if the resul...   \n",
      "\n",
      "                 Example    Try it  \n",
      "0       x < 5 and x < 10  Try it »  \n",
      "1         x < 5 or x < 4  Try it »  \n",
      "2  not(x < 5 and x < 10)  Try it »  \n"
     ]
    }
   ],
   "source": [
    "url = \"https://www.w3schools.com/python/python_operators.asp\"\n",
    "df_list= pd.read_html(url)\n",
    "\n",
    "df= df_list [3]\n",
    "\n",
    "print(df) "
   ]
  },
  {
   "cell_type": "code",
   "execution_count": 16,
   "id": "6be94962",
   "metadata": {},
   "outputs": [
    {
     "name": "stdout",
     "output_type": "stream",
     "text": [
      "  Operator                                        Description     Example  \\\n",
      "0       is  Returns True if both variables are the same ob...      x is y   \n",
      "1   is not  Returns True if both variables are not the sam...  x is not y   \n",
      "\n",
      "     Try it  \n",
      "0  Try it »  \n",
      "1  Try it »  \n"
     ]
    }
   ],
   "source": [
    "url = \"https://www.w3schools.com/python/python_operators.asp\"\n",
    "df_list= pd.read_html(url)\n",
    "\n",
    "df= df_list [4]\n",
    "\n",
    "print(df) "
   ]
  }
 ],
 "metadata": {
  "kernelspec": {
   "display_name": "Python 3 (ipykernel)",
   "language": "python",
   "name": "python3"
  },
  "language_info": {
   "codemirror_mode": {
    "name": "ipython",
    "version": 3
   },
   "file_extension": ".py",
   "mimetype": "text/x-python",
   "name": "python",
   "nbconvert_exporter": "python",
   "pygments_lexer": "ipython3",
   "version": "3.11.3"
  }
 },
 "nbformat": 4,
 "nbformat_minor": 5
}
