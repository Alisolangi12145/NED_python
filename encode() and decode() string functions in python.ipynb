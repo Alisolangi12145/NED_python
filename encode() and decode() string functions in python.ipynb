{
 "cells": [
  {
   "cell_type": "code",
   "execution_count": 11,
   "id": "9769e651",
   "metadata": {},
   "outputs": [
    {
     "name": "stdout",
     "output_type": "stream",
     "text": [
      "The string is python\n",
      "b'python'\n",
      "b'python'\n",
      "b'python'\n",
      "112\n",
      "97\n",
      "112\n",
      "121\n",
      "121\n"
     ]
    }
   ],
   "source": [
    "string1='python'\n",
    "print(\"The string is\",string1)\n",
    "\n",
    "str_utf = string1.encode()\n",
    "print(str_utf)\n",
    "\n",
    "str_utf = string1.encode('utf-8')\n",
    "print(str_utf)\n",
    "\n",
    "str_ascii=string1.encode('ascii')\n",
    "print(str_ascii)\n",
    "\n",
    "\n",
    "\n",
    "print(str_utf[0])\n",
    "\n",
    "print(ord('a'))\n",
    "print(ord('p'))\n",
    "print(str_utf[1])\n",
    "print(ord('y'))"
   ]
  },
  {
   "cell_type": "code",
   "execution_count": 12,
   "id": "34aaf23f",
   "metadata": {},
   "outputs": [
    {
     "name": "stdout",
     "output_type": "stream",
     "text": [
      "The encoded string in base64 format is : \n",
      "b'geeksforgeeks'\n",
      "The decoded string is : \n",
      "geeksforgeeks\n"
     ]
    }
   ],
   "source": [
    "# initializing string \n",
    "str = \"Alisolangi\"\n",
    "   \n",
    "# encoding string \n",
    "str_enc = str.encode(encoding='utf8')\n",
    "   \n",
    "# printing the encoded string\n",
    "print (\"The encoded string in base64 format is : \",)\n",
    "print (str_enc )\n",
    "   \n",
    "# printing the original decoded string \n",
    "print (\"The decoded string is : \",)\n",
    "print (str_enc.decode('utf8', 'strict'))"
   ]
  },
  {
   "cell_type": "code",
   "execution_count": null,
   "id": "8f60da73",
   "metadata": {},
   "outputs": [],
   "source": []
  }
 ],
 "metadata": {
  "kernelspec": {
   "display_name": "Python 3 (ipykernel)",
   "language": "python",
   "name": "python3"
  },
  "language_info": {
   "codemirror_mode": {
    "name": "ipython",
    "version": 3
   },
   "file_extension": ".py",
   "mimetype": "text/x-python",
   "name": "python",
   "nbconvert_exporter": "python",
   "pygments_lexer": "ipython3",
   "version": "3.11.3"
  }
 },
 "nbformat": 4,
 "nbformat_minor": 5
}
