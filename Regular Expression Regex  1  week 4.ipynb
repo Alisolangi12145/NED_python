{
 "cells": [
  {
   "cell_type": "markdown",
   "id": "42ea1e4d",
   "metadata": {},
   "source": [
    "# ''' We love our country! pakistan zindabad! '''\n",
    "\n",
    "# We have special character for special purpose\n",
    "\n",
    "* . anything axcept \\n\n",
    "* * zero or many\n",
    "* + one or many\n",
    "* ^ start\n",
    "* $ end"
   ]
  },
  {
   "cell_type": "code",
   "execution_count": 2,
   "id": "05a8acab",
   "metadata": {},
   "outputs": [],
   "source": [
    "import re"
   ]
  },
  {
   "cell_type": "code",
   "execution_count": 3,
   "id": "a6b4916d",
   "metadata": {},
   "outputs": [
    {
     "name": "stdout",
     "output_type": "stream",
     "text": [
      "['A', 'ASCII', 'DEBUG', 'DOTALL', 'I', 'IGNORECASE', 'L', 'LOCALE', 'M', 'MULTILINE', 'Match', 'NOFLAG', 'Pattern', 'RegexFlag', 'S', 'Scanner', 'T', 'TEMPLATE', 'U', 'UNICODE', 'VERBOSE', 'X', '_MAXCACHE', '__all__', '__builtins__', '__cached__', '__doc__', '__file__', '__loader__', '__name__', '__package__', '__path__', '__spec__', '__version__', '_cache', '_casefix', '_compile', '_compile_repl', '_compiler', '_constants', '_expand', '_parser', '_pickle', '_special_chars_map', '_subx', 'compile', 'copyreg', 'enum', 'error', 'escape', 'findall', 'finditer', 'fullmatch', 'functools', 'match', 'purge', 'search', 'split', 'sub', 'subn', 'template']\n"
     ]
    }
   ],
   "source": [
    "print(dir(re))"
   ]
  },
  {
   "cell_type": "code",
   "execution_count": 4,
   "id": "5a5b2833",
   "metadata": {},
   "outputs": [
    {
     "data": {
      "text/plain": [
       "['A',\n",
       " 'ASCII',\n",
       " 'DEBUG',\n",
       " 'DOTALL',\n",
       " 'I',\n",
       " 'IGNORECASE',\n",
       " 'L',\n",
       " 'LOCALE',\n",
       " 'M',\n",
       " 'MULTILINE',\n",
       " 'Match',\n",
       " 'NOFLAG',\n",
       " 'Pattern',\n",
       " 'RegexFlag',\n",
       " 'S',\n",
       " 'Scanner',\n",
       " 'T',\n",
       " 'TEMPLATE',\n",
       " 'U',\n",
       " 'UNICODE',\n",
       " 'VERBOSE',\n",
       " 'X',\n",
       " '_MAXCACHE',\n",
       " '_cache',\n",
       " '_casefix',\n",
       " '_compile',\n",
       " '_compile_repl',\n",
       " '_compiler',\n",
       " '_constants',\n",
       " '_expand',\n",
       " '_parser',\n",
       " '_pickle',\n",
       " '_special_chars_map',\n",
       " '_subx',\n",
       " 'compile',\n",
       " 'copyreg',\n",
       " 'enum',\n",
       " 'error',\n",
       " 'escape',\n",
       " 'findall',\n",
       " 'finditer',\n",
       " 'fullmatch',\n",
       " 'functools',\n",
       " 'match',\n",
       " 'purge',\n",
       " 'search',\n",
       " 'split',\n",
       " 'sub',\n",
       " 'subn',\n",
       " 'template']"
      ]
     },
     "execution_count": 4,
     "metadata": {},
     "output_type": "execute_result"
    }
   ],
   "source": [
    "# methods and attributes\n",
    "\n",
    "[i for i in dir(re)if \"__\" not in i]"
   ]
  },
  {
   "cell_type": "code",
   "execution_count": 8,
   "id": "59cd0c9d",
   "metadata": {},
   "outputs": [
    {
     "data": {
      "text/plain": [
       "['p']"
      ]
     },
     "execution_count": 8,
     "metadata": {},
     "output_type": "execute_result"
    }
   ],
   "source": [
    "text =\"We love our country! pakistan zindabad\"\n",
    "pattern = \"p\" # character sequence\n",
    "re.findall(pattern,text)"
   ]
  },
  {
   "cell_type": "code",
   "execution_count": 13,
   "id": "e53580ee",
   "metadata": {},
   "outputs": [
    {
     "data": {
      "text/plain": [
       "['pakistan']"
      ]
     },
     "execution_count": 13,
     "metadata": {},
     "output_type": "execute_result"
    }
   ],
   "source": [
    "text =\"\"\"We love our country! Pakistan zindabad! \n",
    "pakistan is the one of best country in the world\"\"\"\n",
    "\n",
    "pattern = \"pakistan\" # character sequence\n",
    "re.findall(pattern,text)"
   ]
  },
  {
   "cell_type": "code",
   "execution_count": 17,
   "id": "c3402170",
   "metadata": {},
   "outputs": [
    {
     "data": {
      "text/plain": [
       "'We love our country! Pakistan zindabad! \\npakistan is the one of best country in the world'"
      ]
     },
     "metadata": {},
     "output_type": "display_data"
    },
    {
     "data": {
      "text/plain": [
       "['Pakistan', 'pakistan']"
      ]
     },
     "execution_count": 17,
     "metadata": {},
     "output_type": "execute_result"
    }
   ],
   "source": [
    "text =\"\"\"We love our country! Pakistan zindabad! \n",
    "pakistan is the one of best country in the world\"\"\"\n",
    "\n",
    "\n",
    "display(text)\n",
    "\n",
    "pattern = \"pakistan\" # character sequence\n",
    "re.findall(pattern,text, re.IGNORECASE)"
   ]
  },
  {
   "cell_type": "markdown",
   "id": "f7e9475a",
   "metadata": {},
   "source": [
    "# . anything axcept \\n\n",
    "# + one or many\n",
    "# * zero or many\n",
    "# ^ start line with\n",
    "# $ ending line"
   ]
  },
  {
   "cell_type": "code",
   "execution_count": 19,
   "id": "00603f2c",
   "metadata": {
    "scrolled": true
   },
   "outputs": [
    {
     "data": {
      "text/plain": [
       "'We love our country! Pakistan zindabad! \\npakistan is the one of best country in the world'"
      ]
     },
     "metadata": {},
     "output_type": "display_data"
    },
    {
     "data": {
      "text/plain": [
       "['W',\n",
       " 'e',\n",
       " ' ',\n",
       " 'l',\n",
       " 'o',\n",
       " 'v',\n",
       " 'e',\n",
       " ' ',\n",
       " 'o',\n",
       " 'u',\n",
       " 'r',\n",
       " ' ',\n",
       " 'c',\n",
       " 'o',\n",
       " 'u',\n",
       " 'n',\n",
       " 't',\n",
       " 'r',\n",
       " 'y',\n",
       " '!',\n",
       " ' ',\n",
       " 'P',\n",
       " 'a',\n",
       " 'k',\n",
       " 'i',\n",
       " 's',\n",
       " 't',\n",
       " 'a',\n",
       " 'n',\n",
       " ' ',\n",
       " 'z',\n",
       " 'i',\n",
       " 'n',\n",
       " 'd',\n",
       " 'a',\n",
       " 'b',\n",
       " 'a',\n",
       " 'd',\n",
       " '!',\n",
       " ' ',\n",
       " 'p',\n",
       " 'a',\n",
       " 'k',\n",
       " 'i',\n",
       " 's',\n",
       " 't',\n",
       " 'a',\n",
       " 'n',\n",
       " ' ',\n",
       " 'i',\n",
       " 's',\n",
       " ' ',\n",
       " 't',\n",
       " 'h',\n",
       " 'e',\n",
       " ' ',\n",
       " 'o',\n",
       " 'n',\n",
       " 'e',\n",
       " ' ',\n",
       " 'o',\n",
       " 'f',\n",
       " ' ',\n",
       " 'b',\n",
       " 'e',\n",
       " 's',\n",
       " 't',\n",
       " ' ',\n",
       " 'c',\n",
       " 'o',\n",
       " 'u',\n",
       " 'n',\n",
       " 't',\n",
       " 'r',\n",
       " 'y',\n",
       " ' ',\n",
       " 'i',\n",
       " 'n',\n",
       " ' ',\n",
       " 't',\n",
       " 'h',\n",
       " 'e',\n",
       " ' ',\n",
       " 'w',\n",
       " 'o',\n",
       " 'r',\n",
       " 'l',\n",
       " 'd']"
      ]
     },
     "execution_count": 19,
     "metadata": {},
     "output_type": "execute_result"
    }
   ],
   "source": [
    "text =\"\"\"We love our country! Pakistan zindabad! \n",
    "pakistan is the one of best country in the world\"\"\"\n",
    "\n",
    "\n",
    "display(text)\n",
    "\n",
    "pattern = \".\" # character sequence\n",
    "re.findall(pattern,text, re.IGNORECASE)"
   ]
  },
  {
   "cell_type": "code",
   "execution_count": 16,
   "id": "e5250c28",
   "metadata": {},
   "outputs": [
    {
     "name": "stdout",
     "output_type": "stream",
     "text": [
      "['pak', 'pak']\n"
     ]
    }
   ],
   "source": [
    "text =\"\"\"\n",
    "pakistan zindabad\n",
    "pakab ierfhfsdihfsd sdhfskfhss\n",
    "\"\"\"\n",
    "\n",
    "\n",
    "pattern =\"p.k\"\n",
    "\n",
    "#multiline\n",
    "l =re.findall(pattern,text,re.M)\n",
    "\n",
    "print(l)"
   ]
  },
  {
   "cell_type": "markdown",
   "id": "ad334621",
   "metadata": {},
   "source": [
    "# Word boundry concept\n",
    "* \\b \\b"
   ]
  },
  {
   "cell_type": "code",
   "execution_count": 23,
   "id": "387195eb",
   "metadata": {},
   "outputs": [
    {
     "name": "stdout",
     "output_type": "stream",
     "text": [
      "['pakistan', 'pakdfudhdhn']\n"
     ]
    }
   ],
   "source": [
    "# for the word used\n",
    "\n",
    "text =\"\"\"\n",
    "pakistan zindabad\n",
    "pakab ierfhfsdihfsd sdhfskfhss\n",
    "pakdfudhdhn\n",
    "\"\"\"\n",
    "\n",
    "\n",
    "pattern =r\"\\bp.*n\\b\"\n",
    "\n",
    "#multiline\n",
    "l =re.findall(pattern,text,re.M)\n",
    "\n",
    "print(l)"
   ]
  },
  {
   "cell_type": "code",
   "execution_count": 17,
   "id": "d5e1b876",
   "metadata": {},
   "outputs": [
    {
     "name": "stdout",
     "output_type": "stream",
     "text": [
      "['pak', 'pakab ierfhfsdihfsd sdhfsk']\n"
     ]
    }
   ],
   "source": [
    "text =\"\"\"\n",
    "pakistan zindabad\n",
    "pakab ierfhfsdihfsd sdhfskfhss\n",
    "\"\"\"\n",
    "\n",
    "\n",
    "pattern =\"p.*k\"\n",
    "\n",
    "#multiline\n",
    "l =re.findall(pattern,text,re.M)\n",
    "\n",
    "print(l)"
   ]
  },
  {
   "cell_type": "code",
   "execution_count": 25,
   "id": "a1ab6d0a",
   "metadata": {},
   "outputs": [
    {
     "data": {
      "text/plain": [
       "'We love our country! Pakistan zindabad! \\npakistan is the one of best country in the world'"
      ]
     },
     "metadata": {},
     "output_type": "display_data"
    },
    {
     "data": {
      "text/plain": [
       "['We l',\n",
       " 'ove ',\n",
       " 'our ',\n",
       " 'coun',\n",
       " 'try!',\n",
       " ' Pak',\n",
       " 'ista',\n",
       " 'n zi',\n",
       " 'ndab',\n",
       " 'ad! ',\n",
       " 'paki',\n",
       " 'stan',\n",
       " ' is ',\n",
       " 'the ',\n",
       " 'one ',\n",
       " 'of b',\n",
       " 'est ',\n",
       " 'coun',\n",
       " 'try ',\n",
       " 'in t',\n",
       " 'he w',\n",
       " 'orld']"
      ]
     },
     "execution_count": 25,
     "metadata": {},
     "output_type": "execute_result"
    }
   ],
   "source": [
    "text =\"\"\"We love our country! Pakistan zindabad! \n",
    "pakistan is the one of best country in the world\"\"\"\n",
    "\n",
    "\n",
    "display(text)\n",
    "\n",
    "pattern = \"....\" # character sequence\n",
    "re.findall(pattern,text, re.IGNORECASE)"
   ]
  },
  {
   "cell_type": "code",
   "execution_count": 26,
   "id": "92986437",
   "metadata": {},
   "outputs": [
    {
     "data": {
      "text/plain": [
       "'We love our country! Pakistan zindabad! \\npakistan is the one of best country in the world'"
      ]
     },
     "metadata": {},
     "output_type": "display_data"
    },
    {
     "data": {
      "text/plain": [
       "['We love our country! Pakistan zindabad! ',\n",
       " 'pakistan is the one of best country in the world']"
      ]
     },
     "execution_count": 26,
     "metadata": {},
     "output_type": "execute_result"
    }
   ],
   "source": [
    "text =\"\"\"We love our country! Pakistan zindabad! \n",
    "pakistan is the one of best country in the world\"\"\"\n",
    "\n",
    "\n",
    "display(text)\n",
    "\n",
    "pattern = \".+\" # character sequence\n",
    "re.findall(pattern,text, re.IGNORECASE)"
   ]
  },
  {
   "cell_type": "code",
   "execution_count": 31,
   "id": "792dab76",
   "metadata": {},
   "outputs": [
    {
     "data": {
      "text/plain": [
       "'We love our country! Pakistan zindabad! \\npakistan is the one of best country in the world\\nHello World\\nI am living in pakistan'"
      ]
     },
     "metadata": {},
     "output_type": "display_data"
    },
    {
     "data": {
      "text/plain": [
       "['We love our country! Pakistan zindabad! ',\n",
       " 'pakistan is the one of best country in the world',\n",
       " 'Hello World',\n",
       " 'I am living in pakistan']"
      ]
     },
     "execution_count": 31,
     "metadata": {},
     "output_type": "execute_result"
    }
   ],
   "source": [
    "text =\"\"\"We love our country! Pakistan zindabad! \n",
    "pakistan is the one of best country in the world\n",
    "Hello World\n",
    "I am living in pakistan\"\"\"\n",
    "\n",
    "\n",
    "display(text)\n",
    "\n",
    "# + mean pick the pattern which written before \"+\"\n",
    "\n",
    "pattern = \".+\" # character sequence\n",
    "re.findall(pattern,text, re.IGNORECASE)"
   ]
  },
  {
   "cell_type": "code",
   "execution_count": 28,
   "id": "69d7d60c",
   "metadata": {},
   "outputs": [
    {
     "data": {
      "text/plain": [
       "'We love our country! Pakistan zindabad! \\npakistan is the one of best country in the world\\nHello World'"
      ]
     },
     "metadata": {},
     "output_type": "display_data"
    },
    {
     "data": {
      "text/plain": [
       "['country! Pakistan zindabad! ', 'country in the world']"
      ]
     },
     "execution_count": 28,
     "metadata": {},
     "output_type": "execute_result"
    }
   ],
   "source": [
    "text =\"\"\"We love our country! Pakistan zindabad! \n",
    "pakistan is the one of best country in the world\n",
    "Hello World\"\"\"\n",
    "\n",
    "\n",
    "display(text)\n",
    "\n",
    "# + mean pick the pattern which written before \"+\"\n",
    "\n",
    "pattern = \"c.+\" # character sequence\n",
    "re.findall(pattern,text, re.IGNORECASE)"
   ]
  },
  {
   "cell_type": "code",
   "execution_count": 30,
   "id": "9d2411c9",
   "metadata": {},
   "outputs": [
    {
     "data": {
      "text/plain": [
       "'We love our country! canada zindabad! \\npakistan is the one of best country in the world\\nHello World\\nI am living in pakistan'"
      ]
     },
     "metadata": {},
     "output_type": "display_data"
    },
    {
     "data": {
      "text/plain": [
       "['country! canada zindabad! ', 'country in the world']"
      ]
     },
     "execution_count": 30,
     "metadata": {},
     "output_type": "execute_result"
    }
   ],
   "source": [
    "text =\"\"\"We love our country! canada zindabad! \n",
    "pakistan is the one of best country in the world\n",
    "Hello World\n",
    "I am living in pakistan\n",
    "\n",
    "Lorem ipsum dolor sit amet, consectetur adipiscing elit.\n",
    "Suspendisse quis massa euismod metus pretium consequat ut sit amet erat.\n",
    "Vestibulum dapibus erat vel dui vulputate, vel auctor elit blandit!\n",
    "\n",
    "\"\"\"\n",
    "\n",
    "\n",
    "display(text)\n",
    "\n",
    "# + mean pick the pattern which written before \"+\"\n",
    "\n",
    "pattern = \"c.+\" # character sequence\n",
    "re.findall(pattern,text, re.IGNORECASE)"
   ]
  },
  {
   "cell_type": "code",
   "execution_count": 38,
   "id": "a1a06243",
   "metadata": {},
   "outputs": [
    {
     "data": {
      "text/plain": [
       "'We love our country! pakistan zindabad!\\npakistan is the one of best country in the world!\\nHello World\\nI am living in pakistan\\n\\nLorem ipsum dolor sit amet, consectetur adipiscing elit.!\\nSuspendisse quis massa euismod metus pretium consequat ut sit amet erat.\\nVestibulum dapibus erat vel dui vulputate, vel auctor elit blandit!\\n\\n'"
      ]
     },
     "metadata": {},
     "output_type": "display_data"
    },
    {
     "data": {
      "text/plain": [
       "['We love our country! pakistan zindabad!',\n",
       " 'pakistan is the one of best country in the world!',\n",
       " 'Lorem ipsum dolor sit amet, consectetur adipiscing elit.!',\n",
       " 'Vestibulum dapibus erat vel dui vulputate, vel auctor elit blandit!']"
      ]
     },
     "execution_count": 38,
     "metadata": {},
     "output_type": "execute_result"
    }
   ],
   "source": [
    "text =\"\"\"We love our country! pakistan zindabad!\n",
    "pakistan is the one of best country in the world!\n",
    "Hello World\n",
    "I am living in pakistan\n",
    "\n",
    "Lorem ipsum dolor sit amet, consectetur adipiscing elit.!\n",
    "Suspendisse quis massa euismod metus pretium consequat ut sit amet erat.\n",
    "Vestibulum dapibus erat vel dui vulputate, vel auctor elit blandit!\n",
    "\n",
    "\"\"\"\n",
    "\n",
    "\n",
    "display(text)\n",
    "\n",
    "# + mean pick the pattern which written before \"+\"\n",
    "\n",
    "pattern = \".+!$\" # character sequence\n",
    "re.findall(pattern,text, re.MULTILINE)"
   ]
  },
  {
   "cell_type": "code",
   "execution_count": 43,
   "id": "32c76f4f",
   "metadata": {},
   "outputs": [
    {
     "data": {
      "text/plain": [
       "'We love our country! pakistan zindabad!\\npakistan is the one of best country in the world!\\nHello World\\nI am living in pakistan\\n\\nLorem ipsum dolor sit amet, consectetur adipiscing elit.!\\nSuspendisse quis massa euismod metus pretium consequat ut sit amet erat.\\nVestibulum dapibus erat vel dui vulputate, vel auctor elit blandit\\n\\n'"
      ]
     },
     "metadata": {},
     "output_type": "display_data"
    },
    {
     "data": {
      "text/plain": [
       "['Vestibulum dapibus erat vel dui vulputate, vel auctor elit blandit']"
      ]
     },
     "execution_count": 43,
     "metadata": {},
     "output_type": "execute_result"
    }
   ],
   "source": [
    "text =\"\"\"We love our country! pakistan zindabad!\n",
    "pakistan is the one of best country in the world!\n",
    "Hello World\n",
    "I am living in pakistan\n",
    "\n",
    "Lorem ipsum dolor sit amet, consectetur adipiscing elit.!\n",
    "Suspendisse quis massa euismod metus pretium consequat ut sit amet erat.\n",
    "Vestibulum dapibus erat vel dui vulputate, vel auctor elit blandit\n",
    "\n",
    "\"\"\"\n",
    "\n",
    "\n",
    "display(text)\n",
    "\n",
    "# + mean pick the pattern which written before \"+\"\n",
    "\n",
    "pattern = \".+t$\" # character sequence\n",
    "re.findall(pattern,text, re.MULTILINE)"
   ]
  },
  {
   "cell_type": "code",
   "execution_count": 49,
   "id": "0b1fd4ca",
   "metadata": {},
   "outputs": [
    {
     "data": {
      "text/plain": [
       "'We love our country! pakistan zindabad!\\npakistan is the one of best country in the world!\\nHello World\\nI am living in pakistan\\n\\nLorem ipsum dolor sit amet, consectetur adipiscing elit.!\\nSuspendisse quis massa euismod metus pretium consequat ut sit amet erat.\\nVestibulum dapibus erat vel dui vulputate, vel auctor elit blandit\\n\\n'"
      ]
     },
     "metadata": {},
     "output_type": "display_data"
    },
    {
     "data": {
      "text/plain": [
       "['We love our country! pakistan zindabad!',\n",
       " 'pakistan is the one of best country in the world!',\n",
       " 'Lorem ipsum dolor sit amet, consectetur adipiscing elit.!']"
      ]
     },
     "execution_count": 49,
     "metadata": {},
     "output_type": "execute_result"
    }
   ],
   "source": [
    "text =\"\"\"We love our country! pakistan zindabad!\n",
    "pakistan is the one of best country in the world!\n",
    "Hello World\n",
    "I am living in pakistan\n",
    "\n",
    "Lorem ipsum dolor sit amet, consectetur adipiscing elit.!\n",
    "Suspendisse quis massa euismod metus pretium consequat ut sit amet erat.\n",
    "Vestibulum dapibus erat vel dui vulputate, vel auctor elit blandit\n",
    "\n",
    "\"\"\"\n",
    "\n",
    "\n",
    "\n",
    "display(text)\n",
    "\n",
    "# + mean pick the pattern which written before \"+\"\n",
    "\n",
    "pattern = \".+!$\" # character sequence\n",
    "re.findall(pattern,text, re.MULTILINE)"
   ]
  },
  {
   "cell_type": "markdown",
   "id": "6b156d4b",
   "metadata": {},
   "source": [
    "# convert any special character into any normal character place \\ before special character\n",
    "# \\"
   ]
  },
  {
   "cell_type": "code",
   "execution_count": 47,
   "id": "5afa01be",
   "metadata": {},
   "outputs": [
    {
     "data": {
      "text/plain": [
       "'We love our country! pakistan zindabad!\\npakistan is the one of best country in the world!\\nHello World\\nI am living in pakistan\\n\\nLorem ipsum dolor sit amet, consectetur adipiscing elit.!\\nSuspendisse quis massa euismod metus pretium consequat ut sit amet erat.\\nVestibulum dapibus erat vel dui vulputate, vel auctor elit blandit.\\n\\n'"
      ]
     },
     "metadata": {},
     "output_type": "display_data"
    },
    {
     "data": {
      "text/plain": [
       "['Suspendisse quis massa euismod metus pretium consequat ut sit amet erat.',\n",
       " 'Vestibulum dapibus erat vel dui vulputate, vel auctor elit blandit.']"
      ]
     },
     "execution_count": 47,
     "metadata": {},
     "output_type": "execute_result"
    }
   ],
   "source": [
    "text =\"\"\"We love our country! pakistan zindabad!\n",
    "pakistan is the one of best country in the world!\n",
    "Hello World\n",
    "I am living in pakistan\n",
    "\n",
    "Lorem ipsum dolor sit amet, consectetur adipiscing elit.!\n",
    "Suspendisse quis massa euismod metus pretium consequat ut sit amet erat.\n",
    "Vestibulum dapibus erat vel dui vulputate, vel auctor elit blandit.\n",
    "\n",
    "\"\"\"\n",
    "\n",
    "display(text)\n",
    "\n",
    "\n",
    "pattern = \".+\\.$\" # character sequence\n",
    "re.findall(pattern,text, re.MULTILINE)"
   ]
  },
  {
   "cell_type": "code",
   "execution_count": 50,
   "id": "74ddb69d",
   "metadata": {},
   "outputs": [
    {
     "data": {
      "text/plain": [
       "'We love our country! pakistan zindabad!\\npakistan is the one of best country in the world!\\nHello World\\nI am living in pakistan\\n\\nLorem ipsum dolor sit amet, consectetur adipiscing elit.!\\nSuspendisse quis massa euismod metus pretium consequat ut sit amet erat.\\nVestibulum dapibus erat vel dui vulputate, vel auctor elit blandit.\\n\\n'"
      ]
     },
     "metadata": {},
     "output_type": "display_data"
    },
    {
     "data": {
      "text/plain": [
       "['We love our country! pakistan zindabad!',\n",
       " 'pakistan is the one of best country in the world!',\n",
       " 'Lorem ipsum dolor sit amet, consectetur adipiscing elit.!']"
      ]
     },
     "execution_count": 50,
     "metadata": {},
     "output_type": "execute_result"
    }
   ],
   "source": [
    "text =\"\"\"We love our country! pakistan zindabad!\n",
    "pakistan is the one of best country in the world!\n",
    "Hello World\n",
    "I am living in pakistan\n",
    "\n",
    "Lorem ipsum dolor sit amet, consectetur adipiscing elit.!\n",
    "Suspendisse quis massa euismod metus pretium consequat ut sit amet erat.\n",
    "Vestibulum dapibus erat vel dui vulputate, vel auctor elit blandit.\n",
    "\n",
    "\"\"\"\n",
    "\n",
    "display(text)\n",
    "\n",
    "\n",
    "pattern = \".*!$\" # character sequence\n",
    "re.findall(pattern,text, re.MULTILINE)"
   ]
  },
  {
   "cell_type": "code",
   "execution_count": 51,
   "id": "2b119399",
   "metadata": {},
   "outputs": [
    {
     "data": {
      "text/plain": [
       "'We love our country! pakistan zindabad!\\npakistan is the one of best country in the world!\\nHello World\\nI am living in pakistan\\n\\nLorem ipsum dolor sit amet, consectetur adipiscing elit.!\\nSuspendisse quis massa euismod metus pretium consequat ut sit amet erat.\\nVestibulum dapibus erat vel dui vulputate, vel auctor elit blandit.\\n\\n'"
      ]
     },
     "metadata": {},
     "output_type": "display_data"
    },
    {
     "data": {
      "text/plain": [
       "['We love our country! pakistan zindabad!',\n",
       " 'pakistan is the one of best country in the world!',\n",
       " 'Lorem ipsum dolor sit amet, consectetur adipiscing elit.!']"
      ]
     },
     "execution_count": 51,
     "metadata": {},
     "output_type": "execute_result"
    }
   ],
   "source": [
    "text =\"\"\"We love our country! pakistan zindabad!\n",
    "pakistan is the one of best country in the world!\n",
    "Hello World\n",
    "I am living in pakistan\n",
    "\n",
    "Lorem ipsum dolor sit amet, consectetur adipiscing elit.!\n",
    "Suspendisse quis massa euismod metus pretium consequat ut sit amet erat.\n",
    "Vestibulum dapibus erat vel dui vulputate, vel auctor elit blandit.\n",
    "Lorem ipsum dolor sit amet, consectetur adipiscing elit.\n",
    "Suspendisse quis massa euismod metus pretium consequat ut sit amet erat.\n",
    "Vestibulum dapibus erat vel dui vulputate, vel auctor elit blandit.\n",
    "Vestibulum ut sapien sollicitudin, accumsan ligula at, tristique ante.\n",
    "Fusce vitae dolor non augue vehicula accumsan.\n",
    "Sed tempor ante ac egestas viverra.\n",
    "\"\"\"\n",
    "\n",
    "display(text)\n",
    "\n",
    "\n",
    "pattern = \".*!$\" # character sequence\n",
    "re.findall(pattern,text, re.M)+re.findall(pattern,text, re.I)"
   ]
  },
  {
   "cell_type": "markdown",
   "id": "b2fcb067",
   "metadata": {},
   "source": [
    "# Start and end\n",
    "* start = ^\n",
    "* end = $"
   ]
  },
  {
   "cell_type": "code",
   "execution_count": 59,
   "id": "0faf87e1",
   "metadata": {},
   "outputs": [
    {
     "data": {
      "text/plain": [
       "'we love our country! pakistan zindabad!\\npakistan is the one of best country in the world!\\nhello world\\ni am living in pakistan\\nplorem ipsum dolor sit amet, consectetur adipiscing elit.!\\nsuspendisse quis massa euismod metus pretium consequat ut sit amet erat.\\nvestibulum dapibus erat vel dui vulputate, vel auctor elit blandit.\\nlorem ipsum dolor sit amet, consectetur adipiscing elit.\\nsuspendisse quis massa euismod metus pretium consequat ut sit amet erat.\\nvestibulum dapibus erat vel dui vulputate, vel auctor elit blandit.\\nvestibulum ut sapien sollicitudin, accumsan ligula at, tristique ante.\\nfusce vitae dolor non augue vehicula accumsan.\\nsed tempor ante ac egestas viverra.\\n'"
      ]
     },
     "metadata": {},
     "output_type": "display_data"
    },
    {
     "data": {
      "text/plain": [
       "['pakistan is the one of best country in the world!',\n",
       " 'plorem ipsum dolor sit amet, consectetur adipiscing elit.!']"
      ]
     },
     "execution_count": 59,
     "metadata": {},
     "output_type": "execute_result"
    }
   ],
   "source": [
    "text =\"\"\"We love our country! pakistan zindabad!\n",
    "pakistan is the one of best country in the world!\n",
    "Hello World\n",
    "I am living in pakistan\n",
    "PLorem ipsum dolor sit amet, consectetur adipiscing elit.!\n",
    "Suspendisse quis massa euismod metus pretium consequat ut sit amet erat.\n",
    "Vestibulum dapibus erat vel dui vulputate, vel auctor elit blandit.\n",
    "Lorem ipsum dolor sit amet, consectetur adipiscing elit.\n",
    "Suspendisse quis massa euismod metus pretium consequat ut sit amet erat.\n",
    "Vestibulum dapibus erat vel dui vulputate, vel auctor elit blandit.\n",
    "Vestibulum ut sapien sollicitudin, accumsan ligula at, tristique ante.\n",
    "Fusce vitae dolor non augue vehicula accumsan.\n",
    "Sed tempor ante ac egestas viverra.\n",
    "\"\"\"\n",
    "\n",
    "\n",
    "text=text.lower()\n",
    "\n",
    "display(text)\n",
    "\n",
    "\n",
    "pattern = \"^p.*!$\" # character sequence\n",
    "re.findall(pattern,text, re.M)"
   ]
  },
  {
   "cell_type": "code",
   "execution_count": 65,
   "id": "8e4b5f1b",
   "metadata": {},
   "outputs": [
    {
     "name": "stdout",
     "output_type": "stream",
     "text": [
      "['Pakistan is the one of best country in the world!', 'Plorem ipsum dolor sit amet, consectetur adipiscing elit.!']\n"
     ]
    }
   ],
   "source": [
    "text =\"\"\"We love our country! pakistan zindabad!\n",
    "pakistan is the one of best country in the world!\n",
    "Hello World\n",
    "I am living in pakistan\n",
    "PLorem ipsum dolor sit amet, consectetur adipiscing elit.!\n",
    "Suspendisse quis massa euismod metus pretium consequat ut sit amet erat.\n",
    "Vestibulum dapibus erat vel dui vulputate, vel auctor elit blandit.\n",
    "Lorem ipsum dolor sit amet, consectetur adipiscing elit.\n",
    "Suspendisse quis massa euismod metus pretium consequat ut sit amet erat.\n",
    "Vestibulum dapibus erat vel dui vulputate, vel auctor elit blandit.\n",
    "Vestibulum ut sapien sollicitudin, accumsan ligula at, tristique ante.\n",
    "Fusce vitae dolor non augue vehicula accumsan.\n",
    "Sed tempor ante ac egestas viverra.\n",
    "\"\"\"\n",
    "\n",
    "\n",
    "text=text.lower()\n",
    "\n",
    "# display(text)\n",
    "\n",
    "\n",
    "pattern = \"^p.*!$\" # character sequence\n",
    "l=re.findall(pattern,text, re.M)\n",
    "l =[i.capitalize() for i in l]\n",
    "print(l)\n",
    "\n"
   ]
  },
  {
   "cell_type": "code",
   "execution_count": 68,
   "id": "740330c2",
   "metadata": {},
   "outputs": [
    {
     "name": "stdout",
     "output_type": "stream",
     "text": [
      "['c', 'a', 'a', 'aba', 'a', 'a', 'b', 'c', 'a', 'a', 'a']\n"
     ]
    }
   ],
   "source": [
    "text =\"\"\"We love our country! pakistan zindabad!\n",
    "pakistan is the one of best country in the world!\n",
    "Hello World\n",
    "I am living in pakistan\"\"\"\n",
    "\n",
    "\n",
    "pattern =\"[abc]+\"\n",
    "\n",
    "l =re.findall(pattern,text,)\n",
    "\n",
    "print(l)\n"
   ]
  },
  {
   "cell_type": "code",
   "execution_count": 71,
   "id": "007cd4fa",
   "metadata": {},
   "outputs": [
    {
     "name": "stdout",
     "output_type": "stream",
     "text": [
      "['pak', 'a', 'a', 'a', 'pak', 'a', 'a', 'pak', 'a']\n"
     ]
    }
   ],
   "source": [
    "text =\"\"\"We love our country! pakistan zindabad!\n",
    "pakistan is the one of best country in the world!\n",
    "Hello World\n",
    "I am living in pakistan\"\"\"\n",
    "\n",
    "\n",
    "pattern =\"[pak]+\"\n",
    "\n",
    "l =re.findall(pattern,text,)\n",
    "\n",
    "print(l)"
   ]
  },
  {
   "cell_type": "code",
   "execution_count": 3,
   "id": "e40f424e",
   "metadata": {},
   "outputs": [
    {
     "name": "stdout",
     "output_type": "stream",
     "text": [
      "['pakistan zindabad!', 'pakistan is the one of best country in the world!', 'am living in pakistan']\n"
     ]
    }
   ],
   "source": [
    "text =\"\"\"We love our country! pakistan zindabad!\n",
    "pakistan is the one of best country in the world!\n",
    "Hello World\n",
    "I am living in pakistan\"\"\"\n",
    "\n",
    "\n",
    "pattern =\"[pak].+\"\n",
    "\n",
    "l =re.findall(pattern,text,)\n",
    "\n",
    "print(l)\n"
   ]
  },
  {
   "cell_type": "code",
   "execution_count": 7,
   "id": "cf7c454f",
   "metadata": {},
   "outputs": [
    {
     "name": "stdout",
     "output_type": "stream",
     "text": [
      "['We love our country! pakistan zindabad!']\n"
     ]
    }
   ],
   "source": [
    "text =\"\"\"We love our country! pakistan zindabad!\n",
    "pakistan is the one of best country in the world!\n",
    "Hello World\n",
    "I am living in pakistan\n",
    "hello world\"\"\"\n",
    "\n",
    "\n",
    "pattern =\"^[hwHW].+\"\n",
    "\n",
    "l =re.findall(pattern,text) #single line\n",
    "\n",
    "print(l)"
   ]
  },
  {
   "cell_type": "code",
   "execution_count": 9,
   "id": "957b8be8",
   "metadata": {},
   "outputs": [
    {
     "name": "stdout",
     "output_type": "stream",
     "text": [
      "['We love our country! pakistan zindabad!', 'Hello World', 'how is weather in pakistan']\n"
     ]
    }
   ],
   "source": [
    "text =\"\"\"We love our country! pakistan zindabad!\n",
    "pakistan is the one of best country in the world!\n",
    "Hello World\n",
    "I am living in pakistan\n",
    "how is weather in pakistan\"\"\"\n",
    "\n",
    "\n",
    "pattern =\"^[hwHW].+\"\n",
    "\n",
    "l =re.findall(pattern,text,re.M) #multiline\n",
    "\n",
    "print(l)"
   ]
  },
  {
   "cell_type": "code",
   "execution_count": 13,
   "id": "40d39acd",
   "metadata": {},
   "outputs": [
    {
     "name": "stdout",
     "output_type": "stream",
     "text": [
      "['We love our country! pakistan zindabad!', 'Hello World', 'I am living in pakistan', 'how is weather in pakistan']\n"
     ]
    }
   ],
   "source": [
    "text =\"\"\"We love our country! pakistan zindabad!\n",
    "pakistan is the one of best country in the world!\n",
    "Hello World\n",
    "I am living in pakistan\n",
    "how is weather in pakistan\"\"\"\n",
    "\n",
    "\n",
    "# this patterns is used for individual for 1 character\n",
    "pattern =\"^[hwHWI].+\"\n",
    "\n",
    "l =re.findall(pattern,text,re.M) #multiline\n",
    "\n",
    "print(l)"
   ]
  },
  {
   "cell_type": "code",
   "execution_count": 11,
   "id": "66f1d108",
   "metadata": {},
   "outputs": [
    {
     "name": "stdout",
     "output_type": "stream",
     "text": [
      "['We love our country! pakistan zindabad!', 'Hello World']\n"
     ]
    }
   ],
   "source": [
    "# two patterns are used here \n",
    "\n",
    "\n",
    "text =\"\"\"We love our country! pakistan zindabad!\n",
    "pakistan is the one of best country in the world!\n",
    "Hello World\n",
    "I am living in pakistan\n",
    "how is weather in pakistan\"\"\"\n",
    "\n",
    "pattern =\"^We.+\"\n",
    "\n",
    "#multiline\n",
    "l =re.findall(pattern,text,re.M) + re.findall(\"^He.*\",text,re.M)\n",
    "\n",
    "print(l)"
   ]
  },
  {
   "cell_type": "code",
   "execution_count": 71,
   "id": "478fdba0",
   "metadata": {},
   "outputs": [
    {
     "name": "stdout",
     "output_type": "stream",
     "text": [
      "['pakistan', 'Pakistan', 'pakistan', 'pakistan']\n"
     ]
    }
   ],
   "source": [
    "text =\"\"\"We love our country! pakistan zindabad!\n",
    "Pakistan is the one of best country in the world!\n",
    "Hello World\n",
    "I am living in pakistan\n",
    "how is weather in pakistan\"\"\"\n",
    "\n",
    "pattern =r\"p[A-z]+n\"\n",
    "\n",
    "#multiline\n",
    "l =re.findall(pattern,text,re.M | re.I)\n",
    "\n",
    "print(l)"
   ]
  },
  {
   "cell_type": "code",
   "execution_count": 12,
   "id": "52b8b027",
   "metadata": {},
   "outputs": [
    {
     "name": "stdout",
     "output_type": "stream",
     "text": [
      "['We love our country! pakistan zindabad!', 'Hello World']\n"
     ]
    }
   ],
   "source": [
    "# two patterns are used here \n",
    "\n",
    "\n",
    "text =\"\"\"We love our country! pakistan zindabad!\n",
    "pakistan is the one of best country in the world!\n",
    "Hello World\n",
    "I am living in pakistan\n",
    "how is weather in pakistan\"\"\"\n",
    "\n",
    "# this pattern is used for word or two characters\n",
    "pattern =\"^We love.+\"\n",
    "\n",
    "#multiline\n",
    "l =re.findall(pattern,text,re.M) + re.findall(\"^He.*\",text,re.M)\n",
    "\n",
    "print(l)"
   ]
  },
  {
   "cell_type": "markdown",
   "id": "e786c406",
   "metadata": {},
   "source": [
    "# Range group of characters"
   ]
  },
  {
   "cell_type": "code",
   "execution_count": 30,
   "id": "eec81370",
   "metadata": {},
   "outputs": [
    {
     "name": "stdout",
     "output_type": "stream",
     "text": [
      "[' love', ' our', ' country', ' pakistan', ' zindabad', ' is', ' the', ' one', ' of', ' best', ' country', ' in', ' the', ' world', ' World', ' am', ' living', ' in', ' pakistan', ' is', ' weather', ' in', ' pakistan', ' ajsjdkdhjdhdhdjdhjdhjd']\n"
     ]
    }
   ],
   "source": [
    "text =\"\"\"We love our country! pakistan zindabad!\n",
    "pakistan is the one of best country in the world!\n",
    "Hello World\n",
    "I am living in pakistan\n",
    "how is weather in pakistan\n",
    "RS. 277\n",
    " ajsjdkdhjdhdhdjdhjdhjd 702\n",
    "\"\"\"\n",
    "\n",
    "\n",
    "# pattern =r\" [0123456789]+\"\n",
    "\n",
    "# pattern =r\" [0-9]+\"\n",
    "\n",
    "# pattern =r\" [a-z]+\"\n",
    "# pattern =r\" [A-Z]+\"\n",
    "\n",
    "pattern =r\"[A-z0-1]+\"\n",
    "\n",
    "\n",
    "l = re.findall(pattern, text)\n",
    "print(l)"
   ]
  },
  {
   "cell_type": "code",
   "execution_count": 36,
   "id": "6d05b12a",
   "metadata": {},
   "outputs": [
    {
     "name": "stdout",
     "output_type": "stream",
     "text": [
      "['7.2', '22.25', '456,234', '.', '277', '702']\n"
     ]
    }
   ],
   "source": [
    "text =\"\"\"We love our country! pakistan zindabad!\n",
    "pakistan is the one of best country in the world!\n",
    "Hello World 7.2\n",
    "22.25\n",
    "456,234\n",
    "I am living in pakistan\n",
    "how is weather in pakistan\n",
    "RS. 277\n",
    " ajsjdkdhjdhdhdjdhjdhjd 702\n",
    "\"\"\"\n",
    "\n",
    "\n",
    "pattern =r\"[0-9.,]+\"\n",
    "\n",
    "\n",
    "l = re.findall(pattern, text)\n",
    "print(l)"
   ]
  },
  {
   "cell_type": "code",
   "execution_count": null,
   "id": "4c6c7132",
   "metadata": {},
   "outputs": [],
   "source": [
    "\"\".isalnum"
   ]
  },
  {
   "cell_type": "code",
   "execution_count": 38,
   "id": "2e7e467d",
   "metadata": {},
   "outputs": [
    {
     "data": {
      "text/plain": [
       "['7.2', '22.25', '456,234', '.', '277', '702']"
      ]
     },
     "execution_count": 38,
     "metadata": {},
     "output_type": "execute_result"
    }
   ],
   "source": [
    "\n",
    "l = re.findall(pattern, text)\n",
    "[i for i in l if i.isalnum]"
   ]
  },
  {
   "cell_type": "markdown",
   "id": "ea16f5ef",
   "metadata": {},
   "source": [
    "# ? optional"
   ]
  },
  {
   "cell_type": "markdown",
   "id": "ec19f865",
   "metadata": {},
   "source": [
    "# [0-9] =\\d\n",
    "# [A-z] = \\w\n"
   ]
  },
  {
   "cell_type": "code",
   "execution_count": 49,
   "id": "00365627",
   "metadata": {},
   "outputs": [
    {
     "data": {
      "text/plain": [
       "['24-12-2023', '28-12-2023']"
      ]
     },
     "execution_count": 49,
     "metadata": {},
     "output_type": "execute_result"
    }
   ],
   "source": [
    "data =\"\"\"\n",
    "\n",
    "purchase data 01\\12\\2023 \n",
    "purchase data 24-12-2023 \n",
    "purchase data 28-12-2023 \n",
    "\n",
    "\"\"\"\n",
    "\n",
    "pattern =r\"[0-9]{1,2}-[0-9]{1,2}-[0-9]{2,4}\"\n",
    "\n",
    "l =re.findall(pattern,data)\n",
    "l"
   ]
  },
  {
   "cell_type": "code",
   "execution_count": 59,
   "id": "98f4f2b9",
   "metadata": {},
   "outputs": [
    {
     "data": {
      "text/plain": [
       "['01*12*2023', '01*12*2023', '01/12/2023', '24-12-2023', '28-12-2023']"
      ]
     },
     "execution_count": 59,
     "metadata": {},
     "output_type": "execute_result"
    }
   ],
   "source": [
    "data =\"\"\"\n",
    "purchase data 01*12*2023\n",
    "purchase data 01*12*2023\n",
    "purchase data 01\\12\\2023 \n",
    "purchase data 24-12-2023 \n",
    "purchase data 28-12-2023 \n",
    "\n",
    "\"\"\"\n",
    "\n",
    "pattern =r\"\\d{1,2}[-*/]\\d{1,2}[-*/]\\d{2,4}\"\n",
    "\n",
    "l =re.findall(pattern,data)\n",
    "l"
   ]
  },
  {
   "cell_type": "code",
   "execution_count": 62,
   "id": "2a73b6ca",
   "metadata": {},
   "outputs": [
    {
     "data": {
      "text/plain": [
       "['01*12*2023', '01*12*2023', '01/12/2023', '24-12-2023', '28-12-2023']"
      ]
     },
     "execution_count": 62,
     "metadata": {},
     "output_type": "execute_result"
    }
   ],
   "source": [
    "data =\"\"\"\n",
    "purchase data 01*12*2023\n",
    "purchase data 01*12*2023\n",
    "purchase data 01/12/2023 \n",
    "purchase data 01\\12\\2023\n",
    "purchase data 24-12-2023 \n",
    "purchase data 28-12-2023 \n",
    "\n",
    "\"\"\"\n",
    "\n",
    "pattern =r\"\\d{1,2}[-*/\\\\]\\d{1,2}[-*/\\\\]\\d{2,4}\"\n",
    "\n",
    "l =re.findall(pattern,data)\n",
    "l"
   ]
  },
  {
   "cell_type": "code",
   "execution_count": 1,
   "id": "cae2e0f3",
   "metadata": {},
   "outputs": [
    {
     "name": "stdout",
     "output_type": "stream",
     "text": [
      "['01*12*2023', '01*12*2023', '01/12/2023']\n"
     ]
    }
   ],
   "source": [
    "import re\n",
    "\n",
    "text = \"\"\"\n",
    "purchase data 01*12*2023\n",
    "purchase data 01*12*2023\n",
    "purchase data 01/12/2023\n",
    "purchase data 01\\12\\2023\n",
    "purchase data 24-12-2023\n",
    "purchase data 28-12-2023\n",
    "\"\"\"\n",
    "\n",
    "# Regular expression pattern to match various date formats\n",
    "date_pattern = r'\\d{2}[*/\\\\]\\d{2}[*/\\\\]\\d{4}'\n",
    "\n",
    "dates = re.findall(date_pattern, text)\n",
    "\n",
    "print(dates)\n"
   ]
  },
  {
   "cell_type": "code",
   "execution_count": 44,
   "id": "6254d126",
   "metadata": {},
   "outputs": [
    {
     "name": "stdout",
     "output_type": "stream",
     "text": [
      "3\n"
     ]
    },
    {
     "data": {
      "text/plain": [
       "[('12:05:40', 'Ali Asar', 'PIAIC-187258'),\n",
       " ('12:05:41', 'Hasnain Munir', 'PIAIC-187272'),\n",
       " ('12:05:44', 'Shaheer Baig', 'PIAIC-169519')]"
      ]
     },
     "execution_count": 44,
     "metadata": {},
     "output_type": "execute_result"
    }
   ],
   "source": [
    "data = \"\"\"\n",
    "12:05:40 From Ali Asar To Everyone : PIAIC-187258\n",
    "12:05:41 From Hasnain Munir To Everyone : PIAIC-187272\n",
    "12:05:44 From Shaheer Baig To Everyone : PIAIC-169519\n",
    "12:05:59 From Ali shabab To Everyone : PIAIC-1781\n",
    "12:06:00 From Ali Akhter To Everyone : PIAIC-1782\n",
    "\"\"\"\n",
    "\n",
    "pattern = r\"(\\d\\d:\\d\\d:\\d\\d) From (.+) To Everyone : (PIAIC ?-?\\d{6})\"\n",
    "matches = re.findall(pattern, data)\n",
    "\n",
    "print(len(matches))\n",
    "matches\n"
   ]
  },
  {
   "cell_type": "code",
   "execution_count": 35,
   "id": "16221af6",
   "metadata": {
    "collapsed": true
   },
   "outputs": [
    {
     "name": "stdout",
     "output_type": "stream",
     "text": [
      "8\n"
     ]
    },
    {
     "data": {
      "text/plain": [
       "[('12:05:40', 'Ali Asar', 'PIAIC-187258'),\n",
       " ('12:05:41', 'Hasnain Munir', 'PIAIC-187272'),\n",
       " ('12:05:44', 'Shaheer Baig', 'PIAIC-169519'),\n",
       " ('12:05:45', 'Humera Naz', 'PIAIC-173431'),\n",
       " ('12:05:47', 'Sadia Anwar', 'PIAIC-180028'),\n",
       " ('12:05:47', 'Muhammad Mehroz', 'PIAIC-131496'),\n",
       " ('12:05:47', 'Home', 'PIAIC-172998'),\n",
       " ('12:05:47', 'Muhammad Sadullah = PIAIC-178950', 'PIAIC-178950')]"
      ]
     },
     "execution_count": 35,
     "metadata": {},
     "output_type": "execute_result"
    }
   ],
   "source": [
    "data=\"\"\"\n",
    "\n",
    "12:05:40 From Ali Asar To Everyone : PIAIC-187258\n",
    "12:05:41 From Hasnain Munir To Everyone : PIAIC-187272\n",
    "12:05:44 From Shaheer Baig To Everyone : PIAIC-169519\n",
    "12:05:45 From Humera Naz To Everyone : PIAIC-173431\n",
    "12:05:47 From Sadia Anwar To Everyone : PIAIC-180028\n",
    "12:05:47 From Muhammad Mehroz To Everyone : PIAIC-131496\n",
    "12:05:47 From Home To Everyone : PIAIC-172998\n",
    "12:05:47 From Muhammad Sadullah = PIAIC-178950 To Everyone : PIAIC-178950\n",
    "12:05:48 From Muhammad Uzair To Everyone : PIAIC-177\n",
    "12:05:49 From Muhammad Ali To Everyone : PIAIC-1771\n",
    "12:05:50 From Kashif Ali To Everyone : PIAIC-1772\n",
    "12:05:51 From Salman Ali To Everyone : PIAIC-1773\n",
    "12:05:52 From Safdar Ali To Everyone : PIAIC-1774\n",
    "12:05:53 From sultan Ali To Everyone : PIAIC-1775\n",
    "12:05:54 From Akash Ali To Everyone : PIAIC-1776\n",
    "12:05:55 From waheed Ali To Everyone : PIAIC-1777\n",
    "12:05:56 From Salman Ahmed To Everyone : PIAIC-1778\n",
    "12:05:57 From Kousar Ali To Everyone : PIAIC-1779\n",
    "12:05:58 From waheeda khan To Everyone : PIAIC-1780\n",
    "12:05:59 From Ali shabab To Everyone : PIAIC-1781\n",
    "12:06:00 From Ali Akhter To Everyone : PIAIC-1782\n",
    "\n",
    "\"\"\"\n",
    "print(len(l))\n",
    "\n",
    "pattern =\"(\\d\\d:\\d\\d:\\d\\d) From (.*) To Everyone : (PIAIC ?-?\\d{5,6})\"\n",
    "l =re.findall(pattern, data)\n",
    "l\n",
    "\n"
   ]
  },
  {
   "cell_type": "code",
   "execution_count": 67,
   "id": "a57d3484",
   "metadata": {},
   "outputs": [
    {
     "data": {
      "text/plain": [
       "[('12:05:40', 'Ali Asar', 'PIAIC-187258'),\n",
       " ('12:05:41', 'Hasnain Munir', 'PIAIC-187272'),\n",
       " ('12:05:44', 'Shaheer Baig', 'PIAIC-169519'),\n",
       " ('12:05:45', 'Humera Naz', 'PIAIC-173431'),\n",
       " ('12:05:47', 'Sadia Anwar', 'PIAIC-180028'),\n",
       " ('12:05:47', 'Muhammad Mehroz', 'PIAIC-131496'),\n",
       " ('12:05:47', 'Home', 'PIAIC-172998'),\n",
       " ('12:05:47', 'Muhammad Sadullah = PIAIC-178950', 'PIAIC-178950'),\n",
       " ('12:05:48', 'Muhammad Uzair', 'PIAIC-177'),\n",
       " ('12:05:49', 'Muhammad Ali', 'PIAIC-1771'),\n",
       " ('12:05:50', 'Kashif Ali', 'PIAIC-1772'),\n",
       " ('12:05:51', 'Salman Ali', 'PIAIC-1773'),\n",
       " ('12:05:52', 'Safdar Ali', 'PIAIC-1774'),\n",
       " ('12:05:53', 'sultan Ali', 'PIAIC-1775'),\n",
       " ('12:05:54', 'Akash Ali', 'PIAIC-1776'),\n",
       " ('12:05:55', 'waheed Ali', 'PIAIC-1777'),\n",
       " ('12:05:56', 'Salman Ahmed', 'PIAIC-1778'),\n",
       " ('12:05:57', 'Kousar Ali', 'PIAIC-1779'),\n",
       " ('12:05:58', 'waheeda khan', 'PIAIC-1780'),\n",
       " ('12:05:59', 'Ali shabab', 'PIAIC-1781'),\n",
       " ('12:06:00', 'Ali Akhter', 'PIAIC-1782')]"
      ]
     },
     "execution_count": 67,
     "metadata": {},
     "output_type": "execute_result"
    }
   ],
   "source": [
    "data=\"\"\"\n",
    "\n",
    "12:05:40 From Ali Asar To Everyone : PIAIC-187258\n",
    "12:05:41 From Hasnain Munir To Everyone : PIAIC-187272\n",
    "12:05:44 From Shaheer Baig To Everyone : PIAIC-169519\n",
    "12:05:45 From Humera Naz To Everyone : PIAIC-173431\n",
    "12:05:47 From Sadia Anwar To Everyone : PIAIC-180028\n",
    "12:05:47 From Muhammad Mehroz To Everyone : PIAIC-131496\n",
    "12:05:47 From Home To Everyone : PIAIC-172998\n",
    "12:05:47 From Muhammad Sadullah = PIAIC-178950 To Everyone : PIAIC-178950\n",
    "12:05:48 From Muhammad Uzair To Everyone : PIAIC-177\n",
    "12:05:49 From Muhammad Ali To Everyone : PIAIC-1771\n",
    "12:05:50 From Kashif Ali To Everyone : PIAIC-1772\n",
    "12:05:51 From Salman Ali To Everyone : PIAIC-1773\n",
    "12:05:52 From Safdar Ali To Everyone : PIAIC-1774\n",
    "12:05:53 From sultan Ali To Everyone : PIAIC-1775\n",
    "12:05:54 From Akash Ali To Everyone : PIAIC-1776\n",
    "12:05:55 From waheed Ali To Everyone : PIAIC-1777\n",
    "12:05:56 From Salman Ahmed To Everyone : PIAIC-1778\n",
    "12:05:57 From Kousar Ali To Everyone : PIAIC-1779\n",
    "12:05:58 From waheeda khan To Everyone : PIAIC-1780\n",
    "12:05:59 From Ali shabab To Everyone : PIAIC-1781\n",
    "12:06:00 From Ali Akhter To Everyone : PIAIC-1782\n",
    "\"\"\"\n",
    "\n",
    "pattern =\"(\\d{2}:\\d{2}:\\d{2}) From (.*) To Everyone : (PIAIC ?-?\\d{2,6})\"\n",
    "l =re.findall(pattern, data)\n",
    "l\n"
   ]
  },
  {
   "cell_type": "code",
   "execution_count": 62,
   "id": "94e9f0ad",
   "metadata": {},
   "outputs": [
    {
     "data": {
      "text/html": [
       "<div>\n",
       "<style scoped>\n",
       "    .dataframe tbody tr th:only-of-type {\n",
       "        vertical-align: middle;\n",
       "    }\n",
       "\n",
       "    .dataframe tbody tr th {\n",
       "        vertical-align: top;\n",
       "    }\n",
       "\n",
       "    .dataframe thead th {\n",
       "        text-align: right;\n",
       "    }\n",
       "</style>\n",
       "<table border=\"1\" class=\"dataframe\">\n",
       "  <thead>\n",
       "    <tr style=\"text-align: right;\">\n",
       "      <th></th>\n",
       "      <th>Raw data</th>\n",
       "    </tr>\n",
       "  </thead>\n",
       "  <tbody>\n",
       "    <tr>\n",
       "      <th>0</th>\n",
       "      <td></td>\n",
       "    </tr>\n",
       "    <tr>\n",
       "      <th>1</th>\n",
       "      <td></td>\n",
       "    </tr>\n",
       "    <tr>\n",
       "      <th>2</th>\n",
       "      <td>12:05:40 From Ali Asar To Everyone : PIAIC-187258</td>\n",
       "    </tr>\n",
       "    <tr>\n",
       "      <th>3</th>\n",
       "      <td>12:05:41 From Hasnain Munir To Everyone : PIAI...</td>\n",
       "    </tr>\n",
       "    <tr>\n",
       "      <th>4</th>\n",
       "      <td>12:05:44 From Shaheer Baig To Everyone : PIAIC...</td>\n",
       "    </tr>\n",
       "    <tr>\n",
       "      <th>5</th>\n",
       "      <td>12:05:45 From Humera Naz To Everyone : PIAIC-1...</td>\n",
       "    </tr>\n",
       "    <tr>\n",
       "      <th>6</th>\n",
       "      <td>12:05:47 From Sadia Anwar To Everyone : PIAIC-...</td>\n",
       "    </tr>\n",
       "    <tr>\n",
       "      <th>7</th>\n",
       "      <td>12:05:47 From Muhammad Mehroz To Everyone : PI...</td>\n",
       "    </tr>\n",
       "    <tr>\n",
       "      <th>8</th>\n",
       "      <td>12:05:47 From Home To Everyone : PIAIC-172998</td>\n",
       "    </tr>\n",
       "    <tr>\n",
       "      <th>9</th>\n",
       "      <td>12:05:47 From Muhammad Sadullah = PIAIC-178950...</td>\n",
       "    </tr>\n",
       "    <tr>\n",
       "      <th>10</th>\n",
       "      <td>12:05:48 From Muhammad Uzair To Everyone : PIA...</td>\n",
       "    </tr>\n",
       "    <tr>\n",
       "      <th>11</th>\n",
       "      <td>12:05:49 From Muhammad Ali To Everyone : PIAIC...</td>\n",
       "    </tr>\n",
       "    <tr>\n",
       "      <th>12</th>\n",
       "      <td>12:05:50 From Kashif Ali To Everyone : PIAIC-1772</td>\n",
       "    </tr>\n",
       "    <tr>\n",
       "      <th>13</th>\n",
       "      <td>12:05:51 From Salman Ali To Everyone : PIAIC-1773</td>\n",
       "    </tr>\n",
       "    <tr>\n",
       "      <th>14</th>\n",
       "      <td>12:05:52 From Safdar Ali To Everyone : PIAIC-1774</td>\n",
       "    </tr>\n",
       "    <tr>\n",
       "      <th>15</th>\n",
       "      <td>12:05:53 From sultan Ali To Everyone : PIAIC-1775</td>\n",
       "    </tr>\n",
       "    <tr>\n",
       "      <th>16</th>\n",
       "      <td>12:05:54 From Akash Ali To Everyone : PIAIC-1776</td>\n",
       "    </tr>\n",
       "    <tr>\n",
       "      <th>17</th>\n",
       "      <td>12:05:55 From waheed Ali To Everyone : PIAIC-1777</td>\n",
       "    </tr>\n",
       "    <tr>\n",
       "      <th>18</th>\n",
       "      <td>12:05:56 From Salman Ahmed To Everyone : PIAIC...</td>\n",
       "    </tr>\n",
       "    <tr>\n",
       "      <th>19</th>\n",
       "      <td>12:05:57 From Kousar Ali To Everyone : PIAIC-1779</td>\n",
       "    </tr>\n",
       "    <tr>\n",
       "      <th>20</th>\n",
       "      <td>12:05:58 From waheeda khan To Everyone : PIAIC...</td>\n",
       "    </tr>\n",
       "    <tr>\n",
       "      <th>21</th>\n",
       "      <td>12:05:59 From Ali shabab To Everyone : PIAIC-1781</td>\n",
       "    </tr>\n",
       "    <tr>\n",
       "      <th>22</th>\n",
       "      <td>12:06:00 From Ali Akhter To Everyone : PIAIC-1782</td>\n",
       "    </tr>\n",
       "    <tr>\n",
       "      <th>23</th>\n",
       "      <td></td>\n",
       "    </tr>\n",
       "  </tbody>\n",
       "</table>\n",
       "</div>"
      ],
      "text/plain": [
       "                                             Raw data\n",
       "0                                                    \n",
       "1                                                    \n",
       "2   12:05:40 From Ali Asar To Everyone : PIAIC-187258\n",
       "3   12:05:41 From Hasnain Munir To Everyone : PIAI...\n",
       "4   12:05:44 From Shaheer Baig To Everyone : PIAIC...\n",
       "5   12:05:45 From Humera Naz To Everyone : PIAIC-1...\n",
       "6   12:05:47 From Sadia Anwar To Everyone : PIAIC-...\n",
       "7   12:05:47 From Muhammad Mehroz To Everyone : PI...\n",
       "8       12:05:47 From Home To Everyone : PIAIC-172998\n",
       "9   12:05:47 From Muhammad Sadullah = PIAIC-178950...\n",
       "10  12:05:48 From Muhammad Uzair To Everyone : PIA...\n",
       "11  12:05:49 From Muhammad Ali To Everyone : PIAIC...\n",
       "12  12:05:50 From Kashif Ali To Everyone : PIAIC-1772\n",
       "13  12:05:51 From Salman Ali To Everyone : PIAIC-1773\n",
       "14  12:05:52 From Safdar Ali To Everyone : PIAIC-1774\n",
       "15  12:05:53 From sultan Ali To Everyone : PIAIC-1775\n",
       "16   12:05:54 From Akash Ali To Everyone : PIAIC-1776\n",
       "17  12:05:55 From waheed Ali To Everyone : PIAIC-1777\n",
       "18  12:05:56 From Salman Ahmed To Everyone : PIAIC...\n",
       "19  12:05:57 From Kousar Ali To Everyone : PIAIC-1779\n",
       "20  12:05:58 From waheeda khan To Everyone : PIAIC...\n",
       "21  12:05:59 From Ali shabab To Everyone : PIAIC-1781\n",
       "22  12:06:00 From Ali Akhter To Everyone : PIAIC-1782\n",
       "23                                                   "
      ]
     },
     "execution_count": 62,
     "metadata": {},
     "output_type": "execute_result"
    }
   ],
   "source": [
    "# with split method of string\n",
    "\n",
    "pd.DataFrame(data.split(\"\\n\"),columns=[\"Raw data\"])\n",
    "\n"
   ]
  },
  {
   "cell_type": "code",
   "execution_count": 68,
   "id": "59d3f55f",
   "metadata": {},
   "outputs": [
    {
     "name": "stdout",
     "output_type": "stream",
     "text": [
      "21\n"
     ]
    },
    {
     "data": {
      "text/html": [
       "<div>\n",
       "<style scoped>\n",
       "    .dataframe tbody tr th:only-of-type {\n",
       "        vertical-align: middle;\n",
       "    }\n",
       "\n",
       "    .dataframe tbody tr th {\n",
       "        vertical-align: top;\n",
       "    }\n",
       "\n",
       "    .dataframe thead th {\n",
       "        text-align: right;\n",
       "    }\n",
       "</style>\n",
       "<table border=\"1\" class=\"dataframe\">\n",
       "  <thead>\n",
       "    <tr style=\"text-align: right;\">\n",
       "      <th></th>\n",
       "      <th>Time</th>\n",
       "      <th>Name</th>\n",
       "      <th>Rollno</th>\n",
       "    </tr>\n",
       "  </thead>\n",
       "  <tbody>\n",
       "    <tr>\n",
       "      <th>0</th>\n",
       "      <td>12:05:40</td>\n",
       "      <td>Ali Asar</td>\n",
       "      <td>PIAIC-187258</td>\n",
       "    </tr>\n",
       "    <tr>\n",
       "      <th>1</th>\n",
       "      <td>12:05:41</td>\n",
       "      <td>Hasnain Munir</td>\n",
       "      <td>PIAIC-187272</td>\n",
       "    </tr>\n",
       "    <tr>\n",
       "      <th>2</th>\n",
       "      <td>12:05:44</td>\n",
       "      <td>Shaheer Baig</td>\n",
       "      <td>PIAIC-169519</td>\n",
       "    </tr>\n",
       "    <tr>\n",
       "      <th>3</th>\n",
       "      <td>12:05:45</td>\n",
       "      <td>Humera Naz</td>\n",
       "      <td>PIAIC-173431</td>\n",
       "    </tr>\n",
       "    <tr>\n",
       "      <th>4</th>\n",
       "      <td>12:05:47</td>\n",
       "      <td>Sadia Anwar</td>\n",
       "      <td>PIAIC-180028</td>\n",
       "    </tr>\n",
       "    <tr>\n",
       "      <th>5</th>\n",
       "      <td>12:05:47</td>\n",
       "      <td>Muhammad Mehroz</td>\n",
       "      <td>PIAIC-131496</td>\n",
       "    </tr>\n",
       "    <tr>\n",
       "      <th>6</th>\n",
       "      <td>12:05:47</td>\n",
       "      <td>Home</td>\n",
       "      <td>PIAIC-172998</td>\n",
       "    </tr>\n",
       "    <tr>\n",
       "      <th>7</th>\n",
       "      <td>12:05:47</td>\n",
       "      <td>Muhammad Sadullah = PIAIC-178950</td>\n",
       "      <td>PIAIC-178950</td>\n",
       "    </tr>\n",
       "    <tr>\n",
       "      <th>8</th>\n",
       "      <td>12:05:48</td>\n",
       "      <td>Muhammad Uzair</td>\n",
       "      <td>PIAIC-177</td>\n",
       "    </tr>\n",
       "    <tr>\n",
       "      <th>9</th>\n",
       "      <td>12:05:49</td>\n",
       "      <td>Muhammad Ali</td>\n",
       "      <td>PIAIC-1771</td>\n",
       "    </tr>\n",
       "    <tr>\n",
       "      <th>10</th>\n",
       "      <td>12:05:50</td>\n",
       "      <td>Kashif Ali</td>\n",
       "      <td>PIAIC-1772</td>\n",
       "    </tr>\n",
       "    <tr>\n",
       "      <th>11</th>\n",
       "      <td>12:05:51</td>\n",
       "      <td>Salman Ali</td>\n",
       "      <td>PIAIC-1773</td>\n",
       "    </tr>\n",
       "    <tr>\n",
       "      <th>12</th>\n",
       "      <td>12:05:52</td>\n",
       "      <td>Safdar Ali</td>\n",
       "      <td>PIAIC-1774</td>\n",
       "    </tr>\n",
       "    <tr>\n",
       "      <th>13</th>\n",
       "      <td>12:05:53</td>\n",
       "      <td>sultan Ali</td>\n",
       "      <td>PIAIC-1775</td>\n",
       "    </tr>\n",
       "    <tr>\n",
       "      <th>14</th>\n",
       "      <td>12:05:54</td>\n",
       "      <td>Akash Ali</td>\n",
       "      <td>PIAIC-1776</td>\n",
       "    </tr>\n",
       "    <tr>\n",
       "      <th>15</th>\n",
       "      <td>12:05:55</td>\n",
       "      <td>waheed Ali</td>\n",
       "      <td>PIAIC-1777</td>\n",
       "    </tr>\n",
       "    <tr>\n",
       "      <th>16</th>\n",
       "      <td>12:05:56</td>\n",
       "      <td>Salman Ahmed</td>\n",
       "      <td>PIAIC-1778</td>\n",
       "    </tr>\n",
       "    <tr>\n",
       "      <th>17</th>\n",
       "      <td>12:05:57</td>\n",
       "      <td>Kousar Ali</td>\n",
       "      <td>PIAIC-1779</td>\n",
       "    </tr>\n",
       "    <tr>\n",
       "      <th>18</th>\n",
       "      <td>12:05:58</td>\n",
       "      <td>waheeda khan</td>\n",
       "      <td>PIAIC-1780</td>\n",
       "    </tr>\n",
       "    <tr>\n",
       "      <th>19</th>\n",
       "      <td>12:05:59</td>\n",
       "      <td>Ali shabab</td>\n",
       "      <td>PIAIC-1781</td>\n",
       "    </tr>\n",
       "    <tr>\n",
       "      <th>20</th>\n",
       "      <td>12:06:00</td>\n",
       "      <td>Ali Akhter</td>\n",
       "      <td>PIAIC-1782</td>\n",
       "    </tr>\n",
       "  </tbody>\n",
       "</table>\n",
       "</div>"
      ],
      "text/plain": [
       "        Time                              Name        Rollno\n",
       "0   12:05:40                          Ali Asar  PIAIC-187258\n",
       "1   12:05:41                     Hasnain Munir  PIAIC-187272\n",
       "2   12:05:44                      Shaheer Baig  PIAIC-169519\n",
       "3   12:05:45                        Humera Naz  PIAIC-173431\n",
       "4   12:05:47                       Sadia Anwar  PIAIC-180028\n",
       "5   12:05:47                   Muhammad Mehroz  PIAIC-131496\n",
       "6   12:05:47                              Home  PIAIC-172998\n",
       "7   12:05:47  Muhammad Sadullah = PIAIC-178950  PIAIC-178950\n",
       "8   12:05:48                    Muhammad Uzair     PIAIC-177\n",
       "9   12:05:49                      Muhammad Ali    PIAIC-1771\n",
       "10  12:05:50                        Kashif Ali    PIAIC-1772\n",
       "11  12:05:51                        Salman Ali    PIAIC-1773\n",
       "12  12:05:52                        Safdar Ali    PIAIC-1774\n",
       "13  12:05:53                        sultan Ali    PIAIC-1775\n",
       "14  12:05:54                         Akash Ali    PIAIC-1776\n",
       "15  12:05:55                        waheed Ali    PIAIC-1777\n",
       "16  12:05:56                      Salman Ahmed    PIAIC-1778\n",
       "17  12:05:57                        Kousar Ali    PIAIC-1779\n",
       "18  12:05:58                      waheeda khan    PIAIC-1780\n",
       "19  12:05:59                        Ali shabab    PIAIC-1781\n",
       "20  12:06:00                        Ali Akhter    PIAIC-1782"
      ]
     },
     "execution_count": 68,
     "metadata": {},
     "output_type": "execute_result"
    }
   ],
   "source": [
    "import pandas as pd\n",
    "print(len(l))\n",
    "\n",
    "df=pd.DataFrame(l, columns=[\"Time\",\"Name\",\"Rollno\"])\n",
    "df\n",
    "\n"
   ]
  },
  {
   "cell_type": "code",
   "execution_count": 69,
   "id": "6a11c47f",
   "metadata": {},
   "outputs": [
    {
     "name": "stdout",
     "output_type": "stream",
     "text": [
      "['01-12-2023', '05-20-2021', '11-03-2022']\n"
     ]
    }
   ],
   "source": [
    "text = \"Some dates: 01-12-2023, 05-20-2021, 11-03-2022\"\n",
    "\n",
    "pattern = r'\\b\\d{2}-\\d{2}-\\d{4}\\b'\n",
    "compiled_pattern = re.compile(pattern)\n",
    "\n",
    "\n",
    "matches = compiled_pattern.findall(text)\n",
    "\n",
    "print(matches)"
   ]
  },
  {
   "cell_type": "code",
   "execution_count": null,
   "id": "cafcd7ed",
   "metadata": {},
   "outputs": [],
   "source": []
  }
 ],
 "metadata": {
  "kernelspec": {
   "display_name": "Python 3 (ipykernel)",
   "language": "python",
   "name": "python3"
  },
  "language_info": {
   "codemirror_mode": {
    "name": "ipython",
    "version": 3
   },
   "file_extension": ".py",
   "mimetype": "text/x-python",
   "name": "python",
   "nbconvert_exporter": "python",
   "pygments_lexer": "ipython3",
   "version": "3.11.3"
  }
 },
 "nbformat": 4,
 "nbformat_minor": 5
}
