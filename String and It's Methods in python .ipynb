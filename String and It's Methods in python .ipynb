{
 "cells": [
  {
   "cell_type": "markdown",
   "id": "d09c8ff6",
   "metadata": {},
   "source": [
    "# A string is a data structure in Python that represents a sequence of characters.\n",
    "\n",
    "# Strings can be created by enclosing a sequence of characters in either single or double quotes.\n",
    "\n",
    "# For example, the following are all valid strings:\n",
    "\n",
    "* \"This is a string.\"\n",
    "* 'This is also a string.'\n",
    "    \n"
   ]
  },
  {
   "cell_type": "code",
   "execution_count": 1,
   "id": "ad40eca3",
   "metadata": {},
   "outputs": [
    {
     "name": "stdout",
     "output_type": "stream",
     "text": [
      "This is also a string.\n"
     ]
    }
   ],
   "source": [
    "# With Single quotes\n",
    "\n",
    "a = 'This is also a string.'\n",
    "print(a)"
   ]
  },
  {
   "cell_type": "code",
   "execution_count": 2,
   "id": "ddff5ed3",
   "metadata": {},
   "outputs": [
    {
     "name": "stdout",
     "output_type": "stream",
     "text": [
      "Hello Pakistan\n"
     ]
    }
   ],
   "source": [
    "# With Double quotes\n",
    "\n",
    "a = \"Hello Pakistan\"\n",
    "print(a) "
   ]
  },
  {
   "cell_type": "code",
   "execution_count": 3,
   "id": "499f2386",
   "metadata": {},
   "outputs": [
    {
     "name": "stdout",
     "output_type": "stream",
     "text": [
      "\"Data science is the study of data to extract meaningful insights \n",
      "for business. It is a multidisciplinary approach that combines principles \n",
      "and practices from the fields of mathematics, statistics, artificial intelligence,\n",
      "and computer engineering to analyze large amounts of data.\n"
     ]
    }
   ],
   "source": [
    "# You can use three double quotes:\n",
    "\n",
    "\n",
    "a = \"\"\"\"Data science is the study of data to extract meaningful insights \n",
    "for business. It is a multidisciplinary approach that combines principles \n",
    "and practices from the fields of mathematics, statistics, artificial intelligence,\n",
    "and computer engineering to analyze large amounts of data.\"\"\"\n",
    "\n",
    "print(a)"
   ]
  },
  {
   "cell_type": "code",
   "execution_count": 4,
   "id": "e4212737",
   "metadata": {},
   "outputs": [
    {
     "name": "stdout",
     "output_type": "stream",
     "text": [
      "Data science is the study of data to extract meaningful insights \n",
      "for business. It is a multidisciplinary approach that combines principles \n",
      "and practices from the fields of mathematics, statistics, artificial intelligence,\n",
      "and computer engineering to analyze large amounts of data.\n"
     ]
    }
   ],
   "source": [
    " # Three single quotes:\n",
    "    \n",
    "    \n",
    "a = '''Data science is the study of data to extract meaningful insights \n",
    "for business. It is a multidisciplinary approach that combines principles \n",
    "and practices from the fields of mathematics, statistics, artificial intelligence,\n",
    "and computer engineering to analyze large amounts of data.'''\n",
    "\n",
    "print(a)"
   ]
  },
  {
   "cell_type": "markdown",
   "id": "487dd81a",
   "metadata": {},
   "source": [
    "# strings are arrays in Python. In Python, a string is a sequence of characters, and an array is a data structure that can store a sequence of elements.\n",
    " \n",
    " * Square brackets can be used to access elements of the string.[]"
   ]
  },
  {
   "cell_type": "markdown",
   "id": "9bdc5c6c",
   "metadata": {},
   "source": [
    "# strings in Python can be indexed. Indexing allows you to access individual characters in a string by their position. The position of a character in a string is called its index. Inedex starts from 0.\n",
    "\n",
    "* Get the character at position 1 (remember that the first character has the position 0):"
   ]
  },
  {
   "cell_type": "code",
   "execution_count": 5,
   "id": "7b06ba10",
   "metadata": {},
   "outputs": [
    {
     "name": "stdout",
     "output_type": "stream",
     "text": [
      "e\n"
     ]
    }
   ],
   "source": [
    "a = \"Hello, World!\"\n",
    "print(a[1])"
   ]
  },
  {
   "cell_type": "code",
   "execution_count": 6,
   "id": "e4d4fb6d",
   "metadata": {},
   "outputs": [
    {
     "name": "stdout",
     "output_type": "stream",
     "text": [
      "H\n"
     ]
    }
   ],
   "source": [
    "a = \"Hello, World!\"\n",
    "print(a[0])"
   ]
  },
  {
   "cell_type": "code",
   "execution_count": 7,
   "id": "60599006",
   "metadata": {},
   "outputs": [
    {
     "name": "stdout",
     "output_type": "stream",
     "text": [
      "T\n"
     ]
    }
   ],
   "source": [
    "string = \"This is a string.\"\n",
    "\n",
    "first_character = string[0]\n",
    "\n",
    "print(first_character)"
   ]
  },
  {
   "cell_type": "code",
   "execution_count": 8,
   "id": "856edbe2",
   "metadata": {
    "scrolled": true
   },
   "outputs": [
    {
     "name": "stdout",
     "output_type": "stream",
     "text": [
      "W\n"
     ]
    }
   ],
   "source": [
    "a = \"Hello, World!\"\n",
    "print(a[7])"
   ]
  },
  {
   "cell_type": "markdown",
   "id": "ac1c363b",
   "metadata": {},
   "source": [
    "# String Length\n",
    "\n",
    "* To get the length of a string, use the len() function."
   ]
  },
  {
   "cell_type": "code",
   "execution_count": 9,
   "id": "5de47bfd",
   "metadata": {},
   "outputs": [
    {
     "name": "stdout",
     "output_type": "stream",
     "text": [
      "11\n"
     ]
    }
   ],
   "source": [
    "# The len() function returns the length of a string:\n",
    "\n",
    "a = \"NED Academy\"\n",
    "print(len(a))"
   ]
  },
  {
   "cell_type": "code",
   "execution_count": 10,
   "id": "815ee03b",
   "metadata": {},
   "outputs": [
    {
     "name": "stdout",
     "output_type": "stream",
     "text": [
      "33\n"
     ]
    }
   ],
   "source": [
    "string = \"Python is a programming language.\"\n",
    "\n",
    "length = len(string)\n",
    "\n",
    "print(length)"
   ]
  },
  {
   "cell_type": "markdown",
   "id": "2d9ff78e",
   "metadata": {},
   "source": [
    "# Check String\n",
    "\n",
    "* To check if a certain phrase or character is present in a string, we can use the keyword in."
   ]
  },
  {
   "cell_type": "code",
   "execution_count": 11,
   "id": "f9e1fb1f",
   "metadata": {
    "scrolled": true
   },
   "outputs": [
    {
     "name": "stdout",
     "output_type": "stream",
     "text": [
      "True\n"
     ]
    }
   ],
   "source": [
    "txt = \"The best things in life are free!\"\n",
    "print(\"free\" in txt)"
   ]
  },
  {
   "cell_type": "code",
   "execution_count": 12,
   "id": "297d2754",
   "metadata": {},
   "outputs": [
    {
     "name": "stdout",
     "output_type": "stream",
     "text": [
      "Yes, 'free' is present.\n"
     ]
    }
   ],
   "source": [
    "a = \"The best things in life are free!\"\n",
    "if \"free\" in a:\n",
    "    print(\"Yes, 'free' is present.\")"
   ]
  },
  {
   "cell_type": "code",
   "execution_count": 13,
   "id": "f50c6ff1",
   "metadata": {},
   "outputs": [
    {
     "name": "stdout",
     "output_type": "stream",
     "text": [
      "NO Busy is not present\n"
     ]
    }
   ],
   "source": [
    "a = \"The best things in life are free!\"\n",
    "if \"busy\" in a:\n",
    "    print(\"Yes, 'free' is present.\")\n",
    "else:\n",
    "    print(\"NO\", \"Busy is not present\")"
   ]
  },
  {
   "cell_type": "code",
   "execution_count": 14,
   "id": "4f5ba1dd",
   "metadata": {},
   "outputs": [
    {
     "name": "stdout",
     "output_type": "stream",
     "text": [
      "True\n"
     ]
    }
   ],
   "source": [
    "string = \"Hello, world!\"\n",
    "\n",
    "character = \"!\"\n",
    "\n",
    "is_present = character in string\n",
    "\n",
    "print(is_present)"
   ]
  },
  {
   "cell_type": "code",
   "execution_count": 15,
   "id": "732aefa3",
   "metadata": {},
   "outputs": [
    {
     "name": "stdout",
     "output_type": "stream",
     "text": [
      "False\n"
     ]
    }
   ],
   "source": [
    "string = \"Python is a programming language.\"\n",
    "\n",
    "phrase = \"Graphics\"\n",
    "\n",
    "is_present = phrase in string\n",
    "\n",
    "print(is_present)"
   ]
  },
  {
   "cell_type": "markdown",
   "id": "37822802",
   "metadata": {},
   "source": [
    "# Check NOT\n",
    "\n",
    "* To check if a certain phrase or character is NOT present in a string, we can use the keyword not in."
   ]
  },
  {
   "cell_type": "code",
   "execution_count": 16,
   "id": "af9119dc",
   "metadata": {},
   "outputs": [
    {
     "name": "stdout",
     "output_type": "stream",
     "text": [
      "True\n"
     ]
    }
   ],
   "source": [
    "string = \"Hello, world!\"\n",
    "print(\"NED Academy\" not in string )"
   ]
  },
  {
   "cell_type": "code",
   "execution_count": 17,
   "id": "3d0019ee",
   "metadata": {
    "scrolled": true
   },
   "outputs": [
    {
     "name": "stdout",
     "output_type": "stream",
     "text": [
      "False\n"
     ]
    }
   ],
   "source": [
    "string = \"Hello, world NED Academy\"\n",
    "print(\"NED Academy\" not in string )"
   ]
  },
  {
   "cell_type": "markdown",
   "id": "c8e18f42",
   "metadata": {},
   "source": [
    " # Slicing Strings\n",
    "# The slice() method takes three arguments: start, stop, and step. The start argument specifies the starting index of the substring,Slicing is the process of extracting a substring from a string. In Python, you can slice a string by using the slice() method or the [:] syntax.\n"
   ]
  },
  {
   "cell_type": "code",
   "execution_count": 18,
   "id": "0864a0bc",
   "metadata": {},
   "outputs": [
    {
     "name": "stdout",
     "output_type": "stream",
     "text": [
      "llo\n"
     ]
    }
   ],
   "source": [
    "# Get the characters from position 2 to position 5 (not included):\n",
    "\n",
    "b = \"Hello, World!\"\n",
    "print(b[2:5]) "
   ]
  },
  {
   "cell_type": "code",
   "execution_count": 19,
   "id": "37a67c9b",
   "metadata": {},
   "outputs": [
    {
     "name": "stdout",
     "output_type": "stream",
     "text": [
      "Hello\n"
     ]
    }
   ],
   "source": [
    "# Slice From the Start\n",
    "\n",
    "# By leaving out the start index, the range will start at the first character:\n",
    "\n",
    "b = \"Hello, World!\"\n",
    "print(b[:5])"
   ]
  },
  {
   "cell_type": "code",
   "execution_count": 20,
   "id": "4ef7f035",
   "metadata": {},
   "outputs": [
    {
     "name": "stdout",
     "output_type": "stream",
     "text": [
      "is i\n"
     ]
    }
   ],
   "source": [
    "string = \"This is a string.\"\n",
    "\n",
    "substring = slice(2, 6)\n",
    "\n",
    "new_string = string[substring]\n",
    "\n",
    "print(new_string)\n"
   ]
  },
  {
   "cell_type": "code",
   "execution_count": 21,
   "id": "b49b9b73",
   "metadata": {},
   "outputs": [
    {
     "name": "stdout",
     "output_type": "stream",
     "text": [
      "Th\n",
      "s is a string.\n",
      "Ti sasrn.\n"
     ]
    }
   ],
   "source": [
    "string = \"This is a string.\"\n",
    "\n",
    "# Extract the substring from the beginning to the second character\n",
    "substring = slice(0, 2)\n",
    "\n",
    "new_string = string[substring]\n",
    "\n",
    "print(new_string)\n",
    "\n",
    "# Extract the substring from the third to the end of the string\n",
    "substring = slice(3, None)\n",
    "\n",
    "new_string = string[substring]\n",
    "\n",
    "print(new_string)\n",
    "\n",
    "# Extract the substring from the beginning, skipping every other character\n",
    "substring = slice(0, None, 2)\n",
    "\n",
    "new_string = string[substring]\n",
    "\n",
    "print(new_string)"
   ]
  },
  {
   "cell_type": "code",
   "execution_count": 22,
   "id": "41774001",
   "metadata": {},
   "outputs": [
    {
     "name": "stdout",
     "output_type": "stream",
     "text": [
      "llo, World!\n"
     ]
    }
   ],
   "source": [
    "# Slice To the End\n",
    "\n",
    "# Get the characters from position 2, and all the way to the end:\n",
    "\n",
    "b = \"Hello, World!\"\n",
    "print(b[2:])"
   ]
  },
  {
   "cell_type": "code",
   "execution_count": 23,
   "id": "62942b77",
   "metadata": {},
   "outputs": [
    {
     "name": "stdout",
     "output_type": "stream",
     "text": [
      "is \n"
     ]
    }
   ],
   "source": [
    "string = \"This is a string.\"\n",
    "\n",
    "new_string = string[2:5]\n",
    "\n",
    "print(new_string)"
   ]
  },
  {
   "cell_type": "code",
   "execution_count": 24,
   "id": "d295e4f4",
   "metadata": {},
   "outputs": [
    {
     "name": "stdout",
     "output_type": "stream",
     "text": [
      "is i\n"
     ]
    }
   ],
   "source": [
    "string = \"This is a string.\"\n",
    "\n",
    "new_string = string[2:6]\n",
    "\n",
    "print(new_string)"
   ]
  },
  {
   "cell_type": "code",
   "execution_count": 25,
   "id": "509a15be",
   "metadata": {},
   "outputs": [
    {
     "name": "stdout",
     "output_type": "stream",
     "text": [
      "Th\n",
      "s is a string.\n",
      "Ti sasrn.\n"
     ]
    }
   ],
   "source": [
    "string = \"This is a string.\"\n",
    "\n",
    "# Extract the substring from the beginning to the second character\n",
    "new_string = string[:2]\n",
    "\n",
    "print(new_string)\n",
    "\n",
    "# Extract the substring from the third to the end of the string\n",
    "new_string = string[3:]\n",
    "\n",
    "print(new_string)\n",
    "\n",
    "# Extract the substring from the beginning, skipping every other character\n",
    "new_string = string[::2]\n",
    "\n",
    "print(new_string)"
   ]
  },
  {
   "cell_type": "markdown",
   "id": "ad2c621d",
   "metadata": {},
   "source": [
    "# Negative Indexing\n",
    "# Use negative indexes to start the slice from the end of the string:\n"
   ]
  },
  {
   "cell_type": "code",
   "execution_count": 26,
   "id": "a895399b",
   "metadata": {},
   "outputs": [
    {
     "name": "stdout",
     "output_type": "stream",
     "text": [
      ".\n"
     ]
    }
   ],
   "source": [
    "string = \"This is a string.\"\n",
    "\n",
    "last_character = string[-1]\n",
    "\n",
    "print(last_character)"
   ]
  },
  {
   "cell_type": "code",
   "execution_count": 27,
   "id": "b594eb35",
   "metadata": {},
   "outputs": [
    {
     "name": "stdout",
     "output_type": "stream",
     "text": [
      "g\n"
     ]
    }
   ],
   "source": [
    "string = \"This is a string\"\n",
    "\n",
    "last_character = string[-1]\n",
    "\n",
    "print(last_character)"
   ]
  },
  {
   "cell_type": "code",
   "execution_count": 28,
   "id": "e5fa8581",
   "metadata": {},
   "outputs": [
    {
     "name": "stdout",
     "output_type": "stream",
     "text": [
      "This is a string\n"
     ]
    }
   ],
   "source": [
    "string = \"This is a string.\"\n",
    "\n",
    "last_character = string[:-1]\n",
    "\n",
    "print(last_character)"
   ]
  },
  {
   "cell_type": "code",
   "execution_count": 29,
   "id": "1e4521ad",
   "metadata": {},
   "outputs": [
    {
     "name": "stdout",
     "output_type": "stream",
     "text": [
      ".gnirts a si sihT\n"
     ]
    }
   ],
   "source": [
    "string = \"This is a string.\"\n",
    "\n",
    "last_character = string[::-1]\n",
    "\n",
    "print(last_character)"
   ]
  },
  {
   "cell_type": "code",
   "execution_count": 30,
   "id": "597f90cd",
   "metadata": {},
   "outputs": [
    {
     "name": "stdout",
     "output_type": "stream",
     "text": [
      "g\n",
      "is is a string\n"
     ]
    }
   ],
   "source": [
    "string = \"This is a string.\"\n",
    "\n",
    "# Extract the second-last character\n",
    "second_last_character = string[-2]\n",
    "\n",
    "print(second_last_character)\n",
    "\n",
    "# Extract the substring from the third to the last character\n",
    "substring = string[2:-1]\n",
    "\n",
    "print(substring)"
   ]
  },
  {
   "cell_type": "code",
   "execution_count": 31,
   "id": "5420c462",
   "metadata": {},
   "outputs": [
    {
     "name": "stdout",
     "output_type": "stream",
     "text": [
      "orl\n"
     ]
    }
   ],
   "source": [
    "b = \"Hello, World!\"\n",
    "print(b[-5:-2])"
   ]
  },
  {
   "cell_type": "markdown",
   "id": "470175ff",
   "metadata": {},
   "source": [
    "# This code will print the value None, because the string \"This is a string.\" only has 17 characters, and the index -100 is outside the range of the string.\n"
   ]
  },
  {
   "cell_type": "code",
   "execution_count": 32,
   "id": "ee07ed95",
   "metadata": {},
   "outputs": [
    {
     "ename": "IndexError",
     "evalue": "string index out of range",
     "output_type": "error",
     "traceback": [
      "\u001b[1;31m---------------------------------------------------------------------------\u001b[0m",
      "\u001b[1;31mIndexError\u001b[0m                                Traceback (most recent call last)",
      "Cell \u001b[1;32mIn[32], line 3\u001b[0m\n\u001b[0;32m      1\u001b[0m string \u001b[38;5;241m=\u001b[39m \u001b[38;5;124m\"\u001b[39m\u001b[38;5;124mThis is a string.\u001b[39m\u001b[38;5;124m\"\u001b[39m\n\u001b[1;32m----> 3\u001b[0m last_character \u001b[38;5;241m=\u001b[39m string[\u001b[38;5;241m-\u001b[39m\u001b[38;5;241m100\u001b[39m]\n\u001b[0;32m      5\u001b[0m \u001b[38;5;28mprint\u001b[39m(last_character)\n",
      "\u001b[1;31mIndexError\u001b[0m: string index out of range"
     ]
    }
   ],
   "source": [
    "string = \"This is a string.\"\n",
    "\n",
    "last_character = string[-100]\n",
    "\n",
    "print(last_character)"
   ]
  },
  {
   "cell_type": "markdown",
   "id": "90585481",
   "metadata": {},
   "source": [
    "# Modify Strings"
   ]
  },
  {
   "cell_type": "markdown",
   "id": "9e2df926",
   "metadata": {},
   "source": [
    "# Upper() \n",
    "\n",
    "* # The upper() method returns the string in upper case:"
   ]
  },
  {
   "cell_type": "code",
   "execution_count": 33,
   "id": "f98b2712",
   "metadata": {},
   "outputs": [
    {
     "name": "stdout",
     "output_type": "stream",
     "text": [
      "NED ACADEMY\n"
     ]
    }
   ],
   "source": [
    "string = \"ned academy\"\n",
    "\n",
    "new_string = string.upper()\n",
    "\n",
    "print(new_string)"
   ]
  },
  {
   "cell_type": "code",
   "execution_count": 34,
   "id": "ccfba8c2",
   "metadata": {},
   "outputs": [
    {
     "name": "stdout",
     "output_type": "stream",
     "text": [
      "HELLO, WORLD!\n"
     ]
    }
   ],
   "source": [
    "a = \"Hello, World!\"\n",
    "print(a.upper())"
   ]
  },
  {
   "cell_type": "code",
   "execution_count": 35,
   "id": "3f35211a",
   "metadata": {},
   "outputs": [
    {
     "name": "stdout",
     "output_type": "stream",
     "text": [
      "PAKISTAN ZINDABAD\n"
     ]
    }
   ],
   "source": [
    "original_string = \"pakistan zindabad\"\n",
    "new_string = original_string.upper()\n",
    "print(new_string)"
   ]
  },
  {
   "cell_type": "markdown",
   "id": "77a67c77",
   "metadata": {},
   "source": [
    "# Lower Case\n",
    "\n",
    "# The lower() method returns the string in lower case:"
   ]
  },
  {
   "cell_type": "code",
   "execution_count": 36,
   "id": "173c0a24",
   "metadata": {},
   "outputs": [
    {
     "name": "stdout",
     "output_type": "stream",
     "text": [
      "ned academy\n"
     ]
    }
   ],
   "source": [
    "string = \"NED ACADEMY\"\n",
    "\n",
    "new_string = string.lower()\n",
    "\n",
    "print(new_string)"
   ]
  },
  {
   "cell_type": "code",
   "execution_count": 37,
   "id": "6e7a2f04",
   "metadata": {},
   "outputs": [
    {
     "name": "stdout",
     "output_type": "stream",
     "text": [
      "hello world!\n"
     ]
    }
   ],
   "source": [
    "a = \"HELLO WORLD!\"\n",
    "print(a.lower())"
   ]
  },
  {
   "cell_type": "code",
   "execution_count": 38,
   "id": "444413b3",
   "metadata": {},
   "outputs": [
    {
     "name": "stdout",
     "output_type": "stream",
     "text": [
      "pakistan zindabad\n"
     ]
    }
   ],
   "source": [
    "original_string = \"PAKISTAN ZINDABAD\"\n",
    "new_string = original_string.lower()\n",
    "print(new_string)"
   ]
  },
  {
   "cell_type": "markdown",
   "id": "d7daa853",
   "metadata": {},
   "source": [
    "# Remove Whitespace\n",
    "\n",
    "# There are two ways to remove whitespace in Python strings:\n",
    "\n",
    "* Using the strip() method\n",
    "* Using the replace() method\n",
    "\n",
    "# The strip() method removes whitespace from the beginning and end of a string. The replace() method replaces all whitespace characters in a string with a single character.\n",
    "\n",
    "# For example, the following code uses the strip() method to remove whitespace from the beginning and end of the string \"   This is a string.   \":."
   ]
  },
  {
   "cell_type": "code",
   "execution_count": 39,
   "id": "3bb3313b",
   "metadata": {},
   "outputs": [
    {
     "name": "stdout",
     "output_type": "stream",
     "text": [
      " Hello, World!  \n",
      "\n",
      "Hello, World!\n"
     ]
    }
   ],
   "source": [
    "a = \" Hello, World! \"\n",
    "print(a,\"\\n\") # this is for printing actuall  line with spaces\n",
    "\n",
    "print(a.strip()) # this line is after removing white spaces"
   ]
  },
  {
   "cell_type": "code",
   "execution_count": 40,
   "id": "e4ab4974",
   "metadata": {
    "collapsed": true
   },
   "outputs": [
    {
     "name": "stdout",
     "output_type": "stream",
     "text": [
      "   This is a string.    \n",
      "\n",
      "This is a string.\n"
     ]
    }
   ],
   "source": [
    "string = \"   This is a string.   \"\n",
    "\n",
    "print(string,\"\\n\")\n",
    "\n",
    "new_string = string.strip()\n",
    "\n",
    "\n",
    "print(new_string)"
   ]
  },
  {
   "cell_type": "markdown",
   "id": "83f47465",
   "metadata": {},
   "source": [
    "# The following code uses the replace() method to replace all whitespace characters in the string \"   This is a string.   \" with the character ' ':"
   ]
  },
  {
   "cell_type": "code",
   "execution_count": 41,
   "id": "d762dee9",
   "metadata": {},
   "outputs": [
    {
     "name": "stdout",
     "output_type": "stream",
     "text": [
      "   This is a string.   \n",
      "''''''This''is''a''string.''''''\n"
     ]
    }
   ],
   "source": [
    "string = \"   This is a string.   \"\n",
    "\n",
    "print(string)\n",
    "\n",
    "new_string = string.replace(\" \", \"''\")\n",
    "\n",
    "print(new_string)"
   ]
  },
  {
   "cell_type": "markdown",
   "id": "5b3fcfeb",
   "metadata": {},
   "source": [
    "# Replace String\n",
    "\n",
    "# The replace() method replaces a string with another string:"
   ]
  },
  {
   "cell_type": "code",
   "execution_count": 42,
   "id": "1185631a",
   "metadata": {},
   "outputs": [
    {
     "name": "stdout",
     "output_type": "stream",
     "text": [
      "Jello, World!\n"
     ]
    }
   ],
   "source": [
    "a = \"Hello, World!\"\n",
    "print(a.replace(\"H\", \"J\"))"
   ]
  },
  {
   "cell_type": "markdown",
   "id": "f6a9a087",
   "metadata": {},
   "source": [
    "# The replace() method can be used to replace characters, substrings, or regular expressions. For example, the following code replaces all occurrences of the letter \"a\" with the letter \"b\" in the string \"This is a string.\" and then replaces all occurrences of the substring \"is\" with the substring \"was\":"
   ]
  },
  {
   "cell_type": "code",
   "execution_count": 43,
   "id": "459d371d",
   "metadata": {},
   "outputs": [
    {
     "name": "stdout",
     "output_type": "stream",
     "text": [
      "Thwas was b string.\n"
     ]
    }
   ],
   "source": [
    "string = \"This is a string.\"\n",
    "\n",
    "new_string = string.replace(\"a\", \"b\").replace(\"is\", \"was\")\n",
    "\n",
    "print(new_string)"
   ]
  },
  {
   "cell_type": "code",
   "execution_count": 45,
   "id": "76349240",
   "metadata": {},
   "outputs": [
    {
     "name": "stdout",
     "output_type": "stream",
     "text": [
      "This is b string.\n"
     ]
    }
   ],
   "source": [
    "\n",
    "string = \"This is a string.\"\n",
    "\n",
    "new_string = string.replace(\"a\", \"b\")\n",
    "\n",
    "print(new_string)"
   ]
  },
  {
   "cell_type": "markdown",
   "id": "ac707b9d",
   "metadata": {},
   "source": [
    "# Split String\n",
    "\n",
    "# The split() method returns a list where the text between the specified separator becomes the list items."
   ]
  },
  {
   "cell_type": "code",
   "execution_count": 46,
   "id": "84facdd2",
   "metadata": {},
   "outputs": [
    {
     "name": "stdout",
     "output_type": "stream",
     "text": [
      "['Hello', 'World!']\n"
     ]
    }
   ],
   "source": [
    "a = \"Hello World!\"\n",
    "print(a.split()) # returns ['Hello', ' World!'] "
   ]
  },
  {
   "cell_type": "code",
   "execution_count": 47,
   "id": "1f807e86",
   "metadata": {},
   "outputs": [
    {
     "name": "stdout",
     "output_type": "stream",
     "text": [
      "['This', 'is', 'a', 'string.']\n"
     ]
    }
   ],
   "source": [
    "string = \"This is a string.\"\n",
    "\n",
    "print(string.split())"
   ]
  },
  {
   "cell_type": "code",
   "execution_count": 48,
   "id": "09aca020",
   "metadata": {},
   "outputs": [
    {
     "name": "stdout",
     "output_type": "stream",
     "text": [
      "['This', 'is', 'a', 'string.']\n"
     ]
    }
   ],
   "source": [
    "string = \"This is a string.\"\n",
    "\n",
    "substrings = string.split(\" \")\n",
    "\n",
    "print(substrings)"
   ]
  },
  {
   "cell_type": "markdown",
   "id": "4a168726",
   "metadata": {},
   "source": [
    "# String Concatenation\n",
    "\n",
    "# To concatenate, or combine, two strings you can use the + operator."
   ]
  },
  {
   "cell_type": "code",
   "execution_count": 49,
   "id": "ee1ca5a6",
   "metadata": {},
   "outputs": [
    {
     "name": "stdout",
     "output_type": "stream",
     "text": [
      "HelloWorld\n"
     ]
    }
   ],
   "source": [
    "# Merge variable a with variable b into variable c:\n",
    "\n",
    "a = \"Hello\"\n",
    "b = \"World\"\n",
    "c = a + b\n",
    "print(c)"
   ]
  },
  {
   "cell_type": "code",
   "execution_count": 50,
   "id": "3cdb94ca",
   "metadata": {},
   "outputs": [
    {
     "name": "stdout",
     "output_type": "stream",
     "text": [
      "NED Academy\n"
     ]
    }
   ],
   "source": [
    "# Spaces between words\n",
    "\n",
    "\n",
    "a = \"NED\"\n",
    "b = \"Academy\"\n",
    "c = a+\" \"+b\n",
    "print(c)"
   ]
  },
  {
   "cell_type": "code",
   "execution_count": 51,
   "id": "7f6a9cb7",
   "metadata": {},
   "outputs": [
    {
     "name": "stdout",
     "output_type": "stream",
     "text": [
      "This is a long string.\n"
     ]
    }
   ],
   "source": [
    "string1 = \"This is \"\n",
    "string2 = \"a long string.\"\n",
    "\n",
    "print(string1 + string2)"
   ]
  },
  {
   "cell_type": "code",
   "execution_count": 52,
   "id": "a3a7d645",
   "metadata": {},
   "outputs": [
    {
     "name": "stdout",
     "output_type": "stream",
     "text": [
      "This is a long string.\n"
     ]
    }
   ],
   "source": [
    "string1 = \"This is \"\n",
    "string2 = \"a long string.\"\n",
    "\n",
    "new_string = string1 + string2\n",
    "\n",
    "print(new_string)"
   ]
  },
  {
   "cell_type": "code",
   "execution_count": 53,
   "id": "6748e650",
   "metadata": {},
   "outputs": [
    {
     "name": "stdout",
     "output_type": "stream",
     "text": [
      "The number is 123\n"
     ]
    }
   ],
   "source": [
    "string1 = \"The number is \"\n",
    "string2 = \"123\"\n",
    "\n",
    "new_string = string1 + string2\n",
    "\n",
    "print(new_string)"
   ]
  },
  {
   "cell_type": "code",
   "execution_count": 54,
   "id": "863ce0d6",
   "metadata": {},
   "outputs": [
    {
     "ename": "TypeError",
     "evalue": "can only concatenate str (not \"int\") to str",
     "output_type": "error",
     "traceback": [
      "\u001b[1;31m---------------------------------------------------------------------------\u001b[0m",
      "\u001b[1;31mTypeError\u001b[0m                                 Traceback (most recent call last)",
      "Cell \u001b[1;32mIn[54], line 7\u001b[0m\n\u001b[0;32m      4\u001b[0m string1 \u001b[38;5;241m=\u001b[39m \u001b[38;5;124m\"\u001b[39m\u001b[38;5;124mThe number is \u001b[39m\u001b[38;5;124m\"\u001b[39m\n\u001b[0;32m      5\u001b[0m string2 \u001b[38;5;241m=\u001b[39m \u001b[38;5;241m123\u001b[39m\n\u001b[1;32m----> 7\u001b[0m new_string \u001b[38;5;241m=\u001b[39m string1 \u001b[38;5;241m+\u001b[39m string2\n\u001b[0;32m      9\u001b[0m \u001b[38;5;28mprint\u001b[39m(new_string)\n",
      "\u001b[1;31mTypeError\u001b[0m: can only concatenate str (not \"int\") to str"
     ]
    }
   ],
   "source": [
    "# Integer and string data types can not be merged. sor for the concatenate we will have to convert Int datatype into string \n",
    "\n",
    "\n",
    "string1 = \"The number is \"\n",
    "string2 = 123\n",
    "\n",
    "new_string = string1 + string2\n",
    "\n",
    "print(new_string)"
   ]
  },
  {
   "cell_type": "code",
   "execution_count": 55,
   "id": "daa8ccd6",
   "metadata": {},
   "outputs": [
    {
     "name": "stdout",
     "output_type": "stream",
     "text": [
      "The number is 123\n"
     ]
    }
   ],
   "source": [
    "# converting datatype here\n",
    "\n",
    "string1 = \"The number is \"\n",
    "string2 = str(123)\n",
    "\n",
    "new_string = string1 + string2\n",
    "\n",
    "print(new_string)"
   ]
  },
  {
   "cell_type": "markdown",
   "id": "a3714b1c",
   "metadata": {},
   "source": [
    "# Count String"
   ]
  },
  {
   "cell_type": "code",
   "execution_count": 56,
   "id": "6ed3dc45",
   "metadata": {},
   "outputs": [
    {
     "name": "stdout",
     "output_type": "stream",
     "text": [
      "1\n"
     ]
    }
   ],
   "source": [
    "string = \"This is a string.\"\n",
    "\n",
    "substrings = string.count(\"a\")\n",
    "\n",
    "print(substrings)"
   ]
  },
  {
   "cell_type": "code",
   "execution_count": 57,
   "id": "e0a7085d",
   "metadata": {},
   "outputs": [
    {
     "name": "stdout",
     "output_type": "stream",
     "text": [
      "3\n"
     ]
    }
   ],
   "source": [
    "string = \"banana\"\n",
    "\n",
    "substring = \"a\"\n",
    "\n",
    "number_of_occurrences = string.count(substring)\n",
    "\n",
    "print(number_of_occurrences)"
   ]
  },
  {
   "cell_type": "code",
   "execution_count": 58,
   "id": "1568a1af",
   "metadata": {},
   "outputs": [
    {
     "name": "stdout",
     "output_type": "stream",
     "text": [
      "3\n"
     ]
    }
   ],
   "source": [
    "# Escape Characters\n",
    "\n",
    "txt = \"We are the so-called \\\"Vikings\\\" from the north.\"\n",
    "finda =txt.find(\"are\")\n",
    "print(finda)"
   ]
  },
  {
   "cell_type": "markdown",
   "id": "47b5adf1",
   "metadata": {},
   "source": [
    "# The format() method in Python is used to format strings. It takes a string as an argument and returns a new string with the specified formatting applied.\n",
    "\n",
    "# The formatting syntax is as follows:\n",
    "\n",
    "# \"{placeholder} {placeholder} {placeholder}\".format(value1, value2, value3)"
   ]
  },
  {
   "cell_type": "code",
   "execution_count": 59,
   "id": "d7d13a9e",
   "metadata": {
    "scrolled": true
   },
   "outputs": [
    {
     "ename": "TypeError",
     "evalue": "can only concatenate str (not \"int\") to str",
     "output_type": "error",
     "traceback": [
      "\u001b[1;31m---------------------------------------------------------------------------\u001b[0m",
      "\u001b[1;31mTypeError\u001b[0m                                 Traceback (most recent call last)",
      "Cell \u001b[1;32mIn[59], line 4\u001b[0m\n\u001b[0;32m      1\u001b[0m \u001b[38;5;66;03m# can only concatenate str (not \"int\") to str\u001b[39;00m\n\u001b[0;32m      3\u001b[0m age \u001b[38;5;241m=\u001b[39m \u001b[38;5;241m36\u001b[39m\n\u001b[1;32m----> 4\u001b[0m a \u001b[38;5;241m=\u001b[39m \u001b[38;5;124m\"\u001b[39m\u001b[38;5;124mMy name is Ali, I am \u001b[39m\u001b[38;5;124m\"\u001b[39m \u001b[38;5;241m+\u001b[39m age\n\u001b[0;32m      5\u001b[0m \u001b[38;5;28mprint\u001b[39m(a)\n",
      "\u001b[1;31mTypeError\u001b[0m: can only concatenate str (not \"int\") to str"
     ]
    }
   ],
   "source": [
    "# can only concatenate str (not \"int\") to str\n",
    "\n",
    "age = 36\n",
    "a = \"My name is Ali, I am \" + age\n",
    "print(a)"
   ]
  },
  {
   "cell_type": "code",
   "execution_count": 60,
   "id": "e52121ca",
   "metadata": {},
   "outputs": [
    {
     "name": "stdout",
     "output_type": "stream",
     "text": [
      "My name is Ali, and I am 27\n"
     ]
    }
   ],
   "source": [
    "# The format() method takes the passed arguments, formats them, and places them in the string where the placeholders {} are:\n",
    "\n",
    "age = 27\n",
    "a = \"My name is Ali, and I am {}\"\n",
    "print(a.format(age))\n"
   ]
  },
  {
   "cell_type": "code",
   "execution_count": 61,
   "id": "1957fbea",
   "metadata": {},
   "outputs": [
    {
     "name": "stdout",
     "output_type": "stream",
     "text": [
      "I want 3 pieces of item 567 for 49.95 dollars.\n"
     ]
    }
   ],
   "source": [
    "quantity = 3\n",
    "itemno = 567\n",
    "price = 49.95\n",
    "myorder = \"I want {} pieces of item {} for {} dollars.\"\n",
    "print(myorder.format(quantity, itemno, price))"
   ]
  },
  {
   "cell_type": "code",
   "execution_count": 62,
   "id": "8740c31e",
   "metadata": {},
   "outputs": [
    {
     "name": "stdout",
     "output_type": "stream",
     "text": [
      "I want to pay 49.95 dollars for 3 pieces of item 567.\n"
     ]
    }
   ],
   "source": [
    "quantity = 3\n",
    "itemno = 567\n",
    "price = 49.95\n",
    "myorder = \"I want to pay {2} dollars for {0} pieces of item {1}.\"\n",
    "print(myorder.format(quantity, itemno, price))"
   ]
  },
  {
   "cell_type": "code",
   "execution_count": 63,
   "id": "36d6a663",
   "metadata": {},
   "outputs": [
    {
     "name": "stdout",
     "output_type": "stream",
     "text": [
      "My name is Ali and I am 27 years old.\n"
     ]
    }
   ],
   "source": [
    "name = \"Ali\"\n",
    "age = 27\n",
    "\n",
    "print(\"My name is {name} and I am {age} years old.\".format(name=name,age=age))\n",
    "\n",
    "\n",
    "#The {name} placeholder is replaced with the value of the name variable,\n",
    "#and the {age} placeholder is replaced with the value of the age variable.The resulting output is:"
   ]
  },
  {
   "cell_type": "code",
   "execution_count": 64,
   "id": "26aae302",
   "metadata": {},
   "outputs": [
    {
     "name": "stdout",
     "output_type": "stream",
     "text": [
      "The number is 123456.\n",
      "The name is Ali       .\n",
      "The number is 12345 and the name is Ali       .\n"
     ]
    }
   ],
   "source": [
    "# Formatting a string with numbers\n",
    "\n",
    "print(\"The number is {number:05d}.\".format(number=123456))\n",
    "\n",
    "# Formatting a string with text\n",
    "\n",
    "print(\"The name is {name:<10s}.\".format(name=\"Ali\"))\n",
    "\n",
    "# Formatting a string with both numbers and text\n",
    "\n",
    "print(\"The number is {number:05d} and the name is {name:<10s}.\".format(number=12345, name=\"Ali\"))"
   ]
  },
  {
   "cell_type": "markdown",
   "id": "c3b62120",
   "metadata": {},
   "source": [
    "# There are so many methods in string \n",
    "\n",
    "# Method \tDescription\n",
    "\n",
    "* capitalize()\tConverts the first character to upper case\n",
    "* casefold()\tConverts string into lower case\n",
    "* center()\tReturns a centered string\n",
    "* count()\tReturns the number of times a specified value occurs in a string\n",
    "* encode()\tReturns an encoded version of the string\n",
    "* endswith()\tReturns true if the string ends with the specified value\n",
    "* expandtabs()\tSets the tab size of the string\n",
    "* find()\tSearches the string for a specified value and returns the position of where it was found\n",
    "* format()\tFormats specified values in a string\n",
    "* format_map()\tFormats specified values in a string\n",
    "* index()\tSearches the string for a specified value and returns the position of where it was found\n",
    "* isalnum()\tReturns True if all characters in the string are alphanumeric\n",
    "* isalpha()\tReturns True if all characters in the string are in the alphabet\n",
    "* isascii()\tReturns True if all characters in the string are ascii characters\n",
    "* isdecimal()\tReturns True if all characters in the string are decimals\n",
    "* isdigit()\tReturns True if all characters in the string are digits\n",
    "* isidentifier()\tReturns True if the string is an identifier\n",
    "* islower()\tReturns True if all characters in the string are lower case\n",
    "* isnumeric()\tReturns True if all characters in the string are numeric\n",
    "* isprintable()\tReturns True if all characters in the string are printable\n",
    "* isspace()\tReturns True if all characters in the string are whitespaces\n",
    "* istitle() \tReturns True if the string follows the rules of a title\n",
    "* isupper()\tReturns True if all characters in the string are upper case\n",
    "* join()\tJoins the elements of an iterable to the end of the string\n",
    "* ljust()\tReturns a left justified version of the string\n",
    "* lower()\tConverts a string into lower case\n",
    "* lstrip()\tReturns a left trim version of the string\n",
    "* maketrans()\tReturns a translation table to be used in translations\n",
    "* partition()\tReturns a tuple where the string is parted into three parts\n",
    "* replace()\tReturns a string where a specified value is replaced with a specified value\n",
    "* rfind()\tSearches the string for a specified value and returns the last position of where it was found\n",
    "* rindex()\tSearches the string for a specified value and returns the last position of where it was found\n",
    "* rjust()\tReturns a right justified version of the string\n",
    "* rpartition()\tReturns a tuple where the string is parted into three parts\n",
    "* rsplit()\tSplits the string at the specified separator, and returns a list\n",
    "* rstrip()\tReturns a right trim version of the string\n",
    "* split()\tSplits the string at the specified separator, and returns a list\n",
    "* splitlines()\tSplits the string at line breaks and returns a list\n",
    "* startswith()\tReturns true if the string starts with the specified value\n",
    "* strip()\tReturns a trimmed version of the string\n",
    "* swapcase()\tSwaps cases, lower case becomes upper case and vice versa\n",
    "* title()\tConverts the first character of each word to upper case\n",
    "* translate()\tReturns a translated string\n",
    "* upper()\tConverts a string into upper case\n",
    "* zfill()\tFills the string with a specified number of 0 values at the beginning\n"
   ]
  }
 ],
 "metadata": {
  "kernelspec": {
   "display_name": "Python 3 (ipykernel)",
   "language": "python",
   "name": "python3"
  },
  "language_info": {
   "codemirror_mode": {
    "name": "ipython",
    "version": 3
   },
   "file_extension": ".py",
   "mimetype": "text/x-python",
   "name": "python",
   "nbconvert_exporter": "python",
   "pygments_lexer": "ipython3",
   "version": "3.11.3"
  }
 },
 "nbformat": 4,
 "nbformat_minor": 5
}
