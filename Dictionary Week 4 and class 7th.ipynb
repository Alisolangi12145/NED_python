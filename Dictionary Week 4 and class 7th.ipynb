{
 "cells": [
  {
   "cell_type": "markdown",
   "id": "e899cf61",
   "metadata": {},
   "source": [
    "# ascii code\n"
   ]
  },
  {
   "cell_type": "code",
   "execution_count": 2,
   "id": "a25f34bc",
   "metadata": {},
   "outputs": [
    {
     "data": {
      "text/plain": [
       "'A'"
      ]
     },
     "execution_count": 2,
     "metadata": {},
     "output_type": "execute_result"
    }
   ],
   "source": [
    "chr(65)"
   ]
  },
  {
   "cell_type": "code",
   "execution_count": 3,
   "id": "f48af954",
   "metadata": {},
   "outputs": [
    {
     "name": "stdout",
     "output_type": "stream",
     "text": [
      "65\n",
      "66\n",
      "67\n",
      "68\n",
      "69\n",
      "70\n",
      "71\n",
      "72\n",
      "73\n",
      "74\n",
      "75\n",
      "76\n",
      "77\n",
      "78\n",
      "79\n",
      "80\n",
      "81\n",
      "82\n",
      "83\n",
      "84\n",
      "85\n",
      "86\n",
      "87\n",
      "88\n",
      "89\n",
      "90\n"
     ]
    }
   ],
   "source": [
    "l=list(range(65,91))\n",
    "for i in l:\n",
    "    print(i)"
   ]
  },
  {
   "cell_type": "code",
   "execution_count": 4,
   "id": "66a9d80d",
   "metadata": {},
   "outputs": [
    {
     "name": "stdout",
     "output_type": "stream",
     "text": [
      "A\n",
      "B\n",
      "C\n",
      "D\n",
      "E\n",
      "F\n",
      "G\n",
      "H\n",
      "I\n",
      "J\n",
      "K\n",
      "L\n",
      "M\n",
      "N\n",
      "O\n",
      "P\n",
      "Q\n",
      "R\n",
      "S\n",
      "T\n",
      "U\n",
      "V\n",
      "W\n",
      "X\n",
      "Y\n",
      "Z\n"
     ]
    }
   ],
   "source": [
    "l=list(range(65,91))\n",
    "for i in l:\n",
    "    print(chr(i))"
   ]
  },
  {
   "cell_type": "code",
   "execution_count": 38,
   "id": "2a9009f1",
   "metadata": {},
   "outputs": [
    {
     "data": {
      "text/plain": [
       "90"
      ]
     },
     "execution_count": 38,
     "metadata": {},
     "output_type": "execute_result"
    }
   ],
   "source": [
    "ord('Z')"
   ]
  },
  {
   "cell_type": "code",
   "execution_count": 5,
   "id": "545a03ce",
   "metadata": {
    "scrolled": false
   },
   "outputs": [
    {
     "data": {
      "text/plain": [
       "['A',\n",
       " 'B',\n",
       " 'C',\n",
       " 'D',\n",
       " 'E',\n",
       " 'F',\n",
       " 'G',\n",
       " 'H',\n",
       " 'I',\n",
       " 'J',\n",
       " 'K',\n",
       " 'L',\n",
       " 'M',\n",
       " 'N',\n",
       " 'O',\n",
       " 'P',\n",
       " 'Q',\n",
       " 'R',\n",
       " 'S',\n",
       " 'T',\n",
       " 'U',\n",
       " 'V',\n",
       " 'W',\n",
       " 'X',\n",
       " 'Y',\n",
       " 'Z']"
      ]
     },
     "execution_count": 5,
     "metadata": {},
     "output_type": "execute_result"
    }
   ],
   "source": [
    "[chr(i) for i in range(65,91)]"
   ]
  },
  {
   "cell_type": "code",
   "execution_count": null,
   "id": "1e3ff25e",
   "metadata": {},
   "outputs": [],
   "source": [
    "a =[\"Muhammad Ali\",\"Muhammad Qasim\",12]"
   ]
  },
  {
   "cell_type": "markdown",
   "id": "48c3b594",
   "metadata": {},
   "source": [
    "# Distionary\n",
    "* Key : str, int\n",
    "* Values : str ,int, float, list, tuple, set, dic.."
   ]
  },
  {
   "cell_type": "code",
   "execution_count": 9,
   "id": "9e3d15a3",
   "metadata": {},
   "outputs": [
    {
     "name": "stdout",
     "output_type": "stream",
     "text": [
      "{'Name': 'Ali Solangi', 'Fname': 'Ali Akbar', 'age': 30}\n"
     ]
    }
   ],
   "source": [
    "a ={\"Name\":'Ali Solangi',\n",
    "   \"Fname\":'Ali Akbar',\n",
    "   \"age\":30\n",
    "   }\n",
    "\n",
    "print(a)"
   ]
  },
  {
   "cell_type": "code",
   "execution_count": 18,
   "id": "6d65df1a",
   "metadata": {},
   "outputs": [
    {
     "name": "stdout",
     "output_type": "stream",
     "text": [
      "Ali Akbar\n"
     ]
    }
   ],
   "source": [
    "# Accessing Items\n",
    "\n",
    "a ={\"Name\":'Ali Solangi',\n",
    "   \"fname\":'Ali Akbar',\n",
    "   \"age\":30\n",
    "   }\n",
    "\n",
    "\n",
    "b =a[\"fname\"]\n",
    "print(b)"
   ]
  },
  {
   "cell_type": "code",
   "execution_count": 19,
   "id": "b96ddc3e",
   "metadata": {},
   "outputs": [
    {
     "data": {
      "text/plain": [
       "'Ali Solangi'"
      ]
     },
     "execution_count": 19,
     "metadata": {},
     "output_type": "execute_result"
    }
   ],
   "source": [
    "\n",
    "a[\"Name\"]"
   ]
  },
  {
   "cell_type": "code",
   "execution_count": 10,
   "id": "4d1a8af0",
   "metadata": {},
   "outputs": [
    {
     "name": "stdout",
     "output_type": "stream",
     "text": [
      "Name\n",
      "Fname\n",
      "age\n"
     ]
    }
   ],
   "source": [
    "a ={\"Name\":'Ali Solangi',\n",
    "   \"Fname\":'Ali Akbar',\n",
    "   \"age\":30\n",
    "   }\n",
    "for i in a:\n",
    "    print(i)"
   ]
  },
  {
   "cell_type": "code",
   "execution_count": 22,
   "id": "69e9f719",
   "metadata": {
    "scrolled": true
   },
   "outputs": [
    {
     "name": "stdout",
     "output_type": "stream",
     "text": [
      "{'rollno': [1, 2, 3, 4, 5], 'name': ['Ali', 'Qasim', 'Hassan', 'Hussain', 'Ahmed'], 'course': ['Ai', 'Data Science', 'Excel', 'Machine Learning', 'Deep learning']}\n"
     ]
    },
    {
     "data": {
      "text/html": [
       "<div>\n",
       "<style scoped>\n",
       "    .dataframe tbody tr th:only-of-type {\n",
       "        vertical-align: middle;\n",
       "    }\n",
       "\n",
       "    .dataframe tbody tr th {\n",
       "        vertical-align: top;\n",
       "    }\n",
       "\n",
       "    .dataframe thead th {\n",
       "        text-align: right;\n",
       "    }\n",
       "</style>\n",
       "<table border=\"1\" class=\"dataframe\">\n",
       "  <thead>\n",
       "    <tr style=\"text-align: right;\">\n",
       "      <th></th>\n",
       "      <th>rollno</th>\n",
       "      <th>name</th>\n",
       "      <th>course</th>\n",
       "    </tr>\n",
       "  </thead>\n",
       "  <tbody>\n",
       "    <tr>\n",
       "      <th>0</th>\n",
       "      <td>1</td>\n",
       "      <td>Ali</td>\n",
       "      <td>Ai</td>\n",
       "    </tr>\n",
       "    <tr>\n",
       "      <th>1</th>\n",
       "      <td>2</td>\n",
       "      <td>Qasim</td>\n",
       "      <td>Data Science</td>\n",
       "    </tr>\n",
       "    <tr>\n",
       "      <th>2</th>\n",
       "      <td>3</td>\n",
       "      <td>Hassan</td>\n",
       "      <td>Excel</td>\n",
       "    </tr>\n",
       "    <tr>\n",
       "      <th>3</th>\n",
       "      <td>4</td>\n",
       "      <td>Hussain</td>\n",
       "      <td>Machine Learning</td>\n",
       "    </tr>\n",
       "    <tr>\n",
       "      <th>4</th>\n",
       "      <td>5</td>\n",
       "      <td>Ahmed</td>\n",
       "      <td>Deep learning</td>\n",
       "    </tr>\n",
       "  </tbody>\n",
       "</table>\n",
       "</div>"
      ],
      "text/plain": [
       "   rollno     name            course\n",
       "0       1      Ali                Ai\n",
       "1       2    Qasim      Data Science\n",
       "2       3   Hassan             Excel\n",
       "3       4  Hussain  Machine Learning\n",
       "4       5    Ahmed     Deep learning"
      ]
     },
     "execution_count": 22,
     "metadata": {},
     "output_type": "execute_result"
    }
   ],
   "source": [
    "import pandas as pd\n",
    "\n",
    "\n",
    "data ={\"rollno\":[1,2,3,4,5],\n",
    "      \"name\":[\"Ali\",\"Qasim\",\"Hassan\",\"Hussain\",\"Ahmed\"],\n",
    "      \"course\":[\"Ai\",\"Data Science\",\"Excel\",\"Machine Learning\",\"Deep learning\"]}\n",
    "print(data)\n",
    "\n",
    "\n",
    "df =pd.DataFrame(data)\n",
    "df"
   ]
  },
  {
   "cell_type": "code",
   "execution_count": 39,
   "id": "6b77e4b9",
   "metadata": {},
   "outputs": [
    {
     "data": {
      "text/plain": [
       "dict_keys(['rollno', 'name', 'course'])"
      ]
     },
     "execution_count": 39,
     "metadata": {},
     "output_type": "execute_result"
    }
   ],
   "source": [
    "x=data.keys()\n",
    "x"
   ]
  },
  {
   "cell_type": "code",
   "execution_count": null,
   "id": "07bf1cf1",
   "metadata": {},
   "outputs": [],
   "source": []
  },
  {
   "cell_type": "markdown",
   "id": "a827cc27",
   "metadata": {},
   "source": [
    "# replace"
   ]
  },
  {
   "cell_type": "code",
   "execution_count": 28,
   "id": "cee00b47",
   "metadata": {},
   "outputs": [
    {
     "name": "stdout",
     "output_type": "stream",
     "text": [
      "False\n",
      "True\n",
      "True\n"
     ]
    }
   ],
   "source": [
    "\n",
    "\n",
    "a ='43205-5463326-9'=='4320554633269' #real data\n",
    "\n",
    "b='43205-5463326-9'=='43205-5463326-9'\n",
    "c='4320554633269'=='4320554633269'\n",
    "\n",
    "print(a)\n",
    "# print(b.replace(\"-\",\"\"))\n",
    "# print(c)\n",
    "\n",
    "\n",
    "\n",
    "print('43205-5463326-9'.replace(\"-\",\"\")=='43205-5463326-9'.replace(\"-\",\"\"))\n",
    "print('4320554633269'.replace(\"\",\"-\")=='4320554633269'.replace(\"\",\"-\"))"
   ]
  },
  {
   "cell_type": "code",
   "execution_count": 35,
   "id": "61236a99",
   "metadata": {},
   "outputs": [
    {
     "name": "stdout",
     "output_type": "stream",
     "text": [
      "{'a': 'pakistan', 20: 'Hello world', (1, 2, 3): 'abcd'}\n",
      "pakistan\n",
      "Hello world\n",
      "abcd\n"
     ]
    }
   ],
   "source": [
    "d ={'a':'pakistan',\n",
    "   20:'Hello world',\n",
    "   (1,2,3):'abcd', #wrong method no meaning of this key\n",
    "   }\n",
    "print(d)\n",
    "\n",
    "\n",
    "\n",
    "print(d['a'])\n",
    "print(d[20])\n",
    "print(d[(1,2,3)])"
   ]
  },
  {
   "cell_type": "code",
   "execution_count": 36,
   "id": "96f679ae",
   "metadata": {},
   "outputs": [
    {
     "ename": "TypeError",
     "evalue": "unhashable type: 'list'",
     "output_type": "error",
     "traceback": [
      "\u001b[1;31m---------------------------------------------------------------------------\u001b[0m",
      "\u001b[1;31mTypeError\u001b[0m                                 Traceback (most recent call last)",
      "Cell \u001b[1;32mIn[36], line 4\u001b[0m\n\u001b[0;32m      1\u001b[0m \u001b[38;5;66;03m# We can not make key of list\u001b[39;00m\n\u001b[1;32m----> 4\u001b[0m d \u001b[38;5;241m=\u001b[39m{\u001b[38;5;124m'\u001b[39m\u001b[38;5;124ma\u001b[39m\u001b[38;5;124m'\u001b[39m:\u001b[38;5;124m'\u001b[39m\u001b[38;5;124mpakistan\u001b[39m\u001b[38;5;124m'\u001b[39m,\n\u001b[0;32m      5\u001b[0m    \u001b[38;5;241m20\u001b[39m:\u001b[38;5;124m'\u001b[39m\u001b[38;5;124mHello world\u001b[39m\u001b[38;5;124m'\u001b[39m,\n\u001b[0;32m      6\u001b[0m    (\u001b[38;5;241m1\u001b[39m,\u001b[38;5;241m2\u001b[39m,\u001b[38;5;241m3\u001b[39m):\u001b[38;5;124m'\u001b[39m\u001b[38;5;124mabcd\u001b[39m\u001b[38;5;124m'\u001b[39m, \u001b[38;5;66;03m#wrong method no meaning of this key\u001b[39;00m\n\u001b[0;32m      7\u001b[0m     [\u001b[38;5;241m1\u001b[39m,\u001b[38;5;241m2\u001b[39m,\u001b[38;5;241m3\u001b[39m]:\u001b[38;5;124m'\u001b[39m\u001b[38;5;124mabcd\u001b[39m\u001b[38;5;124m'\u001b[39m\n\u001b[0;32m      8\u001b[0m    }\n\u001b[0;32m      9\u001b[0m \u001b[38;5;28mprint\u001b[39m(d)\n\u001b[0;32m     13\u001b[0m \u001b[38;5;28mprint\u001b[39m(d[\u001b[38;5;124m'\u001b[39m\u001b[38;5;124ma\u001b[39m\u001b[38;5;124m'\u001b[39m])\n",
      "\u001b[1;31mTypeError\u001b[0m: unhashable type: 'list'"
     ]
    }
   ],
   "source": [
    "# We can not make key of list\n",
    "\n",
    "\n",
    "d ={'a':'pakistan',\n",
    "   20:'Hello world',\n",
    "   (1,2,3):'abcd', #wrong method no meaning of this key\n",
    "    [1,2,3]:'abcd'\n",
    "   }\n",
    "print(d)\n",
    "\n",
    "\n",
    "\n",
    "print(d['a'])\n",
    "print(d[20])\n",
    "print(d[(1,2,3)])"
   ]
  },
  {
   "cell_type": "markdown",
   "id": "6abc4d97",
   "metadata": {},
   "source": [
    "# Tuple"
   ]
  },
  {
   "cell_type": "code",
   "execution_count": 43,
   "id": "7b3cd085",
   "metadata": {
    "scrolled": true
   },
   "outputs": [
    {
     "name": "stdout",
     "output_type": "stream",
     "text": [
      "Muhammad Qasim <class 'str'>\n"
     ]
    },
    {
     "ename": "TypeError",
     "evalue": "'str' object does not support item assignment",
     "output_type": "error",
     "traceback": [
      "\u001b[1;31m---------------------------------------------------------------------------\u001b[0m",
      "\u001b[1;31mTypeError\u001b[0m                                 Traceback (most recent call last)",
      "Cell \u001b[1;32mIn[43], line 4\u001b[0m\n\u001b[0;32m      1\u001b[0m a \u001b[38;5;241m=\u001b[39m \u001b[38;5;124m\"\u001b[39m\u001b[38;5;124mMuhammad Qasim\u001b[39m\u001b[38;5;124m\"\u001b[39m\n\u001b[0;32m      2\u001b[0m \u001b[38;5;28mprint\u001b[39m(a,\u001b[38;5;28mtype\u001b[39m(a))\n\u001b[1;32m----> 4\u001b[0m a[\u001b[38;5;241m0\u001b[39m]\u001b[38;5;241m=\u001b[39m\u001b[38;5;124m'\u001b[39m\u001b[38;5;124mm\u001b[39m\u001b[38;5;124m'\u001b[39m\n\u001b[0;32m      6\u001b[0m \u001b[38;5;28mprint\u001b[39m(a)\n",
      "\u001b[1;31mTypeError\u001b[0m: 'str' object does not support item assignment"
     ]
    }
   ],
   "source": [
    "# String\n",
    "\n",
    "a = \"Muhammad Qasim\"\n",
    "print(a,type(a))\n",
    "\n",
    "a[0]='m'   # can not be changed, immutable\n",
    "\n",
    "print(a)\n",
    "\n"
   ]
  },
  {
   "cell_type": "code",
   "execution_count": 52,
   "id": "2f81e33b",
   "metadata": {},
   "outputs": [
    {
     "name": "stdout",
     "output_type": "stream",
     "text": [
      "['__add__', '__class__', '__contains__', '__delattr__', '__dir__', '__doc__', '__eq__', '__format__', '__ge__', '__getattribute__', '__getitem__', '__getnewargs__', '__getstate__', '__gt__', '__hash__', '__init__', '__init_subclass__', '__iter__', '__le__', '__len__', '__lt__', '__mod__', '__mul__', '__ne__', '__new__', '__reduce__', '__reduce_ex__', '__repr__', '__rmod__', '__rmul__', '__setattr__', '__sizeof__', '__str__', '__subclasshook__', 'capitalize', 'casefold', 'center', 'count', 'encode', 'endswith', 'expandtabs', 'find', 'format', 'format_map', 'index', 'isalnum', 'isalpha', 'isascii', 'isdecimal', 'isdigit', 'isidentifier', 'islower', 'isnumeric', 'isprintable', 'isspace', 'istitle', 'isupper', 'join', 'ljust', 'lower', 'lstrip', 'maketrans', 'partition', 'removeprefix', 'removesuffix', 'replace', 'rfind', 'rindex', 'rjust', 'rpartition', 'rsplit', 'rstrip', 'split', 'splitlines', 'startswith', 'strip', 'swapcase', 'title', 'translate', 'upper', 'zfill']\n"
     ]
    }
   ],
   "source": [
    "t =('X','Y','Z')\n",
    "print(t,type(t))\n",
    "\n",
    "\n",
    "\n"
   ]
  },
  {
   "cell_type": "code",
   "execution_count": 54,
   "id": "d4b796c4",
   "metadata": {},
   "outputs": [
    {
     "name": "stdout",
     "output_type": "stream",
     "text": [
      "X\n",
      "Y\n",
      "Z\n"
     ]
    }
   ],
   "source": [
    "for i in t:\n",
    "    print(i)"
   ]
  },
  {
   "cell_type": "code",
   "execution_count": 53,
   "id": "422388a0",
   "metadata": {},
   "outputs": [
    {
     "name": "stdout",
     "output_type": "stream",
     "text": [
      "['capitalize', 'casefold', 'center', 'count', 'encode', 'endswith', 'expandtabs', 'find', 'format', 'format_map', 'index', 'isalnum', 'isalpha', 'isascii', 'isdecimal', 'isdigit', 'isidentifier', 'islower', 'isnumeric', 'isprintable', 'isspace', 'istitle', 'isupper', 'join', 'ljust', 'lower', 'lstrip', 'maketrans', 'partition', 'removeprefix', 'removesuffix', 'replace', 'rfind', 'rindex', 'rjust', 'rpartition', 'rsplit', 'rstrip', 'split', 'splitlines', 'startswith', 'strip', 'swapcase', 'title', 'translate', 'upper', 'zfill']\n"
     ]
    }
   ],
   "source": [
    "print([i for i in dir(a) if '__'not in i])"
   ]
  },
  {
   "cell_type": "code",
   "execution_count": 59,
   "id": "5ba569b5",
   "metadata": {},
   "outputs": [
    {
     "data": {
      "text/plain": [
       "'X'"
      ]
     },
     "execution_count": 59,
     "metadata": {},
     "output_type": "execute_result"
    }
   ],
   "source": [
    "t[0]\n"
   ]
  },
  {
   "cell_type": "code",
   "execution_count": 58,
   "id": "07171250",
   "metadata": {},
   "outputs": [
    {
     "data": {
      "text/plain": [
       "'Z'"
      ]
     },
     "execution_count": 58,
     "metadata": {},
     "output_type": "execute_result"
    }
   ],
   "source": [
    "t[-1]"
   ]
  },
  {
   "cell_type": "code",
   "execution_count": 60,
   "id": "7ed7ae37",
   "metadata": {},
   "outputs": [
    {
     "ename": "TypeError",
     "evalue": "'tuple' object does not support item assignment",
     "output_type": "error",
     "traceback": [
      "\u001b[1;31m---------------------------------------------------------------------------\u001b[0m",
      "\u001b[1;31mTypeError\u001b[0m                                 Traceback (most recent call last)",
      "Cell \u001b[1;32mIn[60], line 1\u001b[0m\n\u001b[1;32m----> 1\u001b[0m t[\u001b[38;5;241m0\u001b[39m]\u001b[38;5;241m=\u001b[39m\u001b[38;5;124m'\u001b[39m\u001b[38;5;124mA\u001b[39m\u001b[38;5;124m'\u001b[39m\n",
      "\u001b[1;31mTypeError\u001b[0m: 'tuple' object does not support item assignment"
     ]
    }
   ],
   "source": [
    "t[0]='A'"
   ]
  },
  {
   "cell_type": "code",
   "execution_count": 63,
   "id": "186e0eaa",
   "metadata": {},
   "outputs": [
    {
     "name": "stdout",
     "output_type": "stream",
     "text": [
      "('X', 'Y', 'Z')\n",
      "2172359196352\n",
      "('pakistan', 'y', 'z')\n",
      "2172360276608\n"
     ]
    }
   ],
   "source": [
    "a =(\"pakistan\",\"y\",\"z\")\n",
    "\n",
    "print(t)\n",
    "print(id(t))\n",
    "\n",
    "print(a)\n",
    "print(id(a))"
   ]
  },
  {
   "cell_type": "markdown",
   "id": "a299ac9a",
   "metadata": {},
   "source": [
    "# Calling Time\n",
    "\n",
    "* List_var[index]\n",
    "* tuple_var[index]\n",
    "* dic_var[key]\n",
    "* set_var[] there is no scope for indexing."
   ]
  },
  {
   "cell_type": "markdown",
   "id": "a632f90a",
   "metadata": {},
   "source": [
    "# Set"
   ]
  },
  {
   "cell_type": "code",
   "execution_count": 64,
   "id": "960232ec",
   "metadata": {},
   "outputs": [
    {
     "name": "stdout",
     "output_type": "stream",
     "text": [
      "{1, 2, 3, 4, 5}\n"
     ]
    }
   ],
   "source": [
    "# Not duplicate allow\n",
    "\n",
    "se ={1,2,3,4,5,1,1}\n",
    "print(se)"
   ]
  },
  {
   "cell_type": "code",
   "execution_count": 65,
   "id": "4761b210",
   "metadata": {},
   "outputs": [
    {
     "ename": "TypeError",
     "evalue": "'set' object is not subscriptable",
     "output_type": "error",
     "traceback": [
      "\u001b[1;31m---------------------------------------------------------------------------\u001b[0m",
      "\u001b[1;31mTypeError\u001b[0m                                 Traceback (most recent call last)",
      "Cell \u001b[1;32mIn[65], line 1\u001b[0m\n\u001b[1;32m----> 1\u001b[0m \u001b[38;5;28mprint\u001b[39m(se[\u001b[38;5;241m0\u001b[39m])\n",
      "\u001b[1;31mTypeError\u001b[0m: 'set' object is not subscriptable"
     ]
    }
   ],
   "source": [
    "print(se[0])"
   ]
  },
  {
   "cell_type": "code",
   "execution_count": 68,
   "id": "a6f16145",
   "metadata": {},
   "outputs": [
    {
     "name": "stdout",
     "output_type": "stream",
     "text": [
      "{'rollno': [1, 2, 3, 4, 5]}\n",
      "[1, 2, 3, 4, 5]\n",
      "3\n"
     ]
    }
   ],
   "source": [
    "data ={\"rollno\":[1,2,3,4,5]}\n",
    "\n",
    "\n",
    "print(data)\n",
    "print(data['rollno'])\n",
    "print(data['rollno'][2])"
   ]
  },
  {
   "cell_type": "code",
   "execution_count": 73,
   "id": "c672ee67",
   "metadata": {},
   "outputs": [
    {
     "name": "stdout",
     "output_type": "stream",
     "text": [
      "[1, 2, 3, {'id': '1', 'name': 'Ali'}]\n",
      "{'id': '1', 'name': 'Ali'}\n",
      "Ali\n"
     ]
    }
   ],
   "source": [
    "a=[1,2,3,{'id':'1','name':'Ali'}]\n",
    "print(a)\n",
    "print(a[-1])\n",
    "print(a[-1]['name'])"
   ]
  },
  {
   "cell_type": "code",
   "execution_count": 75,
   "id": "f14fafc9",
   "metadata": {},
   "outputs": [
    {
     "name": "stdout",
     "output_type": "stream",
     "text": [
      "[1, 2, 3, {'id': '1', 'name': 'Ali'}]\n",
      "<class 'list'>\n"
     ]
    },
    {
     "data": {
      "text/plain": [
       "True"
      ]
     },
     "execution_count": 75,
     "metadata": {},
     "output_type": "execute_result"
    }
   ],
   "source": [
    "print(a)\n",
    "print(type(a))\n",
    "\n",
    "isinstance(a,list)"
   ]
  },
  {
   "cell_type": "code",
   "execution_count": 76,
   "id": "654ee761",
   "metadata": {},
   "outputs": [
    {
     "data": {
      "text/plain": [
       "{1, 2, 3, 4, 5, 'a', 'b', 'c'}"
      ]
     },
     "execution_count": 76,
     "metadata": {},
     "output_type": "execute_result"
    }
   ],
   "source": [
    "{'c',1,2,3,4,5,'a','b','c'}"
   ]
  },
  {
   "cell_type": "code",
   "execution_count": 89,
   "id": "1d980e9b",
   "metadata": {},
   "outputs": [
    {
     "name": "stdout",
     "output_type": "stream",
     "text": [
      "<class 'list'>\n",
      "<class 'set'>\n"
     ]
    },
    {
     "ename": "TypeError",
     "evalue": "'set' object is not subscriptable",
     "output_type": "error",
     "traceback": [
      "\u001b[1;31m---------------------------------------------------------------------------\u001b[0m",
      "\u001b[1;31mTypeError\u001b[0m                                 Traceback (most recent call last)",
      "Cell \u001b[1;32mIn[89], line 10\u001b[0m\n\u001b[0;32m      6\u001b[0m \u001b[38;5;28mprint\u001b[39m(\u001b[38;5;28mtype\u001b[39m(a))\n\u001b[0;32m      8\u001b[0m \u001b[38;5;66;03m# converting set to list\u001b[39;00m\n\u001b[1;32m---> 10\u001b[0m \u001b[38;5;28mprint\u001b[39m(\u001b[38;5;28mlist\u001b[39m(\u001b[38;5;28mset\u001b[39m(a[\u001b[38;5;241m0\u001b[39m])))\n",
      "\u001b[1;31mTypeError\u001b[0m: 'set' object is not subscriptable"
     ]
    }
   ],
   "source": [
    "course =['AI','AI','DS','DS']\n",
    "print(type(course))\n",
    "\n",
    "\n",
    "a=set(course)\n",
    "print(type(a))\n",
    "\n",
    "# converting set to list\n",
    "\n",
    "print(list(set(a[0])))"
   ]
  },
  {
   "cell_type": "code",
   "execution_count": 95,
   "id": "25432aa8",
   "metadata": {},
   "outputs": [
    {
     "name": "stdout",
     "output_type": "stream",
     "text": [
      "['AI', 'AI', 'DS', 'DS'] <class 'list'>\n",
      "{'AI', 'DS'} <class 'set'>\n",
      "['AI', 'DS'] <class 'list'>\n",
      "['DS', 'AI'] <class 'list'>\n"
     ]
    }
   ],
   "source": [
    "course =['AI','AI','DS','DS']\n",
    "print(course ,type(course))\n",
    "\n",
    "\n",
    "course =set(course)\n",
    "print(course,type(course))\n",
    "\n",
    "\n",
    "\n",
    "course =list(course)\n",
    "print(course,type(course))\n",
    "\n",
    "\n",
    "\n",
    "course.reverse()\n",
    "print(course,type(course))"
   ]
  },
  {
   "cell_type": "code",
   "execution_count": 81,
   "id": "4fcd364a",
   "metadata": {},
   "outputs": [
    {
     "data": {
      "text/plain": [
       "{33, 4, 'a', 'b', 'd'}"
      ]
     },
     "execution_count": 81,
     "metadata": {},
     "output_type": "execute_result"
    }
   ],
   "source": [
    "a={'d',4,33,'a','b'}\n",
    "a"
   ]
  },
  {
   "cell_type": "code",
   "execution_count": 115,
   "id": "86fc26af",
   "metadata": {},
   "outputs": [
    {
     "name": "stdout",
     "output_type": "stream",
     "text": [
      "[1, 2, 2, 2, 2, 3, 4, 5, 'a', 'b', 'b', 'c'] <class 'list'>\n",
      "{'a', 1, 2, 3, 4, 5, 'b', 'c'} <class 'set'>\n",
      "['a', 1, 2, 3, 4, 5, 'b', 'c'] <class 'list'>\n",
      "['a', 1, 2, 3, 4, 5, 'b', 'c']\n",
      "['a', 'b', 'c']\n",
      "[1, 2, 3, 4, 5]\n",
      "['a', 'b', 'c', 1, 2, 3, 4, 5]\n",
      "None\n"
     ]
    }
   ],
   "source": [
    "a = [1,2,2,2,2,3,4,5,'a','b','b','c']\n",
    "\n",
    "print(a,type(a))\n",
    "\n",
    "a= set(a)\n",
    "# print(a,type(a))/\n",
    "print(a,type(a))\n",
    "\n",
    "a =list(a)\n",
    "print(a,type(a))\n",
    "\n",
    "\n",
    "a_string =[i for i in a]\n",
    "print(a_string)\n",
    "\n",
    "a_string =[i for i in a if isinstance (i,str)]  # show only characters\n",
    "print(a_string)\n",
    "\n",
    "\n",
    "a_integer =[i for i in a if isinstance (i,int)]  # show only integer\n",
    "print(a_integer)\n",
    "\n",
    "\n",
    "ab = a_string + a_integer\n",
    "print(ab)\n",
    "\n",
    "\n",
    "ab =a_string.extend(a_integer)\n",
    "print(ab)"
   ]
  },
  {
   "cell_type": "code",
   "execution_count": 117,
   "id": "6a1ea9aa",
   "metadata": {},
   "outputs": [
    {
     "name": "stdout",
     "output_type": "stream",
     "text": [
      "[1, 2, 3, 4, 5]\n"
     ]
    }
   ],
   "source": [
    "a_integer =sorted(a_integer)\n",
    "print(a_integer )"
   ]
  },
  {
   "cell_type": "code",
   "execution_count": 119,
   "id": "ab918417",
   "metadata": {},
   "outputs": [
    {
     "name": "stdout",
     "output_type": "stream",
     "text": [
      "Enter your fName:ali\n",
      "Enter your Lname:solangi\n",
      "Enter your Roll no:56\n",
      "{'fname': 'ali', 'Lname': 'solangi', 'rollno': '56'}\n"
     ]
    }
   ],
   "source": [
    "#input\n",
    "\n",
    "d ={'fname':input(\"Enter your fName:\"),\n",
    "   'Lname':input(\"Enter your Lname:\"),\n",
    "   'rollno':input(\"Enter your Roll no:\")}\n",
    "\n",
    "print(d)"
   ]
  },
  {
   "cell_type": "code",
   "execution_count": 120,
   "id": "f9f86f34",
   "metadata": {},
   "outputs": [
    {
     "data": {
      "text/plain": [
       "False"
      ]
     },
     "execution_count": 120,
     "metadata": {},
     "output_type": "execute_result"
    }
   ],
   "source": [
    "isinstance(\"pakistan\",int)"
   ]
  },
  {
   "cell_type": "code",
   "execution_count": 122,
   "id": "87ffde50",
   "metadata": {},
   "outputs": [
    {
     "name": "stdout",
     "output_type": "stream",
     "text": [
      "False\n",
      "False\n",
      "False\n",
      "True\n",
      "False\n"
     ]
    }
   ],
   "source": [
    "i = [1,2,3,4]\n",
    "\n",
    "print(isinstance(i,int))\n",
    "print(isinstance(i,str))\n",
    "print(isinstance(i,tuple))\n",
    "print(isinstance(i,list))\n",
    "print(isinstance(i,set))"
   ]
  },
  {
   "cell_type": "code",
   "execution_count": null,
   "id": "2725b0ea",
   "metadata": {},
   "outputs": [],
   "source": []
  }
 ],
 "metadata": {
  "kernelspec": {
   "display_name": "Python 3 (ipykernel)",
   "language": "python",
   "name": "python3"
  },
  "language_info": {
   "codemirror_mode": {
    "name": "ipython",
    "version": 3
   },
   "file_extension": ".py",
   "mimetype": "text/x-python",
   "name": "python",
   "nbconvert_exporter": "python",
   "pygments_lexer": "ipython3",
   "version": "3.11.4"
  }
 },
 "nbformat": 4,
 "nbformat_minor": 5
}
