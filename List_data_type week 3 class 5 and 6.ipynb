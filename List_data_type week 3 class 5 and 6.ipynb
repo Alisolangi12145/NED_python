{
 "cells": [
  {
   "cell_type": "code",
   "execution_count": null,
   "id": "b6fd629c",
   "metadata": {},
   "outputs": [],
   "source": [
    "import array\n",
    "\n",
    "# Create an array of integers\n",
    "arr = array.array('i', [1, 2, 3, 4, 5])\n",
    "\n",
    "# Print the array\n",
    "print(arr)\n",
    "print(type(arr))"
   ]
  },
  {
   "cell_type": "code",
   "execution_count": null,
   "id": "896035e6",
   "metadata": {},
   "outputs": [],
   "source": [
    "cars = [\"Ford\", \"Volvo\", \"BMW\"]\n",
    "\n",
    "cars[0] = \"Toyota\"\n",
    "\n",
    "print(cars)\n",
    "print(type(cars))\n"
   ]
  },
  {
   "cell_type": "markdown",
   "id": "968b134f",
   "metadata": {},
   "source": [
    "#  list data type\n",
    "* heterogeneous data\n",
    "* dynamic length\n",
    "* dynamic memory management\n"
   ]
  },
  {
   "cell_type": "code",
   "execution_count": null,
   "id": "092cfe8c",
   "metadata": {},
   "outputs": [],
   "source": [
    "names=[\"Hammad\",\"Hassan\",\"Hussain\",\"Kamran\"]\n",
    "print(names)"
   ]
  },
  {
   "cell_type": "code",
   "execution_count": null,
   "id": "d17e3148",
   "metadata": {
    "scrolled": true
   },
   "outputs": [],
   "source": [
    "#input in list\n",
    "\n",
    "name1=input(\"please insert name with ',' seprated:\")\n",
    "\n",
    "print(name1.split())"
   ]
  },
  {
   "cell_type": "code",
   "execution_count": null,
   "id": "16807536",
   "metadata": {},
   "outputs": [],
   "source": [
    "#input in list and for loop\n",
    "\n",
    "name1=input(\"please insert name with ',' seprated:\")\n",
    "\n",
    "print(name1.split())\n",
    "\n",
    "for i in name1:\n",
    "    print(i)"
   ]
  },
  {
   "cell_type": "code",
   "execution_count": 8,
   "id": "523b14d1",
   "metadata": {},
   "outputs": [
    {
     "name": "stdout",
     "output_type": "stream",
     "text": [
      "please insert name with ',' seprated:ali,asad,hassan\n",
      "['ali,asad,hassan']\n",
      "ali,asad,hassan\n"
     ]
    }
   ],
   "source": [
    "#input in list and for loop\n",
    "\n",
    "name1=input(\"please insert name with ',' seprated:\")\n",
    "\n",
    "name1=name1.split()\n",
    "\n",
    "print(name1)\n",
    "for i in name1:\n",
    "    print(i)"
   ]
  },
  {
   "cell_type": "markdown",
   "id": "feb02289",
   "metadata": {},
   "source": [
    "# Access list through indexing "
   ]
  },
  {
   "cell_type": "code",
   "execution_count": null,
   "id": "44367304",
   "metadata": {},
   "outputs": [],
   "source": [
    "names=[\"Hammad\",\"Hassan\",\"Hussain\",\"Kamran\"]\n",
    "print(names[0])"
   ]
  },
  {
   "cell_type": "code",
   "execution_count": null,
   "id": "bfdaafd5",
   "metadata": {},
   "outputs": [],
   "source": [
    "names=[\"Hammad\",\"Hassan\",\"Hussain\",\"Kamran\"]\n",
    "print(names[-2])"
   ]
  },
  {
   "cell_type": "markdown",
   "id": "ab529801",
   "metadata": {},
   "source": [
    "# Slicing on list\n",
    "* listing_variable[start:end:step]\n",
    "* Start =this number will be included\n",
    "* end = excluded end-1\n",
    "* step= sequance /gap"
   ]
  },
  {
   "cell_type": "code",
   "execution_count": 13,
   "id": "773fabde",
   "metadata": {
    "scrolled": true
   },
   "outputs": [
    {
     "name": "stdout",
     "output_type": "stream",
     "text": [
      "[1, 2, 3, 4, 5, 6, 7, 8, 9, 10]\n"
     ]
    }
   ],
   "source": [
    "print(list(range(1,11)))"
   ]
  },
  {
   "cell_type": "code",
   "execution_count": 22,
   "id": "0137af43",
   "metadata": {
    "scrolled": true
   },
   "outputs": [
    {
     "name": "stdout",
     "output_type": "stream",
     "text": [
      "[1, 2, 3, 4, 5, 6, 7, 8, 9, 10]\n",
      "[1, 2, 3, 4, 5, 6, 7, 8, 9, 10]\n",
      "[2, 4, 6]\n",
      "[2, 3, 4, 5, 6, 7]\n",
      "[2]\n",
      "1\n"
     ]
    }
   ],
   "source": [
    "a =list(range(1,11))\n",
    "print(a)\n",
    "\n",
    "print(a[1:7:2])\n",
    "print(a[1:7])\n",
    "print(a[1:2])\n",
    "print(a[0])\n"
   ]
  },
  {
   "cell_type": "code",
   "execution_count": 34,
   "id": "91ec0804",
   "metadata": {},
   "outputs": [
    {
     "name": "stdout",
     "output_type": "stream",
     "text": [
      "[1, 2, 3, 4, 5, 6, 7, 8, 9, 10]\n",
      "[4, 5, 6, 7, 8, 9, 10]\n",
      "[2, 3, 4, 5, 6, 7, 8, 9]\n",
      "[1, 3, 5, 7, 9]\n",
      "[2, 4, 6, 8, 10]\n",
      "[2, 4, 6, 8]\n"
     ]
    }
   ],
   "source": [
    "a =list(range(1,11))\n",
    "print(a)\n",
    "print(a[-7:])\n",
    "print(a[1:-1])\n",
    "print(a[::2])\n",
    "print(a[1::2])\n",
    "print(a[1:8:2])"
   ]
  },
  {
   "cell_type": "code",
   "execution_count": 44,
   "id": "9f376c63",
   "metadata": {},
   "outputs": [
    {
     "name": "stdout",
     "output_type": "stream",
     "text": [
      "[1, 2, 3, 4, 5, 6, 7, 8, 9, 10]\n",
      "[10, 9, 8, 7, 6, 5, 4, 3, 2, 1]\n",
      "[6, 5, 4, 3, 2]\n",
      "[6, 4, 2]\n",
      "[]\n"
     ]
    }
   ],
   "source": [
    "a =list(range(1,11))\n",
    "print(a)\n",
    "print(a[::-1])\n",
    "print(a[-5:-10:-1])\n",
    "print(a[-5:-10:-2])\n",
    "print(a[-5:-10])"
   ]
  },
  {
   "cell_type": "code",
   "execution_count": 40,
   "id": "6d036097",
   "metadata": {},
   "outputs": [
    {
     "name": "stdout",
     "output_type": "stream",
     "text": [
      "list['abcdefghijklmnopqrstuvwxyz']\n"
     ]
    }
   ],
   "source": [
    "character = list[\"abcdefghijklmnopqrstuvwxyz\"]\n",
    "print(character)\n"
   ]
  },
  {
   "cell_type": "code",
   "execution_count": 12,
   "id": "9bf373a5",
   "metadata": {},
   "outputs": [
    {
     "name": "stdout",
     "output_type": "stream",
     "text": [
      "['a', 'b', 'c', 'd', 'e', 'f', 'g', 'h', 'i', 'j', 'k', 'l', 'm', 'n', 'o', 'p', 'q', 'r', 's', 't', 'u', 'v', 'w', 'x', 'y', 'z']\n",
      "<class 'list'>\n",
      "a\n",
      "b\n",
      "c\n",
      "d\n",
      "e\n",
      "f\n",
      "g\n",
      "h\n",
      "i\n",
      "j\n",
      "k\n",
      "l\n",
      "m\n",
      "n\n",
      "o\n",
      "p\n",
      "q\n",
      "r\n",
      "s\n",
      "t\n",
      "u\n",
      "v\n",
      "w\n",
      "x\n",
      "y\n",
      "z\n"
     ]
    }
   ],
   "source": [
    "character = list(\"abcdefghijklmnopqrstuvwxyz\")\n",
    "print(character)\n",
    "print(type(character))\n",
    "\n",
    "\n",
    "counter =0\n",
    "\n",
    "while(counter <len(character)):\n",
    "    print(character[counter])\n",
    "    counter +=1"
   ]
  },
  {
   "cell_type": "code",
   "execution_count": null,
   "id": "752c6334",
   "metadata": {},
   "outputs": [],
   "source": [
    "character = list(\"abcdefghijklmnopqrstuvwxyz\")\n",
    "print(character)\n",
    "print(type(character))\n",
    "\n",
    "\n",
    "counter =0\n",
    "\n",
    "while(counter <len(character)):\n",
    "    print(character[counter])\n",
    "    counter +=2"
   ]
  },
  {
   "cell_type": "code",
   "execution_count": 48,
   "id": "839161d9",
   "metadata": {},
   "outputs": [
    {
     "name": "stdout",
     "output_type": "stream",
     "text": [
      "[[1, 2, 3, 4, 5, 6, 7, 8, 9, 10], [11, 12, 13, 14, 15, 16, 17, 18, 19, 20], [21, 22, 23, 24, 25, 26, 27, 28, 29, 30], [31, 32, 33, 34, 35, 36, 37, 38, 39, 40], [41, 42, 43, 44, 45, 46, 47, 48, 49, 50], [51, 52, 53, 54, 55, 56, 57, 58, 59, 60], [61, 62, 63, 64, 65, 66, 67, 68, 69, 70], [71, 72, 73, 74, 75, 76, 77, 78, 79, 80], [81, 82, 83, 84, 85, 86, 87, 88, 89, 90], [91, 92, 93, 94, 95, 96, 97, 98, 99, 100]]\n"
     ]
    }
   ],
   "source": [
    "import numpy as np\n",
    "\n",
    "\n",
    "a =np.arange(1,101).reshape(10,10).tolist()\n",
    "print(a)\n",
    "\n"
   ]
  },
  {
   "cell_type": "code",
   "execution_count": 49,
   "id": "1a0a8eb8",
   "metadata": {
    "scrolled": true
   },
   "outputs": [
    {
     "data": {
      "text/plain": [
       "[[1, 2, 3, 4, 5, 6, 7, 8, 9, 10],\n",
       " [11, 12, 13, 14, 15, 16, 17, 18, 19, 20],\n",
       " [21, 22, 23, 24, 25, 26, 27, 28, 29, 30],\n",
       " [31, 32, 33, 34, 35, 36, 37, 38, 39, 40],\n",
       " [41, 42, 43, 44, 45, 46, 47, 48, 49, 50],\n",
       " [51, 52, 53, 54, 55, 56, 57, 58, 59, 60],\n",
       " [61, 62, 63, 64, 65, 66, 67, 68, 69, 70],\n",
       " [71, 72, 73, 74, 75, 76, 77, 78, 79, 80],\n",
       " [81, 82, 83, 84, 85, 86, 87, 88, 89, 90],\n",
       " [91, 92, 93, 94, 95, 96, 97, 98, 99, 100]]"
      ]
     },
     "metadata": {},
     "output_type": "display_data"
    }
   ],
   "source": [
    "display(a)"
   ]
  },
  {
   "cell_type": "code",
   "execution_count": 50,
   "id": "ec6f8370",
   "metadata": {
    "scrolled": false
   },
   "outputs": [
    {
     "data": {
      "text/plain": [
       "[[6, 7, 8],\n",
       " [16, 17, 18],\n",
       " [26, 27, 28],\n",
       " [36, 37, 38],\n",
       " [46, 47, 48],\n",
       " [56, 57, 58],\n",
       " [66, 67, 68],\n",
       " [76, 77, 78],\n",
       " [86, 87, 88],\n",
       " [96, 97, 98]]"
      ]
     },
     "execution_count": 50,
     "metadata": {},
     "output_type": "execute_result"
    }
   ],
   "source": [
    "[i[5:8]for i in a]"
   ]
  },
  {
   "cell_type": "markdown",
   "id": "aaec78e9",
   "metadata": {},
   "source": [
    "# List Method"
   ]
  },
  {
   "cell_type": "code",
   "execution_count": 51,
   "id": "5f7d428d",
   "metadata": {},
   "outputs": [
    {
     "name": "stdout",
     "output_type": "stream",
     "text": [
      "[1, 2, 3, 4, 5, 6, 7, 8, 9, 10]\n"
     ]
    }
   ],
   "source": [
    "a =list(range(1,11))\n",
    "print(a)"
   ]
  },
  {
   "cell_type": "code",
   "execution_count": 52,
   "id": "e04e7307",
   "metadata": {
    "scrolled": true
   },
   "outputs": [
    {
     "data": {
      "text/plain": [
       "['__add__',\n",
       " '__class__',\n",
       " '__class_getitem__',\n",
       " '__contains__',\n",
       " '__delattr__',\n",
       " '__delitem__',\n",
       " '__dir__',\n",
       " '__doc__',\n",
       " '__eq__',\n",
       " '__format__',\n",
       " '__ge__',\n",
       " '__getattribute__',\n",
       " '__getitem__',\n",
       " '__getstate__',\n",
       " '__gt__',\n",
       " '__hash__',\n",
       " '__iadd__',\n",
       " '__imul__',\n",
       " '__init__',\n",
       " '__init_subclass__',\n",
       " '__iter__',\n",
       " '__le__',\n",
       " '__len__',\n",
       " '__lt__',\n",
       " '__mul__',\n",
       " '__ne__',\n",
       " '__new__',\n",
       " '__reduce__',\n",
       " '__reduce_ex__',\n",
       " '__repr__',\n",
       " '__reversed__',\n",
       " '__rmul__',\n",
       " '__setattr__',\n",
       " '__setitem__',\n",
       " '__sizeof__',\n",
       " '__str__',\n",
       " '__subclasshook__',\n",
       " 'append',\n",
       " 'clear',\n",
       " 'copy',\n",
       " 'count',\n",
       " 'extend',\n",
       " 'index',\n",
       " 'insert',\n",
       " 'pop',\n",
       " 'remove',\n",
       " 'reverse',\n",
       " 'sort']"
      ]
     },
     "execution_count": 52,
     "metadata": {},
     "output_type": "execute_result"
    }
   ],
   "source": [
    "dir(a)"
   ]
  },
  {
   "cell_type": "code",
   "execution_count": 53,
   "id": "ac89e987",
   "metadata": {
    "scrolled": true
   },
   "outputs": [
    {
     "data": {
      "text/plain": [
       "['append',\n",
       " 'clear',\n",
       " 'copy',\n",
       " 'count',\n",
       " 'extend',\n",
       " 'index',\n",
       " 'insert',\n",
       " 'pop',\n",
       " 'remove',\n",
       " 'reverse',\n",
       " 'sort']"
      ]
     },
     "execution_count": 53,
     "metadata": {},
     "output_type": "execute_result"
    }
   ],
   "source": [
    "[i for i in dir(a) if\"__\" not in i]"
   ]
  },
  {
   "cell_type": "code",
   "execution_count": 55,
   "id": "4b4a84ba",
   "metadata": {},
   "outputs": [
    {
     "name": "stdout",
     "output_type": "stream",
     "text": [
      "a\n",
      "b\n",
      "c\n",
      "d\n",
      "e\n",
      "f\n",
      "g\n",
      "h\n",
      "i\n"
     ]
    }
   ],
   "source": [
    "for i in \"abcdefghi\":\n",
    "    print(i)"
   ]
  },
  {
   "cell_type": "code",
   "execution_count": 58,
   "id": "4cc8306b",
   "metadata": {},
   "outputs": [
    {
     "data": {
      "text/plain": [
       "['a', 'b', 'c', 'd', 'e', 'f', 'g', 'h', 'i']"
      ]
     },
     "execution_count": 58,
     "metadata": {},
     "output_type": "execute_result"
    }
   ],
   "source": [
    "[i for i in \"abcdefghi\"]"
   ]
  },
  {
   "cell_type": "code",
   "execution_count": 59,
   "id": "39f5b1e7",
   "metadata": {},
   "outputs": [
    {
     "name": "stdout",
     "output_type": "stream",
     "text": [
      "Ali Hello\n",
      "Hassan Hello\n",
      "Hussain Hello\n"
     ]
    }
   ],
   "source": [
    "for i in [\"Ali\",\"Hassan\",\"Hussain\"]:\n",
    "    print(i,\"Hello\")"
   ]
  },
  {
   "cell_type": "code",
   "execution_count": 66,
   "id": "9d2fe646",
   "metadata": {},
   "outputs": [
    {
     "name": "stdout",
     "output_type": "stream",
     "text": [
      "[]\n",
      "['Qasim']\n",
      "['Qasim', 'Asif']\n",
      "['Qasim', 'Asif', 'Hamza']\n",
      "['Qasim', 'Asif', 'Hamza', 'Sohail']\n"
     ]
    }
   ],
   "source": [
    "names =[]\n",
    "print(names)\n",
    "\n",
    "names.append(\"Qasim\")\n",
    "print(names)\n",
    "\n",
    "names.append(\"Asif\")\n",
    "print(names)\n",
    "\n",
    "names.append(\"Hamza\")\n",
    "print(names)\n",
    "\n",
    "names.append(\"Sohail\")\n",
    "print(names)"
   ]
  },
  {
   "cell_type": "code",
   "execution_count": 68,
   "id": "5209911c",
   "metadata": {},
   "outputs": [
    {
     "name": "stdout",
     "output_type": "stream",
     "text": [
      "Enter Student name | x for exit:asif\n",
      "Enter Student name | x for exit:salman\n",
      "Enter Student name | x for exit:shahid\n",
      "Enter Student name | x for exit:kashif\n",
      "Enter Student name | x for exit:Hassan\n",
      "Enter Student name | x for exit:Hussain\n",
      "Enter Student name | x for exit:Abid \n",
      "Enter Student name | x for exit:parvez\n",
      "Enter Student name | x for exit:x\n",
      "['Qasim', 'Asif', 'Hamza', 'Sohail', 'asif', 'salman', 'shahid', 'kashif', 'Hassan', 'Hussain', 'Abid ', 'parvez']\n"
     ]
    }
   ],
   "source": [
    "while True:\n",
    "    name1 =input(\"Enter Student name | x for exit:\")\n",
    "    if name1 == \"X\" or name1 == \"x\":\n",
    "        break\n",
    "    names.append(name1)\n",
    "print(names)"
   ]
  },
  {
   "cell_type": "code",
   "execution_count": 72,
   "id": "94f170c9",
   "metadata": {},
   "outputs": [
    {
     "name": "stdout",
     "output_type": "stream",
     "text": [
      "['Qasim', 'Asif', 'Hamza', 'Sohail', 'asif', 'salman', 'shahid', 'kashif', 'Hassan', 'Hussain', 'Abid ', 'parvez']\n"
     ]
    }
   ],
   "source": [
    "std_name =names\n",
    "print(std_name)"
   ]
  },
  {
   "cell_type": "code",
   "execution_count": 73,
   "id": "65f00332",
   "metadata": {},
   "outputs": [
    {
     "data": {
      "text/plain": [
       "'Qasim'"
      ]
     },
     "execution_count": 73,
     "metadata": {},
     "output_type": "execute_result"
    }
   ],
   "source": [
    "std_name[0]"
   ]
  },
  {
   "cell_type": "code",
   "execution_count": 75,
   "id": "dde68392",
   "metadata": {},
   "outputs": [
    {
     "name": "stdout",
     "output_type": "stream",
     "text": [
      "['Muhammad Qasim', 'Asif', 'Hamza', 'Sohail', 'asif', 'salman', 'shahid', 'kashif', 'Hassan', 'Hussain', 'Abid ', 'parvez']\n",
      "['Muhammad Qasim', 'Asif', 'Hamza', 'Sohail', 'asif', 'salman', 'shahid', 'kashif', 'Hassan', 'Hussain', 'Abid ', 'parvez']\n"
     ]
    }
   ],
   "source": [
    "std_name[0] =\"Muhammad Qasim\"\n",
    "print(std_name)\n",
    "print(names)"
   ]
  },
  {
   "cell_type": "code",
   "execution_count": 76,
   "id": "e3d19377",
   "metadata": {},
   "outputs": [
    {
     "name": "stdout",
     "output_type": "stream",
     "text": [
      "['Muhammad Qasim', 'Asif', 'Hamza', 'Sohail', 'asif', 'salman', 'shahid', 'kashif', 'Hassan', 'Hussain', 'Abid ', 'parvez']\n"
     ]
    }
   ],
   "source": [
    "std_name1 =names.copy()  # deep copy\n",
    "print(std_name1)"
   ]
  },
  {
   "cell_type": "code",
   "execution_count": 78,
   "id": "45e40039",
   "metadata": {},
   "outputs": [
    {
     "name": "stdout",
     "output_type": "stream",
     "text": [
      "['Qasim', 'Asif', 'Hamza', 'Sohail', 'asif', 'salman', 'shahid', 'kashif', 'Hassan', 'Hussain', 'Abid ', 'parvez']\n",
      "['Muhammad Qasim', 'Asif', 'Hamza', 'Sohail', 'asif', 'salman', 'shahid', 'kashif', 'Hassan', 'Hussain', 'Abid ', 'parvez']\n"
     ]
    }
   ],
   "source": [
    "std_name1[0]=\"Qasim\"\n",
    "print(std_name1)\n",
    "print(names)"
   ]
  },
  {
   "cell_type": "code",
   "execution_count": 87,
   "id": "f8f67eaf",
   "metadata": {},
   "outputs": [
    {
     "name": "stdout",
     "output_type": "stream",
     "text": [
      "['Muhammad Qasim', 'Asif', 'Hamza', 'Sohail', 'asif', 'salman', 'shahid', 'kashif', 'Hassan', 'Hussain', 'Abid ', 'parvez']\n",
      "['Qasim', 'Asif', 'Hamza', 'Sohail', 'asif', 'salman', 'shahid', 'kashif', 'Hassan', 'Hussain', 'Abid ', 'parvez']\n",
      "['Muhammad Qasim', 'Asif', 'Hamza', 'Sohail', 'asif', 'salman', 'shahid', 'kashif', 'Hassan', 'Hussain', 'Abid ', 'parvez']\n"
     ]
    }
   ],
   "source": [
    "print(names)\n",
    "n =names[:]   # deep copy\n",
    "n[0]=\"Qasim\"\n",
    "print(n)\n",
    "print(names)"
   ]
  },
  {
   "cell_type": "code",
   "execution_count": 88,
   "id": "a231e2de",
   "metadata": {},
   "outputs": [
    {
     "data": {
      "text/plain": [
       "['Muhammad Qasim',\n",
       " 'Asif',\n",
       " 'Hamza',\n",
       " 'Sohail',\n",
       " 'asif',\n",
       " 'salman',\n",
       " 'shahid',\n",
       " 'kashif',\n",
       " 'Hassan',\n",
       " 'Hussain',\n",
       " 'Abid ',\n",
       " 'parvez']"
      ]
     },
     "execution_count": 88,
     "metadata": {},
     "output_type": "execute_result"
    }
   ],
   "source": [
    "names"
   ]
  },
  {
   "cell_type": "code",
   "execution_count": 89,
   "id": "9bf9d010",
   "metadata": {},
   "outputs": [
    {
     "data": {
      "text/plain": [
       "['Muhammad Qasim',\n",
       " 'Asif',\n",
       " 'Hamza',\n",
       " 'Sohail',\n",
       " 'asif',\n",
       " 'salman',\n",
       " 'shahid',\n",
       " 'kashif',\n",
       " 'Hassan',\n",
       " 'Hussain',\n",
       " 'Abid ',\n",
       " 'parvez',\n",
       " '111']"
      ]
     },
     "execution_count": 89,
     "metadata": {},
     "output_type": "execute_result"
    }
   ],
   "source": [
    "names.append('111')\n",
    "names"
   ]
  },
  {
   "cell_type": "code",
   "execution_count": 90,
   "id": "81f1b814",
   "metadata": {},
   "outputs": [
    {
     "data": {
      "text/plain": [
       "['Muhammad Qasim',\n",
       " 'Asif',\n",
       " 'Hamza',\n",
       " 'Sohail',\n",
       " 'asif',\n",
       " 'salman',\n",
       " 'shahid',\n",
       " 'kashif',\n",
       " 'Hassan',\n",
       " 'Hussain',\n",
       " 'Abid ',\n",
       " 'parvez',\n",
       " '111',\n",
       " '2222']"
      ]
     },
     "execution_count": 90,
     "metadata": {},
     "output_type": "execute_result"
    }
   ],
   "source": [
    "names.append('2222')\n",
    "names"
   ]
  },
  {
   "cell_type": "code",
   "execution_count": 91,
   "id": "e86fbe58",
   "metadata": {},
   "outputs": [
    {
     "data": {
      "text/plain": [
       "['Muhammad Qasim',\n",
       " 'Asif',\n",
       " 'Hamza',\n",
       " 'Sohail',\n",
       " 'asif',\n",
       " 'salman',\n",
       " 'shahid',\n",
       " 'kashif',\n",
       " 'Hassan',\n",
       " 'Hussain',\n",
       " 'Abid ',\n",
       " 'parvez',\n",
       " '111',\n",
       " '2222',\n",
       " ['111']]"
      ]
     },
     "execution_count": 91,
     "metadata": {},
     "output_type": "execute_result"
    }
   ],
   "source": [
    "names.append(['111'])\n",
    "names"
   ]
  },
  {
   "cell_type": "code",
   "execution_count": 92,
   "id": "cb04a654",
   "metadata": {},
   "outputs": [
    {
     "data": {
      "text/plain": [
       "['a', 'b', 'c']"
      ]
     },
     "execution_count": 92,
     "metadata": {},
     "output_type": "execute_result"
    }
   ],
   "source": [
    "remaining_names =['a','b','c']\n",
    "remaining_names"
   ]
  },
  {
   "cell_type": "code",
   "execution_count": 93,
   "id": "75bf354b",
   "metadata": {},
   "outputs": [
    {
     "data": {
      "text/plain": [
       "['Muhammad Qasim',\n",
       " 'Asif',\n",
       " 'Hamza',\n",
       " 'Sohail',\n",
       " 'asif',\n",
       " 'salman',\n",
       " 'shahid',\n",
       " 'kashif',\n",
       " 'Hassan',\n",
       " 'Hussain',\n",
       " 'Abid ',\n",
       " 'parvez',\n",
       " '111',\n",
       " '2222',\n",
       " ['111'],\n",
       " 'a',\n",
       " 'b',\n",
       " 'c']"
      ]
     },
     "execution_count": 93,
     "metadata": {},
     "output_type": "execute_result"
    }
   ],
   "source": [
    "names.extend(remaining_names)\n",
    "names"
   ]
  },
  {
   "cell_type": "code",
   "execution_count": 94,
   "id": "1c6e19ec",
   "metadata": {},
   "outputs": [],
   "source": [
    "del names[-4]"
   ]
  },
  {
   "cell_type": "code",
   "execution_count": 95,
   "id": "ea622793",
   "metadata": {},
   "outputs": [
    {
     "data": {
      "text/plain": [
       "['Muhammad Qasim',\n",
       " 'Asif',\n",
       " 'Hamza',\n",
       " 'Sohail',\n",
       " 'asif',\n",
       " 'salman',\n",
       " 'shahid',\n",
       " 'kashif',\n",
       " 'Hassan',\n",
       " 'Hussain',\n",
       " 'Abid ',\n",
       " 'parvez',\n",
       " '111',\n",
       " '2222',\n",
       " 'a',\n",
       " 'b',\n",
       " 'c']"
      ]
     },
     "execution_count": 95,
     "metadata": {},
     "output_type": "execute_result"
    }
   ],
   "source": [
    "names\n"
   ]
  },
  {
   "cell_type": "code",
   "execution_count": 99,
   "id": "aed6e1eb",
   "metadata": {},
   "outputs": [
    {
     "data": {
      "text/plain": [
       "['Muhammad Qasim',\n",
       " 'Sohail',\n",
       " 'Asif',\n",
       " 'Hamza',\n",
       " 'Sohail',\n",
       " 'asif',\n",
       " 'salman',\n",
       " 'shahid',\n",
       " 'kashif',\n",
       " 'Hassan',\n",
       " 'Hussain',\n",
       " 'Abid ',\n",
       " 'parvez',\n",
       " '111',\n",
       " '2222',\n",
       " 'a',\n",
       " 'b',\n",
       " 'c']"
      ]
     },
     "execution_count": 99,
     "metadata": {},
     "output_type": "execute_result"
    }
   ],
   "source": [
    "names.index(\"Sohail\")\n",
    "names"
   ]
  },
  {
   "cell_type": "code",
   "execution_count": 98,
   "id": "87b50fa4",
   "metadata": {},
   "outputs": [
    {
     "data": {
      "text/plain": [
       "['Muhammad Qasim',\n",
       " 'Sohail',\n",
       " 'Asif',\n",
       " 'Hamza',\n",
       " 'Sohail',\n",
       " 'asif',\n",
       " 'salman',\n",
       " 'shahid',\n",
       " 'kashif',\n",
       " 'Hassan',\n",
       " 'Hussain',\n",
       " 'Abid ',\n",
       " 'parvez',\n",
       " '111',\n",
       " '2222',\n",
       " 'a',\n",
       " 'b',\n",
       " 'c']"
      ]
     },
     "execution_count": 98,
     "metadata": {},
     "output_type": "execute_result"
    }
   ],
   "source": [
    "names.insert(1,\"Sohail\")\n",
    "names"
   ]
  },
  {
   "cell_type": "code",
   "execution_count": 100,
   "id": "eca89e21",
   "metadata": {},
   "outputs": [
    {
     "data": {
      "text/plain": [
       "['Muhammad Qasim',\n",
       " 'Sohail',\n",
       " 'Asif',\n",
       " 'Hamza',\n",
       " 'Sohail',\n",
       " 'asif',\n",
       " 'salman',\n",
       " 'shahid',\n",
       " 'kashif',\n",
       " 'Hassan',\n",
       " 'Hussain',\n",
       " 'Abid ',\n",
       " 'parvez',\n",
       " '111',\n",
       " 'a',\n",
       " 'b',\n",
       " 'c']"
      ]
     },
     "execution_count": 100,
     "metadata": {},
     "output_type": "execute_result"
    }
   ],
   "source": [
    "names.remove(\"2222\")\n",
    "names"
   ]
  },
  {
   "cell_type": "code",
   "execution_count": 101,
   "id": "27809fa4",
   "metadata": {},
   "outputs": [
    {
     "data": {
      "text/plain": [
       "['Sohail',\n",
       " 'Asif',\n",
       " 'Hamza',\n",
       " 'Sohail',\n",
       " 'asif',\n",
       " 'salman',\n",
       " 'shahid',\n",
       " 'kashif',\n",
       " 'Hassan',\n",
       " 'Hussain',\n",
       " 'Abid ',\n",
       " 'parvez',\n",
       " '111',\n",
       " 'a',\n",
       " 'b',\n",
       " 'c']"
      ]
     },
     "execution_count": 101,
     "metadata": {},
     "output_type": "execute_result"
    }
   ],
   "source": [
    "del names[0]\n",
    "names"
   ]
  },
  {
   "cell_type": "code",
   "execution_count": 103,
   "id": "ce579044",
   "metadata": {},
   "outputs": [
    {
     "name": "stdout",
     "output_type": "stream",
     "text": [
      "c\n",
      "['Sohail', 'Asif', 'Hamza', 'Sohail', 'asif', 'salman', 'shahid', 'kashif', 'Hassan', 'Hussain', 'Abid ', 'parvez', '111', 'a', 'b']\n"
     ]
    }
   ],
   "source": [
    "c = names.pop()\n",
    "print(c)\n",
    "print(names)"
   ]
  },
  {
   "cell_type": "code",
   "execution_count": null,
   "id": "c0b9b157",
   "metadata": {},
   "outputs": [],
   "source": []
  }
 ],
 "metadata": {
  "kernelspec": {
   "display_name": "Python 3 (ipykernel)",
   "language": "python",
   "name": "python3"
  },
  "language_info": {
   "codemirror_mode": {
    "name": "ipython",
    "version": 3
   },
   "file_extension": ".py",
   "mimetype": "text/x-python",
   "name": "python",
   "nbconvert_exporter": "python",
   "pygments_lexer": "ipython3",
   "version": "3.11.4"
  }
 },
 "nbformat": 4,
 "nbformat_minor": 5
}
