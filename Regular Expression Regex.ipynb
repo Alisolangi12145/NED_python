{
 "cells": [
  {
   "cell_type": "markdown",
   "id": "42ea1e4d",
   "metadata": {},
   "source": [
    "# ''' We love our country! pakistan zindabad! '''\n",
    "\n",
    "# We have special character for special purpose\n",
    "\n",
    "* . anything axcept \\n\n",
    "* * zero or many\n",
    "* + one or many\n",
    "* ^ start\n",
    "* $ end"
   ]
  },
  {
   "cell_type": "code",
   "execution_count": 2,
   "id": "05a8acab",
   "metadata": {},
   "outputs": [],
   "source": [
    "import re"
   ]
  },
  {
   "cell_type": "code",
   "execution_count": 3,
   "id": "a6b4916d",
   "metadata": {},
   "outputs": [
    {
     "name": "stdout",
     "output_type": "stream",
     "text": [
      "['A', 'ASCII', 'DEBUG', 'DOTALL', 'I', 'IGNORECASE', 'L', 'LOCALE', 'M', 'MULTILINE', 'Match', 'NOFLAG', 'Pattern', 'RegexFlag', 'S', 'Scanner', 'T', 'TEMPLATE', 'U', 'UNICODE', 'VERBOSE', 'X', '_MAXCACHE', '__all__', '__builtins__', '__cached__', '__doc__', '__file__', '__loader__', '__name__', '__package__', '__path__', '__spec__', '__version__', '_cache', '_casefix', '_compile', '_compile_repl', '_compiler', '_constants', '_expand', '_parser', '_pickle', '_special_chars_map', '_subx', 'compile', 'copyreg', 'enum', 'error', 'escape', 'findall', 'finditer', 'fullmatch', 'functools', 'match', 'purge', 'search', 'split', 'sub', 'subn', 'template']\n"
     ]
    }
   ],
   "source": [
    "print(dir(re))"
   ]
  },
  {
   "cell_type": "code",
   "execution_count": 4,
   "id": "5a5b2833",
   "metadata": {},
   "outputs": [
    {
     "data": {
      "text/plain": [
       "['A',\n",
       " 'ASCII',\n",
       " 'DEBUG',\n",
       " 'DOTALL',\n",
       " 'I',\n",
       " 'IGNORECASE',\n",
       " 'L',\n",
       " 'LOCALE',\n",
       " 'M',\n",
       " 'MULTILINE',\n",
       " 'Match',\n",
       " 'NOFLAG',\n",
       " 'Pattern',\n",
       " 'RegexFlag',\n",
       " 'S',\n",
       " 'Scanner',\n",
       " 'T',\n",
       " 'TEMPLATE',\n",
       " 'U',\n",
       " 'UNICODE',\n",
       " 'VERBOSE',\n",
       " 'X',\n",
       " '_MAXCACHE',\n",
       " '_cache',\n",
       " '_casefix',\n",
       " '_compile',\n",
       " '_compile_repl',\n",
       " '_compiler',\n",
       " '_constants',\n",
       " '_expand',\n",
       " '_parser',\n",
       " '_pickle',\n",
       " '_special_chars_map',\n",
       " '_subx',\n",
       " 'compile',\n",
       " 'copyreg',\n",
       " 'enum',\n",
       " 'error',\n",
       " 'escape',\n",
       " 'findall',\n",
       " 'finditer',\n",
       " 'fullmatch',\n",
       " 'functools',\n",
       " 'match',\n",
       " 'purge',\n",
       " 'search',\n",
       " 'split',\n",
       " 'sub',\n",
       " 'subn',\n",
       " 'template']"
      ]
     },
     "execution_count": 4,
     "metadata": {},
     "output_type": "execute_result"
    }
   ],
   "source": [
    "# methods and attributes\n",
    "\n",
    "[i for i in dir(re)if \"__\" not in i]"
   ]
  },
  {
   "cell_type": "code",
   "execution_count": 8,
   "id": "59cd0c9d",
   "metadata": {},
   "outputs": [
    {
     "data": {
      "text/plain": [
       "['p']"
      ]
     },
     "execution_count": 8,
     "metadata": {},
     "output_type": "execute_result"
    }
   ],
   "source": [
    "text =\"We love our country! pakistan zindabad\"\n",
    "pattern = \"p\" # character sequence\n",
    "re.findall(pattern,text)"
   ]
  },
  {
   "cell_type": "code",
   "execution_count": 13,
   "id": "e53580ee",
   "metadata": {},
   "outputs": [
    {
     "data": {
      "text/plain": [
       "['pakistan']"
      ]
     },
     "execution_count": 13,
     "metadata": {},
     "output_type": "execute_result"
    }
   ],
   "source": [
    "text =\"\"\"We love our country! Pakistan zindabad! \n",
    "pakistan is the one of best country in the world\"\"\"\n",
    "\n",
    "pattern = \"pakistan\" # character sequence\n",
    "re.findall(pattern,text)"
   ]
  },
  {
   "cell_type": "code",
   "execution_count": 17,
   "id": "c3402170",
   "metadata": {},
   "outputs": [
    {
     "data": {
      "text/plain": [
       "'We love our country! Pakistan zindabad! \\npakistan is the one of best country in the world'"
      ]
     },
     "metadata": {},
     "output_type": "display_data"
    },
    {
     "data": {
      "text/plain": [
       "['Pakistan', 'pakistan']"
      ]
     },
     "execution_count": 17,
     "metadata": {},
     "output_type": "execute_result"
    }
   ],
   "source": [
    "text =\"\"\"We love our country! Pakistan zindabad! \n",
    "pakistan is the one of best country in the world\"\"\"\n",
    "\n",
    "\n",
    "display(text)\n",
    "\n",
    "pattern = \"pakistan\" # character sequence\n",
    "re.findall(pattern,text, re.IGNORECASE)"
   ]
  },
  {
   "cell_type": "markdown",
   "id": "f7e9475a",
   "metadata": {},
   "source": [
    "# . anything axcept \\n\n",
    "# + one or many\n",
    "# * zero or many\n",
    "# ^ start line with\n",
    "# $ ending line"
   ]
  },
  {
   "cell_type": "code",
   "execution_count": 19,
   "id": "00603f2c",
   "metadata": {},
   "outputs": [
    {
     "data": {
      "text/plain": [
       "'We love our country! Pakistan zindabad! \\npakistan is the one of best country in the world'"
      ]
     },
     "metadata": {},
     "output_type": "display_data"
    },
    {
     "data": {
      "text/plain": [
       "['W',\n",
       " 'e',\n",
       " ' ',\n",
       " 'l',\n",
       " 'o',\n",
       " 'v',\n",
       " 'e',\n",
       " ' ',\n",
       " 'o',\n",
       " 'u',\n",
       " 'r',\n",
       " ' ',\n",
       " 'c',\n",
       " 'o',\n",
       " 'u',\n",
       " 'n',\n",
       " 't',\n",
       " 'r',\n",
       " 'y',\n",
       " '!',\n",
       " ' ',\n",
       " 'P',\n",
       " 'a',\n",
       " 'k',\n",
       " 'i',\n",
       " 's',\n",
       " 't',\n",
       " 'a',\n",
       " 'n',\n",
       " ' ',\n",
       " 'z',\n",
       " 'i',\n",
       " 'n',\n",
       " 'd',\n",
       " 'a',\n",
       " 'b',\n",
       " 'a',\n",
       " 'd',\n",
       " '!',\n",
       " ' ',\n",
       " 'p',\n",
       " 'a',\n",
       " 'k',\n",
       " 'i',\n",
       " 's',\n",
       " 't',\n",
       " 'a',\n",
       " 'n',\n",
       " ' ',\n",
       " 'i',\n",
       " 's',\n",
       " ' ',\n",
       " 't',\n",
       " 'h',\n",
       " 'e',\n",
       " ' ',\n",
       " 'o',\n",
       " 'n',\n",
       " 'e',\n",
       " ' ',\n",
       " 'o',\n",
       " 'f',\n",
       " ' ',\n",
       " 'b',\n",
       " 'e',\n",
       " 's',\n",
       " 't',\n",
       " ' ',\n",
       " 'c',\n",
       " 'o',\n",
       " 'u',\n",
       " 'n',\n",
       " 't',\n",
       " 'r',\n",
       " 'y',\n",
       " ' ',\n",
       " 'i',\n",
       " 'n',\n",
       " ' ',\n",
       " 't',\n",
       " 'h',\n",
       " 'e',\n",
       " ' ',\n",
       " 'w',\n",
       " 'o',\n",
       " 'r',\n",
       " 'l',\n",
       " 'd']"
      ]
     },
     "execution_count": 19,
     "metadata": {},
     "output_type": "execute_result"
    }
   ],
   "source": [
    "text =\"\"\"We love our country! Pakistan zindabad! \n",
    "pakistan is the one of best country in the world\"\"\"\n",
    "\n",
    "\n",
    "display(text)\n",
    "\n",
    "pattern = \".\" # character sequence\n",
    "re.findall(pattern,text, re.IGNORECASE)"
   ]
  },
  {
   "cell_type": "code",
   "execution_count": 25,
   "id": "a1ab6d0a",
   "metadata": {},
   "outputs": [
    {
     "data": {
      "text/plain": [
       "'We love our country! Pakistan zindabad! \\npakistan is the one of best country in the world'"
      ]
     },
     "metadata": {},
     "output_type": "display_data"
    },
    {
     "data": {
      "text/plain": [
       "['We l',\n",
       " 'ove ',\n",
       " 'our ',\n",
       " 'coun',\n",
       " 'try!',\n",
       " ' Pak',\n",
       " 'ista',\n",
       " 'n zi',\n",
       " 'ndab',\n",
       " 'ad! ',\n",
       " 'paki',\n",
       " 'stan',\n",
       " ' is ',\n",
       " 'the ',\n",
       " 'one ',\n",
       " 'of b',\n",
       " 'est ',\n",
       " 'coun',\n",
       " 'try ',\n",
       " 'in t',\n",
       " 'he w',\n",
       " 'orld']"
      ]
     },
     "execution_count": 25,
     "metadata": {},
     "output_type": "execute_result"
    }
   ],
   "source": [
    "text =\"\"\"We love our country! Pakistan zindabad! \n",
    "pakistan is the one of best country in the world\"\"\"\n",
    "\n",
    "\n",
    "display(text)\n",
    "\n",
    "pattern = \"....\" # character sequence\n",
    "re.findall(pattern,text, re.IGNORECASE)"
   ]
  },
  {
   "cell_type": "code",
   "execution_count": 26,
   "id": "92986437",
   "metadata": {},
   "outputs": [
    {
     "data": {
      "text/plain": [
       "'We love our country! Pakistan zindabad! \\npakistan is the one of best country in the world'"
      ]
     },
     "metadata": {},
     "output_type": "display_data"
    },
    {
     "data": {
      "text/plain": [
       "['We love our country! Pakistan zindabad! ',\n",
       " 'pakistan is the one of best country in the world']"
      ]
     },
     "execution_count": 26,
     "metadata": {},
     "output_type": "execute_result"
    }
   ],
   "source": [
    "text =\"\"\"We love our country! Pakistan zindabad! \n",
    "pakistan is the one of best country in the world\"\"\"\n",
    "\n",
    "\n",
    "display(text)\n",
    "\n",
    "pattern = \".+\" # character sequence\n",
    "re.findall(pattern,text, re.IGNORECASE)"
   ]
  },
  {
   "cell_type": "code",
   "execution_count": 31,
   "id": "792dab76",
   "metadata": {},
   "outputs": [
    {
     "data": {
      "text/plain": [
       "'We love our country! Pakistan zindabad! \\npakistan is the one of best country in the world\\nHello World\\nI am living in pakistan'"
      ]
     },
     "metadata": {},
     "output_type": "display_data"
    },
    {
     "data": {
      "text/plain": [
       "['We love our country! Pakistan zindabad! ',\n",
       " 'pakistan is the one of best country in the world',\n",
       " 'Hello World',\n",
       " 'I am living in pakistan']"
      ]
     },
     "execution_count": 31,
     "metadata": {},
     "output_type": "execute_result"
    }
   ],
   "source": [
    "text =\"\"\"We love our country! Pakistan zindabad! \n",
    "pakistan is the one of best country in the world\n",
    "Hello World\n",
    "I am living in pakistan\"\"\"\n",
    "\n",
    "\n",
    "display(text)\n",
    "\n",
    "# + mean pick the pattern which written before \"+\"\n",
    "\n",
    "pattern = \".+\" # character sequence\n",
    "re.findall(pattern,text, re.IGNORECASE)"
   ]
  },
  {
   "cell_type": "code",
   "execution_count": 28,
   "id": "69d7d60c",
   "metadata": {},
   "outputs": [
    {
     "data": {
      "text/plain": [
       "'We love our country! Pakistan zindabad! \\npakistan is the one of best country in the world\\nHello World'"
      ]
     },
     "metadata": {},
     "output_type": "display_data"
    },
    {
     "data": {
      "text/plain": [
       "['country! Pakistan zindabad! ', 'country in the world']"
      ]
     },
     "execution_count": 28,
     "metadata": {},
     "output_type": "execute_result"
    }
   ],
   "source": [
    "text =\"\"\"We love our country! Pakistan zindabad! \n",
    "pakistan is the one of best country in the world\n",
    "Hello World\"\"\"\n",
    "\n",
    "\n",
    "display(text)\n",
    "\n",
    "# + mean pick the pattern which written before \"+\"\n",
    "\n",
    "pattern = \"c.+\" # character sequence\n",
    "re.findall(pattern,text, re.IGNORECASE)"
   ]
  },
  {
   "cell_type": "code",
   "execution_count": 30,
   "id": "9d2411c9",
   "metadata": {},
   "outputs": [
    {
     "data": {
      "text/plain": [
       "'We love our country! canada zindabad! \\npakistan is the one of best country in the world\\nHello World\\nI am living in pakistan'"
      ]
     },
     "metadata": {},
     "output_type": "display_data"
    },
    {
     "data": {
      "text/plain": [
       "['country! canada zindabad! ', 'country in the world']"
      ]
     },
     "execution_count": 30,
     "metadata": {},
     "output_type": "execute_result"
    }
   ],
   "source": [
    "text =\"\"\"We love our country! canada zindabad! \n",
    "pakistan is the one of best country in the world\n",
    "Hello World\n",
    "I am living in pakistan\n",
    "\n",
    "Lorem ipsum dolor sit amet, consectetur adipiscing elit.\n",
    "Suspendisse quis massa euismod metus pretium consequat ut sit amet erat.\n",
    "Vestibulum dapibus erat vel dui vulputate, vel auctor elit blandit!\n",
    "\n",
    "\"\"\"\n",
    "\n",
    "\n",
    "display(text)\n",
    "\n",
    "# + mean pick the pattern which written before \"+\"\n",
    "\n",
    "pattern = \"c.+\" # character sequence\n",
    "re.findall(pattern,text, re.IGNORECASE)"
   ]
  },
  {
   "cell_type": "code",
   "execution_count": 38,
   "id": "a1a06243",
   "metadata": {},
   "outputs": [
    {
     "data": {
      "text/plain": [
       "'We love our country! pakistan zindabad!\\npakistan is the one of best country in the world!\\nHello World\\nI am living in pakistan\\n\\nLorem ipsum dolor sit amet, consectetur adipiscing elit.!\\nSuspendisse quis massa euismod metus pretium consequat ut sit amet erat.\\nVestibulum dapibus erat vel dui vulputate, vel auctor elit blandit!\\n\\n'"
      ]
     },
     "metadata": {},
     "output_type": "display_data"
    },
    {
     "data": {
      "text/plain": [
       "['We love our country! pakistan zindabad!',\n",
       " 'pakistan is the one of best country in the world!',\n",
       " 'Lorem ipsum dolor sit amet, consectetur adipiscing elit.!',\n",
       " 'Vestibulum dapibus erat vel dui vulputate, vel auctor elit blandit!']"
      ]
     },
     "execution_count": 38,
     "metadata": {},
     "output_type": "execute_result"
    }
   ],
   "source": [
    "text =\"\"\"We love our country! pakistan zindabad!\n",
    "pakistan is the one of best country in the world!\n",
    "Hello World\n",
    "I am living in pakistan\n",
    "\n",
    "Lorem ipsum dolor sit amet, consectetur adipiscing elit.!\n",
    "Suspendisse quis massa euismod metus pretium consequat ut sit amet erat.\n",
    "Vestibulum dapibus erat vel dui vulputate, vel auctor elit blandit!\n",
    "\n",
    "\"\"\"\n",
    "\n",
    "\n",
    "display(text)\n",
    "\n",
    "# + mean pick the pattern which written before \"+\"\n",
    "\n",
    "pattern = \".+!$\" # character sequence\n",
    "re.findall(pattern,text, re.MULTILINE)"
   ]
  },
  {
   "cell_type": "code",
   "execution_count": 43,
   "id": "32c76f4f",
   "metadata": {},
   "outputs": [
    {
     "data": {
      "text/plain": [
       "'We love our country! pakistan zindabad!\\npakistan is the one of best country in the world!\\nHello World\\nI am living in pakistan\\n\\nLorem ipsum dolor sit amet, consectetur adipiscing elit.!\\nSuspendisse quis massa euismod metus pretium consequat ut sit amet erat.\\nVestibulum dapibus erat vel dui vulputate, vel auctor elit blandit\\n\\n'"
      ]
     },
     "metadata": {},
     "output_type": "display_data"
    },
    {
     "data": {
      "text/plain": [
       "['Vestibulum dapibus erat vel dui vulputate, vel auctor elit blandit']"
      ]
     },
     "execution_count": 43,
     "metadata": {},
     "output_type": "execute_result"
    }
   ],
   "source": [
    "text =\"\"\"We love our country! pakistan zindabad!\n",
    "pakistan is the one of best country in the world!\n",
    "Hello World\n",
    "I am living in pakistan\n",
    "\n",
    "Lorem ipsum dolor sit amet, consectetur adipiscing elit.!\n",
    "Suspendisse quis massa euismod metus pretium consequat ut sit amet erat.\n",
    "Vestibulum dapibus erat vel dui vulputate, vel auctor elit blandit\n",
    "\n",
    "\"\"\"\n",
    "\n",
    "\n",
    "display(text)\n",
    "\n",
    "# + mean pick the pattern which written before \"+\"\n",
    "\n",
    "pattern = \".+t$\" # character sequence\n",
    "re.findall(pattern,text, re.MULTILINE)"
   ]
  },
  {
   "cell_type": "code",
   "execution_count": 49,
   "id": "0b1fd4ca",
   "metadata": {},
   "outputs": [
    {
     "data": {
      "text/plain": [
       "'We love our country! pakistan zindabad!\\npakistan is the one of best country in the world!\\nHello World\\nI am living in pakistan\\n\\nLorem ipsum dolor sit amet, consectetur adipiscing elit.!\\nSuspendisse quis massa euismod metus pretium consequat ut sit amet erat.\\nVestibulum dapibus erat vel dui vulputate, vel auctor elit blandit\\n\\n'"
      ]
     },
     "metadata": {},
     "output_type": "display_data"
    },
    {
     "data": {
      "text/plain": [
       "['We love our country! pakistan zindabad!',\n",
       " 'pakistan is the one of best country in the world!',\n",
       " 'Lorem ipsum dolor sit amet, consectetur adipiscing elit.!']"
      ]
     },
     "execution_count": 49,
     "metadata": {},
     "output_type": "execute_result"
    }
   ],
   "source": [
    "text =\"\"\"We love our country! pakistan zindabad!\n",
    "pakistan is the one of best country in the world!\n",
    "Hello World\n",
    "I am living in pakistan\n",
    "\n",
    "Lorem ipsum dolor sit amet, consectetur adipiscing elit.!\n",
    "Suspendisse quis massa euismod metus pretium consequat ut sit amet erat.\n",
    "Vestibulum dapibus erat vel dui vulputate, vel auctor elit blandit\n",
    "\n",
    "\"\"\"\n",
    "\n",
    "\n",
    "\n",
    "display(text)\n",
    "\n",
    "# + mean pick the pattern which written before \"+\"\n",
    "\n",
    "pattern = \".+!$\" # character sequence\n",
    "re.findall(pattern,text, re.MULTILINE)"
   ]
  },
  {
   "cell_type": "markdown",
   "id": "6b156d4b",
   "metadata": {},
   "source": [
    "# convert any special character into any normal character place \\ before special character\n",
    "# \\"
   ]
  },
  {
   "cell_type": "code",
   "execution_count": 47,
   "id": "5afa01be",
   "metadata": {},
   "outputs": [
    {
     "data": {
      "text/plain": [
       "'We love our country! pakistan zindabad!\\npakistan is the one of best country in the world!\\nHello World\\nI am living in pakistan\\n\\nLorem ipsum dolor sit amet, consectetur adipiscing elit.!\\nSuspendisse quis massa euismod metus pretium consequat ut sit amet erat.\\nVestibulum dapibus erat vel dui vulputate, vel auctor elit blandit.\\n\\n'"
      ]
     },
     "metadata": {},
     "output_type": "display_data"
    },
    {
     "data": {
      "text/plain": [
       "['Suspendisse quis massa euismod metus pretium consequat ut sit amet erat.',\n",
       " 'Vestibulum dapibus erat vel dui vulputate, vel auctor elit blandit.']"
      ]
     },
     "execution_count": 47,
     "metadata": {},
     "output_type": "execute_result"
    }
   ],
   "source": [
    "text =\"\"\"We love our country! pakistan zindabad!\n",
    "pakistan is the one of best country in the world!\n",
    "Hello World\n",
    "I am living in pakistan\n",
    "\n",
    "Lorem ipsum dolor sit amet, consectetur adipiscing elit.!\n",
    "Suspendisse quis massa euismod metus pretium consequat ut sit amet erat.\n",
    "Vestibulum dapibus erat vel dui vulputate, vel auctor elit blandit.\n",
    "\n",
    "\"\"\"\n",
    "\n",
    "display(text)\n",
    "\n",
    "\n",
    "pattern = \".+\\.$\" # character sequence\n",
    "re.findall(pattern,text, re.MULTILINE)"
   ]
  },
  {
   "cell_type": "code",
   "execution_count": 50,
   "id": "74ddb69d",
   "metadata": {},
   "outputs": [
    {
     "data": {
      "text/plain": [
       "'We love our country! pakistan zindabad!\\npakistan is the one of best country in the world!\\nHello World\\nI am living in pakistan\\n\\nLorem ipsum dolor sit amet, consectetur adipiscing elit.!\\nSuspendisse quis massa euismod metus pretium consequat ut sit amet erat.\\nVestibulum dapibus erat vel dui vulputate, vel auctor elit blandit.\\n\\n'"
      ]
     },
     "metadata": {},
     "output_type": "display_data"
    },
    {
     "data": {
      "text/plain": [
       "['We love our country! pakistan zindabad!',\n",
       " 'pakistan is the one of best country in the world!',\n",
       " 'Lorem ipsum dolor sit amet, consectetur adipiscing elit.!']"
      ]
     },
     "execution_count": 50,
     "metadata": {},
     "output_type": "execute_result"
    }
   ],
   "source": [
    "text =\"\"\"We love our country! pakistan zindabad!\n",
    "pakistan is the one of best country in the world!\n",
    "Hello World\n",
    "I am living in pakistan\n",
    "\n",
    "Lorem ipsum dolor sit amet, consectetur adipiscing elit.!\n",
    "Suspendisse quis massa euismod metus pretium consequat ut sit amet erat.\n",
    "Vestibulum dapibus erat vel dui vulputate, vel auctor elit blandit.\n",
    "\n",
    "\"\"\"\n",
    "\n",
    "display(text)\n",
    "\n",
    "\n",
    "pattern = \".*!$\" # character sequence\n",
    "re.findall(pattern,text, re.MULTILINE)"
   ]
  },
  {
   "cell_type": "code",
   "execution_count": 51,
   "id": "2b119399",
   "metadata": {},
   "outputs": [
    {
     "data": {
      "text/plain": [
       "'We love our country! pakistan zindabad!\\npakistan is the one of best country in the world!\\nHello World\\nI am living in pakistan\\n\\nLorem ipsum dolor sit amet, consectetur adipiscing elit.!\\nSuspendisse quis massa euismod metus pretium consequat ut sit amet erat.\\nVestibulum dapibus erat vel dui vulputate, vel auctor elit blandit.\\n\\n'"
      ]
     },
     "metadata": {},
     "output_type": "display_data"
    },
    {
     "data": {
      "text/plain": [
       "['We love our country! pakistan zindabad!',\n",
       " 'pakistan is the one of best country in the world!',\n",
       " 'Lorem ipsum dolor sit amet, consectetur adipiscing elit.!']"
      ]
     },
     "execution_count": 51,
     "metadata": {},
     "output_type": "execute_result"
    }
   ],
   "source": [
    "text =\"\"\"We love our country! pakistan zindabad!\n",
    "pakistan is the one of best country in the world!\n",
    "Hello World\n",
    "I am living in pakistan\n",
    "\n",
    "Lorem ipsum dolor sit amet, consectetur adipiscing elit.!\n",
    "Suspendisse quis massa euismod metus pretium consequat ut sit amet erat.\n",
    "Vestibulum dapibus erat vel dui vulputate, vel auctor elit blandit.\n",
    "Lorem ipsum dolor sit amet, consectetur adipiscing elit.\n",
    "Suspendisse quis massa euismod metus pretium consequat ut sit amet erat.\n",
    "Vestibulum dapibus erat vel dui vulputate, vel auctor elit blandit.\n",
    "Vestibulum ut sapien sollicitudin, accumsan ligula at, tristique ante.\n",
    "Fusce vitae dolor non augue vehicula accumsan.\n",
    "Sed tempor ante ac egestas viverra.\n",
    "\"\"\"\n",
    "\n",
    "display(text)\n",
    "\n",
    "\n",
    "pattern = \".*!$\" # character sequence\n",
    "re.findall(pattern,text, re.M)+re.findall(pattern,text, re.I)"
   ]
  },
  {
   "cell_type": "markdown",
   "id": "b2fcb067",
   "metadata": {},
   "source": [
    "# Start and end\n",
    "* start = ^\n",
    "* end = $"
   ]
  },
  {
   "cell_type": "code",
   "execution_count": 59,
   "id": "0faf87e1",
   "metadata": {},
   "outputs": [
    {
     "data": {
      "text/plain": [
       "'we love our country! pakistan zindabad!\\npakistan is the one of best country in the world!\\nhello world\\ni am living in pakistan\\nplorem ipsum dolor sit amet, consectetur adipiscing elit.!\\nsuspendisse quis massa euismod metus pretium consequat ut sit amet erat.\\nvestibulum dapibus erat vel dui vulputate, vel auctor elit blandit.\\nlorem ipsum dolor sit amet, consectetur adipiscing elit.\\nsuspendisse quis massa euismod metus pretium consequat ut sit amet erat.\\nvestibulum dapibus erat vel dui vulputate, vel auctor elit blandit.\\nvestibulum ut sapien sollicitudin, accumsan ligula at, tristique ante.\\nfusce vitae dolor non augue vehicula accumsan.\\nsed tempor ante ac egestas viverra.\\n'"
      ]
     },
     "metadata": {},
     "output_type": "display_data"
    },
    {
     "data": {
      "text/plain": [
       "['pakistan is the one of best country in the world!',\n",
       " 'plorem ipsum dolor sit amet, consectetur adipiscing elit.!']"
      ]
     },
     "execution_count": 59,
     "metadata": {},
     "output_type": "execute_result"
    }
   ],
   "source": [
    "text =\"\"\"We love our country! pakistan zindabad!\n",
    "pakistan is the one of best country in the world!\n",
    "Hello World\n",
    "I am living in pakistan\n",
    "PLorem ipsum dolor sit amet, consectetur adipiscing elit.!\n",
    "Suspendisse quis massa euismod metus pretium consequat ut sit amet erat.\n",
    "Vestibulum dapibus erat vel dui vulputate, vel auctor elit blandit.\n",
    "Lorem ipsum dolor sit amet, consectetur adipiscing elit.\n",
    "Suspendisse quis massa euismod metus pretium consequat ut sit amet erat.\n",
    "Vestibulum dapibus erat vel dui vulputate, vel auctor elit blandit.\n",
    "Vestibulum ut sapien sollicitudin, accumsan ligula at, tristique ante.\n",
    "Fusce vitae dolor non augue vehicula accumsan.\n",
    "Sed tempor ante ac egestas viverra.\n",
    "\"\"\"\n",
    "\n",
    "\n",
    "text=text.lower()\n",
    "\n",
    "display(text)\n",
    "\n",
    "\n",
    "pattern = \"^p.*!$\" # character sequence\n",
    "re.findall(pattern,text, re.M)"
   ]
  },
  {
   "cell_type": "code",
   "execution_count": 65,
   "id": "8e4b5f1b",
   "metadata": {},
   "outputs": [
    {
     "name": "stdout",
     "output_type": "stream",
     "text": [
      "['Pakistan is the one of best country in the world!', 'Plorem ipsum dolor sit amet, consectetur adipiscing elit.!']\n"
     ]
    }
   ],
   "source": [
    "text =\"\"\"We love our country! pakistan zindabad!\n",
    "pakistan is the one of best country in the world!\n",
    "Hello World\n",
    "I am living in pakistan\n",
    "PLorem ipsum dolor sit amet, consectetur adipiscing elit.!\n",
    "Suspendisse quis massa euismod metus pretium consequat ut sit amet erat.\n",
    "Vestibulum dapibus erat vel dui vulputate, vel auctor elit blandit.\n",
    "Lorem ipsum dolor sit amet, consectetur adipiscing elit.\n",
    "Suspendisse quis massa euismod metus pretium consequat ut sit amet erat.\n",
    "Vestibulum dapibus erat vel dui vulputate, vel auctor elit blandit.\n",
    "Vestibulum ut sapien sollicitudin, accumsan ligula at, tristique ante.\n",
    "Fusce vitae dolor non augue vehicula accumsan.\n",
    "Sed tempor ante ac egestas viverra.\n",
    "\"\"\"\n",
    "\n",
    "\n",
    "text=text.lower()\n",
    "\n",
    "# display(text)\n",
    "\n",
    "\n",
    "pattern = \"^p.*!$\" # character sequence\n",
    "l=re.findall(pattern,text, re.M)\n",
    "l =[i.capitalize() for i in l]\n",
    "print(l)\n",
    "\n"
   ]
  },
  {
   "cell_type": "code",
   "execution_count": 68,
   "id": "740330c2",
   "metadata": {},
   "outputs": [
    {
     "name": "stdout",
     "output_type": "stream",
     "text": [
      "['c', 'a', 'a', 'aba', 'a', 'a', 'b', 'c', 'a', 'a', 'a']\n"
     ]
    }
   ],
   "source": [
    "text =\"\"\"We love our country! pakistan zindabad!\n",
    "pakistan is the one of best country in the world!\n",
    "Hello World\n",
    "I am living in pakistan\"\"\"\n",
    "\n",
    "\n",
    "pattern =\"[abc]+\"\n",
    "\n",
    "l =re.findall(pattern,text,)\n",
    "\n",
    "print(l)\n"
   ]
  },
  {
   "cell_type": "code",
   "execution_count": 71,
   "id": "007cd4fa",
   "metadata": {},
   "outputs": [
    {
     "name": "stdout",
     "output_type": "stream",
     "text": [
      "['pak', 'a', 'a', 'a', 'pak', 'a', 'a', 'pak', 'a']\n"
     ]
    }
   ],
   "source": [
    "text =\"\"\"We love our country! pakistan zindabad!\n",
    "pakistan is the one of best country in the world!\n",
    "Hello World\n",
    "I am living in pakistan\"\"\"\n",
    "\n",
    "\n",
    "pattern =\"[pak]+\"\n",
    "\n",
    "l =re.findall(pattern,text,)\n",
    "\n",
    "print(l)"
   ]
  },
  {
   "cell_type": "code",
   "execution_count": 70,
   "id": "e40f424e",
   "metadata": {},
   "outputs": [
    {
     "name": "stdout",
     "output_type": "stream",
     "text": [
      "['pakistan zindabad!', 'pakistan is the one of best country in the world!', 'am living in pakistan']\n"
     ]
    }
   ],
   "source": [
    "text =\"\"\"We love our country! pakistan zindabad!\n",
    "pakistan is the one of best country in the world!\n",
    "Hello World\n",
    "I am living in pakistan\"\"\"\n",
    "\n",
    "\n",
    "pattern =\"[pak].+\"\n",
    "\n",
    "l =re.findall(pattern,text,)\n",
    "\n",
    "print(l)\n"
   ]
  },
  {
   "cell_type": "code",
   "execution_count": null,
   "id": "cf7c454f",
   "metadata": {},
   "outputs": [],
   "source": []
  }
 ],
 "metadata": {
  "kernelspec": {
   "display_name": "Python 3 (ipykernel)",
   "language": "python",
   "name": "python3"
  },
  "language_info": {
   "codemirror_mode": {
    "name": "ipython",
    "version": 3
   },
   "file_extension": ".py",
   "mimetype": "text/x-python",
   "name": "python",
   "nbconvert_exporter": "python",
   "pygments_lexer": "ipython3",
   "version": "3.11.4"
  }
 },
 "nbformat": 4,
 "nbformat_minor": 5
}
