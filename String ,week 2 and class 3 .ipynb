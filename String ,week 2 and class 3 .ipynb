{
 "cells": [
  {
   "cell_type": "code",
   "execution_count": 1,
   "id": "84616ef6",
   "metadata": {},
   "outputs": [
    {
     "name": "stdout",
     "output_type": "stream",
     "text": [
      "pakistan zindabad\n"
     ]
    }
   ],
   "source": [
    "data = \"pakistan zindabad\"\n",
    "print(data)"
   ]
  },
  {
   "cell_type": "code",
   "execution_count": 2,
   "id": "7b003715",
   "metadata": {},
   "outputs": [
    {
     "name": "stdout",
     "output_type": "stream",
     "text": [
      "pakistan zindabad\n",
      "<class 'str'>\n"
     ]
    }
   ],
   "source": [
    "data = \"pakistan zindabad\"\n",
    "print(data)\n",
    "print(type(data))"
   ]
  },
  {
   "cell_type": "code",
   "execution_count": 3,
   "id": "f8aa0b16",
   "metadata": {},
   "outputs": [
    {
     "ename": "SyntaxError",
     "evalue": "unterminated string literal (detected at line 1) (1956832048.py, line 1)",
     "output_type": "error",
     "traceback": [
      "\u001b[1;36m  Cell \u001b[1;32mIn[3], line 1\u001b[1;36m\u001b[0m\n\u001b[1;33m    data = 'pakistan zindabad' hello world'\u001b[0m\n\u001b[1;37m                                          ^\u001b[0m\n\u001b[1;31mSyntaxError\u001b[0m\u001b[1;31m:\u001b[0m unterminated string literal (detected at line 1)\n"
     ]
    }
   ],
   "source": [
    "data = 'pakistan zindabad' hello world'\n",
    "print(data)\n",
    "print(type(data))"
   ]
  },
  {
   "cell_type": "code",
   "execution_count": null,
   "id": "a9045639",
   "metadata": {},
   "outputs": [],
   "source": [
    "data = 'pakistan zindabad \" hello world'\n",
    "print(data)\n",
    "print(type(data))"
   ]
  },
  {
   "cell_type": "code",
   "execution_count": null,
   "id": "64215805",
   "metadata": {},
   "outputs": [],
   "source": [
    "data = \"pakistan zindabad ' hello world ' \"\n",
    "print(data)\n",
    "print(type(data))"
   ]
  },
  {
   "cell_type": "markdown",
   "id": "156c068a",
   "metadata": {},
   "source": [
    "# Convert Special character into normal character\n",
    "* place \"\\\" before any special character"
   ]
  },
  {
   "cell_type": "code",
   "execution_count": null,
   "id": "dbf9170b",
   "metadata": {},
   "outputs": [],
   "source": [
    "data = 'pakistan zindabad\\' hello world'\n",
    "print(data)\n",
    "print(type(data))"
   ]
  },
  {
   "cell_type": "code",
   "execution_count": null,
   "id": "8180157b",
   "metadata": {},
   "outputs": [],
   "source": [
    "# Assign Multi line String\n",
    "\n",
    "abc =\"line1 pakistan \"\\\n",
    "\"line2 Pakistan \"\\\n",
    "\"Line3 Pakistan\"\n",
    "\n",
    "print(abc)\n",
    "print(type(abc))"
   ]
  },
  {
   "cell_type": "code",
   "execution_count": null,
   "id": "00f5e59e",
   "metadata": {},
   "outputs": [],
   "source": [
    "abc =\"\"\"\" \n",
    "\n",
    "Line1 Hello World\n",
    "Line2 Pakistan Zindabad\n",
    "Line3 We love our Country\n",
    "\"\"\"\n",
    "print(abc,type(abc))"
   ]
  },
  {
   "cell_type": "code",
   "execution_count": null,
   "id": "4a778989",
   "metadata": {},
   "outputs": [],
   "source": [
    "abc ='''\n",
    "\n",
    "Line1 Hello World\n",
    "Line2 Pakistan 'Zindabad\n",
    "Line3 We love our\\tCountry\n",
    "'''\n",
    "print(abc,type(abc))"
   ]
  },
  {
   "cell_type": "markdown",
   "id": "f74451bc",
   "metadata": {},
   "source": [
    "# concatination and Text formation"
   ]
  },
  {
   "cell_type": "code",
   "execution_count": null,
   "id": "1ff9e0a9",
   "metadata": {},
   "outputs": [],
   "source": [
    "# both operands should be same for performing operation\n",
    "\"1\" + 1"
   ]
  },
  {
   "cell_type": "code",
   "execution_count": null,
   "id": "e5efbc19",
   "metadata": {},
   "outputs": [],
   "source": [
    "1 + 1"
   ]
  },
  {
   "cell_type": "code",
   "execution_count": null,
   "id": "454c907d",
   "metadata": {},
   "outputs": [],
   "source": [
    "#String\n",
    "a = input(\"Enter No1:\")\n",
    "b= input(\"Enter No2:\")\n",
    "\n",
    "print(type(a), type(b))\n",
    "\n",
    "print(a+b)"
   ]
  },
  {
   "cell_type": "code",
   "execution_count": null,
   "id": "8a04d8af",
   "metadata": {},
   "outputs": [],
   "source": [
    "a = input(\"Enter No1:\")\n",
    "b= input(\"Enter No2:\")\n",
    "\n",
    "\n",
    "\n",
    "print(type(a), type(b))\n",
    "\n",
    "print(a+b)"
   ]
  },
  {
   "cell_type": "code",
   "execution_count": null,
   "id": "a7fa5d5d",
   "metadata": {},
   "outputs": [],
   "source": [
    "# type Casting\n",
    "\n",
    "a = input(\"Enter No1:\")\n",
    "b= input(\"Enter No2:\")\n",
    "\n",
    "c=int(a)\n",
    "d=int(b)\n",
    "\n",
    "print(type(c), type(d))\n",
    "\n",
    "print(c+d)"
   ]
  },
  {
   "cell_type": "code",
   "execution_count": null,
   "id": "2b49597a",
   "metadata": {},
   "outputs": [],
   "source": [
    "# type Casting\n",
    "\n",
    "a = input(\"Enter No1:\")\n",
    "b= input(\"Enter No2:\")\n",
    "\n",
    "a=int(a)\n",
    "b=int(b)\n",
    "\n",
    "print(type(c), type(d))\n",
    "\n",
    "print(a+b)"
   ]
  },
  {
   "cell_type": "code",
   "execution_count": null,
   "id": "570d069a",
   "metadata": {},
   "outputs": [],
   "source": [
    "# type Casting\n",
    "\n",
    "a = int(input(\"Enter No1:\"))\n",
    "b= int(input(\"Enter No2:\"))\n",
    "\n",
    "print(a+b)\n",
    "\n",
    "print(type(a), type(b))\n",
    "\n"
   ]
  },
  {
   "cell_type": "code",
   "execution_count": null,
   "id": "b090db43",
   "metadata": {},
   "outputs": [],
   "source": [
    "int(\"1\") + 1"
   ]
  },
  {
   "cell_type": "code",
   "execution_count": null,
   "id": "f863fa0e",
   "metadata": {},
   "outputs": [],
   "source": [
    "\"1\" + str(\"1\")"
   ]
  },
  {
   "cell_type": "code",
   "execution_count": 11,
   "id": "f8fd9b82",
   "metadata": {},
   "outputs": [
    {
     "name": "stdout",
     "output_type": "stream",
     "text": [
      "NED UNIVERSITY \n",
      "student roll no:200\n",
      "Student Name:Ali Solangi\n",
      "Father's Name:Ali Akbar\n",
      "Contact No:03473742872\n"
     ]
    }
   ],
   "source": [
    "# Difficult way \n",
    "\n",
    "roll_no = 200\n",
    "name =\"Ali Solangi\"\n",
    "fname =\"Ali Akbar\"\n",
    "contact_no =\"03473742872\"\n",
    "\n",
    "\n",
    "card =\"NED UNIVERSITY \\nstudent roll no:\" + str(roll_no)+\\\n",
    "\"\\nStudent Name:\" + name + \"\\nFather's Name:\" +fname\\\n",
    "+\"\\nContact No:\"+contact_no\n",
    "\n",
    "print(card)"
   ]
  },
  {
   "cell_type": "code",
   "execution_count": 24,
   "id": "219bd784",
   "metadata": {
    "scrolled": true
   },
   "outputs": [
    {
     "name": "stdout",
     "output_type": "stream",
     "text": [
      "NED UNIVERSITY\n",
      "roll_no =\t\t200\n",
      "name =\t\t\tAli Solangi\n",
      "fname =\t\t\tAli Akbar\n",
      "contact_no =\t\t03473742872\n",
      "\n",
      "\n",
      "\n"
     ]
    }
   ],
   "source": [
    "card1 = \"\"\"NED UNIVERSITY\n",
    "roll_no =\\t\\t200\n",
    "name =\\t\\t\\tAli Solangi\n",
    "fname =\\t\\t\\tAli Akbar\n",
    "contact_no =\\t\\t03473742872\n",
    "\n",
    "\n",
    "\"\"\"\n",
    "\n",
    "print(card1)"
   ]
  },
  {
   "cell_type": "markdown",
   "id": "a1d9296f",
   "metadata": {},
   "source": [
    "# Format"
   ]
  },
  {
   "cell_type": "code",
   "execution_count": 32,
   "id": "496040db",
   "metadata": {},
   "outputs": [
    {
     "name": "stdout",
     "output_type": "stream",
     "text": [
      "NED UNIVERSITY\n",
      "roll_no =\t\t200\n",
      "name =\t\t\tAli Solangi\n",
      "fname =\t\t\tAli Akbar\n",
      "contact_no =\t\t03473742872\n"
     ]
    }
   ],
   "source": [
    "roll_no = 200\n",
    "name =\"Ali Solangi\"\n",
    "fname =\"Ali Akbar\"\n",
    "contact_n0 =\"03473742872\"\n",
    "\n",
    "\n",
    "card1 = \"\"\"NED UNIVERSITY\n",
    "roll_no =\\t\\t{}\n",
    "name =\\t\\t\\t{}\n",
    "fname =\\t\\t\\t{}\n",
    "contact_no =\\t\\t{}\"\"\".format(roll_no,name,fname,contact_no)\n",
    "#                             0        1    2       3\n",
    "\n",
    "print(card1)"
   ]
  },
  {
   "cell_type": "code",
   "execution_count": 40,
   "id": "6ccfe8a0",
   "metadata": {},
   "outputs": [
    {
     "name": "stdout",
     "output_type": "stream",
     "text": [
      "NED UNIVERSITY\n",
      "roll_no =\t\t200\n",
      "name =\t\t\tAli Solangi\n",
      "fname =\t\t\tAli Akbar\n",
      "contact_no =\t\t03473742872\n"
     ]
    }
   ],
   "source": [
    "#Solution\n",
    "\n",
    "roll_no = 200\n",
    "name =\"Ali Solangi\"\n",
    "fname =\"Ali Akbar\"\n",
    "contact_n0 =\"03473742872\"\n",
    "\n",
    "\n",
    "card1 = \"\"\"NED UNIVERSITY\n",
    "roll_no =\\t\\t{2}\n",
    "name =\\t\\t\\t{0}\n",
    "fname =\\t\\t\\t{1}\n",
    "contact_no =\\t\\t{3}\"\"\".format(name,fname,roll_no,contact_no)\n",
    "#                             0        1    2       3\n",
    "\n",
    "print(card1)"
   ]
  },
  {
   "cell_type": "markdown",
   "id": "70dadc8e",
   "metadata": {},
   "source": [
    "# ( f )function is used here"
   ]
  },
  {
   "cell_type": "code",
   "execution_count": 41,
   "id": "38ac3822",
   "metadata": {},
   "outputs": [
    {
     "name": "stdout",
     "output_type": "stream",
     "text": [
      " NED UNIVERSITY\n",
      "roll_no =200\n",
      "name =Ali Solangi\n",
      "fname =Ali Akbar\n",
      "contact_no =03473742872\n",
      "\n",
      "\n",
      "\n"
     ]
    }
   ],
   "source": [
    "roll_no = 200\n",
    "name =\"Ali Solangi\"\n",
    "fname =\"Ali Akbar\"\n",
    "contact_n0 =\"03473742872\"\n",
    "\n",
    "\n",
    "\n",
    "card = f\"\"\" NED UNIVERSITY\n",
    "roll_no ={roll_no}\n",
    "name ={name}\n",
    "fname ={fname}\n",
    "contact_no ={contact_n0 }\n",
    "\n",
    "\n",
    "\"\"\"\n",
    "\n",
    "\n",
    "print(card)"
   ]
  },
  {
   "cell_type": "code",
   "execution_count": 47,
   "id": "461a0b18",
   "metadata": {
    "scrolled": true
   },
   "outputs": [
    {
     "name": "stdout",
     "output_type": "stream",
     "text": [
      "Roll No:3\n",
      "Name:4\n",
      "Father's Name:5\n",
      "Mobile Number:6\n",
      "\n",
      "=============================\n",
      " \n",
      "NED UNIVERSITY\n",
      "roll_no =3\n",
      "name =4\n",
      "fname =5\n",
      "contact_no =6\n",
      "\n",
      "\n",
      "\n"
     ]
    }
   ],
   "source": [
    "roll_no =input(\"Roll No:\")\n",
    "name =input(\"Name:\")\n",
    "fname =input(\"Father's Name:\")\n",
    "contact_n0 =input(\"Mobile Number:\")\n",
    "\n",
    "print(\"\\n=============================\")\n",
    "\n",
    "card = f\"\"\" \\nNED UNIVERSITY\n",
    "roll_no ={roll_no}\n",
    "name ={name}\n",
    "fname ={fname}\n",
    "contact_no ={contact_n0 }\n",
    "\n",
    "\n",
    "\"\"\"\n",
    "\n",
    "\n",
    "print(card)"
   ]
  },
  {
   "cell_type": "code",
   "execution_count": 48,
   "id": "9511108f",
   "metadata": {},
   "outputs": [
    {
     "name": "stdout",
     "output_type": "stream",
     "text": [
      "Student Name: Ali \n",
      " roll_no: 200\n"
     ]
    }
   ],
   "source": [
    "roll_no =200\n",
    "name=\"Ali\"\n",
    "print(\"Student Name: %s \\n roll_no: %d\" %(name,roll_no))"
   ]
  },
  {
   "cell_type": "code",
   "execution_count": null,
   "id": "53e60f4e",
   "metadata": {},
   "outputs": [],
   "source": []
  }
 ],
 "metadata": {
  "kernelspec": {
   "display_name": "Python 3 (ipykernel)",
   "language": "python",
   "name": "python3"
  },
  "language_info": {
   "codemirror_mode": {
    "name": "ipython",
    "version": 3
   },
   "file_extension": ".py",
   "mimetype": "text/x-python",
   "name": "python",
   "nbconvert_exporter": "python",
   "pygments_lexer": "ipython3",
   "version": "3.11.4"
  }
 },
 "nbformat": 4,
 "nbformat_minor": 5
}
