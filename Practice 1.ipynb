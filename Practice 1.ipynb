{
 "cells": [
  {
   "cell_type": "code",
   "execution_count": null,
   "id": "3c4ae4de",
   "metadata": {},
   "outputs": [],
   "source": [
    "a =(\"sher\",\"fida accountand\",\"raza officer\")\n",
    "print(a,\"\\n\")\n",
    "for b in a:\n",
    "    print(b)"
   ]
  },
  {
   "cell_type": "code",
   "execution_count": null,
   "id": "a1e79054",
   "metadata": {},
   "outputs": [],
   "source": [
    "a=\"Hello\", \"world!\", \"Python\", end=''\n",
    "print(a, end='')"
   ]
  },
  {
   "cell_type": "code",
   "execution_count": null,
   "id": "b5013a9d",
   "metadata": {},
   "outputs": [],
   "source": [
    "print(\"sher\",\"fida accountand\",\"raza officer\", end=' ')"
   ]
  },
  {
   "cell_type": "code",
   "execution_count": null,
   "id": "96927902",
   "metadata": {},
   "outputs": [],
   "source": [
    "city=\"karachi\",\"lahore\",\"Sukkur\",\"Multan\",\"Islamabad\"\n",
    "len(city)\n",
    "\n",
    "for i in range(len(city)):\n",
    "    print(city[i].upper(),id(city[i]))"
   ]
  },
  {
   "cell_type": "code",
   "execution_count": 3,
   "id": "8feffb92",
   "metadata": {},
   "outputs": [
    {
     "name": "stdout",
     "output_type": "stream",
     "text": [
      "12345678910"
     ]
    }
   ],
   "source": [
    "# We use end='' for horizantal and \\n for next line\n",
    "\n",
    "x =1\n",
    "while(x<=10):\n",
    "    print(x,end=\"\")\n",
    "    x=x+1"
   ]
  },
  {
   "cell_type": "code",
   "execution_count": 2,
   "id": "7ef1b744",
   "metadata": {},
   "outputs": [
    {
     "name": "stdout",
     "output_type": "stream",
     "text": [
      "c\n"
     ]
    }
   ],
   "source": [
    "city=[\"a\",\"b\",\"c\",\"d\"]\n",
    "print(city[2])"
   ]
  },
  {
   "cell_type": "code",
   "execution_count": null,
   "id": "a577291a",
   "metadata": {},
   "outputs": [],
   "source": []
  }
 ],
 "metadata": {
  "kernelspec": {
   "display_name": "Python 3 (ipykernel)",
   "language": "python",
   "name": "python3"
  },
  "language_info": {
   "codemirror_mode": {
    "name": "ipython",
    "version": 3
   },
   "file_extension": ".py",
   "mimetype": "text/x-python",
   "name": "python",
   "nbconvert_exporter": "python",
   "pygments_lexer": "ipython3",
   "version": "3.11.3"
  }
 },
 "nbformat": 4,
 "nbformat_minor": 5
}
