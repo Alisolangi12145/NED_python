{
 "cells": [
  {
   "cell_type": "markdown",
   "id": "96f67cd3",
   "metadata": {},
   "source": [
    "# List In Python\n",
    "\n",
    "# A list in Python is a collection of items that are ordered and changeable. Lists are one of the four built-in data types in Python, the other three being tuples, sets, and dictionaries."
   ]
  },
  {
   "cell_type": "code",
   "execution_count": 1,
   "id": "a67f56e9",
   "metadata": {},
   "outputs": [
    {
     "name": "stdout",
     "output_type": "stream",
     "text": [
      "[1, 2, 3, 4, 5]\n"
     ]
    }
   ],
   "source": [
    "numbers=[1,2,3,4,5]\n",
    "print(numbers)"
   ]
  },
  {
   "cell_type": "code",
   "execution_count": 2,
   "id": "4f8e460c",
   "metadata": {},
   "outputs": [
    {
     "name": "stdout",
     "output_type": "stream",
     "text": [
      "2\n"
     ]
    }
   ],
   "source": [
    "# You can access the items in a list using their index.\n",
    "\n",
    "num =numbers[1]\n",
    "print(num)"
   ]
  },
  {
   "cell_type": "code",
   "execution_count": 4,
   "id": "2acd23ae",
   "metadata": {},
   "outputs": [
    {
     "name": "stdout",
     "output_type": "stream",
     "text": [
      "[1, 2, 3, 4, 5]\n",
      "[1, 2, 3, 4, 5, 6]\n"
     ]
    }
   ],
   "source": [
    "# You can also add and remove items from a list. To add an item to the end of a list, you can use the append()\n",
    "\n",
    "numbers=[1,2,3,4,5]\n",
    "print(numbers)\n",
    "\n",
    "# after adding 6 no in the list\n",
    "numbers.append(6)\n",
    "print(numbers)"
   ]
  },
  {
   "cell_type": "code",
   "execution_count": 9,
   "id": "814d5614",
   "metadata": {},
   "outputs": [
    {
     "name": "stdout",
     "output_type": "stream",
     "text": [
      "[1, 2, 3, 4, 5]\n",
      "After adding 6 no in the list:\n",
      " [1, 2, 3, 4, 5, 6]\n",
      "After removing 6 no the list is:\n",
      " [1, 2, 3, 4, 5]\n"
     ]
    }
   ],
   "source": [
    "numbers=[1,2,3,4,5]\n",
    "print(numbers)\n",
    "\n",
    "\n",
    "# after adding 6 no in the list\n",
    "numbers.append(6)\n",
    "print(\"After adding 6 no in the list:\\n\",numbers)\n",
    "\n",
    "\n",
    "\n",
    "numbers.remove(6)\n",
    "print(\"After removing 6 no the list is:\\n\",numbers)"
   ]
  },
  {
   "cell_type": "code",
   "execution_count": 2,
   "id": "d2820736",
   "metadata": {},
   "outputs": [
    {
     "name": "stdout",
     "output_type": "stream",
     "text": [
      "[1, 2, 3, 4, 5]\n",
      "[6, 1, 2, 3, 4, 5]\n"
     ]
    }
   ],
   "source": [
    "numbers=[1,2,3,4,5]\n",
    "print(numbers)\n",
    "\n",
    "\n",
    "numbers.insert(0,6)\n",
    "print(numbers)"
   ]
  },
  {
   "cell_type": "code",
   "execution_count": 19,
   "id": "fd1f26c6",
   "metadata": {},
   "outputs": [
    {
     "name": "stdout",
     "output_type": "stream",
     "text": [
      "['Ali', 'Hassan', 'Qasim', 'Akbar', 'Abbass', 1, 2, 3, 4, 5]\n",
      "1\n"
     ]
    }
   ],
   "source": [
    "list1=[\"Ali\",\"Hassan\",\"Qasim\",\"Akbar\",\"Abbass\",1,2,3,4,5]\n",
    "print(list1)\n",
    "\n",
    "# Returns the number of times an item appears in the list.\n",
    "a=list1.count(\"Qasim\")\n",
    "print(a)"
   ]
  },
  {
   "cell_type": "code",
   "execution_count": 32,
   "id": "602519c9",
   "metadata": {},
   "outputs": [
    {
     "name": "stdout",
     "output_type": "stream",
     "text": [
      "[5, 4, 3, 2, 1, 'Abbass', 'Akbar', 'Qasim', 'Hassan', 'Ali']\n"
     ]
    }
   ],
   "source": [
    "list1=[\"Ali\",\"Hassan\",\"Qasim\",\"Akbar\",\"Abbass\",1,2,3,4,5]\n",
    "\n",
    "list1.reverse()\n",
    "print(list1)"
   ]
  },
  {
   "cell_type": "code",
   "execution_count": 26,
   "id": "a6688e9a",
   "metadata": {},
   "outputs": [
    {
     "name": "stdout",
     "output_type": "stream",
     "text": [
      "['cherry', 'banana', 'apple']\n"
     ]
    }
   ],
   "source": [
    "fruits = ['apple', 'banana', 'cherry']\n",
    "\n",
    "fruits.reverse()\n",
    "\n",
    "print(fruits)"
   ]
  },
  {
   "cell_type": "code",
   "execution_count": 35,
   "id": "fa9e995e",
   "metadata": {},
   "outputs": [
    {
     "name": "stdout",
     "output_type": "stream",
     "text": [
      "['apple', 'banana', 'cherry', 'Mango', 'Orange', 'Water malen']\n"
     ]
    }
   ],
   "source": [
    "fruits = ['apple', 'banana', 'cherry', 'Mango','Orange']\n",
    "\n",
    "fruits.insert(5,\"Water malen\")\n",
    "\n",
    "print(fruits)"
   ]
  },
  {
   "cell_type": "code",
   "execution_count": 39,
   "id": "4b2f0aea",
   "metadata": {},
   "outputs": [
    {
     "name": "stdout",
     "output_type": "stream",
     "text": [
      "List in Ascending Order:  [1, 2, 3, 4, 5, 6, 7, 8, 9, 10] \n",
      "\n",
      "List in Descending Order:  [10, 9, 8, 7, 6, 5, 4, 3, 2, 1]\n"
     ]
    }
   ],
   "source": [
    "nums = [1, 5, 3, 4, 2, 10, 6, 8, 7, 9]\n",
    "nums.sort()\n",
    "print('List in Ascending Order: ', nums,\"\\n\")\n",
    "\n",
    "\n",
    "\n",
    "nums.sort(reverse=True)\n",
    "print('List in Descending Order: ', nums)"
   ]
  },
  {
   "cell_type": "code",
   "execution_count": 40,
   "id": "9ba43aaf",
   "metadata": {},
   "outputs": [
    {
     "name": "stdout",
     "output_type": "stream",
     "text": [
      "1\n"
     ]
    }
   ],
   "source": [
    "animals = ['cat', 'dog', 'rabbit', 'horse']\n",
    "\n",
    "# get the index of 'dog'\n",
    "index = animals.index('dog')\n",
    "\n",
    "\n",
    "print(index)"
   ]
  },
  {
   "cell_type": "code",
   "execution_count": 45,
   "id": "fecd4ba3",
   "metadata": {},
   "outputs": [
    {
     "name": "stdout",
     "output_type": "stream",
     "text": [
      "Removed Element: rabbit\n",
      "Updated List: ['cat', 'dog', 'horse']\n"
     ]
    }
   ],
   "source": [
    "animals = ['cat', 'dog', 'rabbit', 'horse']\n",
    "\n",
    "# get the index of 'dog'\n",
    "removed_element = animals.pop(2)\n",
    "\n",
    "\n",
    "print('Removed Element:', removed_element)\n",
    "print('Updated List:',animals )"
   ]
  },
  {
   "cell_type": "code",
   "execution_count": 43,
   "id": "03584ec3",
   "metadata": {},
   "outputs": [
    {
     "name": "stdout",
     "output_type": "stream",
     "text": [
      "Removed Element: 5\n",
      "Updated List: [2, 3, 7, 6, 4, 1, 8, 9, 10]\n"
     ]
    }
   ],
   "source": [
    "prime_numbers = [2, 3, 5, 7,6,4,1,8,9,10]\n",
    "\n",
    "# remove the element at index 2\n",
    "removed_element = prime_numbers.pop(2)\n",
    "\n",
    "print('Removed Element:', removed_element)\n",
    "print('Updated List:', prime_numbers)"
   ]
  },
  {
   "cell_type": "code",
   "execution_count": 51,
   "id": "c5fac61b",
   "metadata": {},
   "outputs": [
    {
     "name": "stdout",
     "output_type": "stream",
     "text": [
      "Removed Element: None\n",
      "Updated List: [2, 3, 7, 6, 4, 1, 8, 9, 10]\n"
     ]
    }
   ],
   "source": [
    "# The remove() method removes the first matching element (which is passed as an argument) from the list.\n",
    "\n",
    "\n",
    "prime_numbers = [2, 3, 5, 7,6,4,1,8,9,10]\n",
    "\n",
    "# remove the element at index\n",
    "a=prime_numbers.remove(5)\n",
    "\n",
    "print('Removed Element:',a)\n",
    "print('Updated List:', prime_numbers)"
   ]
  },
  {
   "cell_type": "code",
   "execution_count": 11,
   "id": "dba71080",
   "metadata": {},
   "outputs": [
    {
     "name": "stdout",
     "output_type": "stream",
     "text": [
      "Updated List:  [2, 3, 5, 7, 11]\n",
      "Removed Number:  9\n"
     ]
    }
   ],
   "source": [
    "# create a list\n",
    "prime_numbers = [2, 3, 5, 7, 9, 11]\n",
    "\n",
    "# remove 9 from the list\n",
    "d=prime_numbers.pop(prime_numbers.index(9))\n",
    "\n",
    "\n",
    "# Updated prime_numbers List\n",
    "\n",
    "print('Updated List: ', prime_numbers)\n",
    "print('Removed Number: ',d)"
   ]
  },
  {
   "cell_type": "code",
   "execution_count": 5,
   "id": "98e413b8",
   "metadata": {},
   "outputs": [
    {
     "name": "stdout",
     "output_type": "stream",
     "text": [
      "Updated List:  [2, 3, 5, 9, 11]\n",
      "Removed Number:  7\n",
      "Updated List:  [3, 5, 9, 11]\n",
      "Removed Number:  2\n"
     ]
    }
   ],
   "source": [
    "prime_numbers = [2, 3, 5, 7, 9, 11]\n",
    "\n",
    "d=prime_numbers.pop(3)\n",
    "print('Updated List: ', prime_numbers)\n",
    "print('Removed Number: ',d)\n",
    "\n",
    "\n",
    "# Specific no will be removed\n",
    "a=prime_numbers.pop(prime_numbers.index(2))\n",
    "print('Updated List: ', prime_numbers)\n",
    "print('Removed Number: ',a)\n",
    "\n",
    "\n",
    "\n",
    "\n",
    "\n",
    "\n"
   ]
  },
  {
   "cell_type": "code",
   "execution_count": 3,
   "id": "5f5b53b8",
   "metadata": {},
   "outputs": [
    {
     "name": "stdout",
     "output_type": "stream",
     "text": [
      "Updated List:  [2, 3, 5, 7, 11]\n",
      "Removed Number:  9\n"
     ]
    }
   ],
   "source": [
    "#import pandas as pd\n",
    "\n",
    "# Create a list\n",
    "prime_numbers = [2, 3, 5, 7, 9, 11]\n",
    "\n",
    "# Remove 9 from the list\n",
    "removed_number = prime_numbers.pop(prime_numbers.index(9))\n",
    "\n",
    "# Print the updated list\n",
    "print('Updated List: ', prime_numbers)\n",
    "print('Removed Number: ', removed_number)"
   ]
  },
  {
   "cell_type": "code",
   "execution_count": 1,
   "id": "c9405d1a",
   "metadata": {},
   "outputs": [
    {
     "name": "stdout",
     "output_type": "stream",
     "text": [
      "5\n",
      "<class 'list'>\n"
     ]
    }
   ],
   "source": [
    "#find the number at what index is available\n",
    "\n",
    "a = [2, 3, 5, 7, 9, 11]\n",
    "\n",
    "print(a.index(11))\n",
    "print(type(a))"
   ]
  },
  {
   "cell_type": "code",
   "execution_count": 4,
   "id": "2c7d2813",
   "metadata": {},
   "outputs": [
    {
     "name": "stdout",
     "output_type": "stream",
     "text": [
      "banana\n"
     ]
    }
   ],
   "source": [
    "# Accessing the list\n",
    "fruits = [\"apple\", \"banana\", \"cherry\"]\n",
    "print(fruits[1])"
   ]
  },
  {
   "cell_type": "code",
   "execution_count": 6,
   "id": "7784dcd8",
   "metadata": {},
   "outputs": [
    {
     "name": "stdout",
     "output_type": "stream",
     "text": [
      "['apple', 'banana']\n"
     ]
    }
   ],
   "source": [
    "fruits = [\"apple\", \"banana\", \"cherry\"]\n",
    "print(fruits[:-1])"
   ]
  },
  {
   "cell_type": "code",
   "execution_count": 8,
   "id": "5728b8a7",
   "metadata": {},
   "outputs": [
    {
     "name": "stdout",
     "output_type": "stream",
     "text": [
      "cherry\n"
     ]
    }
   ],
   "source": [
    "fruits = [\"apple\", \"banana\", \"cherry\"]\n",
    "print(fruits[-1])"
   ]
  },
  {
   "cell_type": "code",
   "execution_count": 9,
   "id": "15832bed",
   "metadata": {},
   "outputs": [
    {
     "name": "stdout",
     "output_type": "stream",
     "text": [
      "2\n"
     ]
    }
   ],
   "source": [
    "numbers = [1, 2, 3, 4, 5]\n",
    "second_number = numbers[1]\n",
    "print(second_number)"
   ]
  },
  {
   "cell_type": "code",
   "execution_count": 10,
   "id": "165915a6",
   "metadata": {},
   "outputs": [
    {
     "name": "stdout",
     "output_type": "stream",
     "text": [
      "['banana', 'apple', 'grape']\n"
     ]
    }
   ],
   "source": [
    "fruits = [\"banana\", \"orange\", \"grape\"]\n",
    "fruits[1] = \"apple\"\n",
    "print(fruits)"
   ]
  },
  {
   "cell_type": "code",
   "execution_count": 11,
   "id": "6d71e3b4",
   "metadata": {},
   "outputs": [
    {
     "name": "stdout",
     "output_type": "stream",
     "text": [
      "['apple', 'banana', 'watermelon']\n"
     ]
    }
   ],
   "source": [
    "fruits = [\"grape\", \"orange\", \"watermelon\"]\n",
    "fruits[:2] = [\"apple\", \"banana\"]\n",
    "print(fruits)"
   ]
  },
  {
   "cell_type": "code",
   "execution_count": 12,
   "id": "8c95d4d4",
   "metadata": {},
   "outputs": [
    {
     "name": "stdout",
     "output_type": "stream",
     "text": [
      "['apple', 'blackcurrant', 'cherry']\n"
     ]
    }
   ],
   "source": [
    "fruits = [\"apple\", \"banana\", \"cherry\"]\n",
    "fruits[1] = \"blackcurrant\"\n",
    "print(fruits)"
   ]
  },
  {
   "cell_type": "code",
   "execution_count": 13,
   "id": "7a6e0765",
   "metadata": {},
   "outputs": [
    {
     "name": "stdout",
     "output_type": "stream",
     "text": [
      "['apple', 'blackcurrant', 'watermelon', 'orange', 'kiwi', 'mango']\n"
     ]
    }
   ],
   "source": [
    "fruits = [\"apple\", \"banana\", \"cherry\", \"orange\", \"kiwi\", \"mango\"]\n",
    "fruits[1:3] = [\"blackcurrant\", \"watermelon\"]\n",
    "print(fruits )"
   ]
  },
  {
   "cell_type": "code",
   "execution_count": 14,
   "id": "f9ee05a5",
   "metadata": {},
   "outputs": [
    {
     "name": "stdout",
     "output_type": "stream",
     "text": [
      "['apple', 'banana', 'watermelon', 'cherry']\n"
     ]
    }
   ],
   "source": [
    "fruits= [\"apple\", \"banana\", \"cherry\"]\n",
    "fruits.insert(2, \"watermelon\")\n",
    "print(fruits)"
   ]
  },
  {
   "cell_type": "code",
   "execution_count": 15,
   "id": "a0e4bbb9",
   "metadata": {},
   "outputs": [
    {
     "name": "stdout",
     "output_type": "stream",
     "text": [
      "['apple', 'banana', 'cherry', 'orange']\n"
     ]
    }
   ],
   "source": [
    "fruits = [\"apple\", \"banana\", \"cherry\"]\n",
    "fruits.append(\"orange\")\n",
    "print(fruits)"
   ]
  },
  {
   "cell_type": "code",
   "execution_count": 16,
   "id": "aa94fb6d",
   "metadata": {},
   "outputs": [
    {
     "name": "stdout",
     "output_type": "stream",
     "text": [
      "['apple', 'orange', 'banana', 'cherry']\n"
     ]
    }
   ],
   "source": [
    "fruits = [\"apple\", \"banana\", \"cherry\"]\n",
    "fruits.insert(1, \"orange\")\n",
    "print(fruits)"
   ]
  },
  {
   "cell_type": "code",
   "execution_count": 32,
   "id": "7f3efd58",
   "metadata": {
    "scrolled": true
   },
   "outputs": [
    {
     "name": "stdout",
     "output_type": "stream",
     "text": [
      "[1, 2, 3, 4, 4, 5, 6, 6, 7, 8, 9, 9]\n"
     ]
    }
   ],
   "source": [
    "number=[1,2,4,4,5,6,6,7,8,9,9]\n",
    "number.insert(2,3)\n",
    "print(number)"
   ]
  },
  {
   "cell_type": "code",
   "execution_count": 7,
   "id": "4c275068",
   "metadata": {
    "scrolled": true
   },
   "outputs": [
    {
     "name": "stdout",
     "output_type": "stream",
     "text": [
      "[1, 2, 4, 4, 5, 6, 6, 7, 8, 9, 9]\n",
      "Updated List [1, 2, 3, 4, 5, 6, 6, 7, 8, 9, 9]\n"
     ]
    }
   ],
   "source": [
    "# updated the list\n",
    "\n",
    "number=[1,2,4,4,5,6,6,7,8,9,9]\n",
    "\n",
    "print(number)\n",
    "\n",
    "number[2]=3\n",
    "print(\"Updated List\",number)"
   ]
  },
  {
   "cell_type": "code",
   "execution_count": null,
   "id": "57b4ec96",
   "metadata": {},
   "outputs": [],
   "source": []
  },
  {
   "cell_type": "code",
   "execution_count": 8,
   "id": "07ede3fd",
   "metadata": {},
   "outputs": [
    {
     "name": "stdout",
     "output_type": "stream",
     "text": [
      "['apple', 'banana', 'cherry', 'mango', 'pineapple', 'papaya']\n"
     ]
    }
   ],
   "source": [
    "thislist = [\"apple\", \"banana\", \"cherry\"]\n",
    "tropical = [\"mango\", \"pineapple\", \"papaya\"]\n",
    "\n",
    "a=thislist + tropical\n",
    "\n",
    "print(a)"
   ]
  },
  {
   "cell_type": "markdown",
   "id": "7ec0f556",
   "metadata": {},
   "source": [
    "# The join() method "
   ]
  },
  {
   "cell_type": "code",
   "execution_count": null,
   "id": "915be1c5",
   "metadata": {},
   "outputs": [],
   "source": [
    "a =['Hello','World']\n",
    "\n",
    "join\n"
   ]
  },
  {
   "cell_type": "code",
   "execution_count": 21,
   "id": "d74d0e1d",
   "metadata": {},
   "outputs": [
    {
     "name": "stdout",
     "output_type": "stream",
     "text": [
      "apple banana cherry mango pineapple papaya\n"
     ]
    }
   ],
   "source": [
    "thislist = [\"apple\", \"banana\", \"cherry\"]\n",
    "tropical = [\"mango\", \"pineapple\", \"papaya\"]\n",
    "\n",
    "\n",
    "joined_list =' '.join(thislist+tropical)\n",
    "print(joined_list)"
   ]
  },
  {
   "cell_type": "code",
   "execution_count": 16,
   "id": "3cbfc565",
   "metadata": {},
   "outputs": [
    {
     "name": "stdout",
     "output_type": "stream",
     "text": [
      "['apple', 'banana', 'cherry', 'mango', 'pineapple', 'papaya']\n"
     ]
    }
   ],
   "source": [
    "thislist = [\"apple\", \"banana\", \"cherry\"]\n",
    "tropical = [\"mango\", \"pineapple\", \"papaya\"]\n",
    "thislist.extend(tropical)\n",
    "print(thislist)"
   ]
  },
  {
   "cell_type": "code",
   "execution_count": 35,
   "id": "da0d5a53",
   "metadata": {},
   "outputs": [
    {
     "name": "stdout",
     "output_type": "stream",
     "text": [
      "['apple', 'banana', 'cherry', 'kiwi', 'orange']\n"
     ]
    }
   ],
   "source": [
    "thislist = [\"apple\", \"banana\", \"cherry\"]\n",
    "thistuple = (\"kiwi\", \"orange\")\n",
    "thislist.extend(thistuple)\n",
    "print(thislist)"
   ]
  },
  {
   "cell_type": "code",
   "execution_count": null,
   "id": "e94bf439",
   "metadata": {},
   "outputs": [],
   "source": []
  }
 ],
 "metadata": {
  "kernelspec": {
   "display_name": "Python 3 (ipykernel)",
   "language": "python",
   "name": "python3"
  },
  "language_info": {
   "codemirror_mode": {
    "name": "ipython",
    "version": 3
   },
   "file_extension": ".py",
   "mimetype": "text/x-python",
   "name": "python",
   "nbconvert_exporter": "python",
   "pygments_lexer": "ipython3",
   "version": "3.11.3"
  }
 },
 "nbformat": 4,
 "nbformat_minor": 5
}
