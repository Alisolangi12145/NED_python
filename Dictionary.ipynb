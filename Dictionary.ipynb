{
 "cells": [
  {
   "cell_type": "markdown",
   "id": "8a5bd6b2",
   "metadata": {},
   "source": [
    "# dictionary {}\n",
    "\n",
    "* Dictionaries are used to store data values in key:value pairs.\n",
    "\n",
    "* A dictionary is a collection which is ordered*, changeable and do not allow duplicates."
   ]
  },
  {
   "cell_type": "code",
   "execution_count": 118,
   "id": "37a607d4",
   "metadata": {},
   "outputs": [],
   "source": [
    "import pandas as pd"
   ]
  },
  {
   "cell_type": "code",
   "execution_count": 125,
   "id": "a74485b4",
   "metadata": {},
   "outputs": [
    {
     "name": "stdout",
     "output_type": "stream",
     "text": [
      "{'United States': 'Washington D.C.', 'Italy': 'Rome', 'England': 'London'}\n",
      "<class 'pandas.core.frame.DataFrame'>\n"
     ]
    },
    {
     "data": {
      "text/html": [
       "<div>\n",
       "<style scoped>\n",
       "    .dataframe tbody tr th:only-of-type {\n",
       "        vertical-align: middle;\n",
       "    }\n",
       "\n",
       "    .dataframe tbody tr th {\n",
       "        vertical-align: top;\n",
       "    }\n",
       "\n",
       "    .dataframe thead th {\n",
       "        text-align: right;\n",
       "    }\n",
       "</style>\n",
       "<table border=\"1\" class=\"dataframe\">\n",
       "  <thead>\n",
       "    <tr style=\"text-align: right;\">\n",
       "      <th></th>\n",
       "      <th>United States</th>\n",
       "      <th>Italy</th>\n",
       "      <th>England</th>\n",
       "    </tr>\n",
       "  </thead>\n",
       "  <tbody>\n",
       "    <tr>\n",
       "      <th>0</th>\n",
       "      <td>Washington D.C.</td>\n",
       "      <td>Rome</td>\n",
       "      <td>London</td>\n",
       "    </tr>\n",
       "  </tbody>\n",
       "</table>\n",
       "</div>"
      ],
      "text/plain": [
       "     United States Italy England\n",
       "0  Washington D.C.  Rome  London"
      ]
     },
     "execution_count": 125,
     "metadata": {},
     "output_type": "execute_result"
    }
   ],
   "source": [
    "# creating a dictionary\n",
    "country_capitals = {\n",
    "  \"United States\": \"Washington D.C.\", \n",
    "  \"Italy\": \"Rome\", \n",
    "  \"England\": \"London\"\n",
    "}\n",
    "\n",
    "# printing the dictionary\n",
    "print(country_capitals)\n",
    "\n",
    "\n",
    "new_var =[country_capitals]  # type casting dic to list\n",
    "df =pd.DataFrame(new_var)\n",
    "print(type(df))\n",
    "df"
   ]
  },
  {
   "cell_type": "code",
   "execution_count": 120,
   "id": "299c80d3",
   "metadata": {
    "scrolled": true
   },
   "outputs": [
    {
     "name": "stdout",
     "output_type": "stream",
     "text": [
      "{1: 'Hello', (1, 2): 'Hello Hi', 3: [1, 2, 3]}\n"
     ]
    },
    {
     "data": {
      "text/html": [
       "<div>\n",
       "<style scoped>\n",
       "    .dataframe tbody tr th:only-of-type {\n",
       "        vertical-align: middle;\n",
       "    }\n",
       "\n",
       "    .dataframe tbody tr th {\n",
       "        vertical-align: top;\n",
       "    }\n",
       "\n",
       "    .dataframe thead th {\n",
       "        text-align: right;\n",
       "    }\n",
       "</style>\n",
       "<table border=\"1\" class=\"dataframe\">\n",
       "  <thead>\n",
       "    <tr style=\"text-align: right;\">\n",
       "      <th></th>\n",
       "      <th>1</th>\n",
       "      <th>(1, 2)</th>\n",
       "      <th>3</th>\n",
       "    </tr>\n",
       "  </thead>\n",
       "  <tbody>\n",
       "    <tr>\n",
       "      <th>0</th>\n",
       "      <td>Hello</td>\n",
       "      <td>Hello Hi</td>\n",
       "      <td>1</td>\n",
       "    </tr>\n",
       "    <tr>\n",
       "      <th>1</th>\n",
       "      <td>Hello</td>\n",
       "      <td>Hello Hi</td>\n",
       "      <td>2</td>\n",
       "    </tr>\n",
       "    <tr>\n",
       "      <th>2</th>\n",
       "      <td>Hello</td>\n",
       "      <td>Hello Hi</td>\n",
       "      <td>3</td>\n",
       "    </tr>\n",
       "  </tbody>\n",
       "</table>\n",
       "</div>"
      ],
      "text/plain": [
       "       1    (1, 2)  3\n",
       "0  Hello  Hello Hi  1\n",
       "1  Hello  Hello Hi  2\n",
       "2  Hello  Hello Hi  3"
      ]
     },
     "execution_count": 120,
     "metadata": {},
     "output_type": "execute_result"
    }
   ],
   "source": [
    "# Valid dictionary\n",
    "\n",
    "my_dict = {\n",
    "  1: \"Hello\", \n",
    "  (1, 2): \"Hello Hi\", \n",
    "  3: [1, 2, 3]\n",
    "}\n",
    "\n",
    "print(my_dict)\n",
    "\n",
    "df =pd.DataFrame(my_dict)\n",
    "df"
   ]
  },
  {
   "cell_type": "code",
   "execution_count": 122,
   "id": "0f102e31",
   "metadata": {},
   "outputs": [
    {
     "ename": "TypeError",
     "evalue": "unhashable type: 'list'",
     "output_type": "error",
     "traceback": [
      "\u001b[1;31m---------------------------------------------------------------------------\u001b[0m",
      "\u001b[1;31mTypeError\u001b[0m                                 Traceback (most recent call last)",
      "Cell \u001b[1;32mIn[122], line 4\u001b[0m\n\u001b[0;32m      1\u001b[0m \u001b[38;5;66;03m# Invalid dictionary\u001b[39;00m\n\u001b[0;32m      2\u001b[0m \u001b[38;5;66;03m# Error: using a list as a key is not allowed\u001b[39;00m\n\u001b[1;32m----> 4\u001b[0m my_dict \u001b[38;5;241m=\u001b[39m {\n\u001b[0;32m      5\u001b[0m  \u001b[38;5;241m1\u001b[39m: \u001b[38;5;124m\"\u001b[39m\u001b[38;5;124mHello\u001b[39m\u001b[38;5;124m\"\u001b[39m, \n\u001b[0;32m      6\u001b[0m  [\u001b[38;5;241m1\u001b[39m, \u001b[38;5;241m2\u001b[39m]: \u001b[38;5;124m\"\u001b[39m\u001b[38;5;124mHello Hi\u001b[39m\u001b[38;5;124m\"\u001b[39m, \n\u001b[0;32m      7\u001b[0m }\n\u001b[0;32m      9\u001b[0m \u001b[38;5;28mprint\u001b[39m(my_dict)\n",
      "\u001b[1;31mTypeError\u001b[0m: unhashable type: 'list'"
     ]
    }
   ],
   "source": [
    " # Invalid dictionary\n",
    "# Error: using a list as a key is not allowed\n",
    "\n",
    "my_dict = {\n",
    "  1: \"Hello\", \n",
    "  [1, 2]: \"Hello Hi\", \n",
    "}\n",
    "\n",
    "print(my_dict)"
   ]
  },
  {
   "cell_type": "code",
   "execution_count": 121,
   "id": "79335cf7",
   "metadata": {},
   "outputs": [
    {
     "ename": "SyntaxError",
     "evalue": "expression cannot contain assignment, perhaps you meant \"==\"? (3867451454.py, line 1)",
     "output_type": "error",
     "traceback": [
      "\u001b[1;36m  Cell \u001b[1;32mIn[121], line 1\u001b[1;36m\u001b[0m\n\u001b[1;33m    a =dict(\"names\"=['Ali','Hassan','qasim'],\u001b[0m\n\u001b[1;37m            ^\u001b[0m\n\u001b[1;31mSyntaxError\u001b[0m\u001b[1;31m:\u001b[0m expression cannot contain assignment, perhaps you meant \"==\"?\n"
     ]
    }
   ],
   "source": [
    "# Error\n",
    "\n",
    "\n",
    "a =dict(\"names\"=['Ali','Hassan','qasim'],\n",
    "       \"rollno\"=[1,2,3])\n",
    "df=pd.DataFrame(a)\n",
    "df"
   ]
  },
  {
   "cell_type": "code",
   "execution_count": 38,
   "id": "388ab71e",
   "metadata": {},
   "outputs": [
    {
     "name": "stdout",
     "output_type": "stream",
     "text": [
      "{'name': 'Ali', 'age': 27}\n"
     ]
    }
   ],
   "source": [
    "# not allow duplicates.\n",
    "\n",
    "dict1 = {'name': 'Ali', 'age': 27, 'name': 'Ali'}\n",
    "print(dict1)"
   ]
  },
  {
   "cell_type": "code",
   "execution_count": 45,
   "id": "6437809f",
   "metadata": {},
   "outputs": [
    {
     "name": "stdout",
     "output_type": "stream",
     "text": [
      "['apple', 'banana', 'orange', 'mango', 'grape']\n"
     ]
    }
   ],
   "source": [
    "fruit = {'fruit': ['apple', 'banana', 'orange', 'mango', 'grape'],\n",
    "        \"rollno\":[1,2,3,4,5,6,7]}\n",
    "print(fruit[\"fruit\"])"
   ]
  },
  {
   "cell_type": "code",
   "execution_count": 46,
   "id": "b19263c5",
   "metadata": {},
   "outputs": [
    {
     "name": "stdout",
     "output_type": "stream",
     "text": [
      "apple\n"
     ]
    }
   ],
   "source": [
    "#indexing in dic\n",
    "\n",
    "fruit = {'fruit': ['apple', 'banana', 'orange', 'mango', 'grape'],\n",
    "        \"rollno\":[1,2,3,4,5,6,7]}\n",
    "print(fruit[\"fruit\"][0])"
   ]
  },
  {
   "cell_type": "code",
   "execution_count": 52,
   "id": "eaf87fc4",
   "metadata": {},
   "outputs": [
    {
     "data": {
      "text/html": [
       "<div>\n",
       "<style scoped>\n",
       "    .dataframe tbody tr th:only-of-type {\n",
       "        vertical-align: middle;\n",
       "    }\n",
       "\n",
       "    .dataframe tbody tr th {\n",
       "        vertical-align: top;\n",
       "    }\n",
       "\n",
       "    .dataframe thead th {\n",
       "        text-align: right;\n",
       "    }\n",
       "</style>\n",
       "<table border=\"1\" class=\"dataframe\">\n",
       "  <thead>\n",
       "    <tr style=\"text-align: right;\">\n",
       "      <th></th>\n",
       "      <th>Rolex</th>\n",
       "      <th>Patek Philippe</th>\n",
       "      <th>Omega</th>\n",
       "      <th>year</th>\n",
       "      <th>countries</th>\n",
       "    </tr>\n",
       "  </thead>\n",
       "  <tbody>\n",
       "    <tr>\n",
       "      <th>0</th>\n",
       "      <td>Datejust</td>\n",
       "      <td>Nautilus</td>\n",
       "      <td>Speedmaster</td>\n",
       "      <td>2023</td>\n",
       "      <td>Canada</td>\n",
       "    </tr>\n",
       "    <tr>\n",
       "      <th>1</th>\n",
       "      <td>Datejust</td>\n",
       "      <td>Nautilus</td>\n",
       "      <td>Speedmaster</td>\n",
       "      <td>2023</td>\n",
       "      <td>Uk</td>\n",
       "    </tr>\n",
       "    <tr>\n",
       "      <th>2</th>\n",
       "      <td>Datejust</td>\n",
       "      <td>Nautilus</td>\n",
       "      <td>Speedmaster</td>\n",
       "      <td>2023</td>\n",
       "      <td>USA</td>\n",
       "    </tr>\n",
       "  </tbody>\n",
       "</table>\n",
       "</div>"
      ],
      "text/plain": [
       "      Rolex Patek Philippe        Omega  year countries\n",
       "0  Datejust       Nautilus  Speedmaster  2023    Canada\n",
       "1  Datejust       Nautilus  Speedmaster  2023        Uk\n",
       "2  Datejust       Nautilus  Speedmaster  2023       USA"
      ]
     },
     "execution_count": 52,
     "metadata": {},
     "output_type": "execute_result"
    }
   ],
   "source": [
    "watches = {\n",
    "    'Rolex':'Datejust',\n",
    "    'Patek Philippe': 'Nautilus',\n",
    "    'Omega': 'Speedmaster',\n",
    "    \"year\":2023,\n",
    "    \"countries\":['Canada','Uk','USA']\n",
    "    }\n",
    "\n",
    "\n",
    "\n",
    "df =pd.DataFrame(watches)\n",
    "df"
   ]
  },
  {
   "cell_type": "code",
   "execution_count": 128,
   "id": "a5284982",
   "metadata": {},
   "outputs": [
    {
     "data": {
      "text/html": [
       "<div>\n",
       "<style scoped>\n",
       "    .dataframe tbody tr th:only-of-type {\n",
       "        vertical-align: middle;\n",
       "    }\n",
       "\n",
       "    .dataframe tbody tr th {\n",
       "        vertical-align: top;\n",
       "    }\n",
       "\n",
       "    .dataframe thead th {\n",
       "        text-align: right;\n",
       "    }\n",
       "</style>\n",
       "<table border=\"1\" class=\"dataframe\">\n",
       "  <thead>\n",
       "    <tr style=\"text-align: right;\">\n",
       "      <th></th>\n",
       "      <th>Rolex</th>\n",
       "      <th>Patek Philippe</th>\n",
       "      <th>Omega</th>\n",
       "      <th>year</th>\n",
       "      <th>country</th>\n",
       "    </tr>\n",
       "  </thead>\n",
       "  <tbody>\n",
       "    <tr>\n",
       "      <th>0</th>\n",
       "      <td>Datejust</td>\n",
       "      <td>Nautilus</td>\n",
       "      <td>Speedmaster</td>\n",
       "      <td>2023</td>\n",
       "      <td>Canada</td>\n",
       "    </tr>\n",
       "  </tbody>\n",
       "</table>\n",
       "</div>"
      ],
      "text/plain": [
       "      Rolex Patek Philippe        Omega  year country\n",
       "0  Datejust       Nautilus  Speedmaster  2023  Canada"
      ]
     },
     "execution_count": 128,
     "metadata": {},
     "output_type": "execute_result"
    }
   ],
   "source": [
    "# Pending\n",
    "\n",
    "watches = {\n",
    "    'Rolex':'Datejust',\n",
    "    'Patek Philippe': 'Nautilus',\n",
    "    'Omega': 'Speedmaster',\n",
    "    \"year\":2023,\n",
    "    \"country\":'Canada'\n",
    "    }\n",
    "\n",
    "# df = df.assign(year=2023, country='Canada')\n",
    "# print(df)\n",
    "\n",
    "var_new =[watches]\n",
    "\n",
    "\n",
    "df =pd.DataFrame(var_new)\n",
    "df"
   ]
  },
  {
   "cell_type": "code",
   "execution_count": 67,
   "id": "a032c061",
   "metadata": {},
   "outputs": [
    {
     "name": "stdout",
     "output_type": "stream",
     "text": [
      "2\n",
      "<class 'dict'>\n",
      "('fruit', ['apple', 'banana', 'orange', 'mango', 'grape'])\n",
      "('rollno', [1, 2, 3, 4, 5, 6, 7])\n",
      "2\n"
     ]
    }
   ],
   "source": [
    "fruit = {'fruit': ['apple', 'banana', 'orange', 'mango', 'grape'],\n",
    "        \"rollno\":[1,2,3,4,5,6,7]}\n",
    "\n",
    "print(len(fruit)) #fruit len\n",
    "print(type(fruit)) # check data type\n",
    "\n",
    "for key in fruit.items():\n",
    "    print(key)\n",
    "    \n",
    "print(len(key))# key len\n"
   ]
  },
  {
   "cell_type": "code",
   "execution_count": 37,
   "id": "c9800964",
   "metadata": {},
   "outputs": [
    {
     "name": "stdout",
     "output_type": "stream",
     "text": [
      "name Ali\n",
      "age 27\n",
      "address 123 Main Street\n"
     ]
    }
   ],
   "source": [
    "dict = {'name': 'Ali',\n",
    "        'age': 27, \n",
    "        'address': '123 Main Street'}\n",
    "\n",
    "for key, value in dict.items():\n",
    "    print(key, value)\n",
    "    \n"
   ]
  },
  {
   "cell_type": "code",
   "execution_count": 75,
   "id": "008d73e2",
   "metadata": {},
   "outputs": [
    {
     "name": "stdout",
     "output_type": "stream",
     "text": [
      "['Apple', 'Apricot', 'Avocado', 'Banana', 'Black currant', 'Blackberry', 'Blueberry']\n"
     ]
    }
   ],
   "source": [
    "# Accessing Items\n",
    "\n",
    "dic ={\"fruits\":['Apple','Apricot','Avocado','Banana','Black currant','Blackberry','Blueberry'],\n",
    "     \"rollno\":[1,2,3,4,5,6,7]}\n",
    "print(dic['fruits'])"
   ]
  },
  {
   "cell_type": "code",
   "execution_count": 76,
   "id": "10759e3c",
   "metadata": {},
   "outputs": [
    {
     "name": "stdout",
     "output_type": "stream",
     "text": [
      "['Apple', 'Apricot', 'Avocado', 'Banana', 'Black currant', 'Blackberry', 'Blueberry']\n"
     ]
    }
   ],
   "source": [
    "# Accessing Items with get\n",
    "\n",
    "dic ={\"fruits\":['Apple','Apricot','Avocado','Banana','Black currant','Blackberry','Blueberry'],\n",
    "     \"rollno\":[1,2,3,4,5,6,7]}\n",
    "print(dic.get('fruits'))"
   ]
  },
  {
   "cell_type": "code",
   "execution_count": 80,
   "id": "8fcf50ed",
   "metadata": {},
   "outputs": [
    {
     "name": "stdout",
     "output_type": "stream",
     "text": [
      "dict_keys(['fruits', 'rollno'])\n",
      "dict_values([['Apple', 'Apricot', 'Avocado', 'Banana', 'Black currant', 'Blackberry', 'Blueberry'], [1, 2, 3, 4, 5, 6, 7]])\n"
     ]
    }
   ],
   "source": [
    "# Get Keys and values\n",
    "# The keys() method will return a list of all the keys in the dictionary.\n",
    "\n",
    "x =dic.keys()\n",
    "print(x)\n",
    "\n",
    "\n",
    "# Values\n",
    "x =dic.values()\n",
    "print(x)\n"
   ]
  },
  {
   "cell_type": "code",
   "execution_count": 84,
   "id": "a3ce8112",
   "metadata": {},
   "outputs": [
    {
     "data": {
      "text/plain": [
       "{'fruits': ['Apple',\n",
       "  'Apricot',\n",
       "  'Avocado',\n",
       "  'Banana',\n",
       "  'Black currant',\n",
       "  'Blackberry',\n",
       "  'Blueberry'],\n",
       " 'rollno': [1, 2, 3, 4, 5, 6, 7],\n",
       " 'Cnic': [4320453623269]}"
      ]
     },
     "execution_count": 84,
     "metadata": {},
     "output_type": "execute_result"
    }
   ],
   "source": [
    "\n",
    "dic ={\"fruits\":['Apple','Apricot','Avocado','Banana','Black currant','Blackberry','Blueberry'],\n",
    "     \"rollno\":[1,2,3,4,5,6,7]}\n",
    "\n",
    "\n",
    "dic['Cnic']=[4320453623269]\n",
    "dic\n",
    "# print(dic)\n",
    "# df =pd.DataFrame(dic)\n",
    "# df"
   ]
  },
  {
   "cell_type": "code",
   "execution_count": 85,
   "id": "55dd8e32",
   "metadata": {},
   "outputs": [
    {
     "name": "stdout",
     "output_type": "stream",
     "text": [
      "dict_items([('fruits', ['Apple', 'Apricot', 'Avocado', 'Banana', 'Black currant', 'Blackberry', 'Blueberry']), ('rollno', [1, 2, 3, 4, 5, 6, 7])])\n"
     ]
    }
   ],
   "source": [
    "# Get Items\n",
    "# The items() method will return each item in a dictionary, as tuples in a list.\n",
    "\n",
    "dic ={\"fruits\":['Apple','Apricot','Avocado','Banana','Black currant','Blackberry','Blueberry'],\n",
    "     \"rollno\":[1,2,3,4,5,6,7]}\n",
    "\n",
    "x =dic.items()\n",
    "print(x)"
   ]
  },
  {
   "cell_type": "code",
   "execution_count": 28,
   "id": "dbe1d917",
   "metadata": {},
   "outputs": [
    {
     "name": "stdout",
     "output_type": "stream",
     "text": [
      "fruits ['Apple', 'Apricot', 'Avocado', 'Banana', 'Black currant', 'Blackberry', 'Blueberry']\n",
      "rollno [1, 2, 3, 4, 5, 6, 7]\n"
     ]
    },
    {
     "data": {
      "text/html": [
       "<div>\n",
       "<style scoped>\n",
       "    .dataframe tbody tr th:only-of-type {\n",
       "        vertical-align: middle;\n",
       "    }\n",
       "\n",
       "    .dataframe tbody tr th {\n",
       "        vertical-align: top;\n",
       "    }\n",
       "\n",
       "    .dataframe thead th {\n",
       "        text-align: right;\n",
       "    }\n",
       "</style>\n",
       "<table border=\"1\" class=\"dataframe\">\n",
       "  <thead>\n",
       "    <tr style=\"text-align: right;\">\n",
       "      <th></th>\n",
       "      <th>fruits</th>\n",
       "      <th>rollno</th>\n",
       "    </tr>\n",
       "  </thead>\n",
       "  <tbody>\n",
       "    <tr>\n",
       "      <th>0</th>\n",
       "      <td>Apple</td>\n",
       "      <td>1</td>\n",
       "    </tr>\n",
       "    <tr>\n",
       "      <th>1</th>\n",
       "      <td>Apricot</td>\n",
       "      <td>2</td>\n",
       "    </tr>\n",
       "    <tr>\n",
       "      <th>2</th>\n",
       "      <td>Avocado</td>\n",
       "      <td>3</td>\n",
       "    </tr>\n",
       "    <tr>\n",
       "      <th>3</th>\n",
       "      <td>Banana</td>\n",
       "      <td>4</td>\n",
       "    </tr>\n",
       "    <tr>\n",
       "      <th>4</th>\n",
       "      <td>Black currant</td>\n",
       "      <td>5</td>\n",
       "    </tr>\n",
       "    <tr>\n",
       "      <th>5</th>\n",
       "      <td>Blackberry</td>\n",
       "      <td>6</td>\n",
       "    </tr>\n",
       "    <tr>\n",
       "      <th>6</th>\n",
       "      <td>Blueberry</td>\n",
       "      <td>7</td>\n",
       "    </tr>\n",
       "  </tbody>\n",
       "</table>\n",
       "</div>"
      ],
      "text/plain": [
       "          fruits  rollno\n",
       "0          Apple       1\n",
       "1        Apricot       2\n",
       "2        Avocado       3\n",
       "3         Banana       4\n",
       "4  Black currant       5\n",
       "5     Blackberry       6\n",
       "6      Blueberry       7"
      ]
     },
     "execution_count": 28,
     "metadata": {},
     "output_type": "execute_result"
    }
   ],
   "source": [
    "dic ={\"fruits\":['Apple','Apricot','Avocado','Banana','Black currant','Blackberry','Blueberry'],\n",
    "     \"rollno\":[1,2,3,4,5,6,7]}\n",
    "\n",
    "for key, value in dic.items():\n",
    "    print(key, value)\n",
    "\n",
    "    \n",
    "import pandas as pd\n",
    "\n",
    "df =pd.DataFrame(dic)\n",
    "df"
   ]
  },
  {
   "cell_type": "code",
   "execution_count": 87,
   "id": "80af6f19",
   "metadata": {},
   "outputs": [
    {
     "name": "stdout",
     "output_type": "stream",
     "text": [
      "name ['Ali']\n",
      "age [27]\n",
      "address ['123 Main Street']\n"
     ]
    },
    {
     "data": {
      "text/html": [
       "<div>\n",
       "<style scoped>\n",
       "    .dataframe tbody tr th:only-of-type {\n",
       "        vertical-align: middle;\n",
       "    }\n",
       "\n",
       "    .dataframe tbody tr th {\n",
       "        vertical-align: top;\n",
       "    }\n",
       "\n",
       "    .dataframe thead th {\n",
       "        text-align: right;\n",
       "    }\n",
       "</style>\n",
       "<table border=\"1\" class=\"dataframe\">\n",
       "  <thead>\n",
       "    <tr style=\"text-align: right;\">\n",
       "      <th></th>\n",
       "      <th>name</th>\n",
       "      <th>age</th>\n",
       "      <th>address</th>\n",
       "    </tr>\n",
       "  </thead>\n",
       "  <tbody>\n",
       "    <tr>\n",
       "      <th>0</th>\n",
       "      <td>Ali</td>\n",
       "      <td>27</td>\n",
       "      <td>123 Main Street</td>\n",
       "    </tr>\n",
       "  </tbody>\n",
       "</table>\n",
       "</div>"
      ],
      "text/plain": [
       "  name  age          address\n",
       "0  Ali   27  123 Main Street"
      ]
     },
     "execution_count": 87,
     "metadata": {},
     "output_type": "execute_result"
    }
   ],
   "source": [
    "dict1 = {'name':[ 'Ali'], \n",
    "        'age': [27], \n",
    "        'address':[ '123 Main Street']}\n",
    "\n",
    "for key, value in dict1.items():\n",
    "    print(key, value)\n",
    "    \n",
    "df = pd.DataFrame(dict1)\n",
    "df"
   ]
  },
  {
   "cell_type": "code",
   "execution_count": 97,
   "id": "6ced4687",
   "metadata": {},
   "outputs": [
    {
     "name": "stdout",
     "output_type": "stream",
     "text": [
      "{'name': 'Ali', 'age': 27, 'address': '123 Main Street'}\n"
     ]
    }
   ],
   "source": [
    "dic = {'name':'Ali', \n",
    "        'age': 27, \n",
    "        'address':'123 Main Street'}\n",
    "\n",
    "print(dic)\n",
    "# for key, value in dic.items():\n",
    "#     print(key, value)\n",
    "    \n",
    "# df = pd.DataFrame(dic)\n",
    "# df"
   ]
  },
  {
   "cell_type": "code",
   "execution_count": 111,
   "id": "5a98da3c",
   "metadata": {},
   "outputs": [
    {
     "data": {
      "text/plain": [
       "{'brand': 'Ford', 'model': 'Mustang', 'year': 1964, 'color': 'red'}"
      ]
     },
     "execution_count": 111,
     "metadata": {},
     "output_type": "execute_result"
    }
   ],
   "source": [
    "car = {\n",
    "\"brand\": \"Ford\",\n",
    "\"model\": \"Mustang\",\n",
    "\"year\": 1964\n",
    "}\n",
    "\n",
    "a=car.items()\n",
    "a\n",
    "\n",
    "\n",
    "\n",
    "car['color']='red'\n",
    "car\n",
    "\n",
    "# Creates error when i put code in pandas\n",
    "\n",
    "# df = pd.DataFrame(car)\n",
    "# df"
   ]
  },
  {
   "cell_type": "code",
   "execution_count": 114,
   "id": "e36572a9",
   "metadata": {},
   "outputs": [
    {
     "name": "stdout",
     "output_type": "stream",
     "text": [
      "yes its available\n"
     ]
    }
   ],
   "source": [
    "# Check if Key Exists\n",
    "\n",
    "car = {\n",
    "\"brand\": \"Ford\",\n",
    "\"model\": \"Mustang\",\n",
    "\"year\": 1964\n",
    "}\n",
    "\n",
    "if 'brand' in car:\n",
    "    print('yes its available')\n",
    "\n",
    "else:\n",
    "    print(\"not available\")"
   ]
  },
  {
   "cell_type": "code",
   "execution_count": 134,
   "id": "3411ffe8",
   "metadata": {},
   "outputs": [
    {
     "name": "stdout",
     "output_type": "stream",
     "text": [
      "{'United States': 'Washington D.C.', 'Italy': 'Rome', 'England': 'London', 'year': 2023}\n",
      "<class 'list'>\n",
      "<class 'pandas.core.frame.DataFrame'>\n"
     ]
    }
   ],
   "source": [
    "# creating a dictionary\n",
    "country_capitals = {\n",
    "  \"United States\": \"Washington D.C.\", \n",
    "  \"Italy\": \"Rome\", \n",
    "  \"England\": \"London\",\n",
    "    \"year\":2012\n",
    "}\n",
    "\n",
    "country_capitals.update({\"year\":2023})\n",
    "\n",
    "print(country_capitals)\n",
    "\n",
    "#type casting\n",
    "a1 =[country_capitals]\n",
    "df =pd.DataFrame(a1)\n",
    "df\n",
    "\n",
    "\n",
    "print(type(a1))\n",
    "print(type(df))"
   ]
  },
  {
   "cell_type": "markdown",
   "id": "d26b0cf5",
   "metadata": {},
   "source": [
    "# Adding Items"
   ]
  },
  {
   "cell_type": "code",
   "execution_count": 135,
   "id": "5b3ad325",
   "metadata": {},
   "outputs": [
    {
     "name": "stdout",
     "output_type": "stream",
     "text": [
      "{'United States': 'Washington D.C.', 'Italy': 'Rome', 'England': 'London', 'Canada': 'ottawa'}\n"
     ]
    }
   ],
   "source": [
    "country_capitals = {\n",
    "  \"United States\": \"Washington D.C.\", \n",
    "  \"Italy\": \"Rome\", \n",
    "  \"England\": \"London\",\n",
    "    \n",
    "   \n",
    "}\n",
    "\n",
    "country_capitals[\"Canada\"]='ottawa'\n",
    "print(country_capitals)"
   ]
  },
  {
   "cell_type": "markdown",
   "id": "f9d7fcbe",
   "metadata": {},
   "source": [
    "# update "
   ]
  },
  {
   "cell_type": "code",
   "execution_count": 137,
   "id": "2e151def",
   "metadata": {},
   "outputs": [
    {
     "name": "stdout",
     "output_type": "stream",
     "text": [
      "{'United States': 'Washington D.C.', 'Italy': 'Rome', 'England': 'London', 'Canada': 'Toronto'}\n",
      "{'United States': 'Washington D.C.', 'Italy': 'Rome', 'England': 'London', 'Canada': 'Ottawa'}\n"
     ]
    }
   ],
   "source": [
    "country_capitals = {\n",
    "  \"United States\": \"Washington D.C.\", \n",
    "  \"Italy\": \"Rome\", \n",
    "  \"England\": \"London\",\n",
    "    \"Canada\":'Toronto'\n",
    "    \n",
    "   }\n",
    "\n",
    "print(country_capitals)\n",
    "\n",
    "country_capitals.update({\"Canada\":'Ottawa'})\n",
    "print(country_capitals)"
   ]
  },
  {
   "cell_type": "markdown",
   "id": "d4aad876",
   "metadata": {},
   "source": [
    "# Removing Items"
   ]
  },
  {
   "cell_type": "code",
   "execution_count": 139,
   "id": "9aafdde8",
   "metadata": {},
   "outputs": [
    {
     "name": "stdout",
     "output_type": "stream",
     "text": [
      "{'United States': 'Washington D.C.', 'Italy': 'Rome', 'England': 'London', 'Canada': 'Toronto', 'Year': 2023}\n",
      "{'United States': 'Washington D.C.', 'Italy': 'Rome', 'England': 'London', 'Canada': 'Toronto'}\n"
     ]
    }
   ],
   "source": [
    "# The pop() method removes the item with the specified key name:\n",
    "\n",
    "\n",
    "country_capitals = {\n",
    "  \"United States\": \"Washington D.C.\", \n",
    "  \"Italy\": \"Rome\", \n",
    "  \"England\": \"London\",\n",
    "    \"Canada\":'Toronto',\n",
    "    \"Year\":2023\n",
    "    \n",
    "   }\n",
    "\n",
    "print(country_capitals)\n",
    "\n",
    "country_capitals.pop(\"Year\")\n",
    "print(country_capitals)"
   ]
  },
  {
   "cell_type": "code",
   "execution_count": 140,
   "id": "79719c86",
   "metadata": {},
   "outputs": [
    {
     "name": "stdout",
     "output_type": "stream",
     "text": [
      "{'United States': 'Washington D.C.', 'Italy': 'Rome', 'England': 'London', 'Canada': 'Toronto'}\n"
     ]
    }
   ],
   "source": [
    "# The popitem() method removes the last inserted item (in versions before 3.7, a random item is removed instead):\n",
    "\n",
    "country_capitals = {\n",
    "  \"United States\": \"Washington D.C.\", \n",
    "  \"Italy\": \"Rome\", \n",
    "  \"England\": \"London\",\n",
    "    \"Canada\":'Toronto',\n",
    "    \"Year\":2023\n",
    "    \n",
    "   }\n",
    "country_capitals.popitem()\n",
    "\n",
    "print(country_capitals)"
   ]
  },
  {
   "cell_type": "code",
   "execution_count": 141,
   "id": "233608c9",
   "metadata": {},
   "outputs": [
    {
     "name": "stdout",
     "output_type": "stream",
     "text": [
      "{'United States': 'Washington D.C.', 'Italy': 'Rome', 'England': 'London', 'Canada': 'Toronto'}\n"
     ]
    }
   ],
   "source": [
    "# The del keyword removes the item with the specified key name:\n",
    "\n",
    "\n",
    "country_capitals = {\n",
    "  \"United States\": \"Washington D.C.\", \n",
    "  \"Italy\": \"Rome\", \n",
    "  \"England\": \"London\",\n",
    "    \"Canada\":'Toronto',\n",
    "    \"Year\":2023\n",
    "    \n",
    "   }\n",
    "\n",
    "del country_capitals[\"Year\"]\n",
    "print(country_capitals)"
   ]
  },
  {
   "cell_type": "code",
   "execution_count": 146,
   "id": "03d132ee",
   "metadata": {
    "scrolled": true
   },
   "outputs": [
    {
     "ename": "NameError",
     "evalue": "name 'country_capitals' is not defined",
     "output_type": "error",
     "traceback": [
      "\u001b[1;31m---------------------------------------------------------------------------\u001b[0m",
      "\u001b[1;31mNameError\u001b[0m                                 Traceback (most recent call last)",
      "Cell \u001b[1;32mIn[146], line 13\u001b[0m\n\u001b[0;32m      3\u001b[0m country_capitals \u001b[38;5;241m=\u001b[39m {\n\u001b[0;32m      4\u001b[0m   \u001b[38;5;124m\"\u001b[39m\u001b[38;5;124mUnited States\u001b[39m\u001b[38;5;124m\"\u001b[39m: \u001b[38;5;124m\"\u001b[39m\u001b[38;5;124mWashington D.C.\u001b[39m\u001b[38;5;124m\"\u001b[39m, \n\u001b[0;32m      5\u001b[0m   \u001b[38;5;124m\"\u001b[39m\u001b[38;5;124mItaly\u001b[39m\u001b[38;5;124m\"\u001b[39m: \u001b[38;5;124m\"\u001b[39m\u001b[38;5;124mRome\u001b[39m\u001b[38;5;124m\"\u001b[39m, \n\u001b[1;32m   (...)\u001b[0m\n\u001b[0;32m      9\u001b[0m     \n\u001b[0;32m     10\u001b[0m    }\n\u001b[0;32m     12\u001b[0m \u001b[38;5;28;01mdel\u001b[39;00m country_capitals\n\u001b[1;32m---> 13\u001b[0m \u001b[38;5;28mprint\u001b[39m(country_capitals)\n",
      "\u001b[1;31mNameError\u001b[0m: name 'country_capitals' is not defined"
     ]
    }
   ],
   "source": [
    "# The del keyword can also delete the dictionary completely:\n",
    "\n",
    "country_capitals = {\n",
    "  \"United States\": \"Washington D.C.\", \n",
    "  \"Italy\": \"Rome\", \n",
    "  \"England\": \"London\",\n",
    "    \"Canada\":'Toronto',\n",
    "    \"Year\":2023\n",
    "    \n",
    "   }\n",
    "\n",
    "del country_capitals\n",
    "print(country_capitals)"
   ]
  },
  {
   "cell_type": "code",
   "execution_count": 143,
   "id": "1e4e661d",
   "metadata": {},
   "outputs": [
    {
     "name": "stdout",
     "output_type": "stream",
     "text": [
      "{}\n"
     ]
    }
   ],
   "source": [
    "# The clear() method empties the dictionary:\n",
    "\n",
    "country_capitals = {\n",
    "  \"United States\": \"Washington D.C.\", \n",
    "  \"Italy\": \"Rome\", \n",
    "  \"England\": \"London\",\n",
    "    \"Canada\":'Toronto',\n",
    "    \"Year\":2023\n",
    "    \n",
    "   }\n",
    "\n",
    "country_capitals.clear()\n",
    "print(country_capitals)"
   ]
  },
  {
   "cell_type": "code",
   "execution_count": 151,
   "id": "9d2d1e50",
   "metadata": {},
   "outputs": [
    {
     "name": "stdout",
     "output_type": "stream",
     "text": [
      "United States\n",
      "Italy\n",
      "England\n",
      "Canada\n",
      "Year\n"
     ]
    }
   ],
   "source": [
    "country_capitals = {\n",
    "  \"United States\": \"Washington D.C.\", \n",
    "  \"Italy\": \"Rome\", \n",
    "  \"England\": \"London\",\n",
    "    \"Canada\":'Toronto',\n",
    "    \"Year\":2023\n",
    "    \n",
    "   }\n",
    "\n",
    "for i in country_capitals:\n",
    "    print(i)"
   ]
  },
  {
   "cell_type": "code",
   "execution_count": 150,
   "id": "5a9d9564",
   "metadata": {},
   "outputs": [
    {
     "name": "stdout",
     "output_type": "stream",
     "text": [
      "Washington D.C.\n",
      "Rome\n",
      "London\n",
      "Toronto\n",
      "2023\n"
     ]
    }
   ],
   "source": [
    "# Values printing\n",
    "\n",
    "country_capitals = {\n",
    "  \"United States\": \"Washington D.C.\", \n",
    "  \"Italy\": \"Rome\", \n",
    "  \"England\": \"London\",\n",
    "    \"Canada\":'Toronto',\n",
    "    \"Year\":2023\n",
    "    \n",
    "   }\n",
    "\n",
    "for i in country_capitals:\n",
    "    print(country_capitals[i])"
   ]
  },
  {
   "cell_type": "code",
   "execution_count": 152,
   "id": "4e9338bf",
   "metadata": {},
   "outputs": [
    {
     "name": "stdout",
     "output_type": "stream",
     "text": [
      "Washington D.C.\n",
      "Rome\n",
      "London\n",
      "Toronto\n",
      "2023\n"
     ]
    }
   ],
   "source": [
    "# Values printing\n",
    "\n",
    "\n",
    "country_capitals = {\n",
    "  \"United States\": \"Washington D.C.\", \n",
    "  \"Italy\": \"Rome\", \n",
    "  \"England\": \"London\",\n",
    "    \"Canada\":'Toronto',\n",
    "    \"Year\":2023\n",
    "    \n",
    "   }\n",
    "\n",
    "for i in country_capitals.values():\n",
    "    print(i)"
   ]
  },
  {
   "cell_type": "code",
   "execution_count": 153,
   "id": "9aa21c74",
   "metadata": {},
   "outputs": [
    {
     "name": "stdout",
     "output_type": "stream",
     "text": [
      "United States\n",
      "Italy\n",
      "England\n",
      "Canada\n",
      "Year\n"
     ]
    }
   ],
   "source": [
    "# Keys printing\n",
    "\n",
    "country_capitals = {\n",
    "  \"United States\": \"Washington D.C.\", \n",
    "  \"Italy\": \"Rome\", \n",
    "  \"England\": \"London\",\n",
    "    \"Canada\":'Toronto',\n",
    "    \"Year\":2023\n",
    "    \n",
    "   }\n",
    "\n",
    "for i in country_capitals.keys():\n",
    "    print(i)"
   ]
  },
  {
   "cell_type": "code",
   "execution_count": 157,
   "id": "14b5f320",
   "metadata": {},
   "outputs": [
    {
     "name": "stdout",
     "output_type": "stream",
     "text": [
      "United States Washington D.C.\n",
      "Italy Rome\n",
      "England London\n",
      "Canada Toronto\n",
      "Year 2023\n"
     ]
    },
    {
     "data": {
      "text/html": [
       "<div>\n",
       "<style scoped>\n",
       "    .dataframe tbody tr th:only-of-type {\n",
       "        vertical-align: middle;\n",
       "    }\n",
       "\n",
       "    .dataframe tbody tr th {\n",
       "        vertical-align: top;\n",
       "    }\n",
       "\n",
       "    .dataframe thead th {\n",
       "        text-align: right;\n",
       "    }\n",
       "</style>\n",
       "<table border=\"1\" class=\"dataframe\">\n",
       "  <thead>\n",
       "    <tr style=\"text-align: right;\">\n",
       "      <th></th>\n",
       "      <th>United States</th>\n",
       "      <th>Italy</th>\n",
       "      <th>England</th>\n",
       "      <th>Canada</th>\n",
       "      <th>Year</th>\n",
       "    </tr>\n",
       "  </thead>\n",
       "  <tbody>\n",
       "    <tr>\n",
       "      <th>0</th>\n",
       "      <td>Washington D.C.</td>\n",
       "      <td>Rome</td>\n",
       "      <td>London</td>\n",
       "      <td>Toronto</td>\n",
       "      <td>2023</td>\n",
       "    </tr>\n",
       "  </tbody>\n",
       "</table>\n",
       "</div>"
      ],
      "text/plain": [
       "     United States Italy England   Canada  Year\n",
       "0  Washington D.C.  Rome  London  Toronto  2023"
      ]
     },
     "execution_count": 157,
     "metadata": {},
     "output_type": "execute_result"
    }
   ],
   "source": [
    "# You can use the keys() method to return the keys of a dictionary:\n",
    "\n",
    "country_capitals = {\n",
    "  \"United States\": \"Washington D.C.\", \n",
    "  \"Italy\": \"Rome\", \n",
    "  \"England\": \"London\",\n",
    "    \"Canada\":'Toronto',\n",
    "    \"Year\":2023\n",
    "    \n",
    "   }\n",
    "\n",
    "\n",
    "for x,y in country_capitals.items():\n",
    "    print(x,y)\n",
    "    \n",
    "x1 = [country_capitals]    \n",
    "df =pd.DataFrame(x1)\n",
    "df"
   ]
  },
  {
   "cell_type": "code",
   "execution_count": 158,
   "id": "53b19210",
   "metadata": {},
   "outputs": [
    {
     "name": "stdout",
     "output_type": "stream",
     "text": [
      "{'United States': 'Washington D.C.', 'Italy': 'Rome', 'England': 'London', 'Canada': 'Toronto', 'Year': 2023}\n"
     ]
    }
   ],
   "source": [
    "# Copy dic\n",
    "\n",
    "\n",
    "country_capitals = {\n",
    "  \"United States\": \"Washington D.C.\", \n",
    "  \"Italy\": \"Rome\", \n",
    "  \"England\": \"London\",\n",
    "    \"Canada\":'Toronto',\n",
    "    \"Year\":2023\n",
    "    \n",
    "   }\n",
    "\n",
    "\n",
    "mydict =country_capitals.copy()\n",
    "\n",
    "print(mydict)"
   ]
  },
  {
   "cell_type": "code",
   "execution_count": 160,
   "id": "a92d59d8",
   "metadata": {
    "scrolled": true
   },
   "outputs": [
    {
     "ename": "TypeError",
     "evalue": "'dict' object is not callable",
     "output_type": "error",
     "traceback": [
      "\u001b[1;31m---------------------------------------------------------------------------\u001b[0m",
      "\u001b[1;31mTypeError\u001b[0m                                 Traceback (most recent call last)",
      "Cell \u001b[1;32mIn[160], line 14\u001b[0m\n\u001b[0;32m      4\u001b[0m country_capitals \u001b[38;5;241m=\u001b[39m {\n\u001b[0;32m      5\u001b[0m   \u001b[38;5;124m\"\u001b[39m\u001b[38;5;124mUnited States\u001b[39m\u001b[38;5;124m\"\u001b[39m: \u001b[38;5;124m\"\u001b[39m\u001b[38;5;124mWashington D.C.\u001b[39m\u001b[38;5;124m\"\u001b[39m, \n\u001b[0;32m      6\u001b[0m   \u001b[38;5;124m\"\u001b[39m\u001b[38;5;124mItaly\u001b[39m\u001b[38;5;124m\"\u001b[39m: \u001b[38;5;124m\"\u001b[39m\u001b[38;5;124mRome\u001b[39m\u001b[38;5;124m\"\u001b[39m, \n\u001b[1;32m   (...)\u001b[0m\n\u001b[0;32m     10\u001b[0m     \n\u001b[0;32m     11\u001b[0m    }\n\u001b[0;32m     12\u001b[0m a11 \u001b[38;5;241m=\u001b[39m [country_capitals]\n\u001b[1;32m---> 14\u001b[0m mydict \u001b[38;5;241m=\u001b[39m\u001b[38;5;28mdict\u001b[39m(a11)\n\u001b[0;32m     15\u001b[0m \u001b[38;5;28mprint\u001b[39m(mydict)\n",
      "\u001b[1;31mTypeError\u001b[0m: 'dict' object is not callable"
     ]
    }
   ],
   "source": [
    "# Make a copy of a dictionary with the dict() function:\n",
    "\n",
    "\n",
    "country_capitals = {\n",
    "  \"United States\": \"Washington D.C.\", \n",
    "  \"Italy\": \"Rome\", \n",
    "  \"England\": \"London\",\n",
    "    \"Canada\":'Toronto',\n",
    "    \"Year\":2023\n",
    "    \n",
    "   }\n",
    "\n",
    "mydict =dict(country_capitals)\n",
    "print(mydict)"
   ]
  },
  {
   "cell_type": "markdown",
   "id": "e54024b7",
   "metadata": {},
   "source": [
    "# Nested Dictionaries"
   ]
  },
  {
   "cell_type": "code",
   "execution_count": 169,
   "id": "3ef16f32",
   "metadata": {},
   "outputs": [
    {
     "name": "stdout",
     "output_type": "stream",
     "text": [
      "{'Brothers': {'brothers': ['Sohail', 'Shahid'], 'Age': [36, 40], 'Qualification': ['Entermediate', 'Graduate']}, 'nephews': {'Nephews': ['Zeeshan', 'Mohsin'], 'Age': [25, 17], 'Qualification': ['Entermediate', 'Matric']}}\n"
     ]
    },
    {
     "data": {
      "text/html": [
       "<div>\n",
       "<style scoped>\n",
       "    .dataframe tbody tr th:only-of-type {\n",
       "        vertical-align: middle;\n",
       "    }\n",
       "\n",
       "    .dataframe tbody tr th {\n",
       "        vertical-align: top;\n",
       "    }\n",
       "\n",
       "    .dataframe thead th {\n",
       "        text-align: right;\n",
       "    }\n",
       "</style>\n",
       "<table border=\"1\" class=\"dataframe\">\n",
       "  <thead>\n",
       "    <tr style=\"text-align: right;\">\n",
       "      <th></th>\n",
       "      <th>Brothers</th>\n",
       "      <th>nephews</th>\n",
       "    </tr>\n",
       "  </thead>\n",
       "  <tbody>\n",
       "    <tr>\n",
       "      <th>brothers</th>\n",
       "      <td>[Sohail, Shahid]</td>\n",
       "      <td>NaN</td>\n",
       "    </tr>\n",
       "    <tr>\n",
       "      <th>Age</th>\n",
       "      <td>[36, 40]</td>\n",
       "      <td>[25, 17]</td>\n",
       "    </tr>\n",
       "    <tr>\n",
       "      <th>Qualification</th>\n",
       "      <td>[Entermediate, Graduate]</td>\n",
       "      <td>[Entermediate, Matric]</td>\n",
       "    </tr>\n",
       "    <tr>\n",
       "      <th>Nephews</th>\n",
       "      <td>NaN</td>\n",
       "      <td>[Zeeshan, Mohsin]</td>\n",
       "    </tr>\n",
       "  </tbody>\n",
       "</table>\n",
       "</div>"
      ],
      "text/plain": [
       "                               Brothers                 nephews\n",
       "brothers               [Sohail, Shahid]                     NaN\n",
       "Age                            [36, 40]                [25, 17]\n",
       "Qualification  [Entermediate, Graduate]  [Entermediate, Matric]\n",
       "Nephews                             NaN       [Zeeshan, Mohsin]"
      ]
     },
     "execution_count": 169,
     "metadata": {},
     "output_type": "execute_result"
    }
   ],
   "source": [
    "myfamily ={\n",
    "    \n",
    "    \"Brothers\":{\n",
    "        \"brothers\":['Sohail','Shahid'],\n",
    "        \"Age\":[36,40],\n",
    "        \"Qualification\":['Entermediate','Graduate'] },\n",
    "    \n",
    "    \"nephews\":{\n",
    "        \"Nephews\":['Zeeshan','Mohsin'],\n",
    "        \"Age\":[25,17],\n",
    "         \"Qualification\":['Entermediate','Matric']}\n",
    "    \n",
    "     \n",
    "    \n",
    "}\n",
    "\n",
    "print(myfamily)\n",
    "\n",
    "df=pd.DataFrame(myfamily)\n",
    "\n",
    "df"
   ]
  },
  {
   "cell_type": "code",
   "execution_count": 171,
   "id": "404a0182",
   "metadata": {},
   "outputs": [
    {
     "name": "stdout",
     "output_type": "stream",
     "text": [
      "{'brothers': ['Sohail', 'Shahid'], 'Age': [36, 40], 'Qualification': ['Entermediate', 'Graduate']}\n"
     ]
    }
   ],
   "source": [
    "myfamily ={\n",
    "    \n",
    "    \"Brothers\":{\n",
    "        \"brothers\":['Sohail','Shahid'],\n",
    "        \"Age\":[36,40],\n",
    "        \"Qualification\":['Entermediate','Graduate'] },\n",
    "    \n",
    "    \"nephews\":{\n",
    "        \"Nephews\":['Zeeshan','Mohsin'],\n",
    "        \"Age\":[25,17],\n",
    "         \"Qualification\":['Entermediate','Matric']}\n",
    "    \n",
    "     \n",
    "    \n",
    "}\n",
    "\n",
    "\n",
    "print(myfamily['Brothers'])"
   ]
  },
  {
   "cell_type": "code",
   "execution_count": 172,
   "id": "c4a27664",
   "metadata": {},
   "outputs": [
    {
     "name": "stdout",
     "output_type": "stream",
     "text": [
      "['Sohail', 'Shahid']\n"
     ]
    }
   ],
   "source": [
    "myfamily ={\n",
    "    \n",
    "    \"Brothers\":{\n",
    "        \"brothers\":['Sohail','Shahid'],\n",
    "        \"Age\":[36,40],\n",
    "        \"Qualification\":['Entermediate','Graduate'] },\n",
    "    \n",
    "    \"nephews\":{\n",
    "        \"Nephews\":['Zeeshan','Mohsin'],\n",
    "        \"Age\":[25,17],\n",
    "         \"Qualification\":['Entermediate','Matric']}\n",
    "    \n",
    "     \n",
    "    \n",
    "}\n",
    "\n",
    "\n",
    "print(myfamily['Brothers']['brothers'])"
   ]
  },
  {
   "cell_type": "markdown",
   "id": "f4c41349",
   "metadata": {},
   "source": [
    "# setdefault()"
   ]
  },
  {
   "cell_type": "code",
   "execution_count": 182,
   "id": "8f71e253",
   "metadata": {},
   "outputs": [
    {
     "name": "stdout",
     "output_type": "stream",
     "text": [
      "Originale Dict:\n",
      "{101: 'Ali', 102: 'Hassan', 103: 'Qasim'}\n",
      "2981947387456\n",
      "Ali\n"
     ]
    }
   ],
   "source": [
    "stu ={101:'Ali', 102:'Hassan', 103:'Qasim'}\n",
    "print(\"Originale Dict:\")\n",
    "print(stu)\n",
    "print(id(stu))\n",
    "\n",
    " \n",
    "\n",
    "returned_value =stu.setdefault(101,'python')\n",
    "print(returned_value)\n",
    "\n",
    "\n"
   ]
  },
  {
   "cell_type": "code",
   "execution_count": 183,
   "id": "59e4d420",
   "metadata": {},
   "outputs": [
    {
     "name": "stdout",
     "output_type": "stream",
     "text": [
      "Originale Dict:\n",
      "{101: 'Ali', 102: 'Hassan', 103: 'Qasim'}\n",
      "2981943306560\n",
      "python\n",
      "After Setdefault Dict\n",
      "{101: 'Ali', 102: 'Hassan', 103: 'Qasim', 104: 'python'}\n",
      "2981943306560\n",
      "returned_value python\n"
     ]
    }
   ],
   "source": [
    "stu ={101:'Ali', 102:'Hassan', 103:'Qasim'}\n",
    "print(\"Originale Dict:\")\n",
    "print(stu)\n",
    "print(id(stu))\n",
    "\n",
    " \n",
    "\n",
    "returned_value =stu.setdefault(104,'python')\n",
    "print(returned_value)\n",
    "\n",
    "\n",
    "\n",
    "print(\"After Setdefault Dict\")\n",
    "print(stu)\n",
    "print(id(stu))\n",
    "print(\"returned_value\",returned_value)\n"
   ]
  },
  {
   "cell_type": "code",
   "execution_count": null,
   "id": "01becf98",
   "metadata": {},
   "outputs": [],
   "source": []
  }
 ],
 "metadata": {
  "kernelspec": {
   "display_name": "Python 3 (ipykernel)",
   "language": "python",
   "name": "python3"
  },
  "language_info": {
   "codemirror_mode": {
    "name": "ipython",
    "version": 3
   },
   "file_extension": ".py",
   "mimetype": "text/x-python",
   "name": "python",
   "nbconvert_exporter": "python",
   "pygments_lexer": "ipython3",
   "version": "3.11.3"
  }
 },
 "nbformat": 4,
 "nbformat_minor": 5
}
